{
 "cells": [
  {
   "cell_type": "markdown",
   "metadata": {},
   "source": [
    "# Projekat iz predmeta analiza socijalnih mreza\n",
    "\n",
    "\n",
    "## Kvantitativna i kvalitativna Analiza stanja profesionalnog muškog tenisa u periodu od 2018. do 2020. godine\n",
    "\n",
    "\n",
    "Ucitavanje podataka\n"
   ]
  },
  {
   "cell_type": "code",
   "execution_count": 1,
   "metadata": {
    "scrolled": true
   },
   "outputs": [
    {
     "data": {
      "text/plain": [
       "ranking_date    False\n",
       "rank            False\n",
       "player          False\n",
       "points           True\n",
       "dtype: bool"
      ]
     },
     "execution_count": 1,
     "metadata": {},
     "output_type": "execute_result"
    }
   ],
   "source": [
    "import pandas as pd\n",
    "\n",
    "dataPath = \"data/atp_matches_2018.csv\"\n",
    "\n",
    "players_dataPath = \"data/atp_players.csv\"\n",
    "\n",
    "player_atp_rankings_dataPath = \"data/atp_rankings_10s.csv\"\n",
    "\n",
    "data = pd.read_csv(dataPath) \n",
    "#print(data.columns)\n",
    "data.isna().any()\n",
    "\n",
    "#players\n",
    "players_data = pd.read_csv(players_dataPath)\n",
    "#print(players_data)\n",
    "\n",
    "#atp ranking\n",
    "players_atp_rank_data = pd.read_csv(player_atp_rankings_dataPath)\n",
    "players_atp_rank_data.isna().any()\n",
    "#points null moze biti\n",
    "#print(players_atp_rank_data)"
   ]
  },
  {
   "cell_type": "code",
   "execution_count": 2,
   "metadata": {},
   "outputs": [
    {
     "name": "stdout",
     "output_type": "stream",
     "text": [
      "False\n",
      "False\n"
     ]
    }
   ],
   "source": [
    "#provera da li je match_num kolona koja moze da bude uzeta za id\n",
    "\n",
    "print(data['match_num'].isnull().values.any())\n",
    "print(data['match_num'].is_unique)"
   ]
  },
  {
   "cell_type": "code",
   "execution_count": 3,
   "metadata": {},
   "outputs": [
    {
     "name": "stdout",
     "output_type": "stream",
     "text": [
      "                          tourney_id                tourney_name surface  \\\n",
      "0                          2018-M020                    Brisbane    Hard   \n",
      "1                          2018-M020                    Brisbane    Hard   \n",
      "2                          2018-M020                    Brisbane    Hard   \n",
      "3                          2018-M020                    Brisbane    Hard   \n",
      "4                          2018-M020                    Brisbane    Hard   \n",
      "...                              ...                         ...     ...   \n",
      "2884                       2018-0605                 Tour Finals    Hard   \n",
      "2885                       2018-0605                 Tour Finals    Hard   \n",
      "2886  2018-M-DC-2018-WG-M-FRA-CRO-01  Davis Cup WG F: FRA vs CRO    Clay   \n",
      "2887  2018-M-DC-2018-WG-M-FRA-CRO-01  Davis Cup WG F: FRA vs CRO    Clay   \n",
      "2888  2018-M-DC-2018-WG-M-FRA-CRO-01  Davis Cup WG F: FRA vs CRO    Clay   \n",
      "\n",
      "      draw_size tourney_level  tourney_date  match_num  winner_id  \\\n",
      "0            32             A      20180101        271     105992   \n",
      "1            32             A      20180101        272     111577   \n",
      "2            32             A      20180101        273     104797   \n",
      "3            32             A      20180101        275     200282   \n",
      "4            32             A      20180101        276     111581   \n",
      "...         ...           ...           ...        ...        ...   \n",
      "2884          8             F      20181112        299     104925   \n",
      "2885          8             F      20181112        300     100644   \n",
      "2886          4             D      20181123          1     106432   \n",
      "2887          4             D      20181123          2     105227   \n",
      "2888          4             D      20181123          4     105227   \n",
      "\n",
      "      winner_seed winner_entry  ... l_1stWon l_2ndWon  l_SvGms l_bpSaved  \\\n",
      "0             NaN          NaN  ...     33.0     19.0     14.0       1.0   \n",
      "1             NaN          NaN  ...     25.0      7.0      9.0       7.0   \n",
      "2             NaN          NaN  ...     37.0     29.0     15.0      10.0   \n",
      "3             NaN           WC  ...     33.0     17.0     11.0       4.0   \n",
      "4             NaN            Q  ...     28.0      5.0      9.0       0.0   \n",
      "...           ...          ...  ...      ...      ...      ...       ...   \n",
      "2884          1.0          NaN  ...     23.0      7.0      8.0       5.0   \n",
      "2885          3.0          NaN  ...     25.0      8.0     10.0       2.0   \n",
      "2886          NaN          NaN  ...     43.0     18.0     15.0       9.0   \n",
      "2887          NaN          NaN  ...     39.0     18.0     15.0       1.0   \n",
      "2888          NaN          NaN  ...     43.0     21.0     15.0       9.0   \n",
      "\n",
      "      l_bpFaced  winner_rank  winner_rank_points loser_rank loser_rank_points  \\\n",
      "0           4.0         47.0              1010.0       52.0             909.0   \n",
      "1          11.0         54.0               890.0       94.0             593.0   \n",
      "2          16.0         63.0               809.0       30.0            1391.0   \n",
      "3           6.0        208.0               245.0       44.0            1055.0   \n",
      "4           2.0        175.0               299.0       68.0             755.0   \n",
      "...         ...          ...                 ...        ...               ...   \n",
      "2884        9.0          1.0              8045.0        6.0            4310.0   \n",
      "2885        6.0          5.0              5085.0        1.0            8045.0   \n",
      "2886       13.0         12.0              2480.0       40.0            1050.0   \n",
      "2887        4.0          7.0              4250.0      259.0             200.0   \n",
      "2888       12.0          7.0              4250.0       32.0            1245.0   \n",
      "\n",
      "        id  \n",
      "0        0  \n",
      "1        1  \n",
      "2        2  \n",
      "3        3  \n",
      "4        4  \n",
      "...    ...  \n",
      "2884  2884  \n",
      "2885  2885  \n",
      "2886  2886  \n",
      "2887  2887  \n",
      "2888  2888  \n",
      "\n",
      "[2889 rows x 50 columns]\n"
     ]
    }
   ],
   "source": [
    "#dodati automatski generisani id kao dodatnu kolonu\n",
    "data['id'] = data.index\n",
    "print(data)\n",
    "\n",
    "#sacuvati u novi fajl\n",
    "import pickle\n",
    "\n",
    "with open(\"data/data2018_cleaned.csv\", 'wb') as file:\n",
    "    pickle.dump(data, file)"
   ]
  },
  {
   "cell_type": "code",
   "execution_count": 4,
   "metadata": {},
   "outputs": [
    {
     "name": "stdout",
     "output_type": "stream",
     "text": [
      "<class 'pandas.core.series.Series'>\n",
      "match_num\n",
      "1      67\n",
      "2      67\n",
      "4      67\n",
      "5      35\n",
      "100     3\n",
      "       ..\n",
      "503     1\n",
      "504     1\n",
      "601     1\n",
      "602     1\n",
      "701     1\n",
      "Name: id, Length: 233, dtype: int64\n"
     ]
    }
   ],
   "source": [
    "import numpy as np\n",
    "\n",
    "# Selekcija samo kolona 'match_num' i 'id' i grupisanje po match_num\n",
    "data_grupisano = data[['match_num', 'id']].groupby('match_num')\n",
    "\n",
    "# agg() radi agregaciju, u ovom slučaju po broju elemenata u grupi\n",
    "data_agregirano = data_grupisano['id'].agg(np.size)\n",
    "print(type(data_agregirano))\n",
    "print(data_agregirano)"
   ]
  },
  {
   "cell_type": "code",
   "execution_count": 5,
   "metadata": {},
   "outputs": [
    {
     "name": "stdout",
     "output_type": "stream",
     "text": [
      "match_num\n",
      "1      67\n",
      "2      67\n",
      "4      67\n",
      "5      35\n",
      "100     3\n",
      "       ..\n",
      "296    64\n",
      "297    64\n",
      "298    64\n",
      "299    64\n",
      "300    64\n",
      "Name: id, Length: 200, dtype: int64\n"
     ]
    }
   ],
   "source": [
    "data_nonunique = data_agregirano[data_agregirano>1]\n",
    "print(data_nonunique)"
   ]
  },
  {
   "cell_type": "code",
   "execution_count": 6,
   "metadata": {},
   "outputs": [
    {
     "name": "stdout",
     "output_type": "stream",
     "text": [
      "match_num\n",
      "1    67\n",
      "2    67\n",
      "4    67\n",
      "Name: id, dtype: int64\n",
      "1\n"
     ]
    }
   ],
   "source": [
    "#naci max i index max broja ponovljenih\n",
    "trazeni = data_nonunique[data_nonunique == data_nonunique.max()]\n",
    "print(trazeni)\n",
    "target_match_num = trazeni.keys()[0]\n",
    "print(target_match_num)"
   ]
  },
  {
   "cell_type": "code",
   "execution_count": 7,
   "metadata": {
    "scrolled": false
   },
   "outputs": [
    {
     "name": "stdout",
     "output_type": "stream",
     "text": [
      "                     tourney_name  winner_id  loser_id  winner_rank  \\\n",
      "266   Davis Cup G1 R1: AUT vs BLR     105589    125802         98.0   \n",
      "270   Davis Cup G1 R1: CHI vs ECU     111797    105111         95.0   \n",
      "273   Davis Cup G1 R1: CHN vs NZL     104907    105842        308.0   \n",
      "276   Davis Cup G1 R1: COL vs BAR     123755    104656        292.0   \n",
      "279   Davis Cup G1 R1: DOM vs BRA     105497    106252        284.0   \n",
      "...                           ...        ...       ...          ...   \n",
      "2425  Davis Cup WG SF: FRA vs ESP     105332    105807         54.0   \n",
      "2429  Davis Cup G2 R3: ROU vs POL     105657    111794         81.0   \n",
      "2433  Davis Cup G2 R3: THA vs LBN     200273    106397        643.0   \n",
      "2437  Davis Cup G2 R3: URU vs MEX     104655    106250         68.0   \n",
      "2886   Davis Cup WG F: FRA vs CRO     106432    104871         12.0   \n",
      "\n",
      "      loser_rank  \n",
      "266        190.0  \n",
      "270        597.0  \n",
      "273        253.0  \n",
      "276          NaN  \n",
      "279        365.0  \n",
      "...          ...  \n",
      "2425        21.0  \n",
      "2429       187.0  \n",
      "2433       453.0  \n",
      "2437       762.0  \n",
      "2886        40.0  \n",
      "\n",
      "[67 rows x 5 columns]\n",
      "                             tourney_id                 tourney_name surface  \\\n",
      "276   2018-M-DC-2018-G1-AM-M-COL-BAR-01  Davis Cup G1 R1: COL vs BAR    Hard   \n",
      "283   2018-M-DC-2018-G1-AO-M-KOR-PAK-01  Davis Cup G1 R1: KOR vs PAK   Grass   \n",
      "327   2018-M-DC-2018-G2-AM-M-ESA-URU-01  Davis Cup G2 R1: ESA vs URU    Hard   \n",
      "348   2018-M-DC-2018-G2-AO-M-PHI-INA-01  Davis Cup G2 R1: PHI vs INA    Hard   \n",
      "352   2018-M-DC-2018-G2-AM-M-PUR-MEX-01  Davis Cup G2 R1: PUR vs MEX    Hard   \n",
      "356  2018-M-DC-2018-G2-EPA-M-ROU-LUX-01  Davis Cup G2 R1: ROU vs LUX    Hard   \n",
      "934   2018-M-DC-2018-G1-AO-M-PAK-UZB-01  Davis Cup G1 R2: PAK vs UZB   Grass   \n",
      "\n",
      "     draw_size tourney_level  tourney_date  match_num  winner_id  winner_seed  \\\n",
      "276          4             D      20180202          1     123755          NaN   \n",
      "283          4             D      20180202          1     103529          NaN   \n",
      "327          4             D      20180203          1     104655          NaN   \n",
      "348          4             D      20180203          1     202165          NaN   \n",
      "352          4             D      20180203          1     105688          NaN   \n",
      "356          4             D      20180203          1     111167          NaN   \n",
      "934          4             D      20180406          1     104797          NaN   \n",
      "\n",
      "    winner_entry  ... l_1stWon l_2ndWon  l_SvGms l_bpSaved  l_bpFaced  \\\n",
      "276          NaN  ...     14.0     10.0      8.0       1.0        5.0   \n",
      "283          NaN  ...     35.0     22.0     14.0       0.0        2.0   \n",
      "327          NaN  ...     26.0      8.0      8.0       4.0        8.0   \n",
      "348          NaN  ...     25.0      4.0      8.0       2.0        6.0   \n",
      "352          NaN  ...     35.0      8.0     11.0       3.0        7.0   \n",
      "356          NaN  ...     41.0     18.0     14.0       3.0        5.0   \n",
      "934          NaN  ...     31.0     12.0      8.0       0.0        1.0   \n",
      "\n",
      "     winner_rank  winner_rank_points loser_rank loser_rank_points   id  \n",
      "276        292.0               168.0        NaN               NaN  276  \n",
      "283          NaN                 NaN      178.0             301.0  283  \n",
      "327         32.0              1380.0        NaN               NaN  327  \n",
      "348       1371.0                 3.0        NaN               NaN  348  \n",
      "352        560.0                54.0        NaN               NaN  352  \n",
      "356          NaN                 NaN      596.0              48.0  356  \n",
      "934         83.0               673.0        NaN               NaN  934  \n",
      "\n",
      "[7 rows x 50 columns]\n",
      "False\n",
      "       player_id        first_name          last_name hand  birth_date  \\\n",
      "3528      103529      Aisam Ul Haq            Qureshi    R  19800317.0   \n",
      "4653      104655             Pablo             Cuevas    R  19860101.0   \n",
      "4654      104656             Haydn              Lewis    L  19860102.0   \n",
      "4793      104797             Denis            Istomin    R  19860907.0   \n",
      "5674      105688            Manuel            Sanchez    R  19910105.0   \n",
      "8748      108763  Alberto Emmanuel     Alvarado Larin    U  19941201.0   \n",
      "11152     111167               Ugo            Nastasi    R  19930416.0   \n",
      "23739     123755      Daniel Elahi      Galan Riveros    U  19960618.0   \n",
      "26086     126102           Nicolae             Frunza    R  19971115.0   \n",
      "26936     126952          Soon Woo               Kwon    R  19971202.0   \n",
      "45654     200620           Ignacio             Garcia  NaN         NaN   \n",
      "47199     202165           Alberto                Lim    R  19990518.0   \n",
      "52210     207176          Muhammad  Althaf Dhaifullah    R  20001119.0   \n",
      "\n",
      "      country_code  \n",
      "3528           PAK  \n",
      "4653           URU  \n",
      "4654           BAR  \n",
      "4793           UZB  \n",
      "5674           MEX  \n",
      "8748           ESA  \n",
      "11152          LUX  \n",
      "23739          COL  \n",
      "26086          ROU  \n",
      "26936          KOR  \n",
      "45654          PUR  \n",
      "47199          PHI  \n",
      "52210          INA  \n"
     ]
    }
   ],
   "source": [
    "#ispisati sve meceve kao match_num imaju odredjeni max\n",
    "data_target = data[data['match_num'] == target_match_num]\n",
    "lista_labela = ['tourney_name', 'winner_id', 'loser_id', 'winner_rank', 'loser_rank']\n",
    "print(data_target[lista_labela])\n",
    "\n",
    "#ispisi sve ciji je ili winner_rank null ili loser_rank null\n",
    "data_winOrlos_is_null = data_target[(data_target['winner_rank'].isnull()) | (data_target['loser_rank'].isnull())]\n",
    "print(data_winOrlos_is_null)\n",
    "\n",
    "#istraga o igracima ciji je winner_rank u tabeli matches_2018 null ili loser_rank u tabeli matches_2018 null\n",
    "print(players_data['player_id'].equals(data_winOrlos_is_null['winner_id']))\n",
    "players_info_rang_null = players_data.loc[(players_data['player_id'].isin(data_winOrlos_is_null['winner_id'])) | (players_data['player_id'].isin(data_winOrlos_is_null['loser_id']))]\n",
    "print(players_data.loc[(players_data['player_id'].isin(data_winOrlos_is_null['winner_id'])) | (players_data['player_id'].isin(data_winOrlos_is_null['loser_id']))])\n",
    "\n",
    "#postoje neki koji uopste nemaju upisanu ruku i datum rodjenja, datum rodjenja format double iako u opisu drugaciji format"
   ]
  },
  {
   "cell_type": "code",
   "execution_count": 8,
   "metadata": {
    "scrolled": false
   },
   "outputs": [
    {
     "name": "stdout",
     "output_type": "stream",
     "text": [
      "        ranking_date  rank  player   points\n",
      "0           20100104     1  103819  10550.0\n",
      "1           20100104     2  104745   9205.0\n",
      "2           20100104     3  104925   8310.0\n",
      "3           20100104     4  104918   7030.0\n",
      "4           20100104     5  105223   6785.0\n",
      "...              ...   ...     ...      ...\n",
      "916291      20191230  1922  134833      1.0\n",
      "916292      20191230  1922  144856      1.0\n",
      "916293      20191230  1922  202326      1.0\n",
      "916294      20191230  1926  207307      1.0\n",
      "916295      20191230  1927  208186      1.0\n",
      "\n",
      "[916296 rows x 4 columns]\n",
      "        ranking_date         rank       points\n",
      "player                                        \n",
      "100644  2.015885e+07   247.552326  2102.796512\n",
      "101389  2.014282e+07  1724.404255     1.000000\n",
      "101397  2.011134e+07  1204.478261     3.000000\n",
      "101404  2.011255e+07  1031.626374     6.571429\n",
      "101549  2.010697e+07  1468.750000     1.000000\n",
      "...              ...          ...          ...\n",
      "209397  2.019123e+07  1581.000000     1.000000\n",
      "209398  2.019122e+07  1581.666667     1.000000\n",
      "209399  2.019122e+07  1725.666667     1.000000\n",
      "209506  2.018140e+07   940.871212          NaN\n",
      "209508  2.015536e+07  1873.288889     1.000000\n",
      "\n",
      "[6180 rows x 3 columns]\n"
     ]
    }
   ],
   "source": [
    "#players_info_rang_null \n",
    "#players_atp_rank_data\n",
    "columns_name_players_atp_rank = ['ranking_date', 'rank', 'player', 'points']\n",
    "print(players_atp_rank_data[columns_name_players_atp_rank])\n",
    "print(players_atp_rank_data[columns_name_players_atp_rank].groupby('player').mean())"
   ]
  },
  {
   "cell_type": "code",
   "execution_count": 9,
   "metadata": {},
   "outputs": [
    {
     "name": "stdout",
     "output_type": "stream",
     "text": [
      "Postoji 419 različitih igrača\n",
      "Index(['tourney_id', 'tourney_name', 'surface', 'draw_size', 'tourney_level',\n",
      "       'tourney_date', 'match_num', 'winner_id', 'winner_seed', 'winner_entry',\n",
      "       'winner_name', 'winner_hand', 'winner_ht', 'winner_ioc', 'winner_age',\n",
      "       'loser_id', 'loser_seed', 'loser_entry', 'loser_name', 'loser_hand',\n",
      "       'loser_ht', 'loser_ioc', 'loser_age', 'score', 'best_of', 'round',\n",
      "       'minutes', 'w_ace', 'w_df', 'w_svpt', 'w_1stIn', 'w_1stWon', 'w_2ndWon',\n",
      "       'w_SvGms', 'w_bpSaved', 'w_bpFaced', 'l_ace', 'l_df', 'l_svpt',\n",
      "       'l_1stIn', 'l_1stWon', 'l_2ndWon', 'l_SvGms', 'l_bpSaved', 'l_bpFaced',\n",
      "       'winner_rank', 'winner_rank_points', 'loser_rank', 'loser_rank_points',\n",
      "       'id'],\n",
      "      dtype='object')\n"
     ]
    }
   ],
   "source": [
    "import networkx as nx\n",
    "\n",
    "list_winner = set(data['winner_id'].apply(str).unique())\n",
    "#print(list_winner)\n",
    "list_loser = set(data['loser_id'].apply(str).unique())\n",
    "#print(list_loser)\n",
    "\n",
    "skup_id = list_winner.union(list_loser)\n",
    "print(f\"Postoji { len(skup_id) } različitih igrača\") # formatiranje ispisa pomoću fstringa\n",
    "\n",
    "print(data.columns)"
   ]
  },
  {
   "cell_type": "code",
   "execution_count": 10,
   "metadata": {},
   "outputs": [
    {
     "name": "stdout",
     "output_type": "stream",
     "text": [
      "Index(['ranking_date', 'rank', 'player', 'points'], dtype='object')\n",
      "False\n",
      "ranking_date      int64\n",
      "rank              int64\n",
      "player            int64\n",
      "points          float64\n",
      "dtype: object\n",
      "        ranking_date  rank  player  points\n",
      "857151      20181231   653  138846     1.0\n",
      "856052      20181231   104  105155   550.0\n",
      "856056      20181231   106  106058   540.0\n",
      "856058      20181231   107  132283   532.0\n",
      "856060      20181231   108  200000   527.0\n",
      "...              ...   ...     ...     ...\n",
      "826220      20180917   846  104597    20.0\n",
      "825114      20180910  1700  126526     1.0\n",
      "825258      20180910  1867  105961     1.0\n",
      "809171      20180702  1491  207400     2.0\n",
      "807528      20180625  1786  202462     1.0\n",
      "\n",
      "[392 rows x 4 columns]\n"
     ]
    }
   ],
   "source": [
    "#videti timestamp u tabeli 10s, iz koje je godine, i koji je datum\n",
    "#proveriti za podatke za 2018, 2019 u fajlovima koji objasnjavaju meceve, neki mec posle tog datuma koji pise u 10s fajlu\n",
    "print(players_atp_rank_data.columns)\n",
    "print(players_atp_rank_data['player'].is_unique)\n",
    "#players_atp_rank_data.dtypes\n",
    "maska_active_players = players_atp_rank_data['player'].isin(skup_id) & (players_atp_rank_data['ranking_date']<=20181231) & (players_atp_rank_data['ranking_date']>=20180101)\n",
    "players_rank_2018 = players_atp_rank_data[maska_active_players]\n",
    "players_rank_2018 = players_rank_2018.drop_duplicates()\n",
    "\n",
    "max_players_rank_2018 = players_rank_2018.groupby('player').max()\n",
    "#print(players_rank_2018[['ranking_date', 'rank', 'player', 'points']].groupby('player').agg({'ranking_date': 'max'}))\n",
    "#print(players_rank_2018.sort_values('ranking_date').groupby('player').tail(1))\n",
    "#print(max_players_rank_2018['player'].is_unique)\n",
    "\n",
    "player_sorted_date_rank_2018 = players_rank_2018.sort_values(['ranking_date'],ascending=False).groupby('player').head(1)\n",
    "#player_sorted_date_rank_2018 = player_sorted_date_rank_2018['points'].map(str)\n",
    "#player_sorted_date_rank_2018 = player_sorted_date_rank_2018['rank'].map(str)\n",
    "print(player_sorted_date_rank_2018.dtypes)\n",
    "print(players_rank_2018.sort_values(['ranking_date'],ascending=False).groupby('player').head(1))\n"
   ]
  },
  {
   "cell_type": "code",
   "execution_count": 11,
   "metadata": {},
   "outputs": [
    {
     "name": "stdout",
     "output_type": "stream",
     "text": [
      "27\n",
      "Broj nedefinisanih u pobednicima: 6\n",
      "     winner_id              winner_name  winner_rank  winner_rank_points\n",
      "283     103529     Aisam Ul Haq Qureshi          NaN                 NaN\n",
      "330     127570             Rodrigo Arus          NaN                 NaN\n",
      "351     200460  John Bryan Decasa Otico          NaN                 NaN\n",
      "356     111167              Ugo Nastasi          NaN                 NaN\n",
      "957     208029              Holger Rune          NaN                 NaN\n",
      "983     208028         Francisco Llanes          NaN                 NaN\n",
      "Broj nedefinisanih u gubitnicima: 28\n",
      "     winner_id                      winner_name  winner_rank  \\\n",
      "32      106325                  Jabor Al Mutawa          NaN   \n",
      "91      105030                    Michael Venus          NaN   \n",
      "274     105030                    Michael Venus          NaN   \n",
      "276     104656                      Haydn Lewis          NaN   \n",
      "278     207971                  Xavier Lawrence          NaN   \n",
      "326     200483               Peter August Anker          NaN   \n",
      "327     108763  Alberto Emmanuel Alvarado Larin          NaN   \n",
      "330     206768   Rafael Eduardo Gonzalez Retana          NaN   \n",
      "333     207973              Ainius Sabaliauskas          NaN   \n",
      "338     105606              Mohsen Hossein Zade          NaN   \n",
      "339     200401                Amir Hossein Badi          NaN   \n",
      "346     206000                     Michel Saade          NaN   \n",
      "347     134114                      Jad Ballout          NaN   \n",
      "348     207176       Muhammad Althaf Dhaifullah          NaN   \n",
      "352     200620                   Ignacio Garcia          NaN   \n",
      "353     200274                        Alex Diaz          NaN   \n",
      "354     200619                 Sebastian Arcila          NaN   \n",
      "355     200620                   Ignacio Garcia          NaN   \n",
      "357     144776                 Christophe Tholl          NaN   \n",
      "358     111167                      Ugo Nastasi          NaN   \n",
      "359     144776                 Christophe Tholl          NaN   \n",
      "366     207421                   Alex Fairbanks          NaN   \n",
      "442     202090                   Adrian Andreev          NaN   \n",
      "934     103529             Aisam Ul Haq Qureshi          NaN   \n",
      "956     109698          Christoffer Konigsfeldt          NaN   \n",
      "977     200460          John Bryan Decasa Otico          NaN   \n",
      "979     200460          John Bryan Decasa Otico          NaN   \n",
      "983     207738                    Brandon Perez          NaN   \n",
      "\n",
      "     winner_rank_points  \n",
      "32                  NaN  \n",
      "91                  NaN  \n",
      "274                 NaN  \n",
      "276                 NaN  \n",
      "278                 NaN  \n",
      "326                 NaN  \n",
      "327                 NaN  \n",
      "330                 NaN  \n",
      "333                 NaN  \n",
      "338                 NaN  \n",
      "339                 NaN  \n",
      "346                 NaN  \n",
      "347                 NaN  \n",
      "348                 NaN  \n",
      "352                 NaN  \n",
      "353                 NaN  \n",
      "354                 NaN  \n",
      "355                 NaN  \n",
      "357                 NaN  \n",
      "358                 NaN  \n",
      "359                 NaN  \n",
      "366                 NaN  \n",
      "442                 NaN  \n",
      "934                 NaN  \n",
      "956                 NaN  \n",
      "977                 NaN  \n",
      "979                 NaN  \n",
      "983                 NaN  \n"
     ]
    }
   ],
   "source": [
    "#provera da li je stvarno poslednji rang 2018-te godine\n",
    "#print(players_rank_2018[players_rank_2018['player']==200000].sort_values('ranking_date', ascending=False))\n",
    "\n",
    "#provera da li su svi elementi iz skup_id prisuni u tabeli player_sorted_date_rank_2018\n",
    "difference_set = set(map(int, skup_id)).difference(set(player_sorted_date_rank_2018['player']))\n",
    "print(len(difference_set))\n",
    "\n",
    "maska_diff_nodes_winner = data['winner_id'].isin(difference_set) \n",
    "maska_diff_nodes_loser =  data['loser_id'].isin(difference_set)\n",
    "active_columns_winner = ['winner_id', 'winner_name', 'winner_rank', 'winner_rank_points']\n",
    "active_columns_loser = ['loser_id', 'loser_name', 'loser_rank', 'loser_rank_points']\n",
    "winner_miss_data = data[active_columns_winner][maska_diff_nodes_winner]\n",
    "print(f\"Broj nedefinisanih u pobednicima: {len(winner_miss_data)}\")\n",
    "print(winner_miss_data)\n",
    "loser_miss_data = data[active_columns_loser][maska_diff_nodes_loser]\n",
    "loser_miss_data.rename(columns = {'loser_id':'winner_id', 'loser_name':'winner_name', 'loser_rank':'winner_rank', 'loser_rank_points':'winner_rank_points'}, inplace = True)\n",
    "#loser_miss_data.rename_axis({'winner_id', 'winner_name', 'winner_rank', 'winner_rank_points'}, axis=\"columns\")\n",
    "#loser_miss_data.to_replace(to_replace = active_columns_loser, value = active_columns_winner, inplace=True)\n",
    "print(f\"Broj nedefinisanih u gubitnicima: {len(loser_miss_data)}\")\n",
    "print(loser_miss_data)\n",
    "#missed_data=loser_miss_data.append(winner_miss_data).drop_duplicates()\n",
    "#missed_data.rename(columns = {'winner_id' : 'player', 'winner_rank' : 'rank', 'winner_rank_points' : 'points'}, inplace=True)\n",
    "#print(f\"Broj nedefinisanih u gubitnicima: {missed_data}\")\n"
   ]
  },
  {
   "cell_type": "code",
   "execution_count": 12,
   "metadata": {},
   "outputs": [],
   "source": [
    "import numpy as np\n",
    "import matplotlib.pyplot as plt\n",
    "import sys\n",
    "\n",
    "data_reduced = data[['winner_id', 'winner_name', 'winner_ioc', 'loser_id', 'loser_name', 'loser_ioc', 'id']]\n",
    "\n",
    "\n",
    "G = nx.Graph() # pravi praznu mrežu\n",
    "G.add_nodes_from(skup_id) # dodaje čvorove čije su labele u \"skup_id\"\n",
    "\n",
    "for _, winner_id, winner_name, winner_ioc, loser_id, loser_name, loser_ioc, _ in data_reduced.itertuples():\n",
    "    winner_id_string = str(winner_id)\n",
    "    loser_id_string = str(loser_id)\n",
    "    if (winner_id_string, loser_id_string) in G.edges:\n",
    "        G.edges[winner_id_string, loser_id_string]['weight'] += 1\n",
    "    else:\n",
    "        G.add_edge(winner_id_string, loser_id_string, weight=1)\n",
    "        \n",
    "        winner = player_sorted_date_rank_2018[player_sorted_date_rank_2018['player'] == int(winner_id)]\n",
    "        \n",
    "        if winner.empty:\n",
    "            winner_rank = str(sys.maxsize)\n",
    "            winner_points = str(0)\n",
    "        else:\n",
    "            winner_rank = str(winner['rank'].values[0])\n",
    "            winner_points = str(winner['points'].values[0])\n",
    "        \n",
    "        loser = player_sorted_date_rank_2018[player_sorted_date_rank_2018['player'] == int(loser_id)]\n",
    "        \n",
    "        if loser.empty:\n",
    "            loser_rank = str(sys.maxsize)\n",
    "            loser_points = str(0)\n",
    "        else:\n",
    "            loser_rank = str(loser['rank'].values[0])\n",
    "            loser_points = str(loser['points'].values[0])\n",
    "        winner_attrs = {winner_id_string: {'name': winner_name, 'country': winner_ioc, 'rank': winner_rank, 'points': winner_points}}\n",
    "        loser_attrs = {loser_id_string: {'name': loser_name, 'country': loser_ioc, 'rank': loser_rank, 'points': loser_points}}\n",
    "        nx.set_node_attributes(G, winner_attrs)\n",
    "        nx.set_node_attributes(G, loser_attrs)\n",
    "\n",
    "\n"
   ]
  },
  {
   "cell_type": "code",
   "execution_count": 13,
   "metadata": {},
   "outputs": [
    {
     "name": "stdout",
     "output_type": "stream",
     "text": [
      "tourney_id             object\n",
      "tourney_name           object\n",
      "surface                object\n",
      "draw_size               int64\n",
      "tourney_level          object\n",
      "tourney_date            int64\n",
      "match_num               int64\n",
      "winner_id               int64\n",
      "winner_seed           float64\n",
      "winner_entry           object\n",
      "winner_name            object\n",
      "winner_hand            object\n",
      "winner_ht             float64\n",
      "winner_ioc             object\n",
      "winner_age            float64\n",
      "loser_id                int64\n",
      "loser_seed            float64\n",
      "loser_entry            object\n",
      "loser_name             object\n",
      "loser_hand             object\n",
      "loser_ht              float64\n",
      "loser_ioc              object\n",
      "loser_age             float64\n",
      "score                  object\n",
      "best_of                 int64\n",
      "round                  object\n",
      "minutes               float64\n",
      "w_ace                 float64\n",
      "w_df                  float64\n",
      "w_svpt                float64\n",
      "w_1stIn               float64\n",
      "w_1stWon              float64\n",
      "w_2ndWon              float64\n",
      "w_SvGms               float64\n",
      "w_bpSaved             float64\n",
      "w_bpFaced             float64\n",
      "l_ace                 float64\n",
      "l_df                  float64\n",
      "l_svpt                float64\n",
      "l_1stIn               float64\n",
      "l_1stWon              float64\n",
      "l_2ndWon              float64\n",
      "l_SvGms               float64\n",
      "l_bpSaved             float64\n",
      "l_bpFaced             float64\n",
      "winner_rank           float64\n",
      "winner_rank_points    float64\n",
      "loser_rank            float64\n",
      "loser_rank_points     float64\n",
      "id                      int64\n",
      "dtype: object\n",
      "{'104259': 'Philipp Kohlschreiber', '126613': 'Bogdan Borza', '144707': 'Mikael Ymer', '104999': 'Mischa Zverev', '120424': 'Yannick Maden', '134120': 'Kuan Yi Lee', '111200': 'Elias Ymer', '105842': 'Di Wu', '111797': 'Nicolas Jarry', '105357': 'John Millman', '122236': 'Roman Hassanov', '105992': 'Ryan Harrison', '104890': 'Andreas Haider Maurer', '105657': 'Marius Copil', '106138': 'Yaraslau Shyla', '105292': 'Alejandro Gonzalez', '202130': 'Emil Reinberg', '111576': 'Sumit Nagal', '120792': 'M Abid Ali Khan Akbar', '105449': 'Steve Johnson', '106250': 'Luis Patino', '207738': 'Brandon Perez', '124126': 'Sarp Agabigun', '123921': 'Calvin Hemery', '125802': 'Ilya Ivashka', '200483': 'Peter August Anker', '207139': 'Palaphoom Kovapitukted', '200278': 'Simon Carr', '144719': 'Jaume Munar', '106296': 'Gregoire Barrere', '104571': 'Marcos Baghdatis', '105227': 'Marin Cilic', '106333': 'Julien Cagnina', '106000': 'Damir Dzumhur', '106410': 'Jorge Brian Panta Herreros', '105173': 'Adrian Mannarino', '106397': 'Wishaya Trongcharoenchaikul', '123768': 'Collin Altamirano', '103898': 'Julien Benneteau', '106328': 'Christian Harrison', '200460': 'John Bryan Decasa Otico', '208028': 'Francisco Llanes', '106150': 'Jeson Patrombon', '105561': 'Alessandro Giannessi', '104527': 'Stan Wawrinka', '104460': 'Dustin Brown', '106210': 'Jiri Vesely', '105812': 'David Agung Susanto', '104926': 'Fabio Fognini', '105077': 'Albert Ramos', '207415': 'Daniel Michalski', '105691': 'Scott Griekspoor', '105349': 'Harri Heliovaara', '104656': 'Haydn Lewis', '105587': 'Tom Kocevar Desman', '104586': 'Lukas Rosol', '104022': 'Mikhail Youzhny', '105223': 'Juan Martin del Potro', '207972': 'Minjong Park', '105051': 'Matthew Ebden', '110536': 'Kevin King', '105053': 'Santiago Giraldo', '105952': 'Renzo Olivo', '206000': 'Michel Saade', '105487': 'Facundo Bagnis', '110602': 'Dennis Novak', '207971': 'Xavier Lawrence', '200095': 'Nicola Kuhn', '105436': 'Markus Eriksson', '106121': 'Taro Daniel', '106398': 'Pedro Cachin', '126535': 'Carlos Taberner', '105359': 'Jason Jung', '208029': 'Holger Rune', '106065': 'Marco Cecchinato', '207479': 'Soufiane El Mesbahi', '105479': 'Alejandro Mendoza', '105155': 'Pedro Sousa', '105656': 'Marcelo Arevalo', '126530': 'Peter Bothwell', '200620': 'Ignacio Garcia', '105550': 'Guido Pella', '127300': 'Jurabek Karimov', '105747': 'Karim Mohamed Maamoun', '103607': 'Victor Estrella', '200000': 'Felix Auger Aliassime', '106329': 'Thiago Monteiro', '126125': 'Maxime Janvier', '105413': 'Andrej Martin', '103970': 'David Ferrer', '104468': 'Gilles Simon', '111456': 'Mackenzie McDonald', '106353': 'Pedja Krstin', '104882': 'Blaz Kavcic', '111574': 'Jc Aragone', '104180': 'Gilles Muller', '105526': 'Jan Lennard Struff', '105577': 'Vasek Pospisil', '105432': 'Prajnesh Gunneswaran', '105688': 'Manuel Sanchez', '105882': 'Stefano Travaglia', '111795': 'Filippo Baldi', '105641': 'Blaz Rola', '105163': 'Gleb Sakharov', '105932': 'Nikoloz Basilashvili', '105477': 'Marco Trungelliti', '103990': 'Tommy Robredo', '105216': 'Yuichi Sugita', '104925': 'Novak Djokovic', '111190': 'Zhizhen Zhang', '132283': 'Lorenzo Sonego', '106415': 'Yoshihito Nishioka', '123795': 'Altug Celikbilek', '105916': 'Marton Fucsovics', '126774': 'Stefanos Tsitsipas', '111815': 'Cameron Norrie', '207400': 'Mark Chigaazira', '200384': 'Hugo Gaston', '104918': 'Andy Murray', '104122': 'Carlos Berlocq', '105676': 'David Goffin', '103852': 'Feliciano Lopez', '104620': 'Simone Bolelli', '104542': 'Jo-Wilfried Tsonga', '105961': 'David Souto', '111167': 'Ugo Nastasi', '104251': 'Ti Chen', '111513': 'Laslo Djere', '202462': 'Yasitha De Silva', '202090': 'Adrian Andreev', '106324': 'Vaclav Safranek', '106072': 'Alexey Vatutin', '105643': 'Federico Delbonis', '200574': 'Alexander Donski', '105575': 'Ricardas Berankis', '105208': 'Ernests Gulbis', '106214': 'Oscar Otte', '109698': 'Christoffer Konigsfeldt', '106005': 'Constant Lestienne', '108763': 'Alberto Emmanuel Alvarado Larin', '126174': 'Youssef Hossam', '200514': 'Jurij Rodionov', '111578': 'Stefan Kozlov', '111459': 'Arjun Kadhe', '111581': 'Michael Mmoh', '126845': 'Max Purcell', '109054': 'Daniel Masur', '105985': 'Darian King', '105156': 'Federico Zeballos', '104563': 'Luca Vanni', '103529': 'Aisam Ul Haq Qureshi', '200273': 'Hady Habib', '200274': 'Alex Diaz', '111794': 'Kamil Majchrzak', '106432': 'Borna Coric', '106426': 'Christian Garin', '105467': 'Jordi Munoz Abreu', '104978': 'Daniel Brands', '104597': 'Nicolas Almagro', '106045': 'Denis Kudla', '105967': 'Henri Laaksonen', '200005': 'Ugo Humbert', '105606': 'Mohsen Hossein Zade', '126340': 'Viktor Durasovic', '105238': 'Alexandr Dolgopolov', '104792': 'Gael Monfils', '122078': 'Dmitry Popko', '103917': 'Nicolas Mahut', '111805': 'Seong Chan Hong', '138431': 'Darko Bojanovic', '200075': 'Yshai Oliel', '106325': 'Jabor Al Mutawa', '126939': 'Khumoun Sultanov', '200175': 'Miomir Kecmanovic', '104252': 'Florian Mayer', '104719': 'Marcel Granollers', '202165': 'Alberto Lim', '105633': 'Mohamed Safwat', '104970': 'Matteo Viola', '103781': 'Jurgen Melzer', '111515': 'Thai Son Kwiatkowski', '106044': 'Nicolas Kicker', '133430': 'Denis Shapovalov', '104291': 'Malek Jaziri', '126127': 'Benjamin Bonzi', '126846': 'Aleksandar Vukic', '126204': 'Gerardo Lopez Villasenor', '122330': 'Alexander Bublik', '104660': 'Sergiy Stakhovsky', '134886': 'Sharmal Dissanayake', '106186': 'Jason Kubler', '126952': 'Soon Woo Kwon', '138845': 'Anthony Jackie Tang', '126205': 'Tommy Paul', '126526': 'Soren Hess Olesen', '105493': 'Tomislav Brkic', '103819': 'Roger Federer', '144807': 'Kenneth Raisma', '200401': 'Amir Hossein Badi', '104494': 'Adrian Ungur', '111460': 'Quentin Halys', '109739': 'Maximilian Marterer', '200711': 'Nicolas Mejia', '104745': 'Rafael Nadal', '106361': 'Adam Pavlasek', '111790': 'Brayden Schnur', '105683': 'Milos Raonic', '104810': 'Zhe Li', '105554': 'Daniel Evans', '105589': 'Gerald Melzer', '106175': 'Ricardo Rodriguez', '105819': 'Guido Andreozzi', '111153': 'Christopher Eubanks', '105614': 'Bradley Klahn', '105806': 'Mirza Basic', '205734': 'Thiago Seyboth Wild', '104607': 'Tomas Berdych', '105453': 'Kei Nishikori', '200282': 'Alex De Minaur', '106218': 'Marcos Giron', '105649': 'Cedrik Marcel Stebe', '105948': 'Federico Coria', '104871': 'Jeremy Chardy', '105430': 'Radu Albot', '104665': 'Pablo Andujar', '126190': 'Nicolas Alvarez', '200031': 'Lucas Catarina', '105063': 'Andrea Arnaboldi', '105441': 'John Patrick Smith', '105373': 'Martin Klizan', '136440': 'Dominik Koepfer', '105757': 'Sandro Ehrat', '106078': 'Egor Gerasimov', '105807': 'Pablo Carreno Busta', '111511': 'Noah Rubin', '200218': 'Mate Valkusz', '105166': 'Peter Polansky', '126094': 'Andrey Rublev', '200436': 'Zsombor Piros', '104593': 'Daniel Gimeno Traver', '202385': 'Jenson Brooksby', '127143': 'Jirat Navasirisomboon', '134770': 'Casper Ruud', '103565': 'Stephane Robert', '106110': 'Filip Horansky', '144776': 'Christophe Tholl', '124079': 'Pedro Martinez', '106421': 'Daniil Medvedev', '104233': 'Frederik Nielsen', '202210': 'Edris Fetisleam', '124014': 'Ernesto Escobedo', '121411': 'Moez Chargui', '105147': 'Tatsuma Ito', '122669': 'Juan Pablo Varillas', '105074': 'Ruben Bemelmans', '104545': 'John Isner', '106220': 'Dimitar Kuzmanov', '105332': 'Benoit Paire', '106396': 'Cheng Yu Yu', '200059': 'Yibing Wu', '105732': 'Pierre Hugues Herbert', '105936': 'Filip Krajinovic', '106198': 'Hugo Dellien', '106058': 'Jack Sock', '104897': 'Matthias Bachinger', '144817': 'Marc Andrea Huesler', '105933': 'Roberto Quiroz', '200325': 'Emil Ruusuvuori', '105311': 'Joao Sousa', '106177': 'Oriol Roca Batalla', '122109': 'Sanjar Fayziev', '134114': 'Jad Ballout', '105030': 'Michael Venus', '104629': 'Adrian Menendez Maceiras', '105583': 'Dusan Lajovic', '128034': 'Hubert Hurkacz', '105065': 'Tim Smyczek', '106105': 'Guilherme Clezar', '123755': 'Daniel Elahi Galan', '126102': 'Nicolae Frunza', '106120': 'Ricardo Ojeda Lara', '111442': 'Jordan Thompson', '104198': 'Guillermo Garcia Lopez', '144826': 'Aziz Dougaz', '105585': 'Ze Zhang', '105385': 'Donald Young', '105943': 'Federico Gaio', '105777': 'Grigor Dimitrov', '104678': 'Viktor Troicki', '105578': 'Cristian Rodriguez', '126120': 'Nino Serdarusic', '104312': 'Andreas Seppi', '106043': 'Diego Schwartzman', '105634': 'Viktor Galovic', '106412': 'Lucas Gomez', '106026': 'Yuki Bhambri', '106075': 'Jozef Kovalik', '106099': 'Salvatore Caruso', '106298': 'Lucas Pouille', '106249': 'Joao Domingues', '104898': 'Robin Haase', '104308': 'Michal Przysiezny', '144760': 'Amine Ahouda', '106368': 'Ramkumar Ramanathan', '105499': 'Christopher Diaz Figueroa', '104672': 'Vincent Millot', '105376': 'Peter Gojowczyk', '105015': 'Franko Skugor', '126652': 'Jay Clarke', '106109': 'Alex Bolt', '111197': 'Jonathan Mridha', '111577': 'Jared Donaldson', '111575': 'Karen Khachanov', '144750': 'Lloyd Harris', '105217': 'Thiemo De Bakker', '106281': 'Liam Broady', '124187': 'Reilly Opelka', '105226': 'Attila Balazs', '105827': 'Laurynas Grigelis', '132482': 'Liam Caruana', '105502': 'N Sriram Balaji', '105707': 'Nicolaas Scholtz', '108739': 'Wilfredo Gonzalez', '104297': 'Rogerio Dutra Silva', '105273': 'Mauricio Echazu', '133975': 'Benjamin Hassan', '103893': 'Paolo Lorenzi', '105132': 'Jurgen Zopp', '127339': 'Borna Gojo', '126610': 'Matteo Berrettini', '105626': 'Takanyi Garanganga', '105566': 'Shahin Khaledan', '104755': 'Richard Gasquet', '106174': 'Gonzalo Lama', '105085': 'Artem Smirnov', '122548': 'Edan Leshem', '134217': 'Skyler Butts', '200624': 'Sebastian Korda', '105960': 'Evan King', '103333': 'Ivo Karlovic', '106021': 'Dragos Dima', '207973': 'Ainius Sabaliauskas', '106393': 'Frederico Ferreira Silva', '106378': 'Kyle Edmund', '104919': 'Leonardo Mayer', '206768': 'Rafael Eduardo Gonzalez Retana', '206642': 'Yassir Kilani', '207176': 'Muhammad Althaf Dhaifullah', '105111': 'Ivan Endara', '105902': 'James Duckworth', '105539': 'Evgeny Donskoy', '117356': 'Cem Ilkel', '106228': 'Juan Ignacio Londero', '200619': 'Sebastian Arcila', '105815': 'Tennys Sandgren', '106401': 'Nick Kyrgios', '106348': 'Evgeny Karlovskiy', '126207': 'Frances Tiafoe', '104907': 'Jose Rubin Statham', '133297': 'Yosuke Watanuki', '105138': 'Roberto Bautista Agut', '134868': 'Tallon Griekspoor', '200615': 'Alexei Popyrin', '104731': 'Kevin Anderson', '106167': 'Joris De Loore', '104932': 'Kenny De Schepper', '106232': 'Roberto Cid', '106233': 'Dominic Thiem', '106283': 'Mitchell Krueger', '106106': 'George Tsivadze', '105935': 'Duilio Beretta', '106391': 'Adrian Bodmer', '106071': 'Bernard Tomic', '138846': 'Hong Kit Jack Wong', '104947': 'Marsel Ilhan', '111761': 'Benjamin Lock', '104269': 'Fernando Verdasco', '126502': 'Luis Diego Chavez Villalpando', '124116': 'Sebastian Ofner', '100644': 'Alexander Zverev', '105497': 'Jose Hernandez', '106252': 'Joao Pedro Sorgi', '104534': 'Dudi Sela', '202382': 'Simen Sunde Bratholm', '144645': 'Zdenek Kolar', '104797': 'Denis Istomin', '200611': 'Elliot Benchetrit', '126203': 'Taylor Fritz', '104547': 'Horacio Zeballos', '127570': 'Rodrigo Arus', '105870': 'Yannick Hanfmann', '207421': 'Alex Fairbanks', '104655': 'Pablo Cuevas', '105515': 'Jordi Samper Montana', '105064': 'Thomaz Bellucci', '105062': 'Mikhail Kukushkin', '104467': 'Lamine Ouahab', '144895': 'Corentin Moutet', '200484': 'Rudolf Molleker', '103499': 'Aqeel Khan', '105341': 'Thomas Fabbiano', '106216': 'Bjorn Fratangelo', '105379': 'Aljaz Bedene', '200250': 'Mehluli Don Ayanda Sibanda', '105299': 'Dzmitry Zhyrmont', '105041': 'Lukas Lacko', '202358': 'Chun Hsin Tseng', '124022': 'Chun Hun Wong', '126523': 'Bernabe Zapata Miralles', '111202': 'Hyeon Chung', '105899': 'Martin Cuevas', '200045': 'Anthony Susanto', '105671': 'Gastao Elias', '105023': 'Sam Querrey', '106423': 'Thanasi Kokkinakis', '207836': 'Muzammil Murtaza', '106148': 'Roberto Carballes Baena', '111192': 'Lucas Miedler', '105613': 'Norbert Gombos'}\n",
      "{'104259': 'GER', '126613': 'ROU', '144707': 'SWE', '104999': 'GER', '120424': 'GER', '134120': 'TPE', '111200': 'SWE', '105842': 'CHN', '111797': 'CHI', '105357': 'AUS', '122236': 'KAZ', '105992': 'USA', '104890': 'AUT', '105657': 'ROU', '106138': 'BLR', '105292': 'COL', '202130': 'USA', '111576': 'IND', '120792': 'PAK', '105449': 'USA', '106250': 'MEX', '207738': 'VEN', '124126': 'TUR', '123921': 'FRA', '125802': 'BLR', '200483': 'NOR', '207139': 'THA', '200278': 'IRL', '144719': 'ESP', '106296': 'FRA', '104571': 'CYP', '105227': 'CRO', '106333': 'BEL', '106000': 'BIH', '106410': 'PER', '105173': 'FRA', '106397': 'THA', '123768': 'USA', '103898': 'FRA', '106328': 'USA', '200460': 'PHI', '208028': 'URU', '106150': 'PHI', '105561': 'ITA', '104527': 'SUI', '104460': 'GER', '106210': 'CZE', '105812': 'INA', '104926': 'ITA', '105077': 'ESP', '207415': 'POL', '105691': 'NED', '105349': 'FIN', '104656': 'BAR', '105587': 'SLO', '104586': 'CZE', '104022': 'RUS', '105223': 'ARG', '207972': 'KOR', '105051': 'AUS', '110536': 'USA', '105053': 'COL', '105952': 'ARG', '206000': 'LIB', '105487': 'ARG', '110602': 'AUT', '207971': 'BAR', '200095': 'ESP', '105436': 'SWE', '106121': 'JPN', '106398': 'ARG', '126535': 'ESP', '105359': 'TPE', '208029': 'DEN', '106065': 'ITA', '207479': 'MAR', '105479': 'BOL', '105155': 'POR', '105656': 'ESA', '126530': 'IRL', '200620': 'PUR', '105550': 'ARG', '127300': 'UZB', '105747': 'EGY', '103607': 'DOM', '200000': 'CAN', '106329': 'BRA', '126125': 'FRA', '105413': 'SVK', '103970': 'ESP', '104468': 'FRA', '111456': 'USA', '106353': 'SRB', '104882': 'SLO', '111574': 'USA', '104180': 'LUX', '105526': 'GER', '105577': 'CAN', '105432': 'IND', '105688': 'MEX', '105882': 'ITA', '111795': 'ITA', '105641': 'SLO', '105163': 'FRA', '105932': 'GEO', '105477': 'ARG', '103990': 'ESP', '105216': 'JPN', '104925': 'SRB', '111190': 'CHN', '132283': 'ITA', '106415': 'JPN', '123795': 'TUR', '105916': 'HUN', '126774': 'GRE', '111815': 'GBR', '207400': 'ZIM', '200384': 'FRA', '104918': 'GBR', '104122': 'ARG', '105676': 'BEL', '103852': 'ESP', '104620': 'ITA', '104542': 'FRA', '105961': 'VEN', '111167': 'LUX', '104251': 'TPE', '111513': 'SRB', '202462': 'SRI', '202090': 'BUL', '106324': 'CZE', '106072': 'RUS', '105643': 'ARG', '200574': 'CAN', '105575': 'LTU', '105208': 'LAT', '106214': 'GER', '109698': 'DEN', '106005': 'FRA', '108763': 'ESA', '126174': 'EGY', '200514': 'AUT', '111578': 'USA', '111459': 'IND', '111581': 'USA', '126845': 'AUS', '109054': 'GER', '105985': 'BAR', '105156': 'BOL', '104563': 'ITA', '103529': 'PAK', '200273': 'LIB', '200274': 'PUR', '111794': 'POL', '106432': 'CRO', '106426': 'CHI', '105467': 'VEN', '104978': 'GER', '104597': 'ESP', '106045': 'USA', '105967': 'SUI', '200005': 'FRA', '105606': 'IRI', '126340': 'NOR', '105238': 'UKR', '104792': 'FRA', '122078': 'KAZ', '103917': 'FRA', '111805': 'KOR', '138431': 'BIH', '200075': 'ISR', '106325': 'QAT', '126939': 'UZB', '200175': 'SRB', '104252': 'GER', '104719': 'ESP', '202165': 'PHI', '105633': 'EGY', '104970': 'ITA', '103781': 'AUT', '111515': 'USA', '106044': 'ARG', '133430': 'CAN', '104291': 'TUN', '126127': 'FRA', '126846': 'AUS', '126204': 'MEX', '122330': 'KAZ', '104660': 'UKR', '134886': 'SRI', '106186': 'AUS', '126952': 'KOR', '138845': 'HKG', '126205': 'USA', '126526': 'DEN', '105493': 'BIH', '103819': 'SUI', '144807': 'EST', '200401': 'IRI', '104494': 'ROU', '111460': 'FRA', '109739': 'GER', '200711': 'COL', '104745': 'ESP', '106361': 'CZE', '111790': 'CAN', '105683': 'CAN', '104810': 'CHN', '105554': 'GBR', '105589': 'AUT', '106175': 'VEN', '105819': 'ARG', '111153': 'USA', '105614': 'USA', '105806': 'BIH', '205734': 'BRA', '104607': 'CZE', '105453': 'JPN', '200282': 'AUS', '106218': 'USA', '105649': 'GER', '105948': 'ARG', '104871': 'FRA', '105430': 'MDA', '104665': 'ESP', '126190': 'PER', '200031': 'MON', '105063': 'ITA', '105441': 'AUS', '105373': 'SVK', '136440': 'GER', '105757': 'SUI', '106078': 'BLR', '105807': 'ESP', '111511': 'USA', '200218': 'HUN', '105166': 'CAN', '126094': 'RUS', '200436': 'HUN', '104593': 'ESP', '202385': 'USA', '127143': 'THA', '134770': 'NOR', '103565': 'FRA', '106110': 'SVK', '144776': 'LUX', '124079': 'ESP', '106421': 'RUS', '104233': 'DEN', '202210': 'ROU', '124014': 'USA', '121411': 'TUN', '105147': 'JPN', '122669': 'PER', '105074': 'BEL', '104545': 'USA', '106220': 'BUL', '105332': 'FRA', '106396': 'TPE', '200059': 'CHN', '105732': 'FRA', '105936': 'SRB', '106198': 'BOL', '106058': 'USA', '104897': 'GER', '144817': 'SUI', '105933': 'ECU', '200325': 'FIN', '105311': 'POR', '106177': 'ESP', '122109': 'UZB', '134114': 'TPE', '105030': 'NZL', '104629': 'ESP', '105583': 'SRB', '128034': 'POL', '105065': 'USA', '106105': 'BRA', '123755': 'COL', '126102': 'ROU', '106120': 'ESP', '111442': 'AUS', '104198': 'ESP', '144826': 'TUN', '105585': 'CHN', '105385': 'USA', '105943': 'ITA', '105777': 'BUL', '104678': 'SRB', '105578': 'COL', '126120': 'CRO', '104312': 'ITA', '106043': 'ARG', '105634': 'ITA', '106412': 'MEX', '106026': 'IND', '106075': 'SVK', '106099': 'ITA', '106298': 'FRA', '106249': 'POR', '104898': 'NED', '104308': 'POL', '144760': 'MAR', '106368': 'IND', '105499': 'GUA', '104672': 'FRA', '105376': 'GER', '105015': 'CRO', '126652': 'GBR', '106109': 'AUS', '111197': 'SWE', '111577': 'USA', '111575': 'RUS', '144750': 'RSA', '105217': 'NED', '106281': 'GBR', '124187': 'USA', '105226': 'HUN', '105827': 'LTU', '132482': 'USA', '105502': 'IND', '105707': 'RSA', '108739': 'GUA', '104297': 'BRA', '105273': 'PER', '133975': 'GER', '103893': 'ITA', '105132': 'EST', '127339': 'CRO', '126610': 'ITA', '105626': 'ZIM', '105566': 'IRI', '104755': 'FRA', '106174': 'CHI', '105085': 'UKR', '122548': 'ISR', '134217': 'HKG', '200624': 'USA', '105960': 'USA', '103333': 'CRO', '106021': 'ROU', '207973': 'LTU', '106393': 'POR', '106378': 'GBR', '104919': 'ARG', '206768': 'ESA', '206642': 'MAR', '207176': 'INA', '105111': 'ECU', '105902': 'AUS', '105539': 'RUS', '117356': 'TUR', '106228': 'ARG', '200619': 'PUR', '105815': 'USA', '106401': 'AUS', '106348': 'RUS', '126207': 'USA', '104907': 'NZL', '133297': 'JPN', '105138': 'ESP', '134868': 'NED', '200615': 'AUS', '104731': 'RSA', '106167': 'BEL', '104932': 'FRA', '106232': 'DOM', '106233': 'AUT', '106283': 'USA', '106106': 'GEO', '105935': 'PER', '106391': 'SUI', '106071': 'AUS', '138846': 'HKG', '104947': 'TUR', '111761': 'ZIM', '104269': 'ESP', '126502': 'ESP', '124116': 'AUT', '100644': 'GER', '105497': 'DOM', '106252': 'BRA', '104534': 'ISR', '202382': 'NOR', '144645': 'CZE', '104797': 'UZB', '200611': 'FRA', '126203': 'USA', '104547': 'ARG', '127570': 'URU', '105870': 'GER', '207421': 'SRI', '104655': 'URU', '105515': 'ESP', '105064': 'BRA', '105062': 'KAZ', '104467': 'ALG', '144895': 'FRA', '200484': 'GER', '103499': 'PAK', '105341': 'ITA', '106216': 'USA', '105379': 'SLO', '200250': 'ZIM', '105299': 'BLR', '105041': 'SVK', '202358': 'TPE', '124022': 'HKG', '126523': 'ESP', '111202': 'KOR', '105899': 'URU', '200045': 'INA', '105671': 'POR', '105023': 'USA', '106423': 'AUS', '207836': 'PAK', '106148': 'ESP', '111192': 'AUT', '105613': 'SVK'}\n",
      "{'104259': '1125.0', '126613': '25.0', '144707': '170.0', '104999': '750.0', '120424': '460.0', '134120': '49.0', '111200': '511.0', '105842': '104.0', '111797': '1022.0', '105357': '1083.0', '122236': '23.0', '105992': '810.0', '104890': '38.0', '105657': '823.0', '106138': '1.0', '105292': '98.0', '202130': '9.0', '111576': '67.0', '120792': '2.0', '105449': '1190.0', '106250': '6.0', '207738': '0', '124126': '10.0', '123921': '229.0', '125802': '622.0', '200483': '0', '207139': '4.0', '200278': '16.0', '144719': '663.0', '106296': '322.0', '104571': '460.0', '105227': '4250.0', '106333': '20.0', '106000': '985.0', '106410': '18.0', '105173': '1045.0', '106397': '26.0', '123768': '101.0', '103898': '407.0', '106328': '200.0', '200460': '0', '208028': '0', '106150': '1.0', '105561': '332.0', '104527': '785.0', '104460': '215.0', '106210': '629.0', '105812': '7.0', '104926': '2315.0', '105077': '790.0', '207415': '8.0', '105691': '127.0', '105349': '46.0', '104656': '0', '105587': '64.0', '104586': '383.0', '104022': '486.0', '105223': '5300.0', '207972': '3.0', '105051': '1001.0', '110536': '159.0', '105053': '178.0', '105952': '71.0', '206000': '0', '105487': '353.0', '110602': '387.0', '207971': '0', '200095': '190.0', '105436': '24.0', '106121': '691.0', '106398': '152.0', '126535': '135.0', '105359': '470.0', '208029': '0', '106065': '1819.0', '207479': '1.0', '105479': '13.0', '105155': '550.0', '105656': '225.0', '126530': '3.0', '200620': '0', '105550': '860.0', '127300': '44.0', '105747': '21.0', '103607': '138.0', '200000': '527.0', '106329': '475.0', '126125': '262.0', '105413': '277.0', '103970': '460.0', '104468': '1370.0', '111456': '688.0', '106353': '305.0', '104882': '246.0', '111574': '171.0', '104180': '413.0', '105526': '875.0', '105577': '716.0', '105432': '521.0', '105688': '14.0', '105882': '426.0', '111795': '318.0', '105641': '272.0', '105163': '202.0', '105932': '1795.0', '105477': '463.0', '103990': '251.0', '105216': '370.0', '104925': '9045.0', '111190': '56.0', '132283': '532.0', '106415': '701.0', '123795': '15.0', '105916': '1122.0', '126774': '2095.0', '111815': '627.0', '207400': '2.0', '200384': '5.0', '104918': '200.0', '104122': '411.0', '105676': '1785.0', '103852': '795.0', '104620': '384.0', '104542': '200.0', '105961': '1.0', '111167': '0', '104251': '11.0', '111513': '621.0', '202462': '1.0', '202090': '0', '106324': '127.0', '106072': '298.0', '105643': '678.0', '200574': '3.0', '105575': '507.0', '105208': '612.0', '106214': '317.0', '109698': '0', '106005': '357.0', '108763': '0', '126174': '29.0', '200514': '229.0', '111578': '93.0', '111459': '37.0', '111581': '563.0', '126845': '138.0', '109054': '168.0', '105985': '260.0', '105156': '72.0', '104563': '317.0', '103529': '0', '200273': '49.0', '200274': '0', '111794': '293.0', '106432': '2480.0', '106426': '650.0', '105467': '5.0', '104978': '278.0', '104597': '20.0', '106045': '810.0', '105967': '311.0', '200005': '572.0', '105606': '0', '126340': '41.0', '105238': '165.0', '104792': '1400.0', '122078': '59.0', '103917': '270.0', '111805': '8.0', '138431': '16.0', '200075': '20.0', '106325': '0', '126939': '41.0', '200175': '433.0', '104252': '168.0', '104719': '598.0', '202165': '1.0', '105633': '276.0', '104970': '130.0', '103781': '133.0', '111515': '126.0', '106044': '285.0', '133430': '1440.0', '104291': '1014.0', '126127': '162.0', '126846': '60.0', '126204': '10.0', '122330': '323.0', '104660': '424.0', '134886': '3.0', '106186': '516.0', '126952': '206.0', '138845': '4.0', '126205': '251.0', '126526': '1.0', '105493': '117.0', '103819': '6420.0', '144807': '21.0', '200401': '0', '104494': '1.0', '111460': '445.0', '109739': '706.0', '200711': '28.0', '104745': '7480.0', '106361': '251.0', '111790': '303.0', '105683': '1855.0', '104810': '140.0', '105554': '266.0', '105589': '192.0', '106175': '3.0', '105819': '682.0', '111153': '307.0', '105614': '699.0', '105806': '636.0', '205734': '19.0', '104607': '715.0', '105453': '3590.0', '200282': '1298.0', '106218': '103.0', '105649': '10.0', '105948': '138.0', '104871': '1050.0', '105430': '592.0', '104665': '658.0', '126190': '6.0', '200031': '14.0', '105063': '297.0', '105441': '264.0', '105373': '1050.0', '136440': '331.0', '105757': '4.0', '106078': '334.0', '105807': '1705.0', '111511': '424.0', '200218': '98.0', '105166': '482.0', '126094': '760.0', '200436': '67.0', '104593': '271.0', '202385': '13.0', '127143': '10.0', '134770': '518.0', '103565': '262.0', '106110': '231.0', '144776': '0', '124079': '336.0', '106421': '1977.0', '104233': '23.0', '202210': '33.0', '124014': '272.0', '121411': '2.0', '105147': '360.0', '122669': '60.0', '105074': '496.0', '104545': '3155.0', '106220': '76.0', '105332': '935.0', '106396': '19.0', '200059': '105.0', '105732': '903.0', '105936': '620.0', '106198': '466.0', '106058': '540.0', '104897': '440.0', '144817': '48.0', '105933': '281.0', '200325': '41.0', '105311': '1017.0', '106177': '41.0', '122109': '4.0', '134114': '0', '105030': '0', '104629': '442.0', '105583': '985.0', '128034': '636.0', '105065': '318.0', '106105': '214.0', '123755': '224.0', '126102': '6.0', '106120': '146.0', '111442': '715.0', '104198': '543.0', '144826': '6.0', '105585': '246.0', '105385': '183.0', '105943': '236.0', '105777': '1835.0', '104678': '247.0', '105578': '25.0', '126120': '158.0', '104312': '1106.0', '106043': '1880.0', '105634': '223.0', '106412': '10.0', '106026': '420.0', '106075': '638.0', '106099': '333.0', '106298': '1245.0', '106249': '223.0', '104898': '965.0', '104308': '7.0', '144760': '1.0', '106368': '433.0', '105499': '28.0', '104672': '85.0', '105376': '855.0', '105015': '57.0', '126652': '213.0', '106109': '352.0', '111197': '15.0', '111577': '520.0', '111575': '2835.0', '144750': '458.0', '105217': '199.0', '106281': '144.0', '124187': '590.0', '105226': '180.0', '105827': '134.0', '132482': '43.0', '105502': '31.0', '105707': '8.0', '108739': '12.0', '104297': '332.0', '105273': '56.0', '133975': '47.0', '103893': '525.0', '105132': '372.0', '127339': '69.0', '126610': '932.0', '105626': '22.0', '105566': '21.0', '104755': '1535.0', '106174': '2.0', '105085': '8.0', '122548': '19.0', '134217': '7.0', '200624': '10.0', '105960': '134.0', '103333': '589.0', '106021': '84.0', '207973': '0', '106393': '80.0', '106378': '2150.0', '104919': '895.0', '206768': '0', '206642': '1.0', '207176': '0', '105111': '2.0', '105902': '206.0', '105539': '594.0', '117356': '183.0', '106228': '491.0', '200619': '0', '105815': '814.0', '106401': '1125.0', '106348': '190.0', '126207': '1080.0', '104907': '48.0', '133297': '263.0', '105138': '1605.0', '134868': '215.0', '200615': '367.0', '104731': '4710.0', '106167': '115.0', '104932': '261.0', '106232': '181.0', '106233': '4095.0', '106283': '216.0', '106106': '9.0', '105935': '5.0', '106391': '1.0', '106071': '655.0', '138846': '1.0', '104947': '7.0', '111761': '7.0', '104269': '1410.0', '126502': '2.0', '124116': '285.0', '100644': '6385.0', '105497': '152.0', '106252': '3.0', '104534': '205.0', '202382': '1.0', '144645': '238.0', '104797': '622.0', '200611': '142.0', '126203': '974.0', '104547': '300.0', '127570': '0', '105870': '355.0', '207421': '0', '104655': '630.0', '105515': '28.0', '105064': '222.0', '105062': '935.0', '104467': '20.0', '144895': '372.0', '200484': '246.0', '103499': '1.0', '105341': '573.0', '106216': '421.0', '105379': '780.0', '200250': '14.0', '105299': '35.0', '105041': '514.0', '202358': '13.0', '124022': '9.0', '126523': '153.0', '111202': '1585.0', '105899': '106.0', '200045': '1.0', '105671': '159.0', '105023': '955.0', '106423': '367.0', '207836': '3.0', '106148': '714.0', '111192': '135.0', '105613': '189.0'}\n"
     ]
    }
   ],
   "source": [
    "print(data.dtypes)\n",
    "#print(G.edges.data(\"weight\"))\n",
    "print(nx.get_node_attributes(G, \"name\"))\n",
    "print(nx.get_node_attributes(G, \"country\"))\n",
    "print(nx.get_node_attributes(G, \"points\"))\n",
    "\n",
    "output_path = \"models/undirected_graph_2018.gml\"\n",
    "\n",
    "nx.write_gml(G, output_path)\n"
   ]
  },
  {
   "cell_type": "markdown",
   "metadata": {},
   "source": [
    "1.pitanje Koliki je prosecan broj tenisera(saigraca) po svakom teniseru? \n",
    "gephi->ucitala graf, Statistics -> Network Overview -> Average Degree\n",
    "\n",
    "<img src=\"img/1.pitanje_average_degree\" width=500 height=500 />"
   ]
  },
  {
   "cell_type": "code",
   "execution_count": 14,
   "metadata": {},
   "outputs": [
    {
     "name": "stdout",
     "output_type": "stream",
     "text": [
      "('104926', 61)\n",
      "Fabio Fognini\n"
     ]
    }
   ],
   "source": [
    "#2.pitanje Koji teniseri su se susretali sa najvecim brojem drugih tenisera\n",
    "my_degrees = dict(G.degree()) #dictionary key:value\n",
    "degree_values = [v for k, v in G.degree()]\n",
    "\n",
    "print(max(my_degrees.items(), key= lambda x: x[1])) #max u tom dict \n",
    "\n",
    "print(nx.get_node_attributes(G, 'name')['104926']) #atribut name za cvor ciji je index rezultat prethodnog upita"
   ]
  },
  {
   "cell_type": "code",
   "execution_count": 15,
   "metadata": {},
   "outputs": [
    {
     "name": "stdout",
     "output_type": "stream",
     "text": [
      "      player_id                      tourney_id\n",
      "0        105992                       2018-M020\n",
      "1        111577                       2018-M020\n",
      "2        104797                       2018-M020\n",
      "3        200282                       2018-M020\n",
      "4        111581                       2018-M020\n",
      "...         ...                             ...\n",
      "2877     105227                       2018-0605\n",
      "2878     100644                       2018-0605\n",
      "2880     104925                       2018-0605\n",
      "2886     106432  2018-M-DC-2018-WG-M-FRA-CRO-01\n",
      "2887     105227  2018-M-DC-2018-WG-M-FRA-CRO-01\n",
      "\n",
      "[1587 rows x 2 columns]\n",
      "      player_id                      tourney_id\n",
      "0        104919                       2018-M020\n",
      "1        111442                       2018-M020\n",
      "2        106000                       2018-M020\n",
      "3        105449                       2018-M020\n",
      "4        105643                       2018-M020\n",
      "...         ...                             ...\n",
      "2882     100644                       2018-0605\n",
      "2885     104925                       2018-0605\n",
      "2886     104871  2018-M-DC-2018-WG-M-FRA-CRO-01\n",
      "2887     104542  2018-M-DC-2018-WG-M-FRA-CRO-01\n",
      "2888     106298  2018-M-DC-2018-WG-M-FRA-CRO-01\n",
      "\n",
      "[2847 rows x 2 columns]\n",
      "      player_id                      tourney_id\n",
      "0        105992                       2018-M020\n",
      "1        111577                       2018-M020\n",
      "2        104797                       2018-M020\n",
      "3        200282                       2018-M020\n",
      "4        111581                       2018-M020\n",
      "...         ...                             ...\n",
      "4429     100644                       2018-0605\n",
      "4430     104925                       2018-0605\n",
      "4431     104871  2018-M-DC-2018-WG-M-FRA-CRO-01\n",
      "4432     104542  2018-M-DC-2018-WG-M-FRA-CRO-01\n",
      "4433     106298  2018-M-DC-2018-WG-M-FRA-CRO-01\n",
      "\n",
      "[4434 rows x 2 columns]\n",
      "      player_id                      tourney_id\n",
      "0        105992                       2018-M020\n",
      "1        111577                       2018-M020\n",
      "2        104797                       2018-M020\n",
      "3        200282                       2018-M020\n",
      "4        111581                       2018-M020\n",
      "...         ...                             ...\n",
      "4416     132482                       2018-7696\n",
      "4427     104545                       2018-0605\n",
      "4431     104871  2018-M-DC-2018-WG-M-FRA-CRO-01\n",
      "4432     104542  2018-M-DC-2018-WG-M-FRA-CRO-01\n",
      "4433     106298  2018-M-DC-2018-WG-M-FRA-CRO-01\n",
      "\n",
      "[3048 rows x 2 columns]\n",
      "           tourney_id\n",
      "player_id            \n",
      "100644             23\n",
      "103333             16\n",
      "103499              2\n",
      "103529              2\n",
      "103565              2\n",
      "...               ...\n",
      "207971              1\n",
      "207972              1\n",
      "207973              1\n",
      "208028              1\n",
      "208029              1\n",
      "\n",
      "[419 rows x 1 columns]\n",
      "Alexander Zverev\n",
      "Ivo Karlovic\n"
     ]
    }
   ],
   "source": [
    "#3.pitanje Koji teniseri su ucestvovali na najvecem broju (razlicih) turnira?\n",
    "winner_tourney_columns = ['winner_id', 'tourney_id']\n",
    "loser_tourney_columns = ['loser_id', 'tourney_id']\n",
    "\n",
    "dataWinner_tourney = data[winner_tourney_columns].drop_duplicates()\n",
    "dataWinner_tourney = dataWinner_tourney.rename(columns = {'winner_id': 'player_id'})\n",
    "print(dataWinner_tourney)\n",
    "\n",
    "dataLoser_tourney = data[loser_tourney_columns].drop_duplicates()\n",
    "dataLoser_tourney = dataLoser_tourney.rename(columns = {'loser_id': 'player_id'})\n",
    "print(dataLoser_tourney)\n",
    "\n",
    "#unija pobednika i gubitnika sa preimenovanom kolonom player_id, zbog konkatenacije\n",
    "dataWinnerAndLoserUnion = pd.concat([dataWinner_tourney, dataLoser_tourney], ignore_index=True)\n",
    "print(dataWinnerAndLoserUnion)\n",
    "\n",
    "#izbaci duplikate\n",
    "dataWinnerAndLoserUnion = dataWinnerAndLoserUnion.drop_duplicates()\n",
    "print(dataWinnerAndLoserUnion)\n",
    "\n",
    "#grupisi po player_id pa izdvoj po sumi\n",
    "dataWinnerAndLoserUnion = dataWinnerAndLoserUnion.groupby('player_id').count()\n",
    "print(dataWinnerAndLoserUnion)\n",
    "\n",
    "\n",
    "print(nx.get_node_attributes(G, 'name')['100644'])\n",
    "print(nx.get_node_attributes(G, 'name')['103333'])\n",
    "\n",
    "#proveri presek, datawinner.drop_duplicates, dataloser.drop_dupicates pa onda preimenuj kolone u id, unija pa onda drop_duplicates, pa group_by pa count pa onda uzmes resenje\n"
   ]
  },
  {
   "cell_type": "code",
   "execution_count": 16,
   "metadata": {},
   "outputs": [
    {
     "name": "stdout",
     "output_type": "stream",
     "text": [
      "[('104926', 0.14593301435406697), ('106233', 0.13157894736842105), ('126774', 0.12679425837320574), ('100644', 0.12440191387559808), ('104755', 0.12200956937799043)]\n"
     ]
    }
   ],
   "source": [
    "#4.pitanje Koji teniseri su dobri kandidati za predstavnike profesionalnih tenisera? Da li se i sta se menja ukoliko se umesto jednog bira skup od nekoliko predstavnika? Dobar predstavnik ili predstavnici bi trebalo da budu u kontaktu sa sto vecim skupom tenisera\n",
    "\n",
    "#proveriti ovaj 2.deo na sta se odnosi????\n",
    "#mere centralnosti koristim Degree centrality, vise u kontaktu sa drugim teniserima teze da budu predstavnici\n",
    "import operator\n",
    "dictionary = dict(nx.degree_centrality(G))\n",
    "print(sorted(dictionary.items(), key=operator.itemgetter(1), reverse=True)[:5])"
   ]
  },
  {
   "cell_type": "code",
   "execution_count": 17,
   "metadata": {},
   "outputs": [
    {
     "name": "stdout",
     "output_type": "stream",
     "text": [
      "Fabio Fognini\n",
      "Dominic Thiem\n",
      "Stefanos Tsitsipas\n",
      "Alexander Zverev\n",
      "Richard Gasquet\n"
     ]
    }
   ],
   "source": [
    "print(nx.get_node_attributes(G, 'name')['104926'])\n",
    "print(nx.get_node_attributes(G, 'name')['106233'])\n",
    "print(nx.get_node_attributes(G, 'name')['126774'])\n",
    "print(nx.get_node_attributes(G, 'name')['100644'])\n",
    "print(nx.get_node_attributes(G, 'name')['104755'])"
   ]
  },
  {
   "cell_type": "markdown",
   "metadata": {},
   "source": [
    "5) Kako su rangirani na ATP listi teniseri koji su se susretali sa najvećim brojem drugih tenisera?\n",
    "\n",
    "Rang prvih 10 tenisera koji su se susreli sa najvecim brojem drugih tenisera."
   ]
  },
  {
   "cell_type": "code",
   "execution_count": 83,
   "metadata": {},
   "outputs": [
    {
     "name": "stdout",
     "output_type": "stream",
     "text": [
      "dict_keys(['104926', '106233', '126774', '100644', '104755', '104468', '133430', '106421', '105311', '111575'])\n",
      "Fabio Fognini 13\n",
      "Dominic Thiem 8\n",
      "Stefanos Tsitsipas 15\n",
      "Alexander Zverev 4\n",
      "Richard Gasquet 26\n",
      "Gilles Simon 30\n",
      "Denis Shapovalov 27\n",
      "Daniil Medvedev 16\n",
      "Joao Sousa 44\n",
      "Karen Khachanov 11\n"
     ]
    }
   ],
   "source": [
    "sorted_dict =dict(sorted(dictionary.items(), key=operator.itemgetter(1), reverse=True)[:10]) \n",
    "for key in sorted_dict:\n",
    "    print(nx.get_node_attributes(G, 'name')[key], nx.get_node_attributes(G, 'rank')[key])\n",
    "    \n"
   ]
  },
  {
   "cell_type": "markdown",
   "metadata": {},
   "source": [
    "6) Iz kojih zemalja dolazi najveći broj aktivnih igrača u proteklom periodu?\n",
    "\n",
    "Prvo kreiramo masku koja ce da selektuje sve igrace koji su u skupu igraca koji su igrali mec u 2018\n",
    "Potom dobijen rezultat grupisemo po drzavi i sortiramo zatim\n",
    "Najaktivniji su iz SAD, Francuske, Spanije, Nemacke, Italije\n",
    "Srbija na 9 mestu sa Rusijom i Kanadom sa 7 aktivnih igraca"
   ]
  },
  {
   "cell_type": "code",
   "execution_count": 18,
   "metadata": {},
   "outputs": [
    {
     "name": "stdout",
     "output_type": "stream",
     "text": [
      "country_code\n",
      "USA    34\n",
      "FRA    25\n",
      "ESP    24\n",
      "GER    18\n",
      "ITA    17\n",
      "ARG    15\n",
      "AUS    14\n",
      "AUT     8\n",
      "RUS     7\n",
      "CAN     7\n",
      "SRB     7\n",
      "GBR     6\n",
      "CZE     6\n",
      "CRO     6\n",
      "ROU     6\n",
      "SVK     6\n",
      "SUI     6\n",
      "BRA     6\n",
      "TPE     6\n",
      "IND     6\n",
      "Name: country_code, dtype: int64\n"
     ]
    }
   ],
   "source": [
    "maska_active_players = players_data['player_id'].isin(skup_id) \n",
    "active_players_2018 = players_data[maska_active_players]\n",
    "data_grupisano = active_players_2018[['player_id', 'country_code']].groupby('country_code')\n",
    "data_agregirano = data_grupisano['country_code'].agg(np.size)\n",
    "\n",
    "print(data_agregirano.sort_values(ascending=False).head(20))"
   ]
  },
  {
   "cell_type": "markdown",
   "metadata": {},
   "source": [
    "7) Iz kojih zemalja dolaze najuspešniji igrači u smislu osvojenih poena na ATP listi?\n",
    "\n",
    "Najuspesniji igraci u 2018 su iz Srbije, Spanije, Svajcarske, Nemacke, Aegentine..\n",
    "\n",
    "U prvih 30 najvise ima tenisera iz Spanije i Francuske, Srbija se nalazi na 4 mestu po broju tenisera u prvih 30\n"
   ]
  },
  {
   "cell_type": "code",
   "execution_count": 55,
   "metadata": {},
   "outputs": [
    {
     "name": "stdout",
     "output_type": "stream",
     "text": [
      "Prvih 30 tenisera na svetu su dati u sledecoj listi\n",
      "   winner_ioc            winner_name  points\n",
      "0         SRB         Novak Djokovic  9045.0\n",
      "1         ESP           Rafael Nadal  7480.0\n",
      "2         SUI          Roger Federer  6420.0\n",
      "3         GER       Alexander Zverev  6385.0\n",
      "4         ARG  Juan Martin del Potro  5300.0\n",
      "5         RSA         Kevin Anderson  4710.0\n",
      "6         CRO            Marin Cilic  4250.0\n",
      "7         AUT          Dominic Thiem  4095.0\n",
      "8         JPN          Kei Nishikori  3590.0\n",
      "9         USA             John Isner  3155.0\n",
      "10        RUS        Karen Khachanov  2835.0\n",
      "11        CRO            Borna Coric  2480.0\n",
      "12        ITA          Fabio Fognini  2315.0\n",
      "13        GBR            Kyle Edmund  2150.0\n",
      "14        GRE     Stefanos Tsitsipas  2095.0\n",
      "15        RUS        Daniil Medvedev  1977.0\n",
      "16        ARG      Diego Schwartzman  1880.0\n",
      "17        CAN           Milos Raonic  1855.0\n",
      "18        BUL        Grigor Dimitrov  1835.0\n",
      "19        ITA       Marco Cecchinato  1819.0\n",
      "20        GEO   Nikoloz Basilashvili  1795.0\n",
      "21        BEL           David Goffin  1785.0\n",
      "22        ESP    Pablo Carreno Busta  1705.0\n",
      "23        ESP  Roberto Bautista Agut  1605.0\n",
      "24        KOR            Hyeon Chung  1585.0\n",
      "25        FRA        Richard Gasquet  1535.0\n",
      "26        CAN       Denis Shapovalov  1440.0\n",
      "27        ESP      Fernando Verdasco  1410.0\n",
      "28        FRA           Gael Monfils  1400.0\n",
      "29        FRA           Gilles Simon  1370.0\n",
      "Grupisani po drzavama iz kojih dolaze imamo sledeci skup:\n",
      "winner_ioc\n",
      "ESP    4\n",
      "FRA    3\n",
      "ARG    2\n",
      "RUS    2\n",
      "CAN    2\n",
      "ITA    2\n",
      "CRO    2\n",
      "GBR    1\n",
      "AUT    1\n",
      "BEL    1\n",
      "BUL    1\n",
      "USA    1\n",
      "SUI    1\n",
      "GER    1\n",
      "GRE    1\n",
      "JPN    1\n",
      "KOR    1\n",
      "RSA    1\n",
      "SRB    1\n",
      "GEO    1\n",
      "Name: winner_ioc, dtype: int64\n"
     ]
    }
   ],
   "source": [
    "sorted_success_players = player_sorted_date_rank_2018.sort_values('points',ascending=False).head(30)\n",
    "data_needed_columns = data[['winner_id', 'winner_ioc', 'winner_name']].drop_duplicates();\n",
    "\n",
    "\n",
    "merged_inner_data_players = pd.merge(left=sorted_success_players, right=data_needed_columns, left_on='player', right_on='winner_id')\n",
    "print(\"Prvih 30 tenisera na svetu su dati u sledecoj listi\")\n",
    "print(merged_inner_data_players[['winner_ioc', 'winner_name', 'points']])\n",
    "\n",
    "data_grupisano = merged_inner_data_players[['winner_id', 'winner_ioc']].groupby('winner_ioc')\n",
    "data_agregirano = data_grupisano['winner_ioc'].agg(np.size)\n",
    "\n",
    "print(\"Grupisani po drzavama iz kojih dolaze imamo sledeci skup:\")\n",
    "print(data_agregirano.sort_values(ascending=False).head(30))"
   ]
  },
  {
   "cell_type": "markdown",
   "metadata": {},
   "source": [
    "Analiza komuna\n",
    "\n",
    "U realnim mrezama mogu se uociti gusce povezani delovi mreze, odredjeni broj aktera bolje povezani nego sa ostalim clanovima mreze -> grupe ili zajednica. Mogu biti odvojene ili delimicno se preklapati.\n",
    "\n",
    "Modularnost je mera kvaliteta particionisanja cvorova mreze u odgovarajuce klastere.\n",
    "\n",
    "1. implementiracemo bottom-up pristup -> Louvain metod\n",
    "2. primenicemo metriku modularnosti i analizu u Gephi alatu da bismo analizirali izdvojene komune/klastere i prikazali ih"
   ]
  },
  {
   "cell_type": "code",
   "execution_count": null,
   "metadata": {},
   "outputs": [],
   "source": [
    "import sys\n",
    "!{sys.executable} -m pip install python-louvain\n",
    "import community as community_louvain\n",
    "import matplotlib.pyplot as plt\n",
    "import matplotlib.cm as cm\n",
    "partition = community_louvain.best_partition(G)\n",
    "\n",
    "print(partition)\n",
    "\n",
    "#vizuelno\n",
    "pos = nx.spring_layout(G)\n",
    "cmap = cm.get_cmap('viridis', max(partition.values()) + 1)\n",
    "nx.draw_networkx_nodes(G, pos, partition.keys(), node_size=200, cmap=cmap, node_color=list(partition.values()))\n",
    "nx.draw_networkx_edges(G, pos, alpha=1)\n",
    "plt.show()\n"
   ]
  },
  {
   "cell_type": "markdown",
   "metadata": {},
   "source": [
    "Gephi alat i analiza izdvojenih komuna primenom analize modularnosti\n",
    "\n",
    "\n",
    "<img src=\"img/modularity_analysis.png\" width=1000 height=1000 />\n",
    "\n",
    "Po opadajucim vrednostima 5 komuna sa najvecom modularnoscu: \n",
    "\n",
    "<img src=\"img/top5ValueModularityClass.png\" width=1000 height=1000 />\n",
    "\n",
    "Uoceno je da mreze sa vecom modularnoscu podeljene na klastere koji su, unutar sebe, gusto povezani. Ovakve mreze po definiciji, ali i sto se da videti sa prilozenih slika, nemaju veliki broj veza sa ostatkom mreze.\n",
    "\n",
    "#TODO objasnjenje za detektovane komune, analiziraj tenisere, da li postoji veza izmedju njih i zasto su oni bas bolje povezani.\n",
    "\n"
   ]
  },
  {
   "cell_type": "markdown",
   "metadata": {},
   "source": [
    "10. Sprovesti analizu klasterisanja i asortativnu analizu, pa uporediti grupisanje na osnovu zemlje iz koje igrači dolaze, na osnovu broja mečeva koje igraju i na osnovu rejtinga\n",
    "\n",
    "\n",
    "Lokalni koeficijent klasterizacije se računa kao gustina mreže koju čine posmatrani čvor, njegovi susedi i njihove međusobne veze\n",
    "\n",
    "Stepen klasterizacije kompletne mreže se računa na osnovu proseka pojedinačnih čvorova\n",
    "\n",
    "\n",
    "Globalni koeficijent klasterizacije (alternativa)- Posmatra zatvorene trijade unutar mreze u odnosu na sve moguće povezane trijade"
   ]
  },
  {
   "cell_type": "code",
   "execution_count": null,
   "metadata": {
    "scrolled": true
   },
   "outputs": [],
   "source": [
    "player_id, clustering_coef = zip(*nx.clustering(G, weight = \"weight\").items())\n",
    "\n",
    "nenula = [(id_ig, cc)  for id_ig, cc in zip(player_id, clustering_coef) if cc > 0]\n",
    "\n",
    "df = pd.DataFrame(nenula, columns = [\"id\", \"cc\"])\n",
    "df.sort_values('cc', inplace = True)\n",
    "\n",
    "max_lokalni_stepen_klasterisanja = max(clustering_coef)\n",
    "\n",
    "prosecni_stepen_klasterisanja = nx.average_clustering(G)\n",
    "\n",
    "print(f\"Max lokalni cc: {max_lokalni_stepen_klasterisanja}\")\n",
    "print(f\"Prosečan cc: {prosecni_stepen_klasterisanja}\")\n",
    "print(\"Lokalni stepeni klasterisanja koji nisu nula:\")\n",
    "print(df)\n",
    "print(nx.get_node_attributes(G, 'name')['100644'])\n",
    "print(len(nx.triangles(G).items()))\n",
    "newDict = dict(filter(lambda elem: elem[1] > 0,nx.triangles(G).items()))\n",
    "print(len(newDict))\n",
    "v=list(newDict.values())\n",
    "k=list(newDict.keys())\n",
    "print(k[v.index(max(v))]) \n",
    "\n",
    "transitivity = nx.transitivity(G)\n",
    "print(f\"Tranzitivnost {transitivity}\")"
   ]
  },
  {
   "cell_type": "code",
   "execution_count": null,
   "metadata": {},
   "outputs": [],
   "source": [
    "# možemo iskoristiti networkx.draw_network da predstavimo egomrežu tog čvora\n",
    "ego_mreza = nx.ego_graph(G, '104672')\n",
    "plt.figure(figsize=(15,10))\n",
    "tezine_grana = nx.get_edge_attributes(ego_mreza,'weight')\n",
    "pos = nx.circular_layout(ego_mreza)\n",
    "#pos = nx.spring_layout(ego_mreza)\n",
    "#print(pos)\n",
    "nx.draw_networkx(ego_mreza, pos)\n",
    "nx.draw_networkx_edge_labels(ego_mreza, pos, edge_labels = tezine_grana)"
   ]
  },
  {
   "cell_type": "markdown",
   "metadata": {},
   "source": [
    "Asortativnost:\n",
    "Homofilija - tendencija ljudi da stvaraju veze sa sebi slicnim ljudima\n",
    "U analizi socijalnih mreze homofilija u formi asortativnosti - cvorovi imaju tendenciju da se povezuju sa cvorovima slicnog stepena"
   ]
  },
  {
   "cell_type": "code",
   "execution_count": null,
   "metadata": {},
   "outputs": [],
   "source": [
    "# asortativnost na osnovu netežinskog stepena čvora\n",
    "r1 = nx.degree_assortativity_coefficient(G)\n",
    "print(f\"Koeficijent asortativnosti na osnovu netežinskog stepena čvora: {r1}\")\n",
    "\n",
    "# asortativnost na osnovu težinskog stepena čvora\n",
    "r2 = nx.degree_assortativity_coefficient(G, weight='weight')\n",
    "print(f\"Koeficijent asortativnosti na osnovu težinskog stepena čvora: {r2}\")"
   ]
  },
  {
   "cell_type": "code",
   "execution_count": null,
   "metadata": {},
   "outputs": [],
   "source": [
    "#12 Koji teniseri predstavljaju jezgro mreze?\n",
    "core_number = nx.core_number(G)\n",
    "print(core_number)#dict\n",
    "\n",
    "max_core_number = max(core_number.values()) #max value u dict\n",
    "print(max_core_number)\n",
    "\n",
    "core = nx.k_core(G, max_core_number)\n",
    "for player_id in core:\n",
    "    print(player_id)\n",
    "    print(nx.get_node_attributes(G, 'name')[player_id])"
   ]
  },
  {
   "cell_type": "code",
   "execution_count": null,
   "metadata": {},
   "outputs": [],
   "source": [
    "#13 Ko su teniseri koji povezuju razlicite grupe u okviru mreze -> pronalazimo bridgeve u ovkviru mreze grane koje povezuju razlicite grupe u okviru mreze\n",
    "bridges = nx.bridges(G)\n",
    "list(bridges)"
   ]
  },
  {
   "cell_type": "markdown",
   "metadata": {},
   "source": [
    "14. Kolika je gustina svake od modelovanih mreza? \n",
    "Gustina mreza moze se odrediti iz Gephi alata (Statistics -> Graph density) \n",
    "Racuna se za neusmerene grafove kao d = (2m)/n(n-1)\n",
    "m -> broj grana\n",
    "n -> broj cvorova\n",
    "\n",
    "Rezultat:\n",
    "<img src=\"img/graph_density.png\" width=1000 height=1000 />"
   ]
  },
  {
   "cell_type": "code",
   "execution_count": null,
   "metadata": {},
   "outputs": [],
   "source": [
    "#koristeci python i networkx\n",
    "density = nx.density(G)\n",
    "print(f\"Gustina mreze koristeci biblioteku network x je: {density}\")\n"
   ]
  },
  {
   "cell_type": "code",
   "execution_count": null,
   "metadata": {
    "scrolled": true
   },
   "outputs": [],
   "source": [
    "#15 U kojoj mrezi povezane i centralizovane mreze\n",
    "#izracunacemo degree_centrality, closeness_centrality, information_centrality, betweenes_centrality i opisacemo znacenje tih vrednosti\n",
    "DC = nx.degree_centrality(G)\n",
    "import operator\n",
    "print(sorted(DC.items(), key=operator.itemgetter(1), reverse=True)[:5])\n",
    "#vazni cvorovi imaju veliki broj konekcija; broj direktnih suseda svakog cvora u mrezi\n",
    "#akteri u mrezi sa vecim brojem relacija manje zavisni u odnosu na druge aktere\n",
    "\n",
    "CC = nx.closeness_centrality(G)\n",
    "print(sorted(CC.items(), key=operator.itemgetter(1), reverse=True)[:5])\n",
    "#vazni cvorovi su blizi drugim cvorovima, vazniji cvorovi centralniji polozaj u mrezi\n",
    "\n",
    "BC = nx.betweenness_centrality(G)\n",
    "print(sorted(BC.items(), key=operator.itemgetter(1), reverse=True)[:5])\n",
    "#vazni cvorovi povezuju druge cvorove, mostovi posrednici izmedju ostalih cvorova u mrezi\n",
    "#vazni cvorovi se nalaze na vecem broju najkracih putanja\n",
    "\n",
    "#check if graph is connected\n",
    "print(nx.is_connected(G))\n",
    "\n",
    "#graf nije povezan ne moze se izracunati information_centrality\n",
    "#nije povezan postoji grupa ljudi koji nisu igrali jedni sa drugima"
   ]
  },
  {
   "cell_type": "markdown",
   "metadata": {},
   "source": [
    "#habovi su vezani za degree_centrality i susedima onim sa najvecim vrednostima ove metrike iscrtati u gephiju videti TODO\n",
    "\n",
    "#16 Koje su prosecne distance, a koliki dijametar u okviru modelovanih mreza? \n",
    "Average Path length: 3.1371012285965936\n",
    "Diameter: 11"
   ]
  },
  {
   "cell_type": "markdown",
   "metadata": {},
   "source": [
    "19. Da li mreza iskazuje osobine malog sveta?\n",
    "iz gephija citanje prosecne udaljenosti cvorova i prema koeficijentu klasterizacije\n",
    "\n",
    "Mreza iskazuje osobine malog sveta ukoliko je prosecna udaljenost bilo koja 2 cvora mala u odnosu na velicinu mreze\n",
    "Ima visok stepen klasterizacije -> vrednost stepena u 10.pitanju ??proveriti da li je to nizak ili visok stepen klasterizacije\n",
    "\n",
    "<img src=\"img/shortest_path.png\" width=1000 height=1000 />"
   ]
  },
  {
   "cell_type": "code",
   "execution_count": null,
   "metadata": {},
   "outputs": [],
   "source": [
    "#20. Ego mreze i osobine\n",
    "#Novak Djokovic 104925\n",
    "Novak_ego = nx.ego_graph(G, '104925', undirected=True)\n",
    "Novak_ego.name = \"novak\"\n",
    "print(nx.info(Novak_ego))\n",
    "\n",
    "#Roger Federer 103819\n",
    "Roger_ego = nx.ego_graph(G, '103819', undirected=True)\n",
    "Roger_ego.name = \"roger\"\n",
    "print(nx.info(Roger_ego))\n",
    "\n",
    "#Rafael Nadal 104745\n",
    "Nadal_ego = nx.ego_graph(G, '104745', undirected=True)\n",
    "Nadal_ego.name = \"nadal\"\n",
    "print(nx.info(Nadal_ego))\n",
    "\n",
    "#sacuvaj u odredjenom formatu\n",
    "nx.write_gexf(Novak_ego, \"models/djokovic_2018.gexf\")\n",
    "nx.write_gexf(Roger_ego, \"models/federer_2018.gexf\")\n",
    "nx.write_gexf(Nadal_ego, \"models/nadal_2018.gexf\")\n",
    "\n",
    "#analizirati poziciju ego cvora unutar svake od ego mreza TODO(plt.show())\n",
    "#analizirati ugradjenost svake od ego mreza unutar celokupne mreze (TODO)\n",
    "#Unifikacija ego mreza (koliki procenat ucestvuje u njoj). Sprovesti klasterisanje na 3 klastera i na osnovu dobijenih rezultata\n",
    "#dati interpretaciju kriterijuma pripadnosti klasterima\n",
    "\n"
   ]
  },
  {
   "cell_type": "markdown",
   "metadata": {},
   "source": [
    "Analiza ugradjenosti svake od ego mreza unutar celokupne mreze (uradjena je u Gephi alatu primenom odgovarajuceg filtera i odgovarajuceg layout-a prikaza za svaki od navedenih cvorova -> unese se id cvora za koji hocemo da prikazemo ego mrezu i primenom odgovarajuceg filtra i nacina prikaza prikaze se jasno definisana struktura ego mreze i njena ugradjenost u celokupnu mrezu) \n",
    "\n",
    "Novak Djokovic\n",
    "\n",
    "<img src=\"img/graph_ego_djokovic.png\" width=1000 height=1000 />\n",
    "\n",
    "Rafael Nadal\n",
    "\n",
    "<img src=\"img/graph_ego_nadal.png\" width=1000 height=1000 />\n",
    "\n",
    "Roger Federer\n",
    "\n",
    "<img src=\"img/graph_ego_roger.png\" width=1000 height=1000 />\n",
    "\n",
    "\n",
    "\n",
    "Analiza pozicije svakog ego cvora u okviru sopstvene ego mreze\n",
    "\n",
    "Novak Djokovic\n",
    "\n",
    "<img src=\"img/novak_djokovic_node.png\" width=1000 height=1000 />\n",
    "\n",
    "Rafael Nadal\n",
    "\n",
    "<img src=\"img/rafael_nadal_node.png\" width=1000 height=1000 />\n",
    "\n",
    "Roger Federer\n",
    "\n",
    "<img src=\"img/roger_federer_node1.png\" width=1000 height=1000 />\n",
    "\n"
   ]
  }
 ],
 "metadata": {
  "kernelspec": {
   "display_name": "Python 3",
   "language": "python",
   "name": "python3"
  },
  "language_info": {
   "codemirror_mode": {
    "name": "ipython",
    "version": 3
   },
   "file_extension": ".py",
   "mimetype": "text/x-python",
   "name": "python",
   "nbconvert_exporter": "python",
   "pygments_lexer": "ipython3",
   "version": "3.8.5"
  }
 },
 "nbformat": 4,
 "nbformat_minor": 4
}
