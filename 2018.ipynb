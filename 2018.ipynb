{
 "cells": [
  {
   "cell_type": "markdown",
   "metadata": {},
   "source": [
    "# Projekat iz predmeta analiza socijalnih mreza\n",
    "\n",
    "\n",
    "## Kvantitativna i kvalitativna Analiza stanja profesionalnog muškog tenisa u periodu od 2018. do 2020. godine\n",
    "\n",
    "\n",
    "Ucitavanje podataka\n"
   ]
  },
  {
   "cell_type": "code",
   "execution_count": 1,
   "metadata": {
    "scrolled": true
   },
   "outputs": [
    {
     "data": {
      "text/plain": [
       "ranking_date    False\n",
       "rank            False\n",
       "player          False\n",
       "points           True\n",
       "dtype: bool"
      ]
     },
     "execution_count": 1,
     "metadata": {},
     "output_type": "execute_result"
    }
   ],
   "source": [
    "import pandas as pd\n",
    "\n",
    "dataPath = \"data/atp_matches_2018.csv\"\n",
    "\n",
    "players_dataPath = \"data/atp_players.csv\"\n",
    "\n",
    "player_atp_rankings_dataPath = \"data/atp_rankings_10s.csv\"\n",
    "\n",
    "data = pd.read_csv(dataPath) \n",
    "#print(data.columns)\n",
    "data.isna().any()\n",
    "\n",
    "#players\n",
    "players_data = pd.read_csv(players_dataPath)\n",
    "#print(players_data)\n",
    "\n",
    "#atp ranking\n",
    "players_atp_rank_data = pd.read_csv(player_atp_rankings_dataPath)\n",
    "players_atp_rank_data.isna().any()\n",
    "#points null moze biti\n",
    "#print(players_atp_rank_data)"
   ]
  },
  {
   "cell_type": "code",
   "execution_count": 2,
   "metadata": {},
   "outputs": [
    {
     "name": "stdout",
     "output_type": "stream",
     "text": [
      "False\n",
      "False\n"
     ]
    }
   ],
   "source": [
    "#provera da li je match_num kolona koja moze da bude uzeta za id\n",
    "\n",
    "print(data['match_num'].isnull().values.any())\n",
    "print(data['match_num'].is_unique)"
   ]
  },
  {
   "cell_type": "code",
   "execution_count": 3,
   "metadata": {},
   "outputs": [
    {
     "name": "stdout",
     "output_type": "stream",
     "text": [
      "                          tourney_id                tourney_name surface  \\\n",
      "0                          2018-M020                    Brisbane    Hard   \n",
      "1                          2018-M020                    Brisbane    Hard   \n",
      "2                          2018-M020                    Brisbane    Hard   \n",
      "3                          2018-M020                    Brisbane    Hard   \n",
      "4                          2018-M020                    Brisbane    Hard   \n",
      "...                              ...                         ...     ...   \n",
      "2884                       2018-0605                 Tour Finals    Hard   \n",
      "2885                       2018-0605                 Tour Finals    Hard   \n",
      "2886  2018-M-DC-2018-WG-M-FRA-CRO-01  Davis Cup WG F: FRA vs CRO    Clay   \n",
      "2887  2018-M-DC-2018-WG-M-FRA-CRO-01  Davis Cup WG F: FRA vs CRO    Clay   \n",
      "2888  2018-M-DC-2018-WG-M-FRA-CRO-01  Davis Cup WG F: FRA vs CRO    Clay   \n",
      "\n",
      "      draw_size tourney_level  tourney_date  match_num  winner_id  \\\n",
      "0            32             A      20180101        271     105992   \n",
      "1            32             A      20180101        272     111577   \n",
      "2            32             A      20180101        273     104797   \n",
      "3            32             A      20180101        275     200282   \n",
      "4            32             A      20180101        276     111581   \n",
      "...         ...           ...           ...        ...        ...   \n",
      "2884          8             F      20181112        299     104925   \n",
      "2885          8             F      20181112        300     100644   \n",
      "2886          4             D      20181123          1     106432   \n",
      "2887          4             D      20181123          2     105227   \n",
      "2888          4             D      20181123          4     105227   \n",
      "\n",
      "      winner_seed winner_entry  ... l_1stWon l_2ndWon  l_SvGms l_bpSaved  \\\n",
      "0             NaN          NaN  ...     33.0     19.0     14.0       1.0   \n",
      "1             NaN          NaN  ...     25.0      7.0      9.0       7.0   \n",
      "2             NaN          NaN  ...     37.0     29.0     15.0      10.0   \n",
      "3             NaN           WC  ...     33.0     17.0     11.0       4.0   \n",
      "4             NaN            Q  ...     28.0      5.0      9.0       0.0   \n",
      "...           ...          ...  ...      ...      ...      ...       ...   \n",
      "2884          1.0          NaN  ...     23.0      7.0      8.0       5.0   \n",
      "2885          3.0          NaN  ...     25.0      8.0     10.0       2.0   \n",
      "2886          NaN          NaN  ...     43.0     18.0     15.0       9.0   \n",
      "2887          NaN          NaN  ...     39.0     18.0     15.0       1.0   \n",
      "2888          NaN          NaN  ...     43.0     21.0     15.0       9.0   \n",
      "\n",
      "      l_bpFaced  winner_rank  winner_rank_points loser_rank loser_rank_points  \\\n",
      "0           4.0         47.0              1010.0       52.0             909.0   \n",
      "1          11.0         54.0               890.0       94.0             593.0   \n",
      "2          16.0         63.0               809.0       30.0            1391.0   \n",
      "3           6.0        208.0               245.0       44.0            1055.0   \n",
      "4           2.0        175.0               299.0       68.0             755.0   \n",
      "...         ...          ...                 ...        ...               ...   \n",
      "2884        9.0          1.0              8045.0        6.0            4310.0   \n",
      "2885        6.0          5.0              5085.0        1.0            8045.0   \n",
      "2886       13.0         12.0              2480.0       40.0            1050.0   \n",
      "2887        4.0          7.0              4250.0      259.0             200.0   \n",
      "2888       12.0          7.0              4250.0       32.0            1245.0   \n",
      "\n",
      "        id  \n",
      "0        0  \n",
      "1        1  \n",
      "2        2  \n",
      "3        3  \n",
      "4        4  \n",
      "...    ...  \n",
      "2884  2884  \n",
      "2885  2885  \n",
      "2886  2886  \n",
      "2887  2887  \n",
      "2888  2888  \n",
      "\n",
      "[2889 rows x 50 columns]\n"
     ]
    }
   ],
   "source": [
    "#dodati automatski generisani id kao dodatnu kolonu\n",
    "data['id'] = data.index\n",
    "print(data)\n",
    "\n",
    "#sacuvati u novi fajl\n",
    "import pickle\n",
    "\n",
    "with open(\"data/data2018_cleaned.csv\", 'wb') as file:\n",
    "    pickle.dump(data, file)"
   ]
  },
  {
   "cell_type": "code",
   "execution_count": 4,
   "metadata": {},
   "outputs": [
    {
     "name": "stdout",
     "output_type": "stream",
     "text": [
      "<class 'pandas.core.series.Series'>\n",
      "match_num\n",
      "1      67\n",
      "2      67\n",
      "4      67\n",
      "5      35\n",
      "100     3\n",
      "       ..\n",
      "503     1\n",
      "504     1\n",
      "601     1\n",
      "602     1\n",
      "701     1\n",
      "Name: id, Length: 233, dtype: int64\n"
     ]
    }
   ],
   "source": [
    "import numpy as np\n",
    "\n",
    "# Selekcija samo kolona 'match_num' i 'id' i grupisanje po match_num\n",
    "data_grupisano = data[['match_num', 'id']].groupby('match_num')\n",
    "\n",
    "# agg() radi agregaciju, u ovom slučaju po broju elemenata u grupi\n",
    "data_agregirano = data_grupisano['id'].agg(np.size)\n",
    "print(type(data_agregirano))\n",
    "print(data_agregirano)"
   ]
  },
  {
   "cell_type": "code",
   "execution_count": 5,
   "metadata": {},
   "outputs": [
    {
     "name": "stdout",
     "output_type": "stream",
     "text": [
      "match_num\n",
      "1      67\n",
      "2      67\n",
      "4      67\n",
      "5      35\n",
      "100     3\n",
      "       ..\n",
      "296    64\n",
      "297    64\n",
      "298    64\n",
      "299    64\n",
      "300    64\n",
      "Name: id, Length: 200, dtype: int64\n"
     ]
    }
   ],
   "source": [
    "data_nonunique = data_agregirano[data_agregirano>1]\n",
    "print(data_nonunique)"
   ]
  },
  {
   "cell_type": "code",
   "execution_count": 6,
   "metadata": {},
   "outputs": [
    {
     "name": "stdout",
     "output_type": "stream",
     "text": [
      "match_num\n",
      "1    67\n",
      "2    67\n",
      "4    67\n",
      "Name: id, dtype: int64\n",
      "1\n"
     ]
    }
   ],
   "source": [
    "#naci max i index max broja ponovljenih\n",
    "trazeni = data_nonunique[data_nonunique == data_nonunique.max()]\n",
    "print(trazeni)\n",
    "target_match_num = trazeni.keys()[0]\n",
    "print(target_match_num)"
   ]
  },
  {
   "cell_type": "code",
   "execution_count": 7,
   "metadata": {
    "scrolled": false
   },
   "outputs": [
    {
     "name": "stdout",
     "output_type": "stream",
     "text": [
      "                     tourney_name  winner_id  loser_id  winner_rank  \\\n",
      "266   Davis Cup G1 R1: AUT vs BLR     105589    125802         98.0   \n",
      "270   Davis Cup G1 R1: CHI vs ECU     111797    105111         95.0   \n",
      "273   Davis Cup G1 R1: CHN vs NZL     104907    105842        308.0   \n",
      "276   Davis Cup G1 R1: COL vs BAR     123755    104656        292.0   \n",
      "279   Davis Cup G1 R1: DOM vs BRA     105497    106252        284.0   \n",
      "...                           ...        ...       ...          ...   \n",
      "2425  Davis Cup WG SF: FRA vs ESP     105332    105807         54.0   \n",
      "2429  Davis Cup G2 R3: ROU vs POL     105657    111794         81.0   \n",
      "2433  Davis Cup G2 R3: THA vs LBN     200273    106397        643.0   \n",
      "2437  Davis Cup G2 R3: URU vs MEX     104655    106250         68.0   \n",
      "2886   Davis Cup WG F: FRA vs CRO     106432    104871         12.0   \n",
      "\n",
      "      loser_rank  \n",
      "266        190.0  \n",
      "270        597.0  \n",
      "273        253.0  \n",
      "276          NaN  \n",
      "279        365.0  \n",
      "...          ...  \n",
      "2425        21.0  \n",
      "2429       187.0  \n",
      "2433       453.0  \n",
      "2437       762.0  \n",
      "2886        40.0  \n",
      "\n",
      "[67 rows x 5 columns]\n",
      "                             tourney_id                 tourney_name surface  \\\n",
      "276   2018-M-DC-2018-G1-AM-M-COL-BAR-01  Davis Cup G1 R1: COL vs BAR    Hard   \n",
      "283   2018-M-DC-2018-G1-AO-M-KOR-PAK-01  Davis Cup G1 R1: KOR vs PAK   Grass   \n",
      "327   2018-M-DC-2018-G2-AM-M-ESA-URU-01  Davis Cup G2 R1: ESA vs URU    Hard   \n",
      "348   2018-M-DC-2018-G2-AO-M-PHI-INA-01  Davis Cup G2 R1: PHI vs INA    Hard   \n",
      "352   2018-M-DC-2018-G2-AM-M-PUR-MEX-01  Davis Cup G2 R1: PUR vs MEX    Hard   \n",
      "356  2018-M-DC-2018-G2-EPA-M-ROU-LUX-01  Davis Cup G2 R1: ROU vs LUX    Hard   \n",
      "934   2018-M-DC-2018-G1-AO-M-PAK-UZB-01  Davis Cup G1 R2: PAK vs UZB   Grass   \n",
      "\n",
      "     draw_size tourney_level  tourney_date  match_num  winner_id  winner_seed  \\\n",
      "276          4             D      20180202          1     123755          NaN   \n",
      "283          4             D      20180202          1     103529          NaN   \n",
      "327          4             D      20180203          1     104655          NaN   \n",
      "348          4             D      20180203          1     202165          NaN   \n",
      "352          4             D      20180203          1     105688          NaN   \n",
      "356          4             D      20180203          1     111167          NaN   \n",
      "934          4             D      20180406          1     104797          NaN   \n",
      "\n",
      "    winner_entry  ... l_1stWon l_2ndWon  l_SvGms l_bpSaved  l_bpFaced  \\\n",
      "276          NaN  ...     14.0     10.0      8.0       1.0        5.0   \n",
      "283          NaN  ...     35.0     22.0     14.0       0.0        2.0   \n",
      "327          NaN  ...     26.0      8.0      8.0       4.0        8.0   \n",
      "348          NaN  ...     25.0      4.0      8.0       2.0        6.0   \n",
      "352          NaN  ...     35.0      8.0     11.0       3.0        7.0   \n",
      "356          NaN  ...     41.0     18.0     14.0       3.0        5.0   \n",
      "934          NaN  ...     31.0     12.0      8.0       0.0        1.0   \n",
      "\n",
      "     winner_rank  winner_rank_points loser_rank loser_rank_points   id  \n",
      "276        292.0               168.0        NaN               NaN  276  \n",
      "283          NaN                 NaN      178.0             301.0  283  \n",
      "327         32.0              1380.0        NaN               NaN  327  \n",
      "348       1371.0                 3.0        NaN               NaN  348  \n",
      "352        560.0                54.0        NaN               NaN  352  \n",
      "356          NaN                 NaN      596.0              48.0  356  \n",
      "934         83.0               673.0        NaN               NaN  934  \n",
      "\n",
      "[7 rows x 50 columns]\n",
      "False\n",
      "       player_id        first_name          last_name hand  birth_date  \\\n",
      "3528      103529      Aisam Ul Haq            Qureshi    R  19800317.0   \n",
      "4653      104655             Pablo             Cuevas    R  19860101.0   \n",
      "4654      104656             Haydn              Lewis    L  19860102.0   \n",
      "4793      104797             Denis            Istomin    R  19860907.0   \n",
      "5674      105688            Manuel            Sanchez    R  19910105.0   \n",
      "8748      108763  Alberto Emmanuel     Alvarado Larin    U  19941201.0   \n",
      "11152     111167               Ugo            Nastasi    R  19930416.0   \n",
      "23739     123755      Daniel Elahi      Galan Riveros    U  19960618.0   \n",
      "26086     126102           Nicolae             Frunza    R  19971115.0   \n",
      "26936     126952          Soon Woo               Kwon    R  19971202.0   \n",
      "45654     200620           Ignacio             Garcia  NaN         NaN   \n",
      "47199     202165           Alberto                Lim    R  19990518.0   \n",
      "52210     207176          Muhammad  Althaf Dhaifullah    R  20001119.0   \n",
      "\n",
      "      country_code  \n",
      "3528           PAK  \n",
      "4653           URU  \n",
      "4654           BAR  \n",
      "4793           UZB  \n",
      "5674           MEX  \n",
      "8748           ESA  \n",
      "11152          LUX  \n",
      "23739          COL  \n",
      "26086          ROU  \n",
      "26936          KOR  \n",
      "45654          PUR  \n",
      "47199          PHI  \n",
      "52210          INA  \n"
     ]
    }
   ],
   "source": [
    "#ispisati sve meceve kao match_num imaju odredjeni max\n",
    "data_target = data[data['match_num'] == target_match_num]\n",
    "lista_labela = ['tourney_name', 'winner_id', 'loser_id', 'winner_rank', 'loser_rank']\n",
    "print(data_target[lista_labela])\n",
    "\n",
    "#ispisi sve ciji je ili winner_rank null ili loser_rank null\n",
    "data_winOrlos_is_null = data_target[(data_target['winner_rank'].isnull()) | (data_target['loser_rank'].isnull())]\n",
    "print(data_winOrlos_is_null)\n",
    "\n",
    "#istraga o igracima ciji je winner_rank u tabeli matches_2018 null ili loser_rank u tabeli matches_2018 null\n",
    "print(players_data['player_id'].equals(data_winOrlos_is_null['winner_id']))\n",
    "players_info_rang_null = players_data.loc[(players_data['player_id'].isin(data_winOrlos_is_null['winner_id'])) | (players_data['player_id'].isin(data_winOrlos_is_null['loser_id']))]\n",
    "print(players_data.loc[(players_data['player_id'].isin(data_winOrlos_is_null['winner_id'])) | (players_data['player_id'].isin(data_winOrlos_is_null['loser_id']))])\n",
    "\n",
    "#postoje neki koji uopste nemaju upisanu ruku i datum rodjenja, datum rodjenja format double iako u opisu drugaciji format"
   ]
  },
  {
   "cell_type": "code",
   "execution_count": 8,
   "metadata": {
    "scrolled": false
   },
   "outputs": [
    {
     "name": "stdout",
     "output_type": "stream",
     "text": [
      "        ranking_date  rank  player   points\n",
      "0           20100104     1  103819  10550.0\n",
      "1           20100104     2  104745   9205.0\n",
      "2           20100104     3  104925   8310.0\n",
      "3           20100104     4  104918   7030.0\n",
      "4           20100104     5  105223   6785.0\n",
      "...              ...   ...     ...      ...\n",
      "916291      20191230  1922  134833      1.0\n",
      "916292      20191230  1922  144856      1.0\n",
      "916293      20191230  1922  202326      1.0\n",
      "916294      20191230  1926  207307      1.0\n",
      "916295      20191230  1927  208186      1.0\n",
      "\n",
      "[916296 rows x 4 columns]\n",
      "        ranking_date         rank       points\n",
      "player                                        \n",
      "100644  2.015885e+07   247.552326  2102.796512\n",
      "101389  2.014282e+07  1724.404255     1.000000\n",
      "101397  2.011134e+07  1204.478261     3.000000\n",
      "101404  2.011255e+07  1031.626374     6.571429\n",
      "101549  2.010697e+07  1468.750000     1.000000\n",
      "...              ...          ...          ...\n",
      "209397  2.019123e+07  1581.000000     1.000000\n",
      "209398  2.019122e+07  1581.666667     1.000000\n",
      "209399  2.019122e+07  1725.666667     1.000000\n",
      "209506  2.018140e+07   940.871212          NaN\n",
      "209508  2.015536e+07  1873.288889     1.000000\n",
      "\n",
      "[6180 rows x 3 columns]\n"
     ]
    }
   ],
   "source": [
    "#players_info_rang_null \n",
    "#players_atp_rank_data\n",
    "columns_name_players_atp_rank = ['ranking_date', 'rank', 'player', 'points']\n",
    "print(players_atp_rank_data[columns_name_players_atp_rank])\n",
    "print(players_atp_rank_data[columns_name_players_atp_rank].groupby('player').mean())"
   ]
  },
  {
   "cell_type": "code",
   "execution_count": 9,
   "metadata": {},
   "outputs": [
    {
     "name": "stdout",
     "output_type": "stream",
     "text": [
      "Postoji 419 različitih igrača\n",
      "Index(['tourney_id', 'tourney_name', 'surface', 'draw_size', 'tourney_level',\n",
      "       'tourney_date', 'match_num', 'winner_id', 'winner_seed', 'winner_entry',\n",
      "       'winner_name', 'winner_hand', 'winner_ht', 'winner_ioc', 'winner_age',\n",
      "       'loser_id', 'loser_seed', 'loser_entry', 'loser_name', 'loser_hand',\n",
      "       'loser_ht', 'loser_ioc', 'loser_age', 'score', 'best_of', 'round',\n",
      "       'minutes', 'w_ace', 'w_df', 'w_svpt', 'w_1stIn', 'w_1stWon', 'w_2ndWon',\n",
      "       'w_SvGms', 'w_bpSaved', 'w_bpFaced', 'l_ace', 'l_df', 'l_svpt',\n",
      "       'l_1stIn', 'l_1stWon', 'l_2ndWon', 'l_SvGms', 'l_bpSaved', 'l_bpFaced',\n",
      "       'winner_rank', 'winner_rank_points', 'loser_rank', 'loser_rank_points',\n",
      "       'id'],\n",
      "      dtype='object')\n"
     ]
    }
   ],
   "source": [
    "import networkx as nx\n",
    "\n",
    "list_winner = set(data['winner_id'].apply(str).unique())\n",
    "#print(list_winner)\n",
    "list_loser = set(data['loser_id'].apply(str).unique())\n",
    "#print(list_loser)\n",
    "\n",
    "skup_id = list_winner.union(list_loser)\n",
    "print(f\"Postoji { len(skup_id) } različitih igrača\") # formatiranje ispisa pomoću fstringa\n",
    "\n",
    "print(data.columns)"
   ]
  },
  {
   "cell_type": "code",
   "execution_count": 10,
   "metadata": {},
   "outputs": [
    {
     "name": "stdout",
     "output_type": "stream",
     "text": [
      "Index(['ranking_date', 'rank', 'player', 'points'], dtype='object')\n",
      "False\n",
      "        ranking_date  rank  player  points\n",
      "857151      20181231   653  138846     1.0\n",
      "856052      20181231   104  105155   550.0\n",
      "856056      20181231   106  106058   540.0\n",
      "856058      20181231   107  132283   532.0\n",
      "856060      20181231   108  200000   527.0\n",
      "...              ...   ...     ...     ...\n",
      "826220      20180917   846  104597    20.0\n",
      "825114      20180910  1700  126526     1.0\n",
      "825258      20180910  1867  105961     1.0\n",
      "809171      20180702  1491  207400     2.0\n",
      "807528      20180625  1786  202462     1.0\n",
      "\n",
      "[392 rows x 4 columns]\n"
     ]
    }
   ],
   "source": [
    "#videti timestamp u tabeli 10s, iz koje je godine, i koji je datum\n",
    "#proveriti za podatke za 2018, 2019 u fajlovima koji objasnjavaju meceve, neki mec posle tog datuma koji pise u 10s fajlu\n",
    "print(players_atp_rank_data.columns)\n",
    "print(players_atp_rank_data['player'].is_unique)\n",
    "#players_atp_rank_data.dtypes\n",
    "maska_active_players = players_atp_rank_data['player'].isin(skup_id) & (players_atp_rank_data['ranking_date']<=20181231) & (players_atp_rank_data['ranking_date']>=20180101)\n",
    "players_rank_2018 = players_atp_rank_data[maska_active_players]\n",
    "players_rank_2018 = players_rank_2018.drop_duplicates()\n",
    "\n",
    "max_players_rank_2018 = players_rank_2018.groupby('player').max()\n",
    "#print(players_rank_2018[['ranking_date', 'rank', 'player', 'points']].groupby('player').agg({'ranking_date': 'max'}))\n",
    "#print(players_rank_2018.sort_values('ranking_date').groupby('player').tail(1))\n",
    "#print(max_players_rank_2018['player'].is_unique)\n",
    "\n",
    "player_sorted_date_rank_2018 = players_rank_2018.sort_values(['ranking_date'],ascending=False).groupby('player').head(1)\n",
    "print(players_rank_2018.sort_values(['ranking_date'],ascending=False).groupby('player').head(1))"
   ]
  },
  {
   "cell_type": "code",
   "execution_count": 11,
   "metadata": {},
   "outputs": [
    {
     "name": "stdout",
     "output_type": "stream",
     "text": [
      "27\n",
      "Broj nedefinisanih u pobednicima: 6\n",
      "     winner_id              winner_name  winner_rank  winner_rank_points\n",
      "283     103529     Aisam Ul Haq Qureshi          NaN                 NaN\n",
      "330     127570             Rodrigo Arus          NaN                 NaN\n",
      "351     200460  John Bryan Decasa Otico          NaN                 NaN\n",
      "356     111167              Ugo Nastasi          NaN                 NaN\n",
      "957     208029              Holger Rune          NaN                 NaN\n",
      "983     208028         Francisco Llanes          NaN                 NaN\n",
      "Broj nedefinisanih u gubitnicima: 28\n",
      "     winner_id                      winner_name  winner_rank  \\\n",
      "32      106325                  Jabor Al Mutawa          NaN   \n",
      "91      105030                    Michael Venus          NaN   \n",
      "274     105030                    Michael Venus          NaN   \n",
      "276     104656                      Haydn Lewis          NaN   \n",
      "278     207971                  Xavier Lawrence          NaN   \n",
      "326     200483               Peter August Anker          NaN   \n",
      "327     108763  Alberto Emmanuel Alvarado Larin          NaN   \n",
      "330     206768   Rafael Eduardo Gonzalez Retana          NaN   \n",
      "333     207973              Ainius Sabaliauskas          NaN   \n",
      "338     105606              Mohsen Hossein Zade          NaN   \n",
      "339     200401                Amir Hossein Badi          NaN   \n",
      "346     206000                     Michel Saade          NaN   \n",
      "347     134114                      Jad Ballout          NaN   \n",
      "348     207176       Muhammad Althaf Dhaifullah          NaN   \n",
      "352     200620                   Ignacio Garcia          NaN   \n",
      "353     200274                        Alex Diaz          NaN   \n",
      "354     200619                 Sebastian Arcila          NaN   \n",
      "355     200620                   Ignacio Garcia          NaN   \n",
      "357     144776                 Christophe Tholl          NaN   \n",
      "358     111167                      Ugo Nastasi          NaN   \n",
      "359     144776                 Christophe Tholl          NaN   \n",
      "366     207421                   Alex Fairbanks          NaN   \n",
      "442     202090                   Adrian Andreev          NaN   \n",
      "934     103529             Aisam Ul Haq Qureshi          NaN   \n",
      "956     109698          Christoffer Konigsfeldt          NaN   \n",
      "977     200460          John Bryan Decasa Otico          NaN   \n",
      "979     200460          John Bryan Decasa Otico          NaN   \n",
      "983     207738                    Brandon Perez          NaN   \n",
      "\n",
      "     winner_rank_points  \n",
      "32                  NaN  \n",
      "91                  NaN  \n",
      "274                 NaN  \n",
      "276                 NaN  \n",
      "278                 NaN  \n",
      "326                 NaN  \n",
      "327                 NaN  \n",
      "330                 NaN  \n",
      "333                 NaN  \n",
      "338                 NaN  \n",
      "339                 NaN  \n",
      "346                 NaN  \n",
      "347                 NaN  \n",
      "348                 NaN  \n",
      "352                 NaN  \n",
      "353                 NaN  \n",
      "354                 NaN  \n",
      "355                 NaN  \n",
      "357                 NaN  \n",
      "358                 NaN  \n",
      "359                 NaN  \n",
      "366                 NaN  \n",
      "442                 NaN  \n",
      "934                 NaN  \n",
      "956                 NaN  \n",
      "977                 NaN  \n",
      "979                 NaN  \n",
      "983                 NaN  \n",
      "Broj nedefinisanih u gubitnicima: 27\n"
     ]
    }
   ],
   "source": [
    "#provera da li je stvarno poslednji rang 2018-te godine\n",
    "#print(players_rank_2018[players_rank_2018['player']==200000].sort_values('ranking_date', ascending=False))\n",
    "\n",
    "#provera da li su svi elementi iz skup_id prisuni u tabeli player_sorted_date_rank_2018\n",
    "difference_set = set(map(int, skup_id)).difference(set(player_sorted_date_rank_2018['player']))\n",
    "print(len(difference_set))\n",
    "\n",
    "maska_diff_nodes_winner = data['winner_id'].isin(difference_set) \n",
    "maska_diff_nodes_loser =  data['loser_id'].isin(difference_set)\n",
    "active_columns_winner = ['winner_id', 'winner_name', 'winner_rank', 'winner_rank_points']\n",
    "active_columns_loser = ['loser_id', 'loser_name', 'loser_rank', 'loser_rank_points']\n",
    "winner_miss_data = data[active_columns_winner][maska_diff_nodes_winner]\n",
    "print(f\"Broj nedefinisanih u pobednicima: {len(winner_miss_data)}\")\n",
    "print(winner_miss_data)\n",
    "loser_miss_data = data[active_columns_loser][maska_diff_nodes_loser]\n",
    "loser_miss_data.rename(columns = {'loser_id':'winner_id', 'loser_name':'winner_name', 'loser_rank':'winner_rank', 'loser_rank_points':'winner_rank_points'}, inplace = True)\n",
    "#loser_miss_data.rename_axis({'winner_id', 'winner_name', 'winner_rank', 'winner_rank_points'}, axis=\"columns\")\n",
    "#loser_miss_data.to_replace(to_replace = active_columns_loser, value = active_columns_winner, inplace=True)\n",
    "print(f\"Broj nedefinisanih u gubitnicima: {len(loser_miss_data)}\")\n",
    "print(loser_miss_data)\n",
    "missed_data=loser_miss_data.append(winner_miss_data).drop_duplicates()\n",
    "print(f\"Broj nedefinisanih u gubitnicima: {len(missed_data)}\")\n"
   ]
  },
  {
   "cell_type": "code",
   "execution_count": 12,
   "metadata": {},
   "outputs": [
    {
     "name": "stdout",
     "output_type": "stream",
     "text": [
      "Broj nedefinisanih u gubitnicima: 27\n",
      "392\n"
     ]
    }
   ],
   "source": [
    "#dodavanje 27 sto fale u player_sorted_date_rank_2018\n",
    "#TREBA IZVRSITI SAMO JEDNOM\n",
    "import sys\n",
    "print(f\"Broj nedefinisanih u gubitnicima: {len(missed_data)}\")\n",
    "\n",
    "print(len(player_sorted_date_rank_2018)) \n",
    "for  winner_id, winner_name in missed_data.iteritems():\n",
    "    player_sorted_date_rank_2018 = player_sorted_date_rank_2018.append(dict(zip(player_sorted_date_rank_2018.columns,[20181231, sys.maxsize, winner_id,0])), ignore_index=True)\n",
    "   \n"
   ]
  },
  {
   "cell_type": "code",
   "execution_count": 13,
   "metadata": {},
   "outputs": [
    {
     "name": "stdout",
     "output_type": "stream",
     "text": [
      "396\n"
     ]
    }
   ],
   "source": [
    "import numpy as np\n",
    "import matplotlib.pyplot as plt\n",
    "print(len(player_sorted_date_rank_2018)) \n",
    "\n",
    "data_reduced = data[['winner_id', 'winner_name', 'winner_ioc', 'loser_id', 'loser_name', 'loser_ioc', 'id']]\n",
    "\n",
    "G = nx.Graph() # pravi praznu mrežu\n",
    "G.add_nodes_from(skup_id) # dodaje čvorove čije su labele u \"skup_id\"\n",
    "\n",
    "for _, winner_id, winner_name, winner_ioc, loser_id, loser_name, loser_ioc, _ in data_reduced.itertuples():\n",
    "    winner_id_string = str(winner_id)\n",
    "    loser_id_string = str(loser_id)\n",
    "    if (winner_id_string, loser_id_string) in G.edges:\n",
    "        G.edges[winner_id_string, loser_id_string]['weight'] += 1\n",
    "    else:\n",
    "        G.add_edge(winner_id_string, loser_id_string, weight=1)\n",
    "        winner_attrs = {winner_id_string: {'name': winner_name, 'country': winner_ioc}}\n",
    "        loser_attrs = {loser_id_string: {'name': loser_name, 'country': loser_ioc}}\n",
    "        nx.set_node_attributes(G, winner_attrs)\n",
    "        nx.set_node_attributes(G, loser_attrs)\n",
    "       # if G.nodes[winner_id].get('rank') is None:\n",
    "        #    winner_rank = \n",
    "        \n"
   ]
  },
  {
   "cell_type": "code",
   "execution_count": 14,
   "metadata": {},
   "outputs": [
    {
     "name": "stdout",
     "output_type": "stream",
     "text": [
      "tourney_id             object\n",
      "tourney_name           object\n",
      "surface                object\n",
      "draw_size               int64\n",
      "tourney_level          object\n",
      "tourney_date            int64\n",
      "match_num               int64\n",
      "winner_id               int64\n",
      "winner_seed           float64\n",
      "winner_entry           object\n",
      "winner_name            object\n",
      "winner_hand            object\n",
      "winner_ht             float64\n",
      "winner_ioc             object\n",
      "winner_age            float64\n",
      "loser_id                int64\n",
      "loser_seed            float64\n",
      "loser_entry            object\n",
      "loser_name             object\n",
      "loser_hand             object\n",
      "loser_ht              float64\n",
      "loser_ioc              object\n",
      "loser_age             float64\n",
      "score                  object\n",
      "best_of                 int64\n",
      "round                  object\n",
      "minutes               float64\n",
      "w_ace                 float64\n",
      "w_df                  float64\n",
      "w_svpt                float64\n",
      "w_1stIn               float64\n",
      "w_1stWon              float64\n",
      "w_2ndWon              float64\n",
      "w_SvGms               float64\n",
      "w_bpSaved             float64\n",
      "w_bpFaced             float64\n",
      "l_ace                 float64\n",
      "l_df                  float64\n",
      "l_svpt                float64\n",
      "l_1stIn               float64\n",
      "l_1stWon              float64\n",
      "l_2ndWon              float64\n",
      "l_SvGms               float64\n",
      "l_bpSaved             float64\n",
      "l_bpFaced             float64\n",
      "winner_rank           float64\n",
      "winner_rank_points    float64\n",
      "loser_rank            float64\n",
      "loser_rank_points     float64\n",
      "id                      int64\n",
      "dtype: object\n",
      "[('105827', '105132', 1), ('105827', '105349', 1), ('105827', '200325', 1), ('105870', '105992', 1), ('105870', '105933', 1), ('105870', '104571', 1), ('105870', '100644', 1), ('105870', '105132', 1), ('105870', '144719', 1), ('105870', '104259', 1), ('106120', '106210', 1), ('106120', '125802', 1), ('106120', '104468', 1), ('106120', '104655', 1), ('106120', '106393', 1), ('106120', '111797', 1), ('106186', '105807', 1), ('106186', '105550', 1), ('106186', '105902', 1), ('106186', '105138', 1), ('106186', '126203', 1), ('122109', '103499', 1), ('122109', '111815', 1), ('104022', '104655', 1), ('104022', '104312', 2), ('104022', '105051', 1), ('104022', '105023', 1), ('104022', '104534', 1), ('104022', '126203', 1), ('104022', '105311', 1), ('104022', '105550', 1), ('104022', '104180', 1), ('104022', '104545', 1), ('104022', '200436', 1), ('104022', '105341', 1), ('104022', '104291', 1), ('104022', '104999', 2), ('104022', '106233', 1), ('104022', '104898', 2), ('104022', '103333', 1), ('104022', '202130', 1), ('104022', '111511', 1), ('104022', '104571', 1), ('104022', '105806', 1), ('104022', '105138', 1), ('106421', '104259', 1), ('106421', '111577', 1), ('106421', '103893', 1), ('106421', '104926', 1), ('106421', '200282', 2), ('106421', '106423', 1), ('106421', '111202', 1), ('106421', '104755', 1), ('106421', '104180', 1), ('106421', '105732', 1), ('106421', '104312', 2), ('106421', '105449', 3), ('106421', '126610', 1), ('106421', '105807', 2), ('106421', '126774', 3), ('106421', '100644', 2), ('106421', '124116', 1), ('106421', '105916', 1), ('106421', '105453', 2), ('106421', '105311', 2), ('106421', '106378', 1), ('106421', '104898', 1), ('106421', '106298', 1), ('106421', '106026', 1), ('106421', '104269', 1), ('106421', '106058', 2), ('106421', '104871', 1), ('106421', '106432', 4), ('106421', '104198', 1), ('106421', '105173', 1), ('106421', '133297', 1), ('106421', '133430', 2), ('106421', '200000', 1), ('106421', '105806', 1), ('106421', '105819', 1), ('106421', '105992', 1), ('106421', '106121', 1), ('106421', '105539', 1), ('106421', '105062', 1), ('106421', '106233', 1), ('106421', '106043', 1), ('106421', '105373', 1), ('106421', '105683', 1), ('106421', '105585', 1), ('106421', '103819', 2), ('106421', '105583', 1), ('106421', '105575', 1), ('106421', '111575', 1), ('106421', '109739', 1), ('144707', '104660', 1), ('144707', '105085', 1), ('144707', '105526', 1), ('144707', '105683', 1), ('144707', '105311', 1), ('144707', '105671', 1), ('144707', '104797', 1), ('144707', '104926', 1), ('144707', '105208', 1), ('122669', '105156', 1), ('122669', '126204', 1), ('122669', '106250', 1), ('105634', '133430', 1), ('105634', '109739', 1), ('105634', '104898', 1), ('105634', '200000', 1), ('105634', '111513', 1), ('123795', '111761', 1), ('105441', '104999', 1), ('105441', '106058', 1), ('105441', '126774', 1), ('105441', '104312', 1), ('126120', '109739', 1), ('106110', '105311', 1), ('106110', '105583', 3), ('106072', '105526', 1), ('106072', '105077', 1), ('106072', '104665', 1), ('106072', '106216', 1), ('122548', '144750', 1), ('122548', '105707', 1), ('122548', '106210', 1), ('106000', '104797', 1), ('106000', '105526', 1), ('106000', '200282', 2), ('106000', '103893', 1), ('106000', '105357', 1), ('106000', '104745', 2), ('106000', '105074', 1), ('106000', '104755', 1), ('106000', '105657', 2), ('106000', '126094', 1), ('106000', '105062', 1), ('106000', '105341', 3), ('106000', '104607', 1), ('106000', '120424', 1), ('106000', '105539', 2), ('106000', '106044', 1), ('106000', '133430', 1), ('106000', '105613', 1), ('106000', '105373', 1), ('106000', '106065', 2), ('106000', '103898', 1), ('106000', '105223', 2), ('106000', '104269', 1), ('106000', '106045', 1), ('106000', '105430', 1), ('106000', '100644', 1), ('106000', '105777', 1), ('106000', '105732', 1), ('106000', '106210', 1), ('106000', '105173', 1), ('106000', '109739', 1), ('106000', '105208', 1), ('106000', '106075', 1), ('106000', '111581', 1), ('106000', '126774', 2), ('106000', '104999', 1), ('106000', '105583', 1), ('106000', '111192', 1), ('106000', '105550', 1), ('106000', '104527', 1), ('106000', '106368', 1), ('106000', '104871', 1), ('106000', '105916', 1), ('106000', '106078', 1), ('106000', '104926', 1), ('106000', '105376', 1), ('106000', '104925', 1), ('106361', '104534', 1), ('106361', '105806', 1), ('106361', '106043', 1), ('144895', '104312', 1), ('144895', '104629', 1), ('144895', '103333', 2), ('144895', '105413', 1), ('144895', '105550', 1), ('144895', '126774', 1), ('144895', '123921', 1), ('144895', '105676', 1), ('144895', '105589', 1), ('144895', '106233', 1), ('144895', '105062', 1), ('144895', '103917', 1), ('144895', '105936', 1), ('105649', '126094', 1), ('105649', '109739', 1), ('105943', '106148', 1), ('105943', '105676', 1), ('133975', '106396', 1), ('133975', '138846', 1), ('133975', '124022', 1), ('133975', '207139', 1), ('133975', '106397', 1), ('106174', '105933', 1), ('105357', '105166', 1), ('105357', '105777', 1), ('105357', '200615', 2), ('105357', '104180', 2), ('105357', '106432', 1), ('105357', '105216', 1), ('105357', '105332', 1), ('105357', '105376', 1), ('105357', '105453', 1), ('105357', '105430', 1), ('105357', '106298', 1), ('105357', '120424', 1), ('105357', '105379', 1), ('105357', '106065', 2), ('105357', '105583', 1), ('105357', '133430', 1), ('105357', '105550', 1), ('105357', '104925', 2), ('105357', '104919', 1), ('105357', '105882', 1), ('105357', '105683', 1), ('105357', '105819', 1), ('105357', '105643', 1), ('105357', '105526', 2), ('105357', '106233', 1), ('105357', '106121', 1), ('105357', '202385', 1), ('105357', '104926', 1), ('105357', '105062', 1), ('105357', '103819', 1), ('105357', '126774', 1), ('105357', '105932', 1), ('202090', '104797', 1), ('104534', '104269', 1), ('104534', '105992', 1), ('104534', '105707', 1), ('104534', '144750', 1), ('104534', '105932', 1), ('104534', '126207', 1), ('104534', '105376', 1), ('104534', '106378', 1), ('104534', '104571', 1), ('104534', '111200', 1), ('104534', '104745', 1), ('104534', '106071', 1), ('104534', '103333', 1), ('104534', '105449', 1), ('105613', '126535', 1), ('105613', '105732', 1), ('105613', '104731', 1), ('106250', '200274', 1), ('106250', '200620', 1), ('106250', '126190', 1), ('106250', '104655', 1), ('136440', '105550', 1), ('136440', '105815', 1), ('136440', '106121', 1), ('200000', '105936', 1), ('200000', '105341', 1), ('200000', '105577', 1), ('200000', '105683', 1), ('200000', '104999', 1), ('200000', '105413', 1), ('200000', '126094', 1), ('200000', '105819', 1), ('200000', '106298', 1), ('200000', '133430', 1), ('200000', '200059', 1), ('200000', '111202', 1), ('200000', '106071', 1), ('200000', '105916', 1), ('126523', '104252', 1), ('126523', '104312', 1), ('132283', '104898', 1), ('132283', '104755', 2), ('132283', '128034', 1), ('132283', '105379', 1), ('132283', '105173', 1), ('132283', '105376', 1), ('132283', '126203', 1), ('132283', '104269', 1), ('132283', '104180', 1), ('132283', '111575', 1), ('106249', '105952', 1), ('106249', '104926', 1), ('106249', '104620', 1), ('105554', '105173', 1), ('105554', '104797', 1), ('105449', '200282', 2), ('105449', '132482', 1), ('105449', '105138', 2), ('105449', '106045', 1), ('105449', '106353', 1), ('105449', '104629', 1), ('105449', '105932', 1), ('105449', '105683', 1), ('105449', '105539', 1), ('105449', '105376', 1), ('105449', '103607', 1), ('105449', '105173', 2), ('105449', '105807', 3), ('105449', '124014', 1), ('105449', '126207', 1), ('105449', '104545', 1), ('105449', '126203', 1), ('105449', '105815', 1), ('105449', '104527', 1), ('105449', '105657', 1), ('105449', '104586', 1), ('105449', '105550', 1), ('105449', '105916', 1), ('105449', '105526', 1), ('105449', '105227', 1), ('105449', '105332', 1), ('105449', '104999', 1), ('105449', '105074', 1), ('105449', '106328', 1), ('105449', '104719', 1), ('105449', '106368', 1), ('105449', '104926', 1), ('105449', '104925', 1), ('105449', '126205', 1), ('105449', '144719', 1), ('105449', '106378', 1), ('105449', '104797', 1), ('105449', '106233', 1), ('105449', '106432', 1), ('105449', '105373', 1), ('105449', '111575', 1), ('105449', '104792', 1), ('104180', '111202', 1), ('104180', '105332', 1), ('104180', '105643', 1), ('104180', '104291', 1), ('104180', '105807', 1), ('104180', '104312', 1), ('104180', '105657', 1), ('104180', '104660', 1), ('104180', '103917', 1), ('104180', '105732', 1), ('104180', '104252', 1), ('104180', '100644', 1), ('104180', '126207', 1), ('104180', '105379', 1), ('104180', '105208', 1), ('104180', '105051', 1), ('104180', '133430', 1), ('104180', '105227', 1), ('104180', '111581', 1), ('104180', '104259', 1), ('104180', '104571', 1), ('104180', '104719', 1), ('104180', '111460', 1), ('105379', '104291', 1), ('105379', '106233', 2), ('105379', '105332', 1), ('105379', '103819', 2), ('105379', '128034', 1), ('105379', '111794', 1), ('105379', '106210', 1), ('105379', '105077', 1), ('105379', '106043', 1), ('105379', '105643', 1), ('105379', '104890', 1), ('105379', '105807', 3), ('105379', '104926', 1), ('105379', '105539', 1), ('105379', '105806', 1), ('105379', '104745', 1), ('105379', '105657', 2), ('105379', '126610', 1), ('105379', '106121', 1), ('105379', '104731', 1), ('105379', '104655', 1), ('105379', '111815', 1), ('105379', '105430', 1), ('105379', '105311', 1), ('105379', '105550', 1), ('105379', '105967', 1), ('105379', '105932', 1), ('105379', '104527', 1), ('105379', '111513', 1), ('105379', '105575', 1), ('122236', '144817', 1), ('105299', '106233', 1), ('105292', '105985', 1), ('105292', '106252', 1), ('126530', '126526', 1), ('126530', '104233', 1), ('105916', '106044', 2), ('105916', '105332', 3), ('105916', '105430', 2), ('105916', '105023', 1), ('105916', '103819', 1), ('105916', '105074', 1), ('105916', '105676', 1), ('105916', '104678', 1), ('105916', '105227', 1), ('105916', '109739', 2), ('105916', '104291', 1), ('105916', '120424', 1), ('105916', '105550', 1), ('105916', '106065', 2), ('105916', '105077', 1), ('105916', '126207', 1), ('105916', '104527', 3), ('105916', '105376', 2), ('105916', '105577', 1), ('105916', '106378', 1), ('105916', '106045', 1), ('105916', '105683', 1), ('105916', '104259', 1), ('105916', '103898', 1), ('105916', '105477', 1), ('105916', '104655', 1), ('105916', '105311', 1), ('105916', '128034', 1), ('105916', '104198', 1), ('105916', '105819', 1), ('105916', '104925', 1), ('105916', '105173', 1), ('105916', '104312', 1), ('105916', '104926', 3), ('105916', '105062', 1), ('106026', '111459', 1), ('106026', '105732', 2), ('106026', '104571', 1), ('106026', '103917', 1), ('106026', '106298', 1), ('106026', '105023', 1), ('106026', '105806', 1), ('106026', '106058', 1), ('106026', '105074', 1), ('106026', '105683', 1), ('106026', '105341', 1), ('106026', '106099', 1), ('104745', '103607', 1), ('104745', '104919', 1), ('104745', '106043', 3), ('104745', '105227', 2), ('104745', '104259', 1), ('104745', '100644', 2), ('104745', '111575', 3), ('104745', '106233', 4), ('104745', '105777', 1), ('104745', '105453', 1), ('104745', '106148', 1), ('104745', '104198', 1), ('104745', '105373', 1), ('104745', '105676', 1), ('104745', '126774', 2), ('104745', '104792', 1), ('104745', '133430', 1), ('104745', '104926', 1), ('104745', '104925', 2), ('104745', '104620', 1), ('104745', '105550', 1), ('104745', '104755', 1), ('104745', '109739', 1), ('104745', '105223', 3), ('104745', '105062', 1), ('104745', '200282', 1), ('104745', '106210', 1), ('104745', '105332', 1), ('104745', '104527', 1), ('104745', '103970', 1), ('104745', '105577', 1), ('104745', '105932', 1), ('111794', '105641', 1), ('111794', '105626', 1), ('111794', '111761', 1), ('111794', '105657', 1), ('111794', '104494', 1), ('105732', '106065', 1), ('105732', '105227', 2), ('105732', '104797', 1), ('105732', '104932', 1), ('105732', '104755', 2), ('105732', '106298', 1), ('105732', '105311', 1), ('105732', '105138', 1), ('105732', '104468', 1), ('105732', '104792', 1), ('105732', '104259', 1), ('105732', '126203', 1), ('105732', '103893', 1), ('105732', '105777', 1), ('105732', '105166', 1), ('105732', '104871', 1), ('105732', '104545', 2), ('105732', '105643', 1), ('105732', '105216', 1), ('105732', '104999', 1), ('105732', '200282', 2), ('105732', '106283', 1), ('105732', '105676', 1), ('105732', '105077', 2), ('105732', '105015', 1), ('105732', '106401', 1), ('105732', '105430', 1), ('105732', '105583', 1), ('105732', '126774', 1), ('105732', '106415', 1), ('105732', '122330', 1), ('105732', '104312', 1), ('105732', '104269', 1), ('105732', '105062', 1), ('106401', '105051', 1), ('106401', '105238', 1), ('106401', '105777', 2), ('106401', '105992', 1), ('106401', '104297', 1), ('106401', '104678', 1), ('106401', '104542', 1), ('106401', '105526', 1), ('106401', '100644', 2), ('106401', '105583', 1), ('106401', '104926', 1), ('106401', '106216', 1), ('106401', '103333', 1), ('106401', '109739', 1), ('106401', '103852', 2), ('106401', '103819', 2), ('106401', '104918', 1), ('106401', '106378', 1), ('106401', '105227', 1), ('106401', '104797', 1), ('106401', '104898', 1), ('106401', '105453', 1), ('106401', '111511', 1), ('106401', '111815', 1), ('106401', '104527', 1), ('106401', '106045', 1), ('106401', '106432', 1), ('106401', '105223', 1), ('106401', '105430', 1), ('106401', '106415', 1), ('106401', '104755', 1), ('106401', '105614', 1), ('106401', '126094', 1), ('106401', '105806', 1), ('106353', '105502', 1), ('105948', '106044', 1), ('105948', '105062', 1), ('200031', '105683', 1), ('207400', '207415', 1), ('117356', '105626', 1), ('117356', '103893', 1), ('117356', '105657', 1), ('104269', '126094', 1), ('104269', '200282', 1), ('104269', '105138', 1), ('104269', '109739', 1), ('104269', '106329', 2), ('104269', '105550', 2), ('104269', '104919', 2), ('104269', '106044', 1), ('104269', '106233', 1), ('104269', '104926', 2), ('104269', '106043', 2), ('104269', '105777', 3), ('104269', '126203', 1), ('104269', '104198', 1), ('104269', '106423', 1), ('104269', '105807', 2), ('104269', '106045', 1), ('104269', '104655', 1), ('104269', '105227', 2), ('104269', '103893', 1), ('104269', '106415', 2), ('104269', '105819', 1), ('104269', '104925', 1), ('104269', '106071', 1), ('104269', '106210', 1), ('104269', '126207', 1), ('104269', '105155', 1), ('104269', '105583', 1), ('104269', '111797', 1), ('104269', '105376', 1), ('104269', '104871', 2), ('104269', '103852', 1), ('104269', '104918', 2), ('104269', '105223', 1), ('104269', '105359', 1), ('104269', '106121', 1), ('104269', '104792', 2), ('104269', '105932', 1), ('104269', '105051', 1), ('104269', '104259', 1), ('104269', '106378', 1), ('104269', '104731', 1), ('104269', '104291', 1), ('105935', '106198', 1), ('105985', '105539', 1), ('105985', '200095', 1), ('105676', '104897', 1), ('105676', '103898', 1), ('105676', '105226', 1), ('105676', '104468', 1), ('105676', '111575', 2), ('105676', '104755', 1), ('105676', '103917', 1), ('105676', '103852', 2), ('105676', '104607', 1), ('105676', '105777', 2), ('105676', '105311', 1), ('105676', '126774', 3), ('105676', '105138', 2), ('105676', '104719', 1), ('105676', '104898', 3), ('105676', '106378', 1), ('105676', '104919', 1), ('105676', '106065', 2), ('105676', '105223', 2), ('105676', '100644', 1), ('105676', '104792', 1), ('105676', '105051', 1), ('105676', '126207', 1), ('105676', '105683', 1), ('105676', '105332', 1), ('105676', '104731', 1), ('105676', '103819', 1), ('105676', '105526', 1), ('105676', '105227', 1), ('105676', '104918', 1), ('104719', '105062', 1), ('104719', '111574', 1), ('104719', '105173', 1), ('104719', '105311', 1), ('104719', '103917', 1), ('104719', '111815', 1), ('105656', '105899', 1), ('105656', '104655', 1), ('105656', '106218', 1), ('104871', '105815', 1), ('104871', '126774', 2), ('104871', '126094', 2), ('104871', '105882', 1), ('104871', '104629', 1), ('104871', '105223', 1), ('104871', '103898', 1), ('104871', '104926', 2), ('104871', '105173', 2), ('104871', '103819', 1), ('104871', '104297', 1), ('104871', '104755', 3), ('104871', '105777', 1), ('104871', '105683', 1), ('104871', '105932', 1), ('104871', '105583', 1), ('104871', '105341', 1), ('104871', '106121', 1), ('104871', '104607', 1), ('104871', '104198', 1), ('104871', '111456', 1), ('104871', '105051', 1), ('104871', '105065', 1), ('104871', '126207', 1), ('104871', '104925', 2), ('104871', '133430', 2), ('104871', '105575', 1), ('104871', '111815', 1), ('104871', '105657', 1), ('104871', '104731', 2), ('104871', '105526', 1), ('104871', '109739', 1), ('104871', '106432', 1), ('111575', '105216', 1), ('111575', '104655', 1), ('111575', '105223', 3), ('111575', '105166', 1), ('111575', '103970', 2), ('111575', '105575', 1), ('111575', '104259', 2), ('111575', '105074', 1), ('111575', '104999', 2), ('111575', '103898', 1), ('111575', '104607', 1), ('111575', '106298', 3), ('111575', '104797', 1), ('111575', '105539', 1), ('111575', '105657', 1), ('111575', '104731', 1), ('111575', '106423', 1), ('111575', '104468', 1), ('111575', '104919', 1), ('111575', '105583', 1), ('111575', '104890', 1), ('111575', '104198', 1), ('111575', '100644', 2), ('111575', '105453', 2), ('111575', '105138', 1), ('111575', '104571', 1), ('111575', '126207', 1), ('111575', '104925', 2), ('111575', '106045', 1), ('111575', '105936', 2), ('111575', '105807', 1), ('111575', '104545', 2), ('111575', '104898', 1), ('111575', '105077', 2), ('111575', '105023', 2), ('111575', '105227', 1), ('111575', '104527', 1), ('111575', '126774', 1), ('111575', '104586', 1), ('111575', '105806', 1), ('111575', '105173', 1), ('111575', '110602', 1), ('111575', '105051', 1), ('111575', '106233', 1), ('105341', '105932', 2), ('105341', '100644', 1), ('105341', '105936', 1), ('105341', '105614', 1), ('105341', '106058', 1), ('105341', '104755', 1), ('105341', '104312', 1), ('105341', '105051', 1), ('105341', '106432', 1), ('105341', '104527', 1), ('105341', '126774', 1), ('105341', '105626', 1), ('200484', '105526', 1), ('200484', '106298', 1), ('200484', '105932', 1), ('200484', '103970', 1), ('200484', '106075', 1), ('105138', '104468', 1), ('105138', '105030', 1), ('105138', '106210', 1), ('105138', '104898', 2), ('105138', '105223', 1), ('105138', '111815', 1), ('105138', '103898', 1), ('105138', '104252', 1), ('105138', '106432', 3), ('105138', '104291', 1), ('105138', '106298', 2), ('105138', '111577', 2), ('105138', '111581', 1), ('105138', '105376', 1), ('105138', '103852', 1), ('105138', '103333', 1), ('105138', '104665', 1), ('105138', '134770', 1), ('105138', '104259', 2), ('105138', '104797', 1), ('105138', '105053', 1), ('105138', '104925', 1), ('105138', '105526', 1), ('105138', '144719', 1), ('105138', '106121', 1), ('105138', '111513', 1), ('105138', '126610', 1), ('105138', '104563', 1), ('105138', '106065', 1), ('105138', '106233', 1), ('105138', '100644', 2), ('105138', '126094', 1), ('105138', '111456', 1), ('105138', '103819', 1), ('105138', '105311', 1), ('105138', '105583', 1), ('105138', '105777', 1), ('124116', '106065', 1), ('124116', '104655', 1), ('124116', '105373', 1), ('104460', '105311', 1), ('104460', '103917', 1), ('104460', '105967', 1), ('104460', '109739', 1), ('134886', '127143', 1), ('106214', '126610', 1), ('106214', '105132', 1), ('106214', '105815', 1), ('123755', '104656', 1), ('123755', '106105', 1), ('123755', '106329', 1), ('123755', '105166', 1), ('123755', '105550', 1), ('105606', '138846', 1), ('104755', '103607', 1), ('104755', '126774', 2), ('104755', '104882', 1), ('104755', '103819', 1), ('104755', '104898', 1), ('104755', '106298', 1), ('104755', '106432', 1), ('104755', '104198', 1), ('104755', '104468', 2), ('104755', '106378', 2), ('104755', '106043', 1), ('104755', '104999', 1), ('104755', '100644', 1), ('104755', '104607', 1), ('104755', '105583', 1), ('104755', '105332', 2), ('104755', '104312', 1), ('104755', '104291', 1), ('104755', '105539', 1), ('104755', '106071', 1), ('104755', '104252', 1), ('104755', '104792', 1), ('104755', '105589', 1), ('104755', '134770', 1), ('104755', '105967', 1), ('104755', '104926', 1), ('104755', '111797', 1), ('104755', '105807', 1), ('104755', '105216', 1), ('104755', '111513', 1), ('104755', '104925', 1), ('104755', '105077', 1), ('104755', '106005', 1), ('104755', '106045', 1), ('104755', '104731', 1), ('104755', '105453', 1), ('104755', '104919', 1), ('104755', '105223', 1), ('104755', '106210', 1), ('104755', '105526', 1), ('104755', '133430', 1), ('104755', '106058', 1), ('144760', '105932', 1), ('144760', '105657', 1), ('144760', '105077', 1), ('105550', '105077', 1), ('105550', '105882', 1), ('105550', '105806', 1), ('105550', '126094', 1), ('105550', '106233', 2), ('105550', '106044', 1), ('105550', '105671', 1), ('105550', '111797', 1), ('105550', '106426', 1), ('105550', '111578', 1), ('105550', '105023', 3), ('105550', '105815', 1), ('105550', '106043', 1), ('105550', '105376', 1), ('105550', '106075', 1), ('105550', '105311', 1), ('105550', '105432', 1), ('105550', '103819', 1), ('105550', '105216', 1), ('105550', '105227', 1), ('105550', '111456', 1), ('105550', '106121', 1), ('105550', '105583', 1), ('105550', '104898', 1), ('105550', '106065', 1), ('105550', '106148', 1), ('105550', '134770', 1), ('105550', '103893', 1), ('105550', '105932', 1), ('105550', '125802', 1), ('105550', '104542', 1), ('104233', '200278', 1), ('104233', '105747', 1), ('106218', '105223', 1), ('103852', '104198', 1), ('103852', '105806', 1), ('103852', '126846', 1), ('103852', '106043', 3), ('103852', '200282', 2), ('103852', '105023', 2), ('103852', '105373', 2), ('103852', '106121', 1), ('103852', '106423', 1), ('103852', '111577', 2), ('103852', '124014', 1), ('103852', '106058', 1), ('103852', '105332', 1), ('103852', '105583', 1), ('103852', '104665', 1), ('103852', '105453', 1), ('103852', '104660', 1), ('103852', '104678', 1), ('103852', '104468', 1), ('103852', '105683', 1), ('103852', '105643', 2), ('103852', '105223', 1), ('103852', '106177', 1), ('103852', '126610', 1), ('103852', '105633', 1), ('103852', '111815', 1), ('103852', '106432', 1), ('103852', '105936', 1), ('103852', '126207', 1), ('103852', '105526', 1), ('106045', '106233', 1), ('106045', '103333', 1), ('106045', '105041', 2), ('106045', '126774', 1), ('106045', '105216', 1), ('106045', '103819', 1), ('106045', '106298', 2), ('106045', '105074', 1), ('106045', '106368', 1), ('106045', '126094', 2), ('106045', '126610', 1), ('106045', '105223', 1), ('106045', '106415', 1), ('106045', '104198', 1), ('106045', '111202', 1), ('126094', '106432', 1), ('126094', '104792', 1), ('126094', '103970', 2), ('126094', '104571', 1), ('126094', '105777', 2), ('126094', '104198', 1), ('126094', '104542', 1), ('126094', '106298', 1), ('126094', '126203', 2), ('126094', '105577', 1), ('126094', '110602', 1), ('126094', '104898', 2), ('126094', '106233', 1), ('126094', '126610', 1), ('126094', '126205', 1), ('126094', '111511', 1), ('126094', '200282', 2), ('126094', '105539', 1), ('126094', '105453', 1), ('126094', '144719', 2), ('126094', '105526', 1), ('126094', '105311', 1), ('126094', '104926', 1), ('126094', '105062', 1), ('126094', '132482', 1), ('126094', '126774', 1), ('106423', '122330', 1), ('106423', '123921', 1), ('106423', '103819', 1), ('106423', '111511', 1), ('106423', '126203', 1), ('200711', '104547', 1), ('104586', '106210', 1), ('104586', '200218', 1), ('104586', '200436', 1), ('104586', '126610', 1), ('104122', '134770', 1), ('104122', '104198', 1), ('104122', '105227', 1), ('104122', '205734', 1), ('104122', '104919', 1), ('104122', '105683', 1), ('106410', '105479', 1), ('105155', '104468', 1), ('105155', '105311', 1), ('105155', '105430', 1), ('200619', '105688', 1), ('105657', '111513', 1), ('105657', '104468', 1), ('105657', '144776', 1), ('105657', '111167', 1), ('105657', '104898', 2), ('105657', '104882', 1), ('105657', '106075', 1), ('105657', '105806', 2), ('105657', '105166', 1), ('105657', '105062', 1), ('105657', '134770', 1), ('105657', '105526', 1), ('105657', '106065', 1), ('105657', '105216', 1), ('105657', '105051', 1), ('105657', '126207', 1), ('105657', '104918', 1), ('105657', '104259', 1), ('105657', '105227', 3), ('105657', '128034', 1), ('105657', '105614', 1), ('105657', '105992', 1), ('105657', '126203', 1), ('105657', '100644', 1), ('105657', '103819', 1), ('104259', '106415', 1), ('104259', '105806', 1), ('104259', '103819', 1), ('104259', '105163', 1), ('104259', '126774', 2), ('104259', '105065', 1), ('104259', '105227', 2), ('104259', '105223', 1), ('104259', '103970', 1), ('104259', '104467', 1), ('104259', '105815', 1), ('104259', '105077', 1), ('104259', '105777', 1), ('104259', '103333', 1), ('104259', '104999', 1), ('104259', '109739', 1), ('104259', '100644', 2), ('104259', '105216', 1), ('104259', '104731', 2), ('104259', '106058', 1), ('104259', '105453', 2), ('104259', '106432', 1), ('104259', '104797', 2), ('104259', '105051', 2), ('104259', '105539', 1), ('104259', '105932', 1), ('104259', '200282', 1), ('104259', '106298', 1), ('104259', '104898', 1), ('207176', '202165', 1), ('106121', '104655', 1), ('106121', '103898', 1), ('106121', '104926', 2), ('106121', '105683', 1), ('106121', '111815', 1), ('106121', '104925', 1), ('106121', '104919', 1), ('106121', '103333', 1), ('106121', '126610', 1), ('106121', '104297', 1), ('106121', '104291', 1), ('106121', '104198', 1), ('106121', '111200', 1), ('106121', '106148', 1), ('106121', '105526', 1), ('106121', '111513', 1), ('106121', '144719', 1), ('106121', '105023', 1), ('106121', '111797', 1), ('106121', '200282', 1), ('106121', '105493', 1), ('106121', '105147', 1), ('106121', '126774', 1), ('106121', '105041', 1), ('106121', '104312', 1), ('105376', '105936', 1), ('105376', '126610', 1), ('105376', '104792', 1), ('105376', '105065', 1), ('105376', '106058', 2), ('105376', '104898', 1), ('105376', '105062', 1), ('105376', '100644', 2), ('105376', '104882', 1), ('105376', '105173', 1), ('105376', '105041', 1), ('105376', '104545', 1), ('105376', '124187', 1), ('105376', '126207', 1), ('105376', '106412', 1), ('105376', '105077', 1), ('105376', '105023', 1), ('105376', '104926', 2), ('105376', '103333', 1), ('105376', '103970', 1), ('105376', '104312', 1), ('105376', '111815', 1), ('105376', '105223', 1), ('105376', '111797', 3), ('105376', '105311', 1), ('105376', '103819', 1), ('105376', '104547', 1), ('105376', '105807', 1), ('105376', '104542', 1), ('105376', '105453', 1), ('105376', '106378', 1), ('105376', '105051', 1), ('105376', '126774', 1), ('208029', '126174', 1), ('103565', '105077', 2), ('103565', '105051', 1), ('106099', '104291', 1), ('106099', '104571', 1), ('106099', '125802', 1), ('127339', '105992', 1), ('105051', '126207', 3), ('105051', '104545', 2), ('105051', '105238', 1), ('105051', '105023', 1), ('105051', '111577', 1), ('105051', '104792', 1), ('105051', '104468', 2), ('105051', '111202', 1), ('105051', '126203', 1), ('105051', '105065', 2), ('105051', '104291', 1), ('105051', '103819', 1), ('105051', '105385', 1), ('105051', '104571', 1), ('105051', '105166', 1), ('105051', '105936', 1), ('105051', '105539', 1), ('105051', '126610', 1), ('105051', '104926', 1), ('105051', '104731', 1), ('105051', '106233', 1), ('105051', '106432', 1), ('105051', '200615', 1), ('105583', '106043', 1), ('105583', '104545', 2), ('105583', '105487', 1), ('105583', '104792', 1), ('105583', '106233', 2), ('105583', '111797', 1), ('105583', '105041', 1), ('105583', '111202', 1), ('105583', '104547', 2), ('105583', '104925', 1), ('105583', '124079', 1), ('105583', '105223', 1), ('105583', '104731', 1), ('105583', '126203', 1), ('105583', '106210', 1), ('105583', '100644', 1), ('105583', '105932', 2), ('105583', '103819', 1), ('105583', '105077', 1), ('105583', '104198', 1), ('105583', '110602', 1), ('105583', '105373', 1), ('105583', '105683', 1), ('105583', '111815', 1), ('105583', '105432', 1), ('105583', '105577', 1), ('105583', '105777', 1), ('105583', '106378', 1), ('105583', '105173', 1), ('105671', '106148', 1), ('105671', '105643', 1), ('105671', '104655', 1), ('105671', '104919', 1), ('105671', '111200', 1), ('105671', '200282', 1), ('105671', '104198', 1), ('105671', '106415', 1), ('105499', '105467', 1), ('105499', '106175', 1), ('144645', '103970', 1), ('103970', '200059', 1), ('103970', '105311', 1), ('103970', '111202', 1), ('103970', '105223', 3), ('103970', '100644', 3), ('103970', '105815', 1), ('103970', '105539', 1), ('103970', '106058', 1), ('103970', '144719', 1), ('103970', '126610', 1), ('103970', '105062', 1), ('103970', '134770', 1), ('103970', '105614', 1), ('103970', '105332', 1), ('200615', '105065', 1), ('200615', '100644', 1), ('106075', '105430', 2), ('106075', '105041', 1), ('106075', '104571', 1), ('106075', '105806', 1), ('106075', '106233', 1), ('106075', '105807', 1), ('106075', '106329', 1), ('106075', '104919', 1), ('105587', '128034', 1), ('105643', '111581', 1), ('105643', '104252', 1), ('105643', '104198', 2), ('105643', '106210', 1), ('105643', '106043', 2), ('105643', '106148', 1), ('105643', '105992', 1), ('105643', '103819', 1), ('105643', '105373', 1), ('105643', '105077', 2), ('105643', '104620', 1), ('105643', '104999', 1), ('105643', '106233', 1), ('105643', '105430', 1), ('105643', '105064', 1), ('105643', '105807', 1), ('105643', '104547', 1), ('105643', '104926', 1), ('105643', '104797', 1), ('134120', '200273', 1), ('200624', '126207', 1), ('105842', '104907', 1), ('105842', '106368', 1), ('105842', '111815', 1), ('105566', '138845', 1), ('207479', '106021', 1), ('104970', '104468', 1), ('120792', '207972', 1), ('106167', '104545', 1), ('106167', '104468', 1), ('106105', '106329', 1), ('106105', '105077', 1), ('105691', '105683', 1), ('104252', '126774', 1), ('104252', '105539', 1), ('104252', '105806', 1), ('104252', '105373', 1), ('104252', '104999', 1), ('104252', '120424', 1), ('104252', '104797', 1), ('104252', '104312', 1), ('104252', '105311', 1), ('104252', '106210', 1), ('104252', '105807', 1), ('104252', '106432', 1), ('104907', '200059', 1), ('200574', '105373', 1), ('128034', '105815', 1), ('128034', '105227', 2), ('128034', '106071', 1), ('128034', '200282', 1), ('128034', '125802', 1), ('128034', '126207', 2), ('128034', '105882', 1), ('128034', '104494', 1), ('128034', '111202', 1), ('128034', '144719', 1), ('128034', '126774', 1), ('200005', '123768', 1), ('200005', '104527', 1), ('200005', '106071', 1), ('200005', '105932', 1), ('200005', '105173', 1), ('104571', '105173', 1), ('104571', '104678', 1), ('104571', '105936', 1), ('104571', '106415', 1), ('104571', '106043', 1), ('104571', '105683', 1), ('104571', '111577', 1), ('104571', '111511', 1), ('104571', '105053', 1), ('104571', '104882', 1), ('104571', '106233', 1), ('104571', '106109', 1), ('104571', '126207', 1), ('104571', '105332', 1), ('104571', '111202', 1), ('104571', '104198', 1), ('104571', '106298', 1), ('104571', '104291', 1), ('104571', '106065', 1), ('106216', '105430', 1), ('106216', '106281', 1), ('106216', '111442', 1), ('106216', '104665', 1), ('106216', '106148', 1), ('106216', '105065', 1), ('105311', '105385', 1), ('105311', '105227', 1), ('105311', '106220', 1), ('105311', '109739', 1), ('105311', '104312', 2), ('105311', '105936', 1), ('105311', '100644', 1), ('105311', '105683', 1), ('105311', '105992', 1), ('105311', '111577', 1), ('105311', '111202', 1), ('105311', '111200', 1), ('105311', '124079', 1), ('105311', '105806', 2), ('105311', '105932', 1), ('105311', '104665', 1), ('105311', '144719', 1), ('105311', '106378', 1), ('105311', '126774', 1), ('105311', '126207', 1), ('105311', '104898', 1), ('105311', '105173', 1), ('105311', '104660', 1), ('105311', '105487', 1), ('105311', '105807', 1), ('105311', '106298', 1), ('105311', '104925', 2), ('105311', '105065', 1), ('105311', '105577', 1), ('105311', '104291', 1), ('105311', '106071', 1), ('105311', '106065', 1), ('104897', '105062', 1), ('104897', '111202', 1), ('104897', '105453', 2), ('104897', '144719', 1), ('104897', '106296', 1), ('104897', '120424', 1), ('104897', '104468', 1), ('105453', '111511', 1), ('105453', '105539', 1), ('105453', '105430', 1), ('105453', '104731', 4), ('105453', '133430', 2), ('105453', '105223', 1), ('105453', '104607', 1), ('105453', '104312', 1), ('105453', '105227', 2), ('105453', '100644', 2), ('105453', '104198', 1), ('105453', '104925', 4), ('105453', '105777', 1), ('105453', '126125', 1), ('105453', '105332', 2), ('105453', '104468', 1), ('105453', '106233', 3), ('105453', '106328', 1), ('105453', '106071', 1), ('105453', '105208', 1), ('105453', '105385', 1), ('105453', '104898', 1), ('105453', '104527', 1), ('105453', '109739', 1), ('105453', '104792', 1), ('105453', '106043', 1), ('105453', '105932', 1), ('105453', '105216', 1), ('105453', '126774', 1), ('105453', '200059', 1), ('105453', '105023', 1), ('105453', '103819', 3), ('105453', '126207', 1), ('105453', '105062', 1), ('105453', '105173', 1), ('103893', '104792', 2), ('103893', '111442', 1), ('103893', '105077', 1), ('103893', '106148', 1), ('103893', '104999', 1), ('103893', '105932', 1), ('103893', '105477', 1), ('103893', '111513', 2), ('103893', '104731', 1), ('103893', '105806', 1), ('103893', '105539', 1), ('103893', '106177', 1), ('103893', '106378', 1), ('105132', '207973', 1), ('105132', '105526', 1), ('105132', '106058', 1), ('105132', '105074', 1), ('105132', '109739', 2), ('105132', '104926', 1), ('105132', '105487', 1), ('105132', '126610', 1), ('105132', '106005', 1), ('127570', '206768', 1), ('106412', '105023', 1), ('106412', '105899', 1), ('105373', '104527', 2), ('105373', '105806', 2), ('105373', '104925', 1), ('105373', '111202', 1), ('105373', '111513', 1), ('105373', '104792', 1), ('105373', '111797', 1), ('105373', '104898', 1), ('105373', '106233', 2), ('105373', '144719', 1), ('105373', '104797', 1), ('105373', '105539', 1), ('105373', '104926', 1), ('105373', '133430', 1), ('105373', '104312', 1), ('200175', '104797', 1), ('200175', '105992', 1), ('126535', '106298', 1), ('126535', '126774', 1), ('105413', '104297', 1), ('105413', '105807', 1), ('105413', '106148', 1), ('104468', '105815', 1), ('104468', '105227', 1), ('104468', '104731', 1), ('104468', '111577', 1), ('104468', '105807', 1), ('104468', '120424', 1), ('104468', '109739', 1), ('104468', '105936', 2), ('104468', '105332', 1), ('104468', '106148', 1), ('104468', '105173', 1), ('104468', '125802', 1), ('104468', '105777', 1), ('104468', '105515', 1), ('104468', '105062', 1), ('104468', '111815', 1), ('104468', '106233', 2), ('104468', '105932', 2), ('104468', '105023', 1), ('104468', '104919', 2), ('104468', '126610', 2), ('104468', '105223', 1), ('104468', '106329', 1), ('104468', '105992', 1), ('104468', '144750', 1), ('104468', '105683', 1), ('104468', '106210', 1), ('104468', '105430', 1), ('104468', '200282', 1), ('104468', '106065', 1), ('104468', '104660', 1), ('104468', '111456', 1), ('104468', '106043', 1), ('104468', '105208', 1), ('104468', '103819', 1), ('104468', '106298', 1), ('104620', '126207', 1), ('104620', '104655', 1), ('104620', '104926', 1), ('104620', '106148', 1), ('104620', '106043', 1), ('104620', '105967', 1), ('105806', '104890', 1), ('105806', '109739', 1), ('105806', '104527', 1), ('105806', '104898', 1), ('105806', '106065', 1), ('105806', '104792', 1), ('105806', '104999', 1), ('105806', '105815', 1), ('105806', '105683', 1), ('105806', '106043', 1), ('105806', '104925', 1), ('105806', '106233', 1), ('105806', '106415', 1), ('105806', '104291', 1), ('126174', '200483', 1), ('126174', '109698', 1), ('105065', '105077', 1), ('105065', '111513', 1), ('105065', '126203', 1), ('105065', '106044', 1), ('105065', '105359', 1), ('105065', '106368', 1), ('105065', '104999', 2), ('105065', '105575', 1), ('105065', '105526', 1), ('104308', '111761', 1), ('106415', '104312', 1), ('106415', '105332', 1), ('106415', '200282', 1), ('106415', '104607', 1), ('106415', '104547', 1), ('106415', '105227', 1), ('106415', '126203', 1), ('106415', '104926', 1), ('106415', '105807', 1), ('106415', '103819', 1), ('106415', '133430', 1), ('106415', '111815', 1), ('207139', '200460', 1), ('207139', '200273', 1), ('122330', '105015', 1), ('122330', '104797', 1), ('122330', '105526', 1), ('126845', '104291', 1), ('105578', '207971', 1), ('111202', '106378', 1), ('111202', '105815', 2), ('111202', '104545', 2), ('111202', '104999', 1), ('111202', '100644', 2), ('111202', '104925', 1), ('111202', '103819', 2), ('111202', '111815', 1), ('111202', '105015', 1), ('111202', '126207', 1), ('111202', '105385', 1), ('111202', '124014', 1), ('111202', '104731', 1), ('111202', '104607', 1), ('111202', '104655', 1), ('111202', '111581', 1), ('111202', '104898', 1), ('111202', '126203', 2), ('111202', '105992', 1), ('111202', '200282', 1), ('111202', '106058', 1), ('111202', '105223', 1), ('111202', '104198', 1), ('111202', '126610', 1), ('111202', '105807', 1), ('111202', '105575', 1), ('111202', '105062', 1), ('111202', '133430', 1), ('111202', '106065', 1), ('111202', '104926', 1), ('105173', '105539', 1), ('105173', '105575', 3), ('105173', '104926', 1), ('105173', '126610', 1), ('105173', '106210', 1), ('105173', '106233', 1), ('105173', '105217', 1), ('105173', '104898', 1), ('105173', '104629', 1), ('105173', '105023', 2), ('105173', '104731', 1), ('105173', '105166', 1), ('105173', '104655', 1), ('105173', '105807', 1), ('105173', '106043', 1), ('105173', '104198', 1), ('105173', '103898', 1), ('105173', '104925', 2), ('105173', '104792', 1), ('105173', '106426', 1), ('105173', '105992', 1), ('105173', '103819', 1), ('105173', '111442', 1), ('105173', '111200', 1), ('105173', '111815', 1), ('105173', '106065', 2), ('105173', '126207', 1), ('105173', '104291', 1), ('105173', '105683', 1), ('105173', '104312', 2), ('105173', '106348', 1), ('105173', '106078', 1), ('111805', '103499', 1), ('105273', '126502', 1), ('111442', '111577', 2), ('111442', '106044', 1), ('111442', '134770', 1), ('111442', '106210', 1), ('111442', '105023', 1), ('111442', '105902', 1), ('111442', '111815', 1), ('111442', '106233', 1), ('105223', '133430', 1), ('105223', '126207', 2), ('105223', '104607', 1), ('105223', '104999', 1), ('105223', '106233', 1), ('105223', '100644', 1), ('105223', '104731', 1), ('105223', '200282', 1), ('105223', '104919', 1), ('105223', '105683', 2), ('105223', '103819', 1), ('105223', '104898', 1), ('105223', '105936', 2), ('105223', '104545', 3), ('105223', '126774', 1), ('105223', '103917', 1), ('105223', '103898', 1), ('105223', '105077', 2), ('105223', '105227', 1), ('105223', '105332', 1), ('105223', '106078', 1), ('105223', '104926', 2), ('105223', '105385', 1), ('105223', '106432', 2), ('105223', '104925', 1), ('105223', '105932', 1), ('126204', '104655', 1), ('134868', '104527', 1), ('134868', '104898', 1), ('104494', '104467', 1), ('103781', '105539', 1), ('103781', '105683', 1), ('103781', '104731', 1), ('105023', '106210', 1), ('105023', '111513', 1), ('105023', '103333', 1), ('105023', '104731', 1), ('105023', '126203', 3), ('105023', '104999', 1), ('105023', '105683', 1), ('105023', '105430', 1), ('105023', '133430', 1), ('105023', '105074', 1), ('105023', '126207', 1), ('105023', '126652', 1), ('105023', '104527', 1), ('105023', '105227', 2), ('105023', '104660', 1), ('105023', '104792', 1), ('105023', '106078', 1), ('105023', '106043', 2), ('105023', '104545', 1), ('105023', '104312', 1), ('105023', '105932', 1), ('105023', '104542', 1), ('105023', '106233', 1), ('105688', '200620', 1), ('124187', '105992', 1), ('124187', '106058', 1), ('124187', '126203', 1), ('104882', '104898', 1), ('104882', '111513', 1), ('104882', '104999', 1), ('104882', '105539', 1), ('104882', '105815', 1), ('104882', '104792', 1), ('200514', '110602', 1), ('104672', '105216', 1), ('104672', '106298', 1), ('125802', '111576', 1), ('125802', '105589', 1), ('125802', '106233', 2), ('125802', '111513', 1), ('125802', '104527', 1), ('125802', '103917', 1), ('125802', '106298', 1), ('125802', '105216', 2), ('125802', '104665', 1), ('125802', '104926', 1), ('125802', '105992', 1), ('125802', '104731', 1), ('125802', '133430', 1), ('125802', '104898', 1), ('125802', '106378', 1), ('105961', '104655', 1), ('105359', '105332', 1), ('105359', '104660', 1), ('105359', '103917', 1), ('200045', '200460', 1), ('111797', '104665', 1), ('111797', '104898', 1), ('111797', '104919', 2), ('111797', '105111', 1), ('111797', '105933', 1), ('111797', '105487', 1), ('111797', '105882', 1), ('111797', '106148', 2), ('111797', '104198', 1), ('111797', '105077', 2), ('111797', '104655', 1), ('111797', '106043', 4), ('111797', '104547', 1), ('111797', '104926', 1), ('111797', '111815', 1), ('111797', '106044', 1), ('111797', '105332', 2), ('111797', '105807', 1), ('111797', '111577', 1), ('111797', '104999', 2), ('111797', '105936', 1), ('111797', '111456', 2), ('111797', '106233', 1), ('111797', '105932', 1), ('111797', '126610', 1), ('111797', '104797', 1), ('111797', '104312', 1), ('111797', '105526', 1), ('111797', '104545', 1), ('111797', '105227', 1), ('111797', '106378', 1), ('104678', '126610', 1), ('104678', '105238', 1), ('104678', '106109', 1), ('104678', '105208', 1), ('104678', '104797', 1), ('104678', '104527', 1), ('104678', '105526', 1), ('104678', '104607', 1), ('104678', '133430', 1), ('104678', '109739', 1), ('104678', '106071', 1), ('104678', '104297', 1), ('104678', '105815', 1), ('104678', '104198', 1), ('104678', '105077', 1), ('105589', '105932', 1), ('105589', '106065', 1), ('105589', '103607', 1), ('105589', '105077', 1), ('105589', '104665', 1), ('105589', '104198', 1), ('105589', '106329', 1), ('106138', '110602', 1), ('111795', '105932', 1), ('124014', '104547', 1), ('124014', '103333', 1), ('124014', '111456', 1), ('124014', '104731', 1), ('124014', '106058', 1), ('124014', '126207', 1), ('124014', '104291', 1), ('124014', '111581', 1), ('105208', '106298', 1), ('105208', '126610', 1), ('105208', '126652', 1), ('105208', '100644', 1), ('105208', '133430', 1), ('105208', '106058', 2), ('105208', '104545', 1), ('105208', '126774', 1), ('106106', '104467', 1), ('144826', '200325', 1), ('104792', '105526', 1), ('104792', '106233', 2), ('104792', '144719', 1), ('104792', '104925', 1), ('104792', '134770', 1), ('104792', '106329', 1), ('104792', '104655', 1), ('104792', '104919', 2), ('104792', '104547', 2), ('104792', '105227', 1), ('104792', '106043', 2), ('104792', '104545', 2), ('104792', '105932', 1), ('104792', '104926', 1), ('104792', '109739', 1), ('104792', '200611', 1), ('104792', '104198', 1), ('104792', '104731', 1), ('104792', '106065', 1), ('104792', '105487', 1), ('104792', '144750', 1), ('104792', '126774', 1), ('104792', '105074', 1), ('104792', '104542', 1), ('104792', '105577', 1), ('104792', '106378', 1), ('111456', '111200', 1), ('111456', '105777', 1), ('111456', '100644', 1), ('111456', '126207', 1), ('111456', '104312', 1), ('111456', '106109', 1), ('111456', '105575', 1), ('111456', '105683', 2), ('111456', '104918', 1), ('111456', '105992', 1), ('111456', '106378', 1), ('111456', '104898', 1), ('111456', '105041', 1), ('111456', '200282', 1), ('132482', '126203', 1), ('132482', '200282', 1), ('108739', '106175', 1), ('105777', '106378', 2), ('105777', '110602', 1), ('105777', '105216', 1), ('105777', '105936', 1), ('105777', '103819', 1), ('105777', '104291', 2), ('105777', '109739', 1), ('105777', '105807', 1), ('105777', '105683', 1), ('105777', '105633', 1), ('105777', '111577', 1), ('105777', '104925', 2), ('105777', '104527', 2), ('105777', '126207', 1), ('105777', '104731', 1), ('105777', '104999', 1), ('105777', '105815', 1), ('105777', '105062', 1), ('105777', '105227', 1), ('105432', '200059', 1), ('105432', '133430', 1), ('105432', '105041', 1), ('105432', '111815', 1), ('105432', '126610', 1), ('105807', '106432', 2), ('105807', '105227', 3), ('105807', '104198', 1), ('105807', '106065', 2), ('105807', '104547', 1), ('105807', '104731', 2), ('105807', '104797', 1), ('105807', '100644', 1), ('105807', '105332', 3), ('105807', '126774', 1), ('105807', '106044', 1), ('105807', '126207', 1), ('105807', '111577', 1), ('105807', '105430', 1), ('105807', '106329', 1), ('105807', '105932', 1), ('105807', '105614', 1), ('105807', '104898', 1), ('105807', '105015', 1), ('105807', '104291', 1), ('202358', '206000', 1), ('202358', '126203', 1), ('104947', '104291', 1), ('105539', '106233', 1), ('105539', '104926', 1), ('105539', '105041', 1), ('105539', '103607', 1), ('105539', '105385', 1), ('105539', '105936', 2), ('105539', '104731', 2), ('105539', '126774', 1), ('105539', '100644', 1), ('105539', '105526', 1), ('105539', '105015', 1), ('105539', '105575', 1), ('105539', '105477', 1), ('105539', '104291', 1), ('105539', '105062', 1), ('105882', '106325', 1), ('105882', '104665', 1), ('105882', '200384', 1), ('105882', '104607', 1), ('105882', '106210', 1), ('106432', '105932', 2), ('106432', '105577', 2), ('106432', '133430', 2), ('106432', '105332', 1), ('106432', '105385', 1), ('106432', '105077', 2), ('106432', '126203', 1), ('106432', '104731', 2), ('106432', '103819', 3), ('106432', '104919', 1), ('106432', '106058', 1), ('106432', '100644', 2), ('106432', '105062', 1), ('106432', '103898', 1), ('106432', '104925', 2), ('106432', '105526', 1), ('106432', '106233', 2), ('106432', '126774', 1), ('106432', '106043', 1), ('106432', '104312', 1), ('106432', '111513', 1), ('106432', '105227', 1), ('106432', '106148', 1), ('106432', '126207', 1), ('106432', '111815', 1), ('106432', '104527', 1), ('106432', '105614', 1), ('106432', '106298', 1), ('124022', '200273', 1), ('106109', '105575', 1), ('106109', '105577', 1), ('106109', '106378', 1), ('106109', '106328', 1), ('106109', '126205', 1), ('104542', '110536', 1), ('104542', '133430', 1), ('104542', '103917', 1), ('104542', '106298', 1), ('104542', '105683', 1), ('104542', '105227', 1), ('126205', '111513', 1), ('134217', '200401', 1), ('105217', '104898', 1), ('105217', '105683', 1), ('200282', '105683', 1), ('200282', '111581', 1), ('200282', '105992', 1), ('200282', '105332', 2), ('200282', '104607', 1), ('200282', '100644', 3), ('200282', '105526', 1), ('200282', '106378', 2), ('200282', '105062', 1), ('200282', '106065', 1), ('200282', '103333', 1), ('200282', '104545', 1), ('200282', '105577', 2), ('200282', '104918', 1), ('200282', '126207', 1), ('200282', '105227', 1), ('200282', '110602', 1), ('200282', '106233', 1), ('200282', '105216', 1), ('200282', '126774', 2), ('200282', '126203', 1), ('200282', '144719', 1), ('103607', '105064', 1), ('103607', '106044', 2), ('103607', '104919', 1), ('103607', '106368', 1), ('106228', '105967', 1), ('200250', '124126', 1), ('103819', '105526', 3), ('103819', '104607', 1), ('103819', '105227', 1), ('103819', '105074', 1), ('103819', '104898', 1), ('103819', '104312', 1), ('103819', '105936', 2), ('103819', '104999', 1), ('103819', '105683', 2), ('103819', '105332', 2), ('103819', '105041', 1), ('103819', '104731', 2), ('103819', '104919', 1), ('103819', '104527', 1), ('103819', '104925', 2), ('103819', '104926', 1), ('103819', '106233', 1), ('103819', '100644', 1), ('106148', '106368', 1), ('106148', '105077', 2), ('106148', '105815', 1), ('106148', '109739', 1), ('106148', '104890', 1), ('106148', '111815', 1), ('106148', '126774', 1), ('106148', '105062', 1), ('106148', '111513', 1), ('106148', '106233', 1), ('106148', '105332', 1), ('106148', '105932', 1), ('106148', '105992', 1), ('106148', '104198', 1), ('106148', '106378', 1), ('106148', '106283', 1), ('105815', '104527', 1), ('105815', '109739', 1), ('105815', '106233', 1), ('105815', '104926', 2), ('105815', '104297', 1), ('105815', '105932', 1), ('105815', '104198', 1), ('105815', '106044', 1), ('105815', '103333', 1), ('105815', '104291', 1), ('105815', '126207', 1), ('105815', '133430', 1), ('105815', '104890', 1), ('105815', '104925', 2), ('105815', '105575', 1), ('105815', '105062', 1), ('105815', '106298', 1), ('105815', '104545', 1), ('109054', '105526', 1), ('109054', '109739', 1), ('109054', '106043', 1), ('105430', '105062', 1), ('105430', '106210', 1), ('105430', '104545', 4), ('105430', '104731', 1), ('105430', '126774', 1), ('105430', '105575', 2), ('105430', '104312', 1), ('105430', '106378', 1), ('105430', '104297', 1), ('105430', '106296', 1), ('105430', '126610', 2), ('105430', '105819', 1), ('105430', '105577', 1), ('105430', '104926', 1), ('111511', '104926', 1), ('111511', '104545', 2), ('111511', '105062', 1), ('105385', '104925', 1), ('105385', '105992', 1), ('105385', '106368', 1), ('105385', '104919', 1), ('105385', '106044', 1), ('105385', '105577', 1), ('105385', '103333', 1), ('105385', '104527', 1), ('105238', '106043', 2), ('105238', '104547', 1), ('105238', '104926', 1), ('105238', '104890', 1), ('105238', '105063', 1), ('105238', '104925', 1), ('133297', '138431', 1), ('133297', '104898', 1), ('133297', '105683', 1), ('106232', '106329', 1), ('106232', '106252', 1), ('105992', '104919', 1), ('105992', '104797', 1), ('105992', '104655', 1), ('105992', '105227', 2), ('105992', '103333', 1), ('105992', '104545', 3), ('105992', '106043', 1), ('105992', '100644', 1), ('105992', '105074', 1), ('105992', '126203', 1), ('105992', '104198', 1), ('105992', '105216', 1), ('105992', '126207', 1), ('105992', '109739', 1), ('105992', '106378', 1), ('105992', '126652', 1), ('105992', '103917', 1), ('105992', '105902', 1), ('105992', '105041', 1), ('105992', '111815', 1), ('105992', '105936', 1), ('105992', '104731', 1), ('127143', '202462', 1), ('127143', '106150', 1), ('202462', '106397', 1), ('105063', '104665', 1), ('105933', '105077', 1), ('105933', '105041', 1), ('105575', '104527', 1), ('105575', '144807', 1), ('105575', '103898', 1), ('105575', '133430', 1), ('105575', '200325', 1), ('105575', '105349', 1), ('105575', '100644', 1), ('105575', '109739', 1), ('105575', '126774', 1), ('105575', '104797', 1), ('109739', '104291', 1), ('109739', '103333', 1), ('109739', '104607', 1), ('109739', '120424', 1), ('109739', '106043', 1), ('109739', '111815', 1), ('109739', '133430', 1), ('109739', '105216', 1), ('109739', '111513', 1), ('109739', '105062', 1), ('109739', '104797', 1), ('109739', '105614', 1), ('109739', '126207', 1), ('109739', '111200', 1), ('200460', '106397', 1), ('105064', '106398', 1), ('105064', '106043', 1), ('105064', '104926', 1), ('105064', '104547', 1), ('103333', '111513', 1), ('103333', '105216', 1), ('103333', '104312', 1), ('103333', '111577', 1), ('103333', '133430', 1), ('103333', '105577', 1), ('103333', '103990', 1), ('103333', '104898', 1), ('103333', '105526', 1), ('103333', '111200', 1), ('104312', '106378', 3), ('104312', '105216', 1), ('104312', '100644', 1), ('104312', '106298', 2), ('104312', '104198', 1), ('104312', '105932', 1), ('104312', '106065', 2), ('104312', '111513', 1), ('104312', '126610', 1), ('104312', '104797', 1), ('104312', '104731', 1), ('104312', '133430', 1), ('104312', '105077', 1), ('104312', '105936', 1), ('105053', '106329', 1), ('105053', '106043', 1), ('126774', '106233', 5), ('126774', '105041', 1), ('126774', '133430', 2), ('126774', '103917', 1), ('126774', '105062', 1), ('126774', '104291', 2), ('126774', '106043', 1), ('126774', '105077', 1), ('126774', '104665', 1), ('126774', '104731', 3), ('126774', '106298', 1), ('126774', '106296', 1), ('126774', '111577', 2), ('126774', '104545', 1), ('126774', '105902', 1), ('126774', '100644', 2), ('126774', '104925', 1), ('126774', '103990', 1), ('126774', '104926', 1), ('126774', '144719', 1), ('126774', '126207', 1), ('108763', '104655', 1), ('106071', '105477', 1), ('106071', '110536', 1), ('106071', '104898', 1), ('106071', '106078', 1), ('106071', '105614', 1), ('106071', '144750', 1), ('106071', '104926', 1), ('200218', '106210', 1), ('106175', '105899', 1), ('106175', '104655', 1), ('123921', '105074', 1), ('123921', '104198', 2), ('123921', '106043', 1), ('111577', '104797', 2), ('111577', '105077', 2), ('111577', '105166', 1), ('111577', '133430', 2), ('111577', '105932', 1), ('111577', '104731', 1), ('111577', '105960', 1), ('111577', '104297', 1), ('111577', '104527', 1), ('111577', '126207', 1), ('111577', '126203', 1), ('111577', '104291', 1), ('111577', '105332', 1), ('104545', '106210', 1), ('104545', '105227', 2), ('104545', '100644', 3), ('104545', '105967', 1), ('104545', '104655', 1), ('104545', '105077', 1), ('104545', '111815', 2), ('104545', '104547', 1), ('104545', '120424', 1), ('104545', '105074', 1), ('104545', '105683', 2), ('104545', '104731', 1), ('104545', '104999', 1), ('104545', '105614', 2), ('104545', '105062', 1), ('104545', '104925', 1), ('105436', '144817', 1), ('105436', '105967', 1), ('208028', '207738', 1), ('104547', '104926', 1), ('104547', '106329', 1), ('104547', '106065', 1), ('104547', '106233', 1), ('104547', '104297', 1), ('104547', '105216', 2), ('104547', '106058', 1), ('104547', '105819', 1), ('104547', '104925', 1), ('104547', '105041', 1), ('106078', '105332', 1), ('111197', '105967', 1), ('111197', '105757', 1), ('126939', '207836', 1), ('104810', '200059', 1), ('104467', '105932', 2), ('200059', '106368', 1), ('200059', '104291', 1), ('111515', '105902', 1), ('200278', '126526', 1), ('111153', '111581', 1), ('104597', '144817', 1), ('105062', '111513', 1), ('105062', '104731', 3), ('105062', '106391', 1), ('105062', '104999', 2), ('105062', '105227', 1), ('105062', '106296', 1), ('105062', '105077', 2), ('105062', '106378', 1), ('105062', '105577', 1), ('105062', '104797', 1), ('105062', '126203', 1), ('111790', '144719', 1), ('105577', '105227', 2), ('105577', '104999', 1), ('105577', '106368', 1), ('105577', '105041', 1), ('105577', '104919', 1), ('105577', '105683', 1), ('103898', '104926', 1), ('103898', '104291', 1), ('103898', '104919', 1), ('103898', '104607', 1), ('103898', '126207', 1), ('103898', '126610', 1), ('103898', '106065', 1), ('103898', '105526', 1), ('206642', '202210', 1), ('105819', '126203', 1), ('105819', '106058', 1), ('144719', '106233', 1), ('144719', '104925', 1), ('144719', '134770', 1), ('144719', '104629', 1), ('144719', '104898', 1), ('144719', '105074', 1), ('144719', '106043', 1), ('144719', '106210', 1), ('144719', '126207', 1), ('104919', '104999', 2), ('104919', '105332', 1), ('104919', '104297', 1), ('104919', '104926', 2), ('104919', '104655', 1), ('104919', '105074', 1), ('104919', '100644', 1), ('104919', '104731', 1), ('104919', '126207', 1), ('104919', '105526', 1), ('104919', '126610', 2), ('104919', '105077', 1), ('104919', '106043', 1), ('104919', '105932', 1), ('104919', '111581', 1), ('104919', '106298', 1), ('104919', '105216', 1), ('104919', '106378', 1), ('104919', '111513', 1), ('111513', '104797', 2), ('111513', '104291', 1), ('111513', '104655', 1), ('111513', '106065', 1), ('111513', '105932', 1), ('111513', '106368', 1), ('111513', '126203', 1), ('111576', '105585', 1), ('105747', '126340', 1), ('105747', '105349', 1), ('105747', '200325', 1), ('200095', '104926', 1), ('105227', '106368', 1), ('105227', '106378', 1), ('105227', '122078', 1), ('105227', '105683', 1), ('105227', '104291', 1), ('105227', '105332', 1), ('105227', '100644', 2), ('105227', '105902', 1), ('105227', '104926', 1), ('105227', '104925', 4), ('105227', '106043', 1), ('105227', '126207', 1), ('105227', '105526', 1), ('105227', '133430', 1), ('105227', '106298', 1), ('127300', '111815', 1), ('126652', '111815', 1), ('105497', '106252', 1), ('105497', '106329', 1), ('105497', '111815', 1), ('104251', '134114', 1), ('120424', '105216', 1), ('120424', '105526', 1), ('120424', '106298', 1), ('120424', '104999', 1), ('120424', '105332', 1), ('105349', '104291', 1), ('105349', '121411', 1), ('105349', '105633', 1), ('104629', '133430', 1), ('105902', '100644', 1), ('105902', '104918', 1), ('105812', '106150', 1), ('105812', '202165', 1), ('104932', '105932', 1), ('200075', '106324', 1), ('126203', '133430', 1), ('126203', '106058', 2), ('126203', '105332', 1), ('126203', '100644', 1), ('126203', '106368', 1), ('126203', '104291', 1), ('126203', '105936', 1), ('126203', '104999', 1), ('126203', '106233', 1), ('126203', '104926', 1), ('126203', '104527', 1), ('126203', '104898', 1), ('126203', '105967', 1), ('106329', '105074', 1), ('106329', '104731', 1), ('106329', '105561', 1), ('106329', '105077', 1), ('106329', '104655', 1), ('106329', '106210', 1), ('106329', '111200', 1), ('104655', '104926', 1), ('104655', '133430', 1), ('104655', '106233', 1), ('104655', '106058', 1), ('104655', '105077', 1), ('104655', '106065', 1), ('104655', '104731', 1), ('104655', '105932', 1), ('106397', '207421', 1), ('106397', '106150', 1), ('106397', '200273', 1), ('105477', '111200', 1), ('105477', '106065', 2), ('105477', '105015', 1), ('200436', '106333', 1), ('200436', '106210', 1), ('104918', '104527', 1), ('104918', '106378', 2), ('104918', '106298', 1), ('104918', '111190', 1), ('105936', '106298', 2), ('105936', '106283', 1), ('105936', '106281', 1), ('105936', '105332', 1), ('105936', '104898', 1), ('105936', '104999', 1), ('105936', '106378', 1), ('126952', '105526', 1), ('126952', '103529', 1), ('106378', '133430', 3), ('106378', '104731', 1), ('106378', '104797', 1), ('106378', '105932', 2), ('106378', '126207', 1), ('106378', '106210', 1), ('106378', '104291', 2), ('106378', '104665', 1), ('106378', '104925', 2), ('106378', '106298', 1), ('106378', '100644', 2), ('106378', '104926', 1), ('106378', '105614', 1), ('106378', '106043', 2), ('106378', '126610', 1), ('106378', '105077', 1), ('105683', '105041', 1), ('105683', '106043', 1), ('105683', '106065', 1), ('105683', '106044', 1), ('105683', '133430', 2), ('105683', '104607', 1), ('105683', '106298', 1), ('105683', '106281', 1), ('105683', '110602', 1), ('105683', '126207', 1), ('105683', '104291', 1), ('105683', '104925', 1), ('105683', '104527', 1), ('202382', '105633', 1), ('104731', '105332', 1), ('104731', '126207', 3), ('104731', '106044', 1), ('104731', '105932', 3), ('104731', '106233', 3), ('104731', '104999', 1), ('104731', '106043', 1), ('104731', '104925', 3), ('104731', '133430', 1), ('105585', '105030', 1), ('104665', '106233', 1), ('104665', '104926', 1), ('110602', '105166', 1), ('110602', '106298', 1), ('110602', '105332', 1), ('104198', '105332', 1), ('104198', '104607', 1), ('104198', '104926', 1), ('104198', '105216', 1), ('104198', '106233', 1), ('104198', '104527', 1), ('104198', '104898', 1), ('104198', '126610', 1), ('103499', '104797', 1), ('105216', '106058', 1), ('105216', '104926', 1), ('105216', '105526', 2), ('105216', '106298', 1), ('105216', '104898', 1), ('105216', '105932', 1), ('105216', '106233', 1), ('105216', '105614', 1), ('105166', '105561', 1), ('105166', '111581', 1), ('105166', '104925', 1), ('105166', '100644', 1), ('105166', '133430', 1), ('105085', '111200', 1), ('104297', '133430', 1), ('104297', '105077', 2), ('104297', '106044', 1), ('104297', '104925', 1), ('104297', '104898', 1), ('100644', '105526', 2), ('100644', '133430', 1), ('100644', '106233', 2), ('100644', '126610', 1), ('100644', '104291', 2), ('100644', '104999', 1), ('100644', '105614', 1), ('100644', '104898', 2), ('100644', '103917', 1), ('100644', '105932', 1), ('100644', '104925', 3), ('100644', '126207', 1), ('100644', '106043', 1), ('104890', '106043', 1), ('104890', '105526', 1), ('104890', '104999', 1), ('104999', '111581', 1), ('104999', '105332', 3), ('104999', '104607', 1), ('104999', '104291', 1), ('104999', '106298', 1), ('104999', '104660', 1), ('104999', '133430', 1), ('104999', '105041', 1), ('104999', '105074', 1), ('105487', '144817', 1), ('104797', '103529', 1), ('104797', '106298', 1), ('104797', '106065', 1), ('105041', '104898', 1), ('105041', '106044', 1), ('105041', '106210', 1), ('105041', '106043', 1), ('105041', '111815', 1), ('105041', '106065', 2), ('105041', '126127', 1), ('105041', '105074', 1), ('105041', '104926', 1), ('104593', '106210', 1), ('111167', '126102', 1), ('106210', '106324', 1), ('106210', '106044', 1), ('106210', '104291', 1), ('106210', '105932', 1), ('106210', '106043', 1), ('106210', '104926', 1), ('106210', '106065', 1), ('106210', '106368', 1), ('106065', '105526', 2), ('106065', '104926', 1), ('106065', '104925', 2), ('106065', '106233', 1), ('106065', '126207', 1), ('106065', '105967', 1), ('106426', '106043', 1), ('105226', '126610', 1), ('104291', '200325', 1), ('104291', '104898', 1), ('104291', '111815', 1), ('104291', '105932', 1), ('104291', '106058', 1), ('106391', '122078', 1), ('104978', '111815', 1), ('104607', '105526', 1), ('104607', '104926', 1), ('104607', '126207', 1), ('104607', '133430', 1), ('104607', '105332', 1), ('144776', '126613', 1), ('106233', '111815', 1), ('106233', '133430', 1), ('106233', '104925', 1), ('106233', '104926', 1), ('106233', '126610', 1), ('106233', '105526', 1), ('106233', '105074', 1), ('106233', '106058', 1), ('200325', '105633', 1), ('105332', '104898', 1), ('105332', '106298', 2), ('105332', '106283', 1), ('105332', '104925', 1), ('105332', '133430', 2), ('105332', '106043', 1), ('105332', '105526', 1), ('105332', '111460', 1), ('122078', '105967', 1), ('111200', '104660', 1), ('111200', '104926', 1), ('111200', '106058', 1), ('126207', '133430', 2), ('126207', '106044', 1), ('126207', '126610', 1), ('126207', '103917', 1), ('105074', '106298', 1), ('105074', '105932', 1), ('105074', '104926', 1), ('105526', '104926', 1), ('105526', '133430', 1), ('105526', '106005', 1), ('105077', '104925', 2), ('105077', '106281', 1), ('105077', '111815', 1), ('105077', '134770', 1), ('106058', '126610', 1), ('106058', '105932', 2), ('104925', '105932', 1), ('105932', '126610', 2), ('105932', '133430', 2), ('111815', '104898', 1), ('111815', '106298', 1), ('111815', '104527', 1), ('111815', '104926', 1), ('111815', '106043', 1), ('104926', '106298', 1), ('104926', '111460', 1), ('104926', '133430', 1), ('104926', '111581', 1), ('104898', '134770', 1), ('104898', '111460', 1), ('104898', '133430', 3), ('106043', '134770', 3), ('106043', '104527', 1), ('133430', '126610', 1), ('133430', '104527', 1), ('105967', '126610', 1), ('134770', '111460', 1)]\n",
      "{'105827': 'Laurynas Grigelis', '105870': 'Yannick Hanfmann', '106120': 'Ricardo Ojeda Lara', '106186': 'Jason Kubler', '122109': 'Sanjar Fayziev', '104022': 'Mikhail Youzhny', '106421': 'Daniil Medvedev', '144707': 'Mikael Ymer', '122669': 'Juan Pablo Varillas', '105634': 'Viktor Galovic', '123795': 'Altug Celikbilek', '105441': 'John Patrick Smith', '126120': 'Nino Serdarusic', '106110': 'Filip Horansky', '106072': 'Alexey Vatutin', '122548': 'Edan Leshem', '106000': 'Damir Dzumhur', '106361': 'Adam Pavlasek', '144895': 'Corentin Moutet', '105649': 'Cedrik Marcel Stebe', '105943': 'Federico Gaio', '133975': 'Benjamin Hassan', '106174': 'Gonzalo Lama', '105357': 'John Millman', '202090': 'Adrian Andreev', '104534': 'Dudi Sela', '105613': 'Norbert Gombos', '106250': 'Luis Patino', '136440': 'Dominik Koepfer', '200000': 'Felix Auger Aliassime', '126523': 'Bernabe Zapata Miralles', '132283': 'Lorenzo Sonego', '106249': 'Joao Domingues', '105554': 'Daniel Evans', '105449': 'Steve Johnson', '104180': 'Gilles Muller', '105379': 'Aljaz Bedene', '122236': 'Roman Hassanov', '105299': 'Dzmitry Zhyrmont', '105292': 'Alejandro Gonzalez', '126530': 'Peter Bothwell', '105916': 'Marton Fucsovics', '106026': 'Yuki Bhambri', '104745': 'Rafael Nadal', '111794': 'Kamil Majchrzak', '105732': 'Pierre Hugues Herbert', '106401': 'Nick Kyrgios', '106353': 'Pedja Krstin', '105948': 'Federico Coria', '200031': 'Lucas Catarina', '207400': 'Mark Chigaazira', '117356': 'Cem Ilkel', '104269': 'Fernando Verdasco', '105935': 'Duilio Beretta', '105985': 'Darian King', '105676': 'David Goffin', '104719': 'Marcel Granollers', '105656': 'Marcelo Arevalo', '104871': 'Jeremy Chardy', '111575': 'Karen Khachanov', '105341': 'Thomas Fabbiano', '200484': 'Rudolf Molleker', '105138': 'Roberto Bautista Agut', '124116': 'Sebastian Ofner', '104460': 'Dustin Brown', '134886': 'Sharmal Dissanayake', '106214': 'Oscar Otte', '123755': 'Daniel Elahi Galan', '105606': 'Mohsen Hossein Zade', '104755': 'Richard Gasquet', '144760': 'Amine Ahouda', '105550': 'Guido Pella', '104233': 'Frederik Nielsen', '106218': 'Marcos Giron', '103852': 'Feliciano Lopez', '106045': 'Denis Kudla', '126094': 'Andrey Rublev', '106423': 'Thanasi Kokkinakis', '200711': 'Nicolas Mejia', '104586': 'Lukas Rosol', '104122': 'Carlos Berlocq', '106410': 'Jorge Brian Panta Herreros', '105155': 'Pedro Sousa', '200619': 'Sebastian Arcila', '105657': 'Marius Copil', '104259': 'Philipp Kohlschreiber', '207176': 'Muhammad Althaf Dhaifullah', '106121': 'Taro Daniel', '105376': 'Peter Gojowczyk', '105952': 'Renzo Olivo', '208029': 'Holger Rune', '103565': 'Stephane Robert', '106099': 'Salvatore Caruso', '127339': 'Borna Gojo', '105051': 'Matthew Ebden', '105583': 'Dusan Lajovic', '105493': 'Tomislav Brkic', '105671': 'Gastao Elias', '105499': 'Christopher Diaz Figueroa', '144645': 'Zdenek Kolar', '103970': 'David Ferrer', '200615': 'Alexei Popyrin', '106075': 'Jozef Kovalik', '105587': 'Tom Kocevar Desman', '105643': 'Federico Delbonis', '134120': 'Kuan Yi Lee', '200624': 'Sebastian Korda', '105842': 'Di Wu', '104563': 'Luca Vanni', '105566': 'Shahin Khaledan', '207479': 'Soufiane El Mesbahi', '104970': 'Matteo Viola', '120792': 'M Abid Ali Khan Akbar', '106167': 'Joris De Loore', '106105': 'Guilherme Clezar', '105691': 'Scott Griekspoor', '104252': 'Florian Mayer', '104907': 'Jose Rubin Statham', '200574': 'Alexander Donski', '128034': 'Hubert Hurkacz', '200005': 'Ugo Humbert', '104571': 'Marcos Baghdatis', '106216': 'Bjorn Fratangelo', '105311': 'Joao Sousa', '104897': 'Matthias Bachinger', '105453': 'Kei Nishikori', '103893': 'Paolo Lorenzi', '105132': 'Jurgen Zopp', '205734': 'Thiago Seyboth Wild', '127570': 'Rodrigo Arus', '106412': 'Lucas Gomez', '105373': 'Martin Klizan', '200175': 'Miomir Kecmanovic', '126535': 'Carlos Taberner', '105413': 'Andrej Martin', '104468': 'Gilles Simon', '104620': 'Simone Bolelli', '105806': 'Mirza Basic', '126174': 'Youssef Hossam', '105065': 'Tim Smyczek', '106177': 'Oriol Roca Batalla', '104308': 'Michal Przysiezny', '106415': 'Yoshihito Nishioka', '105707': 'Nicolaas Scholtz', '207139': 'Palaphoom Kovapitukted', '122330': 'Alexander Bublik', '126845': 'Max Purcell', '105578': 'Cristian Rodriguez', '111202': 'Hyeon Chung', '105173': 'Adrian Mannarino', '111805': 'Seong Chan Hong', '105273': 'Mauricio Echazu', '126125': 'Maxime Janvier', '111442': 'Jordan Thompson', '105223': 'Juan Martin del Potro', '126204': 'Gerardo Lopez Villasenor', '134868': 'Tallon Griekspoor', '123768': 'Collin Altamirano', '104494': 'Adrian Ungur', '103781': 'Jurgen Melzer', '105023': 'Sam Querrey', '105688': 'Manuel Sanchez', '207973': 'Ainius Sabaliauskas', '124187': 'Reilly Opelka', '104882': 'Blaz Kavcic', '200514': 'Jurij Rodionov', '104672': 'Vincent Millot', '125802': 'Ilya Ivashka', '105961': 'David Souto', '105359': 'Jason Jung', '105626': 'Takanyi Garanganga', '200045': 'Anthony Susanto', '111797': 'Nicolas Jarry', '104678': 'Viktor Troicki', '105589': 'Gerald Melzer', '106138': 'Yaraslau Shyla', '111795': 'Filippo Baldi', '124014': 'Ernesto Escobedo', '105208': 'Ernests Gulbis', '106106': 'George Tsivadze', '105467': 'Jordi Munoz Abreu', '144826': 'Aziz Dougaz', '104792': 'Gael Monfils', '111456': 'Mackenzie McDonald', '132482': 'Liam Caruana', '108739': 'Wilfredo Gonzalez', '105777': 'Grigor Dimitrov', '105432': 'Prajnesh Gunneswaran', '126846': 'Aleksandar Vukic', '109698': 'Christoffer Konigsfeldt', '200611': 'Elliot Benchetrit', '105807': 'Pablo Carreno Busta', '202358': 'Chun Hsin Tseng', '104947': 'Marsel Ilhan', '105539': 'Evgeny Donskoy', '105882': 'Stefano Travaglia', '106198': 'Hugo Dellien', '106432': 'Borna Coric', '124022': 'Chun Hun Wong', '106109': 'Alex Bolt', '104542': 'Jo-Wilfried Tsonga', '126205': 'Tommy Paul', '134217': 'Skyler Butts', '105217': 'Thiemo De Bakker', '200282': 'Alex De Minaur', '103607': 'Victor Estrella', '106348': 'Evgeny Karlovskiy', '106228': 'Juan Ignacio Londero', '106328': 'Christian Harrison', '200250': 'Mehluli Don Ayanda Sibanda', '103819': 'Roger Federer', '106148': 'Roberto Carballes Baena', '106325': 'Jabor Al Mutawa', '105815': 'Tennys Sandgren', '109054': 'Daniel Masur', '105430': 'Radu Albot', '111511': 'Noah Rubin', '105385': 'Donald Young', '105238': 'Alexandr Dolgopolov', '138846': 'Hong Kit Jack Wong', '133297': 'Yosuke Watanuki', '106232': 'Roberto Cid', '138431': 'Darko Bojanovic', '105992': 'Ryan Harrison', '127143': 'Jirat Navasirisomboon', '202462': 'Yasitha De Silva', '105063': 'Andrea Arnaboldi', '105933': 'Roberto Quiroz', '105575': 'Ricardas Berankis', '109739': 'Maximilian Marterer', '200460': 'John Bryan Decasa Otico', '105064': 'Thomaz Bellucci', '103333': 'Ivo Karlovic', '104312': 'Andreas Seppi', '105053': 'Santiago Giraldo', '126774': 'Stefanos Tsitsipas', '108763': 'Alberto Emmanuel Alvarado Larin', '105156': 'Federico Zeballos', '200401': 'Amir Hossein Badi', '106071': 'Bernard Tomic', '206000': 'Michel Saade', '200218': 'Mate Valkusz', '106175': 'Ricardo Rodriguez', '123921': 'Calvin Hemery', '111577': 'Jared Donaldson', '104545': 'John Isner', '105436': 'Markus Eriksson', '208028': 'Francisco Llanes', '207738': 'Brandon Perez', '105641': 'Blaz Rola', '104547': 'Horacio Zeballos', '106078': 'Egor Gerasimov', '111197': 'Jonathan Mridha', '126939': 'Khumoun Sultanov', '104810': 'Zhe Li', '124079': 'Pedro Martinez', '104467': 'Lamine Ouahab', '200059': 'Yibing Wu', '111515': 'Thai Son Kwiatkowski', '200278': 'Simon Carr', '111153': 'Christopher Eubanks', '104597': 'Nicolas Almagro', '105062': 'Mikhail Kukushkin', '111790': 'Brayden Schnur', '105577': 'Vasek Pospisil', '103898': 'Julien Benneteau', '206642': 'Yassir Kilani', '105819': 'Guido Andreozzi', '144719': 'Jaume Munar', '111578': 'Stefan Kozlov', '104919': 'Leonardo Mayer', '200620': 'Ignacio Garcia', '105147': 'Tatsuma Ito', '111513': 'Laslo Djere', '111576': 'Sumit Nagal', '106396': 'Cheng Yu Yu', '105747': 'Karim Mohamed Maamoun', '105960': 'Evan King', '200095': 'Nicola Kuhn', '105227': 'Marin Cilic', '127300': 'Jurabek Karimov', '126652': 'Jay Clarke', '106296': 'Gregoire Barrere', '207415': 'Daniel Michalski', '144807': 'Kenneth Raisma', '124126': 'Sarp Agabigun', '126340': 'Viktor Durasovic', '105497': 'Jose Hernandez', '104251': 'Ti Chen', '106220': 'Dimitar Kuzmanov', '111574': 'Jc Aragone', '120424': 'Yannick Maden', '126190': 'Nicolas Alvarez', '110536': 'Kevin King', '105111': 'Ivan Endara', '105349': 'Harri Heliovaara', '104629': 'Adrian Menendez Maceiras', '105902': 'James Duckworth', '105812': 'David Agung Susanto', '104932': 'Kenny De Schepper', '200075': 'Yshai Oliel', '134114': 'Jad Ballout', '207971': 'Xavier Lawrence', '126203': 'Taylor Fritz', '106329': 'Thiago Monteiro', '126502': 'Luis Diego Chavez Villalpando', '104655': 'Pablo Cuevas', '106397': 'Wishaya Trongcharoenchaikul', '207836': 'Muzammil Murtaza', '105477': 'Marco Trungelliti', '200436': 'Zsombor Piros', '207972': 'Minjong Park', '104918': 'Andy Murray', '105936': 'Filip Krajinovic', '126952': 'Soon Woo Kwon', '106378': 'Kyle Edmund', '105015': 'Franko Skugor', '105683': 'Milos Raonic', '106333': 'Julien Cagnina', '202382': 'Simen Sunde Bratholm', '104731': 'Kevin Anderson', '105585': 'Ze Zhang', '207421': 'Alex Fairbanks', '105515': 'Jordi Samper Montana', '104665': 'Pablo Andujar', '105502': 'N Sriram Balaji', '110602': 'Dennis Novak', '104198': 'Guillermo Garcia Lopez', '103499': 'Aqeel Khan', '202165': 'Alberto Lim', '105216': 'Yuichi Sugita', '105166': 'Peter Polansky', '105085': 'Artem Smirnov', '200274': 'Alex Diaz', '111190': 'Zhizhen Zhang', '104297': 'Rogerio Dutra Silva', '144750': 'Lloyd Harris', '100644': 'Alexander Zverev', '104890': 'Andreas Haider Maurer', '106393': 'Frederico Ferreira Silva', '104999': 'Mischa Zverev', '105899': 'Martin Cuevas', '105614': 'Bradley Klahn', '105487': 'Facundo Bagnis', '104797': 'Denis Istomin', '105041': 'Lukas Lacko', '104593': 'Daniel Gimeno Traver', '111167': 'Ugo Nastasi', '106210': 'Jiri Vesely', '200273': 'Hady Habib', '106065': 'Marco Cecchinato', '106426': 'Christian Garin', '105226': 'Attila Balazs', '104291': 'Malek Jaziri', '138845': 'Anthony Jackie Tang', '106391': 'Adrian Bodmer', '104978': 'Daniel Brands', '106252': 'Joao Pedro Sorgi', '206768': 'Rafael Eduardo Gonzalez Retana', '104607': 'Tomas Berdych', '144776': 'Christophe Tholl', '106233': 'Dominic Thiem', '104656': 'Haydn Lewis', '200325': 'Emil Ruusuvuori', '105332': 'Benoit Paire', '122078': 'Dmitry Popko', '111200': 'Elias Ymer', '105163': 'Gleb Sakharov', '106324': 'Vaclav Safranek', '105757': 'Sandro Ehrat', '106398': 'Pedro Cachin', '200384': 'Hugo Gaston', '202130': 'Emil Reinberg', '144817': 'Marc Andrea Huesler', '126207': 'Frances Tiafoe', '126127': 'Benjamin Bonzi', '105074': 'Ruben Bemelmans', '105526': 'Jan Lennard Struff', '106044': 'Nicolas Kicker', '106368': 'Ramkumar Ramanathan', '105077': 'Albert Ramos', '126102': 'Nicolae Frunza', '106058': 'Jack Sock', '105561': 'Alessandro Giannessi', '106281': 'Liam Broady', '126526': 'Soren Hess Olesen', '103529': 'Aisam Ul Haq Qureshi', '104925': 'Novak Djokovic', '105932': 'Nikoloz Basilashvili', '105633': 'Mohamed Safwat', '106150': 'Jeson Patrombon', '111459': 'Arjun Kadhe', '111815': 'Cameron Norrie', '106005': 'Constant Lestienne', '121411': 'Moez Chargui', '111192': 'Lucas Miedler', '202385': 'Jenson Brooksby', '104926': 'Fabio Fognini', '104898': 'Robin Haase', '106043': 'Diego Schwartzman', '105479': 'Alejandro Mendoza', '133430': 'Denis Shapovalov', '104660': 'Sergiy Stakhovsky', '103990': 'Tommy Robredo', '202210': 'Edris Fetisleam', '105967': 'Henri Laaksonen', '134770': 'Casper Ruud', '104527': 'Stan Wawrinka', '126613': 'Bogdan Borza', '106298': 'Lucas Pouille', '106283': 'Mitchell Krueger', '106021': 'Dragos Dima', '105030': 'Michael Venus', '126610': 'Matteo Berrettini', '111460': 'Quentin Halys', '111581': 'Michael Mmoh', '200483': 'Peter August Anker', '111761': 'Benjamin Lock', '103917': 'Nicolas Mahut'}\n",
      "{'105827': 'LTU', '105870': 'GER', '106120': 'ESP', '106186': 'AUS', '122109': 'UZB', '104022': 'RUS', '106421': 'RUS', '144707': 'SWE', '122669': 'PER', '105634': 'ITA', '123795': 'TUR', '105441': 'AUS', '126120': 'CRO', '106110': 'SVK', '106072': 'RUS', '122548': 'ISR', '106000': 'BIH', '106361': 'CZE', '144895': 'FRA', '105649': 'GER', '105943': 'ITA', '133975': 'GER', '106174': 'CHI', '105357': 'AUS', '202090': 'BUL', '104534': 'ISR', '105613': 'SVK', '106250': 'MEX', '136440': 'GER', '200000': 'CAN', '126523': 'ESP', '132283': 'ITA', '106249': 'POR', '105554': 'GBR', '105449': 'USA', '104180': 'LUX', '105379': 'SLO', '122236': 'KAZ', '105299': 'BLR', '105292': 'COL', '126530': 'IRL', '105916': 'HUN', '106026': 'IND', '104745': 'ESP', '111794': 'POL', '105732': 'FRA', '106401': 'AUS', '106353': 'SRB', '105948': 'ARG', '200031': 'MON', '207400': 'ZIM', '117356': 'TUR', '104269': 'ESP', '105935': 'PER', '105985': 'BAR', '105676': 'BEL', '104719': 'ESP', '105656': 'ESA', '104871': 'FRA', '111575': 'RUS', '105341': 'ITA', '200484': 'GER', '105138': 'ESP', '124116': 'AUT', '104460': 'GER', '134886': 'SRI', '106214': 'GER', '123755': 'COL', '105606': 'IRI', '104755': 'FRA', '144760': 'MAR', '105550': 'ARG', '104233': 'DEN', '106218': 'USA', '103852': 'ESP', '106045': 'USA', '126094': 'RUS', '106423': 'AUS', '200711': 'COL', '104586': 'CZE', '104122': 'ARG', '106410': 'PER', '105155': 'POR', '200619': 'PUR', '105657': 'ROU', '104259': 'GER', '207176': 'INA', '106121': 'JPN', '105376': 'GER', '105952': 'ARG', '208029': 'DEN', '103565': 'FRA', '106099': 'ITA', '127339': 'CRO', '105051': 'AUS', '105583': 'SRB', '105493': 'BIH', '105671': 'POR', '105499': 'GUA', '144645': 'CZE', '103970': 'ESP', '200615': 'AUS', '106075': 'SVK', '105587': 'SLO', '105643': 'ARG', '134120': 'TPE', '200624': 'USA', '105842': 'CHN', '104563': 'ITA', '105566': 'IRI', '207479': 'MAR', '104970': 'ITA', '120792': 'PAK', '106167': 'BEL', '106105': 'BRA', '105691': 'NED', '104252': 'GER', '104907': 'NZL', '200574': 'CAN', '128034': 'POL', '200005': 'FRA', '104571': 'CYP', '106216': 'USA', '105311': 'POR', '104897': 'GER', '105453': 'JPN', '103893': 'ITA', '105132': 'EST', '205734': 'BRA', '127570': 'URU', '106412': 'MEX', '105373': 'SVK', '200175': 'SRB', '126535': 'ESP', '105413': 'SVK', '104468': 'FRA', '104620': 'ITA', '105806': 'BIH', '126174': 'EGY', '105065': 'USA', '106177': 'ESP', '104308': 'POL', '106415': 'JPN', '105707': 'RSA', '207139': 'THA', '122330': 'KAZ', '126845': 'AUS', '105578': 'COL', '111202': 'KOR', '105173': 'FRA', '111805': 'KOR', '105273': 'PER', '126125': 'FRA', '111442': 'AUS', '105223': 'ARG', '126204': 'MEX', '134868': 'NED', '123768': 'USA', '104494': 'ROU', '103781': 'AUT', '105023': 'USA', '105688': 'MEX', '207973': 'LTU', '124187': 'USA', '104882': 'SLO', '200514': 'AUT', '104672': 'FRA', '125802': 'BLR', '105961': 'VEN', '105359': 'TPE', '105626': 'ZIM', '200045': 'INA', '111797': 'CHI', '104678': 'SRB', '105589': 'AUT', '106138': 'BLR', '111795': 'ITA', '124014': 'USA', '105208': 'LAT', '106106': 'GEO', '105467': 'VEN', '144826': 'TUN', '104792': 'FRA', '111456': 'USA', '132482': 'USA', '108739': 'GUA', '105777': 'BUL', '105432': 'IND', '126846': 'AUS', '109698': 'DEN', '200611': 'FRA', '105807': 'ESP', '202358': 'TPE', '104947': 'TUR', '105539': 'RUS', '105882': 'ITA', '106198': 'BOL', '106432': 'CRO', '124022': 'HKG', '106109': 'AUS', '104542': 'FRA', '126205': 'USA', '134217': 'HKG', '105217': 'NED', '200282': 'AUS', '103607': 'DOM', '106348': 'RUS', '106228': 'ARG', '106328': 'USA', '200250': 'ZIM', '103819': 'SUI', '106148': 'ESP', '106325': 'QAT', '105815': 'USA', '109054': 'GER', '105430': 'MDA', '111511': 'USA', '105385': 'USA', '105238': 'UKR', '138846': 'HKG', '133297': 'JPN', '106232': 'DOM', '138431': 'BIH', '105992': 'USA', '127143': 'THA', '202462': 'SRI', '105063': 'ITA', '105933': 'ECU', '105575': 'LTU', '109739': 'GER', '200460': 'PHI', '105064': 'BRA', '103333': 'CRO', '104312': 'ITA', '105053': 'COL', '126774': 'GRE', '108763': 'ESA', '105156': 'BOL', '200401': 'IRI', '106071': 'AUS', '206000': 'LIB', '200218': 'HUN', '106175': 'VEN', '123921': 'FRA', '111577': 'USA', '104545': 'USA', '105436': 'SWE', '208028': 'URU', '207738': 'VEN', '105641': 'SLO', '104547': 'ARG', '106078': 'BLR', '111197': 'SWE', '126939': 'UZB', '104810': 'CHN', '124079': 'ESP', '104467': 'ALG', '200059': 'CHN', '111515': 'USA', '200278': 'IRL', '111153': 'USA', '104597': 'ESP', '105062': 'KAZ', '111790': 'CAN', '105577': 'CAN', '103898': 'FRA', '206642': 'MAR', '105819': 'ARG', '144719': 'ESP', '111578': 'USA', '104919': 'ARG', '200620': 'PUR', '105147': 'JPN', '111513': 'SRB', '111576': 'IND', '106396': 'TPE', '105747': 'EGY', '105960': 'USA', '200095': 'ESP', '105227': 'CRO', '127300': 'UZB', '126652': 'GBR', '106296': 'FRA', '207415': 'POL', '144807': 'EST', '124126': 'TUR', '126340': 'NOR', '105497': 'DOM', '104251': 'TPE', '106220': 'BUL', '111574': 'USA', '120424': 'GER', '126190': 'PER', '110536': 'USA', '105111': 'ECU', '105349': 'FIN', '104629': 'ESP', '105902': 'AUS', '105812': 'INA', '104932': 'FRA', '200075': 'ISR', '134114': 'TPE', '207971': 'BAR', '126203': 'USA', '106329': 'BRA', '126502': 'ESP', '104655': 'URU', '106397': 'THA', '207836': 'PAK', '105477': 'ARG', '200436': 'HUN', '207972': 'KOR', '104918': 'GBR', '105936': 'SRB', '126952': 'KOR', '106378': 'GBR', '105015': 'CRO', '105683': 'CAN', '106333': 'BEL', '202382': 'NOR', '104731': 'RSA', '105585': 'CHN', '207421': 'SRI', '105515': 'ESP', '104665': 'ESP', '105502': 'IND', '110602': 'AUT', '104198': 'ESP', '103499': 'PAK', '202165': 'PHI', '105216': 'JPN', '105166': 'CAN', '105085': 'UKR', '200274': 'PUR', '111190': 'CHN', '104297': 'BRA', '144750': 'RSA', '100644': 'GER', '104890': 'AUT', '106393': 'POR', '104999': 'GER', '105899': 'URU', '105614': 'USA', '105487': 'ARG', '104797': 'UZB', '105041': 'SVK', '104593': 'ESP', '111167': 'LUX', '106210': 'CZE', '200273': 'LIB', '106065': 'ITA', '106426': 'CHI', '105226': 'HUN', '104291': 'TUN', '138845': 'HKG', '106391': 'SUI', '104978': 'GER', '106252': 'BRA', '206768': 'ESA', '104607': 'CZE', '144776': 'LUX', '106233': 'AUT', '104656': 'BAR', '200325': 'FIN', '105332': 'FRA', '122078': 'KAZ', '111200': 'SWE', '105163': 'FRA', '106324': 'CZE', '105757': 'SUI', '106398': 'ARG', '200384': 'FRA', '202130': 'USA', '144817': 'SUI', '126207': 'USA', '126127': 'FRA', '105074': 'BEL', '105526': 'GER', '106044': 'ARG', '106368': 'IND', '105077': 'ESP', '126102': 'ROU', '106058': 'USA', '105561': 'ITA', '106281': 'GBR', '126526': 'DEN', '103529': 'PAK', '104925': 'SRB', '105932': 'GEO', '105633': 'EGY', '106150': 'PHI', '111459': 'IND', '111815': 'GBR', '106005': 'FRA', '121411': 'TUN', '111192': 'AUT', '202385': 'USA', '104926': 'ITA', '104898': 'NED', '106043': 'ARG', '105479': 'BOL', '133430': 'CAN', '104660': 'UKR', '103990': 'ESP', '202210': 'ROU', '105967': 'SUI', '134770': 'NOR', '104527': 'SUI', '126613': 'ROU', '106298': 'FRA', '106283': 'USA', '106021': 'ROU', '105030': 'NZL', '126610': 'ITA', '111460': 'FRA', '111581': 'USA', '200483': 'NOR', '111761': 'ZIM', '103917': 'FRA'}\n"
     ]
    }
   ],
   "source": [
    "print(data.dtypes)\n",
    "print(G.edges.data(\"weight\"))\n",
    "print(nx.get_node_attributes(G, \"name\"))\n",
    "print(nx.get_node_attributes(G, \"country\"))\n",
    "output_path = \"models/undirected_graph_2018.gml\"\n",
    "\n",
    "nx.write_gml(G, output_path)\n"
   ]
  },
  {
   "cell_type": "markdown",
   "metadata": {},
   "source": [
    "1.pitanje Koliki je prosecan broj tenisera(saigraca) po svakom teniseru? \n",
    "gephi->ucitala graf, Statistics -> Network Overview -> Average Degree\n",
    "\n",
    "<img src=\"img/1.pitanje_average_degree\" width=500 height=500 />"
   ]
  },
  {
   "cell_type": "code",
   "execution_count": 15,
   "metadata": {},
   "outputs": [
    {
     "name": "stdout",
     "output_type": "stream",
     "text": [
      "('104926', 61)\n",
      "Fabio Fognini\n"
     ]
    }
   ],
   "source": [
    "#2.pitanje Koji teniseri su se susretali sa najvecim brojem drugih tenisera\n",
    "my_degrees = dict(G.degree()) #dictionary key:value\n",
    "degree_values = [v for k, v in G.degree()]\n",
    "\n",
    "print(max(my_degrees.items(), key= lambda x: x[1])) #max u tom dict \n",
    "\n",
    "print(nx.get_node_attributes(G, 'name')['104926']) #atribut name za cvor ciji je index rezultat prethodnog upita"
   ]
  },
  {
   "cell_type": "code",
   "execution_count": 16,
   "metadata": {},
   "outputs": [
    {
     "name": "stdout",
     "output_type": "stream",
     "text": [
      "      player_id                      tourney_id\n",
      "0        105992                       2018-M020\n",
      "1        111577                       2018-M020\n",
      "2        104797                       2018-M020\n",
      "3        200282                       2018-M020\n",
      "4        111581                       2018-M020\n",
      "...         ...                             ...\n",
      "2877     105227                       2018-0605\n",
      "2878     100644                       2018-0605\n",
      "2880     104925                       2018-0605\n",
      "2886     106432  2018-M-DC-2018-WG-M-FRA-CRO-01\n",
      "2887     105227  2018-M-DC-2018-WG-M-FRA-CRO-01\n",
      "\n",
      "[1587 rows x 2 columns]\n",
      "      player_id                      tourney_id\n",
      "0        104919                       2018-M020\n",
      "1        111442                       2018-M020\n",
      "2        106000                       2018-M020\n",
      "3        105449                       2018-M020\n",
      "4        105643                       2018-M020\n",
      "...         ...                             ...\n",
      "2882     100644                       2018-0605\n",
      "2885     104925                       2018-0605\n",
      "2886     104871  2018-M-DC-2018-WG-M-FRA-CRO-01\n",
      "2887     104542  2018-M-DC-2018-WG-M-FRA-CRO-01\n",
      "2888     106298  2018-M-DC-2018-WG-M-FRA-CRO-01\n",
      "\n",
      "[2847 rows x 2 columns]\n",
      "      player_id                      tourney_id\n",
      "0        105992                       2018-M020\n",
      "1        111577                       2018-M020\n",
      "2        104797                       2018-M020\n",
      "3        200282                       2018-M020\n",
      "4        111581                       2018-M020\n",
      "...         ...                             ...\n",
      "4429     100644                       2018-0605\n",
      "4430     104925                       2018-0605\n",
      "4431     104871  2018-M-DC-2018-WG-M-FRA-CRO-01\n",
      "4432     104542  2018-M-DC-2018-WG-M-FRA-CRO-01\n",
      "4433     106298  2018-M-DC-2018-WG-M-FRA-CRO-01\n",
      "\n",
      "[4434 rows x 2 columns]\n",
      "      player_id                      tourney_id\n",
      "0        105992                       2018-M020\n",
      "1        111577                       2018-M020\n",
      "2        104797                       2018-M020\n",
      "3        200282                       2018-M020\n",
      "4        111581                       2018-M020\n",
      "...         ...                             ...\n",
      "4416     132482                       2018-7696\n",
      "4427     104545                       2018-0605\n",
      "4431     104871  2018-M-DC-2018-WG-M-FRA-CRO-01\n",
      "4432     104542  2018-M-DC-2018-WG-M-FRA-CRO-01\n",
      "4433     106298  2018-M-DC-2018-WG-M-FRA-CRO-01\n",
      "\n",
      "[3048 rows x 2 columns]\n",
      "           tourney_id\n",
      "player_id            \n",
      "100644             23\n",
      "103333             16\n",
      "103499              2\n",
      "103529              2\n",
      "103565              2\n",
      "...               ...\n",
      "207971              1\n",
      "207972              1\n",
      "207973              1\n",
      "208028              1\n",
      "208029              1\n",
      "\n",
      "[419 rows x 1 columns]\n",
      "Alexander Zverev\n",
      "Ivo Karlovic\n"
     ]
    }
   ],
   "source": [
    "#3.pitanje Koji teniseri su ucestvovali na najvecem broju (razlicih) turnira?\n",
    "winner_tourney_columns = ['winner_id', 'tourney_id']\n",
    "loser_tourney_columns = ['loser_id', 'tourney_id']\n",
    "\n",
    "dataWinner_tourney = data[winner_tourney_columns].drop_duplicates()\n",
    "dataWinner_tourney = dataWinner_tourney.rename(columns = {'winner_id': 'player_id'})\n",
    "print(dataWinner_tourney)\n",
    "\n",
    "dataLoser_tourney = data[loser_tourney_columns].drop_duplicates()\n",
    "dataLoser_tourney = dataLoser_tourney.rename(columns = {'loser_id': 'player_id'})\n",
    "print(dataLoser_tourney)\n",
    "\n",
    "#unija pobednika i gubitnika sa preimenovanom kolonom player_id, zbog konkatenacije\n",
    "dataWinnerAndLoserUnion = pd.concat([dataWinner_tourney, dataLoser_tourney], ignore_index=True)\n",
    "print(dataWinnerAndLoserUnion)\n",
    "\n",
    "#izbaci duplikate\n",
    "dataWinnerAndLoserUnion = dataWinnerAndLoserUnion.drop_duplicates()\n",
    "print(dataWinnerAndLoserUnion)\n",
    "\n",
    "#grupisi po player_id pa izdvoj po sumi\n",
    "dataWinnerAndLoserUnion = dataWinnerAndLoserUnion.groupby('player_id').count()\n",
    "print(dataWinnerAndLoserUnion)\n",
    "\n",
    "\n",
    "print(nx.get_node_attributes(G, 'name')['100644'])\n",
    "print(nx.get_node_attributes(G, 'name')['103333'])\n",
    "\n",
    "#proveri presek, datawinner.drop_duplicates, dataloser.drop_dupicates pa onda preimenuj kolone u id, unija pa onda drop_duplicates, pa group_by pa count pa onda uzmes resenje\n"
   ]
  },
  {
   "cell_type": "code",
   "execution_count": 17,
   "metadata": {},
   "outputs": [
    {
     "name": "stdout",
     "output_type": "stream",
     "text": [
      "[('104926', 0.14593301435406697), ('106233', 0.13157894736842105), ('126774', 0.12679425837320574), ('100644', 0.12440191387559808), ('104755', 0.12200956937799043)]\n"
     ]
    }
   ],
   "source": [
    "#4.pitanje Koji teniseri su dobri kandidati za predstavnike profesionalnih tenisera? Da li se i sta se menja ukoliko se umesto jednog bira skup od nekoliko predstavnika? Dobar predstavnik ili predstavnici bi trebalo da budu u kontaktu sa sto vecim skupom tenisera\n",
    "\n",
    "#proveriti ovaj 2.deo na sta se odnosi????\n",
    "#mere centralnosti koristim Degree centrality, vise u kontaktu sa drugim teniserima teze da budu predstavnici\n",
    "import operator\n",
    "dictionary = dict(nx.degree_centrality(G))\n",
    "print(sorted(dictionary.items(), key=operator.itemgetter(1), reverse=True)[:5])"
   ]
  },
  {
   "cell_type": "code",
   "execution_count": 18,
   "metadata": {},
   "outputs": [
    {
     "name": "stdout",
     "output_type": "stream",
     "text": [
      "Fabio Fognini\n",
      "Dominic Thiem\n",
      "Stefanos Tsitsipas\n",
      "Alexander Zverev\n",
      "Richard Gasquet\n"
     ]
    }
   ],
   "source": [
    "print(nx.get_node_attributes(G, 'name')['104926'])\n",
    "print(nx.get_node_attributes(G, 'name')['106233'])\n",
    "print(nx.get_node_attributes(G, 'name')['126774'])\n",
    "print(nx.get_node_attributes(G, 'name')['100644'])\n",
    "print(nx.get_node_attributes(G, 'name')['104755'])"
   ]
  },
  {
   "cell_type": "markdown",
   "metadata": {},
   "source": [
    "Prvo kreiramo masku koja ce da selektuje sve igrace koji su u skupu igraca koji su igrali mec u 2018\n",
    "Potom dobijen rezultat grupisemo po drzavi i sortiramo zatim\n",
    "Najaktivniji su iz SAD, Francuske, Spanije, Nemacke, Italije\n",
    "Srbija na 9 mestu sa Rusijom i Kanadom sa 7 aktivnih igraca"
   ]
  },
  {
   "cell_type": "code",
   "execution_count": 19,
   "metadata": {},
   "outputs": [
    {
     "name": "stdout",
     "output_type": "stream",
     "text": [
      "country_code\n",
      "USA    34\n",
      "FRA    25\n",
      "ESP    24\n",
      "GER    18\n",
      "ITA    17\n",
      "ARG    15\n",
      "AUS    14\n",
      "AUT     8\n",
      "RUS     7\n",
      "CAN     7\n",
      "SRB     7\n",
      "GBR     6\n",
      "CZE     6\n",
      "CRO     6\n",
      "ROU     6\n",
      "SVK     6\n",
      "SUI     6\n",
      "BRA     6\n",
      "TPE     6\n",
      "IND     6\n",
      "Name: country_code, dtype: int64\n"
     ]
    }
   ],
   "source": [
    "maska_active_players = players_data['player_id'].isin(skup_id) \n",
    "active_players_2018 = players_data[maska_active_players]\n",
    "data_grupisano = active_players_2018[['player_id', 'country_code']].groupby('country_code')\n",
    "data_agregirano = data_grupisano['country_code'].agg(np.size)\n",
    "\n",
    "print(data_agregirano.sort_values(ascending=False).head(20))"
   ]
  },
  {
   "cell_type": "markdown",
   "metadata": {},
   "source": [
    "Analiza komuna\n",
    "\n",
    "U realnim mrezama mogu se uociti gusce povezani delovi mreze, odredjeni broj aktera bolje povezani nego sa ostalim clanovima mreze -> grupe ili zajednica. Mogu biti odvojene ili delimicno se preklapati.\n",
    "\n",
    "Modularnost je mera kvaliteta particionisanja cvorova mreze u odgovarajuce klastere.\n",
    "\n",
    "1. implementiracemo bottom-up pristup -> Louvain metod\n",
    "2. primenicemo metriku modularnosti i analizu u Gephi alatu da bismo analizirali izdvojene komune/klastere i prikazali ih"
   ]
  },
  {
   "cell_type": "code",
   "execution_count": 20,
   "metadata": {},
   "outputs": [
    {
     "name": "stdout",
     "output_type": "stream",
     "text": [
      "Requirement already satisfied: python-louvain in d:\\programcici\\anaconda3\\lib\\site-packages (0.15)\n",
      "Requirement already satisfied: numpy in d:\\programcici\\anaconda3\\lib\\site-packages (from python-louvain) (1.19.2)\n",
      "Requirement already satisfied: networkx in d:\\programcici\\anaconda3\\lib\\site-packages (from python-louvain) (2.5)\n",
      "Requirement already satisfied: decorator>=4.3.0 in d:\\programcici\\anaconda3\\lib\\site-packages (from networkx->python-louvain) (4.4.2)\n",
      "{'105827': 0, '105870': 1, '106120': 1, '106186': 17, '122109': 3, '104022': 0, '106421': 4, '144707': 0, '122669': 5, '105634': 6, '123795': 7, '105441': 8, '126120': 6, '106110': 1, '106072': 6, '122548': 0, '106000': 4, '106361': 0, '144895': 6, '105649': 6, '105943': 0, '133975': 10, '106174': 1, '105357': 6, '202090': 3, '104534': 0, '105613': 4, '106250': 5, '136440': 17, '200000': 6, '126523': 0, '132283': 17, '106249': 1, '105554': 3, '105449': 4, '104180': 0, '105379': 7, '122236': 11, '105299': 4, '105292': 12, '126530': 13, '105916': 0, '106026': 3, '104745': 4, '111794': 7, '105732': 3, '106401': 17, '106353': 4, '105948': 12, '200031': 0, '207400': 15, '117356': 7, '104269': 17, '105935': 16, '105985': 12, '105676': 0, '104719': 0, '105656': 21, '104871': 4, '111575': 4, '105341': 4, '200484': 6, '105138': 0, '124116': 1, '104460': 11, '134886': 10, '106214': 8, '123755': 12, '105606': 10, '104755': 4, '144760': 1, '105550': 17, '104233': 13, '106218': 21, '103852': 1, '106045': 17, '126094': 17, '106423': 17, '200711': 1, '104586': 12, '104122': 1, '106410': 19, '105155': 8, '200619': 5, '105657': 7, '104259': 4, '207176': 10, '106121': 1, '105376': 8, '105952': 1, '208029': 20, '103565': 1, '106099': 0, '127339': 8, '105051': 7, '105583': 1, '105493': 1, '105671': 1, '105499': 21, '144645': 4, '103970': 4, '200615': 6, '106075': 8, '105587': 7, '105643': 1, '134120': 10, '200624': 7, '105842': 12, '104563': 0, '105566': 22, '207479': 23, '104970': 8, '120792': 24, '106167': 8, '106105': 12, '105691': 0, '104252': 0, '104907': 12, '200574': 1, '128034': 7, '200005': 0, '104571': 0, '106216': 6, '105311': 0, '104897': 4, '105453': 4, '103893': 7, '105132': 6, '205734': 1, '127570': 25, '106412': 21, '105373': 1, '200175': 3, '126535': 4, '105413': 6, '104468': 8, '104620': 1, '105806': 0, '126174': 20, '105065': 7, '106177': 7, '104308': 7, '106415': 17, '105707': 0, '207139': 10, '122330': 3, '126845': 0, '105578': 26, '111202': 4, '105173': 0, '111805': 3, '105273': 27, '126125': 4, '111442': 12, '105223': 4, '126204': 5, '134868': 0, '123768': 0, '104494': 7, '103781': 4, '105023': 17, '105688': 5, '207973': 6, '124187': 8, '104882': 7, '200514': 17, '104672': 6, '125802': 6, '105961': 1, '105359': 0, '105626': 7, '200045': 10, '111797': 1, '104678': 1, '105589': 6, '106138': 17, '111795': 4, '124014': 1, '105208': 8, '106106': 4, '105467': 21, '144826': 0, '104792': 1, '111456': 0, '132482': 17, '108739': 21, '105777': 17, '105432': 8, '126846': 1, '109698': 20, '200611': 1, '105807': 4, '202358': 17, '104947': 0, '105539': 4, '105882': 6, '106198': 16, '106432': 4, '124022': 10, '106109': 0, '104542': 17, '126205': 7, '134217': 28, '105217': 0, '200282': 4, '103607': 12, '106348': 0, '106228': 11, '106328': 4, '200250': 29, '103819': 4, '106148': 1, '106325': 6, '105815': 4, '109054': 6, '105430': 8, '111511': 17, '105385': 4, '105238': 1, '138846': 10, '133297': 0, '106232': 12, '138431': 0, '105992': 8, '127143': 10, '202462': 10, '105063': 6, '105933': 1, '105575': 0, '109739': 6, '200460': 10, '105064': 1, '103333': 6, '104312': 0, '105053': 12, '126774': 4, '108763': 1, '105156': 5, '200401': 28, '106071': 0, '206000': 17, '200218': 12, '106175': 21, '123921': 1, '111577': 12, '104545': 8, '105436': 11, '208028': 18, '207738': 18, '105641': 7, '104547': 1, '106078': 0, '111197': 11, '126939': 14, '104810': 12, '124079': 0, '104467': 4, '200059': 12, '111515': 17, '200278': 13, '111153': 1, '104597': 11, '105062': 4, '111790': 1, '105577': 4, '103898': 0, '206642': 9, '105819': 17, '144719': 1, '111578': 17, '104919': 1, '200620': 5, '105147': 1, '111513': 7, '111576': 6, '106396': 10, '105747': 0, '105960': 12, '200095': 12, '105227': 4, '127300': 8, '126652': 8, '106296': 4, '207415': 15, '144807': 0, '124126': 29, '126340': 0, '105497': 12, '104251': 2, '106220': 0, '111574': 0, '120424': 6, '126190': 5, '110536': 0, '105111': 1, '105349': 0, '104629': 4, '105902': 17, '105812': 10, '104932': 3, '200075': 12, '134114': 2, '207971': 26, '126203': 17, '106329': 12, '126502': 27, '104655': 1, '106397': 10, '207836': 14, '105477': 0, '200436': 12, '207972': 24, '104918': 17, '105936': 6, '126952': 3, '106378': 0, '105015': 4, '105683': 0, '106333': 12, '202382': 0, '104731': 4, '105585': 6, '207421': 10, '105515': 8, '104665': 6, '105502': 4, '110602': 17, '104198': 1, '103499': 3, '202165': 10, '105216': 6, '105166': 12, '105085': 0, '200274': 5, '111190': 17, '104297': 1, '144750': 0, '100644': 4, '104890': 1, '106393': 1, '104999': 4, '105899': 21, '105614': 6, '105487': 1, '104797': 3, '105041': 8, '104593': 12, '111167': 7, '106210': 12, '200273': 10, '106065': 0, '106426': 17, '105226': 8, '104291': 0, '138845': 22, '106391': 11, '104978': 8, '106252': 12, '206768': 25, '104607': 4, '144776': 7, '106233': 4, '104656': 12, '200325': 0, '105332': 4, '122078': 11, '111200': 0, '105163': 4, '106324': 12, '105757': 11, '106398': 1, '200384': 6, '202130': 0, '144817': 11, '126207': 7, '126127': 8, '105074': 1, '105526': 6, '106044': 12, '106368': 12, '105077': 1, '126102': 7, '106058': 8, '105561': 12, '106281': 6, '126526': 13, '103529': 3, '104925': 4, '105932': 4, '105633': 0, '106150': 10, '111459': 3, '111815': 8, '106005': 6, '121411': 0, '111192': 4, '202385': 6, '104926': 1, '104898': 0, '106043': 1, '105479': 19, '133430': 4, '104660': 0, '103990': 6, '202210': 9, '105967': 11, '134770': 1, '104527': 17, '126613': 7, '106298': 6, '106283': 3, '106021': 23, '105030': 6, '126610': 8, '111460': 1, '111581': 1, '200483': 20, '111761': 7, '103917': 0}\n"
     ]
    },
    {
     "data": {
      "image/png": "[encoded data removed]",
      "text/plain": [
       "<Figure size 432x288 with 1 Axes>"
      ]
     },
     "metadata": {},
     "output_type": "display_data"
    }
   ],
   "source": [
    "import sys\n",
    "!{sys.executable} -m pip install python-louvain\n",
    "import community as community_louvain\n",
    "import matplotlib.pyplot as plt\n",
    "import matplotlib.cm as cm\n",
    "partition = community_louvain.best_partition(G)\n",
    "\n",
    "print(partition)\n",
    "\n",
    "#vizuelno\n",
    "pos = nx.spring_layout(G)\n",
    "cmap = cm.get_cmap('viridis', max(partition.values()) + 1)\n",
    "nx.draw_networkx_nodes(G, pos, partition.keys(), node_size=200, cmap=cmap, node_color=list(partition.values()))\n",
    "nx.draw_networkx_edges(G, pos, alpha=1)\n",
    "plt.show()\n"
   ]
  },
  {
   "cell_type": "markdown",
   "metadata": {},
   "source": [
    "Gephi alat i analiza izdvojenih komuna primenom analize modularnosti\n",
    "\n",
    "\n",
    "<img src=\"img/modularity_analysis.png\" width=1000 height=1000 />\n",
    "\n",
    "Po opadajucim vrednostima 5 komuna sa najvecom modularnoscu: \n",
    "\n",
    "<img src=\"img/top5ValueModularityClass.png\" width=1000 height=1000 />\n",
    "\n",
    "Uoceno je da mreze sa vecom modularnoscu podeljene na klastere koji su, unutar sebe, gusto povezani. Ovakve mreze po definiciji, ali i sto se da videti sa prilozenih slika, nemaju veliki broj veza sa ostatkom mreze.\n",
    "\n",
    "#TODO objasnjenje za detektovane komune, analiziraj tenisere, da li postoji veza izmedju njih i zasto su oni bas bolje povezani.\n",
    "\n"
   ]
  },
  {
   "cell_type": "markdown",
   "metadata": {},
   "source": [
    "10. Sprovesti analizu klasterisanja i asortativnu analizu, pa uporediti grupisanje na osnovu zemlje iz koje igrači dolaze, na osnovu broja mečeva koje igraju i na osnovu rejtinga\n",
    "\n",
    "\n",
    "Lokalni koeficijent klasterizacije se računa kao gustina mreže koju čine posmatrani čvor, njegovi susedi i njihove međusobne veze\n",
    "\n",
    "Stepen klasterizacije kompletne mreže se računa na osnovu proseka pojedinačnih čvorova\n",
    "\n",
    "\n",
    "Globalni koeficijent klasterizacije (alternativa)- Posmatra zatvorene trijade unutar mreze u odnosu na sve moguće povezane trijade"
   ]
  },
  {
   "cell_type": "code",
   "execution_count": 21,
   "metadata": {
    "scrolled": true
   },
   "outputs": [
    {
     "name": "stdout",
     "output_type": "stream",
     "text": [
      "Max lokalni cc: 0.20000000000000004\n",
      "Prosečan cc: 0.12227548001603937\n",
      "Lokalni stepeni klasterisanja koji nisu nula:\n",
      "         id        cc\n",
      "195  105967  0.003030\n",
      "45   104122  0.013333\n",
      "126  106071  0.013767\n",
      "63   106216  0.014286\n",
      "68   105132  0.015152\n",
      "..      ...       ...\n",
      "96   132482  0.192659\n",
      "127  200218  0.200000\n",
      "71   200175  0.200000\n",
      "15   126523  0.200000\n",
      "87   104672  0.200000\n",
      "\n",
      "[204 rows x 2 columns]\n",
      "Alexander Zverev\n",
      "419\n",
      "204\n",
      "100644\n",
      "Tranzitivnost 0.23329403817370226\n"
     ]
    }
   ],
   "source": [
    "player_id, clustering_coef = zip(*nx.clustering(G, weight = \"weight\").items())\n",
    "\n",
    "nenula = [(id_ig, cc)  for id_ig, cc in zip(player_id, clustering_coef) if cc > 0]\n",
    "\n",
    "df = pd.DataFrame(nenula, columns = [\"id\", \"cc\"])\n",
    "df.sort_values('cc', inplace = True)\n",
    "\n",
    "max_lokalni_stepen_klasterisanja = max(clustering_coef)\n",
    "\n",
    "prosecni_stepen_klasterisanja = nx.average_clustering(G)\n",
    "\n",
    "print(f\"Max lokalni cc: {max_lokalni_stepen_klasterisanja}\")\n",
    "print(f\"Prosečan cc: {prosecni_stepen_klasterisanja}\")\n",
    "print(\"Lokalni stepeni klasterisanja koji nisu nula:\")\n",
    "print(df)\n",
    "print(nx.get_node_attributes(G, 'name')['100644'])\n",
    "print(len(nx.triangles(G).items()))\n",
    "newDict = dict(filter(lambda elem: elem[1] > 0,nx.triangles(G).items()))\n",
    "print(len(newDict))\n",
    "v=list(newDict.values())\n",
    "k=list(newDict.keys())\n",
    "print(k[v.index(max(v))]) \n",
    "\n",
    "transitivity = nx.transitivity(G)\n",
    "print(f\"Tranzitivnost {transitivity}\")"
   ]
  },
  {
   "cell_type": "code",
   "execution_count": 22,
   "metadata": {},
   "outputs": [
    {
     "data": {
      "text/plain": [
       "{('105216', '106298'): Text(0.2500000372529033, -0.43301270835610933, '1'),\n",
       " ('105216', '104672'): Text(0.24999996274709668, 0.43301271829021687, '1'),\n",
       " ('104672', '106298'): Text(-0.5, -9.934107536579972e-09, '1')}"
      ]
     },
     "execution_count": 22,
     "metadata": {},
     "output_type": "execute_result"
    },
    {
     "data": {
      "image/png": "[encoded data removed]",
      "text/plain": [
       "<Figure size 1080x720 with 1 Axes>"
      ]
     },
     "metadata": {},
     "output_type": "display_data"
    }
   ],
   "source": [
    "# možemo iskoristiti networkx.draw_network da predstavimo egomrežu tog čvora\n",
    "ego_mreza = nx.ego_graph(G, '104672')\n",
    "plt.figure(figsize=(15,10))\n",
    "tezine_grana = nx.get_edge_attributes(ego_mreza,'weight')\n",
    "pos = nx.circular_layout(ego_mreza)\n",
    "#pos = nx.spring_layout(ego_mreza)\n",
    "#print(pos)\n",
    "nx.draw_networkx(ego_mreza, pos)\n",
    "nx.draw_networkx_edge_labels(ego_mreza, pos, edge_labels = tezine_grana)"
   ]
  },
  {
   "cell_type": "markdown",
   "metadata": {},
   "source": [
    "Asortativnost:\n",
    "Homofilija - tendencija ljudi da stvaraju veze sa sebi slicnim ljudima\n",
    "U analizi socijalnih mreze homofilija u formi asortativnosti - cvorovi imaju tendenciju da se povezuju sa cvorovima slicnog stepena"
   ]
  },
  {
   "cell_type": "code",
   "execution_count": 23,
   "metadata": {},
   "outputs": [
    {
     "name": "stdout",
     "output_type": "stream",
     "text": [
      "Koeficijent asortativnosti na osnovu netežinskog stepena čvora: 0.21868975600564688\n",
      "Koeficijent asortativnosti na osnovu težinskog stepena čvora: 0.22945507317379313\n"
     ]
    }
   ],
   "source": [
    "# asortativnost na osnovu netežinskog stepena čvora\n",
    "r1 = nx.degree_assortativity_coefficient(G)\n",
    "print(f\"Koeficijent asortativnosti na osnovu netežinskog stepena čvora: {r1}\")\n",
    "\n",
    "# asortativnost na osnovu težinskog stepena čvora\n",
    "r2 = nx.degree_assortativity_coefficient(G, weight='weight')\n",
    "print(f\"Koeficijent asortativnosti na osnovu težinskog stepena čvora: {r2}\")"
   ]
  },
  {
   "cell_type": "code",
   "execution_count": 24,
   "metadata": {},
   "outputs": [
    {
     "name": "stdout",
     "output_type": "stream",
     "text": [
      "{'105827': 3, '105870': 6, '106120': 5, '106186': 5, '122109': 2, '104022': 17, '106421': 20, '144707': 8, '122669': 2, '105634': 5, '123795': 1, '105441': 4, '126120': 1, '106110': 2, '106072': 4, '122548': 2, '106000': 20, '106361': 3, '144895': 9, '105649': 2, '105943': 2, '133975': 2, '106174': 1, '105357': 20, '202090': 1, '104534': 11, '105613': 3, '106250': 2, '136440': 3, '200000': 11, '126523': 2, '132283': 10, '106249': 2, '105554': 2, '105449': 20, '104180': 18, '105379': 20, '122236': 1, '105299': 1, '105292': 2, '126530': 2, '105916': 20, '106026': 10, '104745': 20, '111794': 3, '105732': 20, '106401': 20, '106353': 1, '105948': 2, '200031': 1, '207400': 1, '117356': 3, '104269': 20, '105935': 1, '105985': 2, '105676': 20, '104719': 8, '105656': 2, '104871': 20, '111575': 20, '105341': 13, '200484': 5, '105138': 20, '124116': 4, '104460': 4, '134886': 1, '106214': 3, '123755': 3, '105606': 1, '104755': 20, '144760': 3, '105550': 20, '104233': 2, '106218': 2, '103852': 20, '106045': 18, '126094': 20, '106423': 7, '200711': 1, '104586': 4, '104122': 5, '106410': 1, '105155': 4, '200619': 1, '105657': 20, '104259': 20, '207176': 1, '106121': 20, '105376': 20, '105952': 1, '208029': 1, '103565': 2, '106099': 4, '127339': 1, '105051': 20, '105583': 20, '105493': 1, '105671': 9, '105499': 1, '144645': 1, '103970': 15, '200615': 4, '106075': 11, '105587': 1, '105643': 18, '134120': 1, '200624': 1, '105842': 2, '104563': 1, '105566': 1, '207479': 1, '104970': 1, '120792': 1, '106167': 2, '106105': 3, '105691': 1, '104252': 15, '104907': 2, '200574': 1, '128034': 11, '200005': 4, '104571': 18, '106216': 6, '105311': 20, '104897': 7, '105453': 20, '103893': 15, '105132': 6, '205734': 1, '127570': 1, '106412': 2, '105373': 19, '200175': 2, '126535': 3, '105413': 5, '104468': 20, '104620': 7, '105806': 20, '126174': 1, '105065': 12, '106177': 2, '104308': 1, '106415': 18, '105707': 2, '207139': 2, '122330': 5, '126845': 1, '105578': 1, '111202': 20, '105173': 20, '111805': 1, '105273': 1, '126125': 1, '111442': 9, '105223': 20, '126204': 2, '134868': 2, '123768': 1, '104494': 3, '103781': 3, '105023': 20, '105688': 1, '207973': 1, '124187': 4, '104882': 10, '200514': 1, '104672': 2, '125802': 13, '105961': 1, '105359': 5, '105626': 3, '200045': 1, '111797': 20, '104678': 14, '105589': 9, '106138': 1, '111795': 1, '124014': 11, '105208': 12, '106106': 1, '105467': 1, '144826': 1, '104792': 20, '111456': 16, '132482': 4, '108739': 1, '105777': 20, '105432': 6, '126846': 1, '109698': 1, '200611': 1, '105807': 20, '202358': 1, '104947': 1, '105539': 19, '105882': 8, '106198': 1, '106432': 20, '124022': 2, '106109': 6, '104542': 10, '126205': 4, '134217': 1, '105217': 3, '200282': 20, '103607': 8, '106348': 1, '106228': 1, '106328': 3, '200250': 1, '103819': 20, '106148': 19, '106325': 1, '105815': 20, '109054': 3, '105430': 18, '111511': 8, '105385': 14, '105238': 8, '138846': 1, '133297': 3, '106232': 2, '138431': 1, '105992': 20, '127143': 2, '202462': 2, '105063': 2, '105933': 4, '105575': 16, '109739': 20, '200460': 2, '105064': 5, '103333': 18, '104312': 20, '105053': 4, '126774': 20, '108763': 1, '105156': 1, '200401': 1, '106071': 11, '206000': 1, '200218': 2, '106175': 2, '123921': 5, '111577': 19, '104545': 20, '105436': 2, '208028': 1, '207738': 1, '105641': 1, '104547': 15, '106078': 6, '111197': 1, '126939': 1, '104810': 1, '124079': 2, '104467': 3, '200059': 6, '111515': 1, '200278': 2, '111153': 1, '104597': 1, '105062': 20, '111790': 1, '105577': 16, '103898': 18, '206642': 1, '105819': 9, '144719': 16, '111578': 1, '104919': 20, '200620': 1, '105147': 1, '111513': 19, '111576': 2, '106396': 1, '105747': 2, '105960': 1, '200095': 2, '105227': 20, '127300': 1, '126652': 4, '106296': 4, '207415': 1, '144807': 1, '124126': 1, '126340': 1, '105497': 2, '104251': 1, '106220': 1, '111574': 1, '120424': 12, '126190': 1, '110536': 2, '105111': 1, '105349': 3, '104629': 6, '105902': 6, '105812': 1, '104932': 2, '200075': 1, '134114': 1, '207971': 1, '126203': 20, '106329': 11, '126502': 1, '104655': 19, '106397': 2, '207836': 1, '105477': 6, '200436': 3, '207972': 1, '104918': 9, '105936': 19, '126952': 2, '106378': 20, '105015': 5, '105683': 20, '106333': 1, '202382': 1, '104731': 20, '105585': 2, '207421': 1, '105515': 1, '104665': 9, '105502': 1, '110602': 9, '104198': 20, '103499': 2, '202165': 1, '105216': 20, '105166': 11, '105085': 2, '200274': 1, '111190': 1, '104297': 14, '144750': 4, '100644': 20, '104890': 8, '106393': 1, '104999': 20, '105899': 2, '105614': 11, '105487': 5, '104797': 19, '105041': 17, '104593': 1, '111167': 1, '106210': 18, '200273': 2, '106065': 20, '106426': 3, '105226': 2, '104291': 20, '138845': 1, '106391': 2, '104978': 1, '106252': 2, '206768': 1, '104607': 19, '144776': 1, '106233': 20, '104656': 1, '200325': 3, '105332': 20, '122078': 2, '111200': 10, '105163': 1, '106324': 1, '105757': 1, '106398': 1, '200384': 1, '202130': 1, '144817': 2, '126207': 20, '126127': 1, '105074': 17, '105526': 20, '106044': 14, '106368': 11, '105077': 20, '126102': 1, '106058': 15, '105561': 2, '106281': 4, '126526': 2, '103529': 2, '104925': 20, '105932': 20, '105633': 3, '106150': 2, '111459': 1, '111815': 20, '106005': 3, '121411': 1, '111192': 1, '202385': 1, '104926': 20, '104898': 20, '106043': 20, '105479': 1, '133430': 20, '104660': 8, '103990': 2, '202210': 1, '105967': 7, '134770': 10, '104527': 20, '126613': 1, '106298': 20, '106283': 4, '106021': 1, '105030': 2, '126610': 20, '111460': 5, '111581': 11, '200483': 1, '111761': 1, '103917': 10}\n",
      "20\n",
      "111575\n",
      "Karen Khachanov\n",
      "105657\n",
      "Marius Copil\n",
      "103819\n",
      "Roger Federer\n",
      "105806\n",
      "Mirza Basic\n",
      "111815\n",
      "Cameron Norrie\n",
      "104259\n",
      "Philipp Kohlschreiber\n",
      "100644\n",
      "Alexander Zverev\n",
      "126203\n",
      "Taylor Fritz\n",
      "105138\n",
      "Roberto Bautista Agut\n",
      "105449\n",
      "Steve Johnson\n",
      "105777\n",
      "Grigor Dimitrov\n",
      "105227\n",
      "Marin Cilic\n",
      "104999\n",
      "Mischa Zverev\n",
      "106121\n",
      "Taro Daniel\n",
      "105379\n",
      "Aljaz Bedene\n",
      "105376\n",
      "Peter Gojowczyk\n",
      "104926\n",
      "Fabio Fognini\n",
      "109739\n",
      "Maximilian Marterer\n",
      "105807\n",
      "Pablo Carreno Busta\n",
      "105815\n",
      "Tennys Sandgren\n",
      "104898\n",
      "Robin Haase\n",
      "106421\n",
      "Daniil Medvedev\n",
      "126207\n",
      "Frances Tiafoe\n",
      "106043\n",
      "Diego Schwartzman\n",
      "104312\n",
      "Andreas Seppi\n",
      "133430\n",
      "Denis Shapovalov\n",
      "106065\n",
      "Marco Cecchinato\n",
      "106378\n",
      "Kyle Edmund\n",
      "105916\n",
      "Marton Fucsovics\n",
      "104755\n",
      "Richard Gasquet\n",
      "126774\n",
      "Stefanos Tsitsipas\n",
      "105051\n",
      "Matthew Ebden\n",
      "105526\n",
      "Jan Lennard Struff\n",
      "105583\n",
      "Dusan Lajovic\n",
      "104291\n",
      "Malek Jaziri\n",
      "104745\n",
      "Rafael Nadal\n",
      "105550\n",
      "Guido Pella\n",
      "111202\n",
      "Hyeon Chung\n",
      "105173\n",
      "Adrian Mannarino\n",
      "105062\n",
      "Mikhail Kukushkin\n",
      "105683\n",
      "Milos Raonic\n",
      "106432\n",
      "Borna Coric\n",
      "104731\n",
      "Kevin Anderson\n",
      "105732\n",
      "Pierre Hugues Herbert\n",
      "105311\n",
      "Joao Sousa\n",
      "104527\n",
      "Stan Wawrinka\n",
      "106298\n",
      "Lucas Pouille\n",
      "105077\n",
      "Albert Ramos\n",
      "106401\n",
      "Nick Kyrgios\n",
      "105453\n",
      "Kei Nishikori\n",
      "106000\n",
      "Damir Dzumhur\n",
      "103852\n",
      "Feliciano Lopez\n",
      "111797\n",
      "Nicolas Jarry\n",
      "126610\n",
      "Matteo Berrettini\n",
      "104269\n",
      "Fernando Verdasco\n",
      "126094\n",
      "Andrey Rublev\n",
      "104545\n",
      "John Isner\n",
      "105223\n",
      "Juan Martin del Potro\n",
      "106233\n",
      "Dominic Thiem\n",
      "105676\n",
      "David Goffin\n",
      "105357\n",
      "John Millman\n",
      "200282\n",
      "Alex De Minaur\n",
      "104925\n",
      "Novak Djokovic\n",
      "104198\n",
      "Guillermo Garcia Lopez\n",
      "104792\n",
      "Gael Monfils\n",
      "105992\n",
      "Ryan Harrison\n",
      "104919\n",
      "Leonardo Mayer\n",
      "104468\n",
      "Gilles Simon\n",
      "105332\n",
      "Benoit Paire\n",
      "105932\n",
      "Nikoloz Basilashvili\n",
      "105216\n",
      "Yuichi Sugita\n",
      "104871\n",
      "Jeremy Chardy\n",
      "105023\n",
      "Sam Querrey\n"
     ]
    }
   ],
   "source": [
    "#12 Koji teniseri predstavljaju jezgro mreze?\n",
    "core_number = nx.core_number(G)\n",
    "print(core_number)#dict\n",
    "\n",
    "max_core_number = max(core_number.values()) #max value u dict\n",
    "print(max_core_number)\n",
    "\n",
    "core = nx.k_core(G, max_core_number)\n",
    "for player_id in core:\n",
    "    print(player_id)\n",
    "    print(nx.get_node_attributes(G, 'name')[player_id])"
   ]
  },
  {
   "cell_type": "code",
   "execution_count": 25,
   "metadata": {},
   "outputs": [
    {
     "data": {
      "text/plain": [
       "[('106120', '106393'),\n",
       " ('104022', '202130'),\n",
       " ('122669', '105156'),\n",
       " ('123795', '111761'),\n",
       " ('126120', '109739'),\n",
       " ('106000', '111192'),\n",
       " ('133975', '106396'),\n",
       " ('133975', '138846'),\n",
       " ('106174', '105933'),\n",
       " ('105357', '202385'),\n",
       " ('202090', '104797'),\n",
       " ('106250', '200274'),\n",
       " ('106250', '200620'),\n",
       " ('106250', '126190'),\n",
       " ('106249', '105952'),\n",
       " ('105449', '106353'),\n",
       " ('122236', '144817'),\n",
       " ('105299', '106233'),\n",
       " ('106026', '111459'),\n",
       " ('111794', '105641'),\n",
       " ('111794', '111761'),\n",
       " ('106353', '105502'),\n",
       " ('200031', '105683'),\n",
       " ('207400', '207415'),\n",
       " ('105935', '106198'),\n",
       " ('104719', '111574'),\n",
       " ('105138', '104563'),\n",
       " ('134886', '127143'),\n",
       " ('123755', '104656'),\n",
       " ('105606', '138846'),\n",
       " ('105550', '111578'),\n",
       " ('104233', '105747'),\n",
       " ('103852', '126846'),\n",
       " ('200711', '104547'),\n",
       " ('104122', '205734'),\n",
       " ('106410', '105479'),\n",
       " ('200619', '105688'),\n",
       " ('105657', '144776'),\n",
       " ('105657', '111167'),\n",
       " ('104259', '105163'),\n",
       " ('207176', '202165'),\n",
       " ('106121', '105493'),\n",
       " ('106121', '105147'),\n",
       " ('208029', '126174'),\n",
       " ('127339', '105992'),\n",
       " ('105499', '105467'),\n",
       " ('105499', '106175'),\n",
       " ('144645', '103970'),\n",
       " ('105587', '128034'),\n",
       " ('134120', '200273'),\n",
       " ('200624', '126207'),\n",
       " ('105566', '138845'),\n",
       " ('207479', '106021'),\n",
       " ('104970', '104468'),\n",
       " ('120792', '207972'),\n",
       " ('105691', '105683'),\n",
       " ('200574', '105373'),\n",
       " ('200005', '123768'),\n",
       " ('105311', '106220'),\n",
       " ('105453', '126125'),\n",
       " ('105132', '207973'),\n",
       " ('127570', '206768'),\n",
       " ('104468', '105515'),\n",
       " ('126174', '200483'),\n",
       " ('126174', '109698'),\n",
       " ('104308', '111761'),\n",
       " ('126845', '104291'),\n",
       " ('105578', '207971'),\n",
       " ('105173', '106348'),\n",
       " ('111805', '103499'),\n",
       " ('105273', '126502'),\n",
       " ('105688', '200620'),\n",
       " ('200514', '110602'),\n",
       " ('105961', '104655'),\n",
       " ('200045', '200460'),\n",
       " ('111797', '105111'),\n",
       " ('106138', '110602'),\n",
       " ('111795', '105932'),\n",
       " ('106106', '104467'),\n",
       " ('144826', '200325'),\n",
       " ('104792', '200611'),\n",
       " ('108739', '106175'),\n",
       " ('202358', '206000'),\n",
       " ('202358', '126203'),\n",
       " ('104947', '104291'),\n",
       " ('105882', '106325'),\n",
       " ('105882', '200384'),\n",
       " ('134217', '200401'),\n",
       " ('106228', '105967'),\n",
       " ('200250', '124126'),\n",
       " ('133297', '138431'),\n",
       " ('105575', '144807'),\n",
       " ('105064', '106398'),\n",
       " ('108763', '104655'),\n",
       " ('111577', '105960'),\n",
       " ('208028', '207738'),\n",
       " ('111197', '105967'),\n",
       " ('111197', '105757'),\n",
       " ('126939', '207836'),\n",
       " ('104810', '200059'),\n",
       " ('111515', '105902'),\n",
       " ('111153', '111581'),\n",
       " ('104597', '144817'),\n",
       " ('111790', '144719'),\n",
       " ('206642', '202210'),\n",
       " ('105747', '126340'),\n",
       " ('127300', '111815'),\n",
       " ('104251', '134114'),\n",
       " ('105349', '121411'),\n",
       " ('105812', '106150'),\n",
       " ('105812', '202165'),\n",
       " ('200075', '106324'),\n",
       " ('106397', '207421'),\n",
       " ('200436', '106333'),\n",
       " ('104918', '111190'),\n",
       " ('202382', '105633'),\n",
       " ('105041', '126127'),\n",
       " ('104593', '106210'),\n",
       " ('111167', '126102'),\n",
       " ('106210', '106324'),\n",
       " ('104978', '111815'),\n",
       " ('144776', '126613')]"
      ]
     },
     "execution_count": 25,
     "metadata": {},
     "output_type": "execute_result"
    }
   ],
   "source": [
    "#13 Ko su teniseri koji povezuju razlicite grupe u okviru mreze -> pronalazimo bridgeve u ovkviru mreze grane koje povezuju razlicite grupe u okviru mreze\n",
    "bridges = nx.bridges(G)\n",
    "list(bridges)"
   ]
  },
  {
   "cell_type": "markdown",
   "metadata": {},
   "source": [
    "14. Kolika je gustina svake od modelovanih mreza? \n",
    "Gustina mreza moze se odrediti iz Gephi alata (Statistics -> Graph density) \n",
    "Racuna se za neusmerene grafove kao d = (2m)/n(n-1)\n",
    "m -> broj grana\n",
    "n -> broj cvorova\n",
    "\n",
    "Rezultat:\n",
    "<img src=\"img/graph_density.png\" width=1000 height=1000 />"
   ]
  },
  {
   "cell_type": "code",
   "execution_count": 26,
   "metadata": {},
   "outputs": [
    {
     "name": "stdout",
     "output_type": "stream",
     "text": [
      "Gustina mreze koristeci biblioteku network x je: 0.028422651334345846\n"
     ]
    }
   ],
   "source": [
    "#koristeci python i networkx\n",
    "density = nx.density(G)\n",
    "print(f\"Gustina mreze koristeci biblioteku network x je: {density}\")\n"
   ]
  },
  {
   "cell_type": "code",
   "execution_count": 27,
   "metadata": {
    "scrolled": true
   },
   "outputs": [
    {
     "name": "stdout",
     "output_type": "stream",
     "text": [
      "[('104926', 0.14593301435406697), ('106233', 0.13157894736842105), ('126774', 0.12679425837320574), ('100644', 0.12440191387559808), ('104755', 0.12200956937799043)]\n",
      "[('104926', 0.38868304352899985), ('106233', 0.3877373426931629), ('111575', 0.3863273887197332), ('104269', 0.3835380212921539), ('105173', 0.3817007134057244)]\n",
      "[('104655', 0.06984202008882844), ('104291', 0.043866509423082296), ('104926', 0.033726444430694766), ('105657', 0.031028324113313698), ('106210', 0.030991357611591403)]\n",
      "False\n"
     ]
    }
   ],
   "source": [
    "#15 U kojoj mrezi povezane i centralizovane mreze\n",
    "#izracunacemo degree_centrality, closeness_centrality, information_centrality, betweenes_centrality i opisacemo znacenje tih vrednosti\n",
    "DC = nx.degree_centrality(G)\n",
    "import operator\n",
    "print(sorted(DC.items(), key=operator.itemgetter(1), reverse=True)[:5])\n",
    "#vazni cvorovi imaju veliki broj konekcija; broj direktnih suseda svakog cvora u mrezi\n",
    "#akteri u mrezi sa vecim brojem relacija manje zavisni u odnosu na druge aktere\n",
    "\n",
    "CC = nx.closeness_centrality(G)\n",
    "print(sorted(CC.items(), key=operator.itemgetter(1), reverse=True)[:5])\n",
    "#vazni cvorovi su blizi drugim cvorovima, vazniji cvorovi centralniji polozaj u mrezi\n",
    "\n",
    "BC = nx.betweenness_centrality(G)\n",
    "print(sorted(BC.items(), key=operator.itemgetter(1), reverse=True)[:5])\n",
    "#vazni cvorovi povezuju druge cvorove, mostovi posrednici izmedju ostalih cvorova u mrezi\n",
    "#vazni cvorovi se nalaze na vecem broju najkracih putanja\n",
    "\n",
    "#check if graph is connected\n",
    "print(nx.is_connected(G))\n",
    "\n",
    "#graf nije povezan ne moze se izracunati information_centrality\n",
    "#nije povezan postoji grupa ljudi koji nisu igrali jedni sa drugima"
   ]
  },
  {
   "cell_type": "markdown",
   "metadata": {},
   "source": [
    "#habovi su vezani za degree_centrality i susedima onim sa najvecim vrednostima ove metrike\n",
    "\n",
    "Koje su prosecne distance, a koliki dijametar u okviru modelovanih mreza? \n",
    "Average Path length: 3.1371012285965936\n",
    "Diameter: 11"
   ]
  }
 ],
 "metadata": {
  "kernelspec": {
   "display_name": "Python 3",
   "language": "python",
   "name": "python3"
  },
  "language_info": {
   "codemirror_mode": {
    "name": "ipython",
    "version": 3
   },
   "file_extension": ".py",
   "mimetype": "text/x-python",
   "name": "python",
   "nbconvert_exporter": "python",
   "pygments_lexer": "ipython3",
   "version": "3.8.5"
  }
 },
 "nbformat": 4,
 "nbformat_minor": 4
}
