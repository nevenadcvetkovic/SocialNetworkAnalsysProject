{
 "cells": [
  {
   "cell_type": "markdown",
   "metadata": {},
   "source": [
    "# Projekat iz predmeta analiza socijalnih mreza\n",
    "\n",
    "\n",
    "## Kvantitativna i kvalitativna Analiza stanja profesionalnog muškog tenisa u periodu od 2018. do 2020. godine\n",
    "\n",
    "\n",
    "Ucitavanje podataka\n"
   ]
  },
  {
   "cell_type": "code",
   "execution_count": 29,
   "metadata": {
    "scrolled": true
   },
   "outputs": [
    {
     "data": {
      "text/plain": [
       "ranking_date    False\n",
       "rank            False\n",
       "player          False\n",
       "points           True\n",
       "dtype: bool"
      ]
     },
     "execution_count": 29,
     "metadata": {},
     "output_type": "execute_result"
    }
   ],
   "source": [
    "import pandas as pd\n",
    "\n",
    "dataPath = \"data/atp_matches_2018.csv\"\n",
    "\n",
    "players_dataPath = \"data/atp_players.csv\"\n",
    "\n",
    "player_atp_rankings_dataPath = \"data/atp_rankings_10s.csv\"\n",
    "\n",
    "data = pd.read_csv(dataPath) \n",
    "#print(data.columns)\n",
    "data.isna().any()\n",
    "\n",
    "#players\n",
    "players_data = pd.read_csv(players_dataPath)\n",
    "#print(players_data)\n",
    "\n",
    "#atp ranking\n",
    "players_atp_rank_data = pd.read_csv(player_atp_rankings_dataPath)\n",
    "players_atp_rank_data.isna().any()\n",
    "#points null moze biti\n",
    "#print(players_atp_rank_data)"
   ]
  },
  {
   "cell_type": "code",
   "execution_count": 30,
   "metadata": {},
   "outputs": [
    {
     "name": "stdout",
     "output_type": "stream",
     "text": [
      "False\n",
      "False\n"
     ]
    }
   ],
   "source": [
    "#provera da li je match_num kolona koja moze da bude uzeta za id\n",
    "\n",
    "print(data['match_num'].isnull().values.any())\n",
    "print(data['match_num'].is_unique)"
   ]
  },
  {
   "cell_type": "code",
   "execution_count": 31,
   "metadata": {},
   "outputs": [
    {
     "name": "stdout",
     "output_type": "stream",
     "text": [
      "                          tourney_id                tourney_name surface  \\\n",
      "0                          2018-M020                    Brisbane    Hard   \n",
      "1                          2018-M020                    Brisbane    Hard   \n",
      "2                          2018-M020                    Brisbane    Hard   \n",
      "3                          2018-M020                    Brisbane    Hard   \n",
      "4                          2018-M020                    Brisbane    Hard   \n",
      "...                              ...                         ...     ...   \n",
      "2884                       2018-0605                 Tour Finals    Hard   \n",
      "2885                       2018-0605                 Tour Finals    Hard   \n",
      "2886  2018-M-DC-2018-WG-M-FRA-CRO-01  Davis Cup WG F: FRA vs CRO    Clay   \n",
      "2887  2018-M-DC-2018-WG-M-FRA-CRO-01  Davis Cup WG F: FRA vs CRO    Clay   \n",
      "2888  2018-M-DC-2018-WG-M-FRA-CRO-01  Davis Cup WG F: FRA vs CRO    Clay   \n",
      "\n",
      "      draw_size tourney_level  tourney_date  match_num  winner_id  \\\n",
      "0            32             A      20180101        271     105992   \n",
      "1            32             A      20180101        272     111577   \n",
      "2            32             A      20180101        273     104797   \n",
      "3            32             A      20180101        275     200282   \n",
      "4            32             A      20180101        276     111581   \n",
      "...         ...           ...           ...        ...        ...   \n",
      "2884          8             F      20181112        299     104925   \n",
      "2885          8             F      20181112        300     100644   \n",
      "2886          4             D      20181123          1     106432   \n",
      "2887          4             D      20181123          2     105227   \n",
      "2888          4             D      20181123          4     105227   \n",
      "\n",
      "      winner_seed winner_entry  ... l_1stWon l_2ndWon  l_SvGms l_bpSaved  \\\n",
      "0             NaN          NaN  ...     33.0     19.0     14.0       1.0   \n",
      "1             NaN          NaN  ...     25.0      7.0      9.0       7.0   \n",
      "2             NaN          NaN  ...     37.0     29.0     15.0      10.0   \n",
      "3             NaN           WC  ...     33.0     17.0     11.0       4.0   \n",
      "4             NaN            Q  ...     28.0      5.0      9.0       0.0   \n",
      "...           ...          ...  ...      ...      ...      ...       ...   \n",
      "2884          1.0          NaN  ...     23.0      7.0      8.0       5.0   \n",
      "2885          3.0          NaN  ...     25.0      8.0     10.0       2.0   \n",
      "2886          NaN          NaN  ...     43.0     18.0     15.0       9.0   \n",
      "2887          NaN          NaN  ...     39.0     18.0     15.0       1.0   \n",
      "2888          NaN          NaN  ...     43.0     21.0     15.0       9.0   \n",
      "\n",
      "      l_bpFaced  winner_rank  winner_rank_points loser_rank loser_rank_points  \\\n",
      "0           4.0         47.0              1010.0       52.0             909.0   \n",
      "1          11.0         54.0               890.0       94.0             593.0   \n",
      "2          16.0         63.0               809.0       30.0            1391.0   \n",
      "3           6.0        208.0               245.0       44.0            1055.0   \n",
      "4           2.0        175.0               299.0       68.0             755.0   \n",
      "...         ...          ...                 ...        ...               ...   \n",
      "2884        9.0          1.0              8045.0        6.0            4310.0   \n",
      "2885        6.0          5.0              5085.0        1.0            8045.0   \n",
      "2886       13.0         12.0              2480.0       40.0            1050.0   \n",
      "2887        4.0          7.0              4250.0      259.0             200.0   \n",
      "2888       12.0          7.0              4250.0       32.0            1245.0   \n",
      "\n",
      "        id  \n",
      "0        0  \n",
      "1        1  \n",
      "2        2  \n",
      "3        3  \n",
      "4        4  \n",
      "...    ...  \n",
      "2884  2884  \n",
      "2885  2885  \n",
      "2886  2886  \n",
      "2887  2887  \n",
      "2888  2888  \n",
      "\n",
      "[2889 rows x 50 columns]\n"
     ]
    }
   ],
   "source": [
    "#dodati automatski generisani id kao dodatnu kolonu\n",
    "data['id'] = data.index\n",
    "print(data)\n",
    "\n",
    "#sacuvati u novi fajl\n",
    "import pickle\n",
    "\n",
    "with open(\"data/data2018_cleaned.csv\", 'wb') as file:\n",
    "    pickle.dump(data, file)"
   ]
  },
  {
   "cell_type": "code",
   "execution_count": 32,
   "metadata": {},
   "outputs": [
    {
     "name": "stdout",
     "output_type": "stream",
     "text": [
      "<class 'pandas.core.series.Series'>\n",
      "match_num\n",
      "1      67\n",
      "2      67\n",
      "4      67\n",
      "5      35\n",
      "100     3\n",
      "       ..\n",
      "503     1\n",
      "504     1\n",
      "601     1\n",
      "602     1\n",
      "701     1\n",
      "Name: id, Length: 233, dtype: int64\n"
     ]
    }
   ],
   "source": [
    "import numpy as np\n",
    "\n",
    "# Selekcija samo kolona 'match_num' i 'id' i grupisanje po match_num\n",
    "data_grupisano = data[['match_num', 'id']].groupby('match_num')\n",
    "\n",
    "# agg() radi agregaciju, u ovom slučaju po broju elemenata u grupi\n",
    "data_agregirano = data_grupisano['id'].agg(np.size)\n",
    "print(type(data_agregirano))\n",
    "print(data_agregirano)"
   ]
  },
  {
   "cell_type": "code",
   "execution_count": 33,
   "metadata": {},
   "outputs": [
    {
     "name": "stdout",
     "output_type": "stream",
     "text": [
      "match_num\n",
      "1      67\n",
      "2      67\n",
      "4      67\n",
      "5      35\n",
      "100     3\n",
      "       ..\n",
      "296    64\n",
      "297    64\n",
      "298    64\n",
      "299    64\n",
      "300    64\n",
      "Name: id, Length: 200, dtype: int64\n"
     ]
    }
   ],
   "source": [
    "data_nonunique = data_agregirano[data_agregirano>1]\n",
    "print(data_nonunique)"
   ]
  },
  {
   "cell_type": "code",
   "execution_count": 34,
   "metadata": {},
   "outputs": [
    {
     "name": "stdout",
     "output_type": "stream",
     "text": [
      "match_num\n",
      "1    67\n",
      "2    67\n",
      "4    67\n",
      "Name: id, dtype: int64\n",
      "1\n"
     ]
    }
   ],
   "source": [
    "#naci max i index max broja ponovljenih\n",
    "trazeni = data_nonunique[data_nonunique == data_nonunique.max()]\n",
    "print(trazeni)\n",
    "target_match_num = trazeni.keys()[0]\n",
    "print(target_match_num)"
   ]
  },
  {
   "cell_type": "code",
   "execution_count": 35,
   "metadata": {
    "scrolled": false
   },
   "outputs": [
    {
     "name": "stdout",
     "output_type": "stream",
     "text": [
      "                     tourney_name  winner_id  loser_id  winner_rank  \\\n",
      "266   Davis Cup G1 R1: AUT vs BLR     105589    125802         98.0   \n",
      "270   Davis Cup G1 R1: CHI vs ECU     111797    105111         95.0   \n",
      "273   Davis Cup G1 R1: CHN vs NZL     104907    105842        308.0   \n",
      "276   Davis Cup G1 R1: COL vs BAR     123755    104656        292.0   \n",
      "279   Davis Cup G1 R1: DOM vs BRA     105497    106252        284.0   \n",
      "...                           ...        ...       ...          ...   \n",
      "2425  Davis Cup WG SF: FRA vs ESP     105332    105807         54.0   \n",
      "2429  Davis Cup G2 R3: ROU vs POL     105657    111794         81.0   \n",
      "2433  Davis Cup G2 R3: THA vs LBN     200273    106397        643.0   \n",
      "2437  Davis Cup G2 R3: URU vs MEX     104655    106250         68.0   \n",
      "2886   Davis Cup WG F: FRA vs CRO     106432    104871         12.0   \n",
      "\n",
      "      loser_rank  \n",
      "266        190.0  \n",
      "270        597.0  \n",
      "273        253.0  \n",
      "276          NaN  \n",
      "279        365.0  \n",
      "...          ...  \n",
      "2425        21.0  \n",
      "2429       187.0  \n",
      "2433       453.0  \n",
      "2437       762.0  \n",
      "2886        40.0  \n",
      "\n",
      "[67 rows x 5 columns]\n",
      "                             tourney_id                 tourney_name surface  \\\n",
      "276   2018-M-DC-2018-G1-AM-M-COL-BAR-01  Davis Cup G1 R1: COL vs BAR    Hard   \n",
      "283   2018-M-DC-2018-G1-AO-M-KOR-PAK-01  Davis Cup G1 R1: KOR vs PAK   Grass   \n",
      "327   2018-M-DC-2018-G2-AM-M-ESA-URU-01  Davis Cup G2 R1: ESA vs URU    Hard   \n",
      "348   2018-M-DC-2018-G2-AO-M-PHI-INA-01  Davis Cup G2 R1: PHI vs INA    Hard   \n",
      "352   2018-M-DC-2018-G2-AM-M-PUR-MEX-01  Davis Cup G2 R1: PUR vs MEX    Hard   \n",
      "356  2018-M-DC-2018-G2-EPA-M-ROU-LUX-01  Davis Cup G2 R1: ROU vs LUX    Hard   \n",
      "934   2018-M-DC-2018-G1-AO-M-PAK-UZB-01  Davis Cup G1 R2: PAK vs UZB   Grass   \n",
      "\n",
      "     draw_size tourney_level  tourney_date  match_num  winner_id  winner_seed  \\\n",
      "276          4             D      20180202          1     123755          NaN   \n",
      "283          4             D      20180202          1     103529          NaN   \n",
      "327          4             D      20180203          1     104655          NaN   \n",
      "348          4             D      20180203          1     202165          NaN   \n",
      "352          4             D      20180203          1     105688          NaN   \n",
      "356          4             D      20180203          1     111167          NaN   \n",
      "934          4             D      20180406          1     104797          NaN   \n",
      "\n",
      "    winner_entry  ... l_1stWon l_2ndWon  l_SvGms l_bpSaved  l_bpFaced  \\\n",
      "276          NaN  ...     14.0     10.0      8.0       1.0        5.0   \n",
      "283          NaN  ...     35.0     22.0     14.0       0.0        2.0   \n",
      "327          NaN  ...     26.0      8.0      8.0       4.0        8.0   \n",
      "348          NaN  ...     25.0      4.0      8.0       2.0        6.0   \n",
      "352          NaN  ...     35.0      8.0     11.0       3.0        7.0   \n",
      "356          NaN  ...     41.0     18.0     14.0       3.0        5.0   \n",
      "934          NaN  ...     31.0     12.0      8.0       0.0        1.0   \n",
      "\n",
      "     winner_rank  winner_rank_points loser_rank loser_rank_points   id  \n",
      "276        292.0               168.0        NaN               NaN  276  \n",
      "283          NaN                 NaN      178.0             301.0  283  \n",
      "327         32.0              1380.0        NaN               NaN  327  \n",
      "348       1371.0                 3.0        NaN               NaN  348  \n",
      "352        560.0                54.0        NaN               NaN  352  \n",
      "356          NaN                 NaN      596.0              48.0  356  \n",
      "934         83.0               673.0        NaN               NaN  934  \n",
      "\n",
      "[7 rows x 50 columns]\n",
      "False\n",
      "       player_id        first_name          last_name hand  birth_date  \\\n",
      "3528      103529      Aisam Ul Haq            Qureshi    R  19800317.0   \n",
      "4653      104655             Pablo             Cuevas    R  19860101.0   \n",
      "4654      104656             Haydn              Lewis    L  19860102.0   \n",
      "4793      104797             Denis            Istomin    R  19860907.0   \n",
      "5674      105688            Manuel            Sanchez    R  19910105.0   \n",
      "8748      108763  Alberto Emmanuel     Alvarado Larin    U  19941201.0   \n",
      "11152     111167               Ugo            Nastasi    R  19930416.0   \n",
      "23739     123755      Daniel Elahi      Galan Riveros    U  19960618.0   \n",
      "26086     126102           Nicolae             Frunza    R  19971115.0   \n",
      "26936     126952          Soon Woo               Kwon    R  19971202.0   \n",
      "45654     200620           Ignacio             Garcia  NaN         NaN   \n",
      "47199     202165           Alberto                Lim    R  19990518.0   \n",
      "52210     207176          Muhammad  Althaf Dhaifullah    R  20001119.0   \n",
      "\n",
      "      country_code  \n",
      "3528           PAK  \n",
      "4653           URU  \n",
      "4654           BAR  \n",
      "4793           UZB  \n",
      "5674           MEX  \n",
      "8748           ESA  \n",
      "11152          LUX  \n",
      "23739          COL  \n",
      "26086          ROU  \n",
      "26936          KOR  \n",
      "45654          PUR  \n",
      "47199          PHI  \n",
      "52210          INA  \n"
     ]
    }
   ],
   "source": [
    "#ispisati sve meceve kao match_num imaju odredjeni max\n",
    "data_target = data[data['match_num'] == target_match_num]\n",
    "lista_labela = ['tourney_name', 'winner_id', 'loser_id', 'winner_rank', 'loser_rank']\n",
    "print(data_target[lista_labela])\n",
    "\n",
    "#ispisi sve ciji je ili winner_rank null ili loser_rank null\n",
    "data_winOrlos_is_null = data_target[(data_target['winner_rank'].isnull()) | (data_target['loser_rank'].isnull())]\n",
    "print(data_winOrlos_is_null)\n",
    "\n",
    "#istraga o igracima ciji je winner_rank u tabeli matches_2018 null ili loser_rank u tabeli matches_2018 null\n",
    "print(players_data['player_id'].equals(data_winOrlos_is_null['winner_id']))\n",
    "players_info_rang_null = players_data.loc[(players_data['player_id'].isin(data_winOrlos_is_null['winner_id'])) | (players_data['player_id'].isin(data_winOrlos_is_null['loser_id']))]\n",
    "print(players_data.loc[(players_data['player_id'].isin(data_winOrlos_is_null['winner_id'])) | (players_data['player_id'].isin(data_winOrlos_is_null['loser_id']))])\n",
    "\n",
    "#postoje neki koji uopste nemaju upisanu ruku i datum rodjenja, datum rodjenja format double iako u opisu drugaciji format"
   ]
  },
  {
   "cell_type": "code",
   "execution_count": 36,
   "metadata": {
    "scrolled": false
   },
   "outputs": [
    {
     "name": "stdout",
     "output_type": "stream",
     "text": [
      "        ranking_date  rank  player   points\n",
      "0           20100104     1  103819  10550.0\n",
      "1           20100104     2  104745   9205.0\n",
      "2           20100104     3  104925   8310.0\n",
      "3           20100104     4  104918   7030.0\n",
      "4           20100104     5  105223   6785.0\n",
      "...              ...   ...     ...      ...\n",
      "916291      20191230  1922  134833      1.0\n",
      "916292      20191230  1922  144856      1.0\n",
      "916293      20191230  1922  202326      1.0\n",
      "916294      20191230  1926  207307      1.0\n",
      "916295      20191230  1927  208186      1.0\n",
      "\n",
      "[916296 rows x 4 columns]\n",
      "        ranking_date         rank       points\n",
      "player                                        \n",
      "100644  2.015885e+07   247.552326  2102.796512\n",
      "101389  2.014282e+07  1724.404255     1.000000\n",
      "101397  2.011134e+07  1204.478261     3.000000\n",
      "101404  2.011255e+07  1031.626374     6.571429\n",
      "101549  2.010697e+07  1468.750000     1.000000\n",
      "...              ...          ...          ...\n",
      "209397  2.019123e+07  1581.000000     1.000000\n",
      "209398  2.019122e+07  1581.666667     1.000000\n",
      "209399  2.019122e+07  1725.666667     1.000000\n",
      "209506  2.018140e+07   940.871212          NaN\n",
      "209508  2.015536e+07  1873.288889     1.000000\n",
      "\n",
      "[6180 rows x 3 columns]\n"
     ]
    }
   ],
   "source": [
    "#players_info_rang_null \n",
    "#players_atp_rank_data\n",
    "columns_name_players_atp_rank = ['ranking_date', 'rank', 'player', 'points']\n",
    "print(players_atp_rank_data[columns_name_players_atp_rank])\n",
    "print(players_atp_rank_data[columns_name_players_atp_rank].groupby('player').mean())"
   ]
  },
  {
   "cell_type": "code",
   "execution_count": 37,
   "metadata": {},
   "outputs": [
    {
     "name": "stdout",
     "output_type": "stream",
     "text": [
      "Postoji 419 različitih igrača\n",
      "Index(['tourney_id', 'tourney_name', 'surface', 'draw_size', 'tourney_level',\n",
      "       'tourney_date', 'match_num', 'winner_id', 'winner_seed', 'winner_entry',\n",
      "       'winner_name', 'winner_hand', 'winner_ht', 'winner_ioc', 'winner_age',\n",
      "       'loser_id', 'loser_seed', 'loser_entry', 'loser_name', 'loser_hand',\n",
      "       'loser_ht', 'loser_ioc', 'loser_age', 'score', 'best_of', 'round',\n",
      "       'minutes', 'w_ace', 'w_df', 'w_svpt', 'w_1stIn', 'w_1stWon', 'w_2ndWon',\n",
      "       'w_SvGms', 'w_bpSaved', 'w_bpFaced', 'l_ace', 'l_df', 'l_svpt',\n",
      "       'l_1stIn', 'l_1stWon', 'l_2ndWon', 'l_SvGms', 'l_bpSaved', 'l_bpFaced',\n",
      "       'winner_rank', 'winner_rank_points', 'loser_rank', 'loser_rank_points',\n",
      "       'id'],\n",
      "      dtype='object')\n"
     ]
    }
   ],
   "source": [
    "import networkx as nx\n",
    "\n",
    "list_winner = set(data['winner_id'].apply(str).unique())\n",
    "#print(list_winner)\n",
    "list_loser = set(data['loser_id'].apply(str).unique())\n",
    "#print(list_loser)\n",
    "\n",
    "skup_id = list_winner.union(list_loser)\n",
    "print(f\"Postoji { len(skup_id) } različitih igrača\") # formatiranje ispisa pomoću fstringa\n",
    "\n",
    "print(data.columns)"
   ]
  },
  {
   "cell_type": "code",
   "execution_count": 38,
   "metadata": {},
   "outputs": [
    {
     "name": "stdout",
     "output_type": "stream",
     "text": [
      "Index(['ranking_date', 'rank', 'player', 'points'], dtype='object')\n",
      "False\n",
      "        ranking_date  rank  player  points\n",
      "857151      20181231   653  138846     1.0\n",
      "856052      20181231   104  105155   550.0\n",
      "856056      20181231   106  106058   540.0\n",
      "856058      20181231   107  132283   532.0\n",
      "856060      20181231   108  200000   527.0\n",
      "...              ...   ...     ...     ...\n",
      "826220      20180917   846  104597    20.0\n",
      "825114      20180910  1700  126526     1.0\n",
      "825258      20180910  1867  105961     1.0\n",
      "809171      20180702  1491  207400     2.0\n",
      "807528      20180625  1786  202462     1.0\n",
      "\n",
      "[392 rows x 4 columns]\n"
     ]
    }
   ],
   "source": [
    "#videti timestamp u tabeli 10s, iz koje je godine, i koji je datum\n",
    "#proveriti za podatke za 2018, 2019 u fajlovima koji objasnjavaju meceve, neki mec posle tog datuma koji pise u 10s fajlu\n",
    "print(players_atp_rank_data.columns)\n",
    "print(players_atp_rank_data['player'].is_unique)\n",
    "#players_atp_rank_data.dtypes\n",
    "maska_active_players = players_atp_rank_data['player'].isin(skup_id) & (players_atp_rank_data['ranking_date']<=20181231) & (players_atp_rank_data['ranking_date']>=20180101)\n",
    "players_rank_2018 = players_atp_rank_data[maska_active_players]\n",
    "players_rank_2018 = players_rank_2018.drop_duplicates()\n",
    "\n",
    "max_players_rank_2018 = players_rank_2018.groupby('player').max()\n",
    "#print(players_rank_2018[['ranking_date', 'rank', 'player', 'points']].groupby('player').agg({'ranking_date': 'max'}))\n",
    "#print(players_rank_2018.sort_values('ranking_date').groupby('player').tail(1))\n",
    "#print(max_players_rank_2018['player'].is_unique)\n",
    "\n",
    "player_sorted_date_rank_2018 = players_rank_2018.sort_values(['ranking_date'],ascending=False).groupby('player').head(1)\n",
    "print(players_rank_2018.sort_values(['ranking_date'],ascending=False).groupby('player').head(1))"
   ]
  },
  {
   "cell_type": "code",
   "execution_count": 39,
   "metadata": {},
   "outputs": [
    {
     "name": "stdout",
     "output_type": "stream",
     "text": [
      "27\n",
      "Broj nedefinisanih u pobednicima: 6\n",
      "     winner_id              winner_name  winner_rank  winner_rank_points\n",
      "283     103529     Aisam Ul Haq Qureshi          NaN                 NaN\n",
      "330     127570             Rodrigo Arus          NaN                 NaN\n",
      "351     200460  John Bryan Decasa Otico          NaN                 NaN\n",
      "356     111167              Ugo Nastasi          NaN                 NaN\n",
      "957     208029              Holger Rune          NaN                 NaN\n",
      "983     208028         Francisco Llanes          NaN                 NaN\n",
      "Broj nedefinisanih u gubitnicima: 28\n",
      "     winner_id                      winner_name  winner_rank  \\\n",
      "32      106325                  Jabor Al Mutawa          NaN   \n",
      "91      105030                    Michael Venus          NaN   \n",
      "274     105030                    Michael Venus          NaN   \n",
      "276     104656                      Haydn Lewis          NaN   \n",
      "278     207971                  Xavier Lawrence          NaN   \n",
      "326     200483               Peter August Anker          NaN   \n",
      "327     108763  Alberto Emmanuel Alvarado Larin          NaN   \n",
      "330     206768   Rafael Eduardo Gonzalez Retana          NaN   \n",
      "333     207973              Ainius Sabaliauskas          NaN   \n",
      "338     105606              Mohsen Hossein Zade          NaN   \n",
      "339     200401                Amir Hossein Badi          NaN   \n",
      "346     206000                     Michel Saade          NaN   \n",
      "347     134114                      Jad Ballout          NaN   \n",
      "348     207176       Muhammad Althaf Dhaifullah          NaN   \n",
      "352     200620                   Ignacio Garcia          NaN   \n",
      "353     200274                        Alex Diaz          NaN   \n",
      "354     200619                 Sebastian Arcila          NaN   \n",
      "355     200620                   Ignacio Garcia          NaN   \n",
      "357     144776                 Christophe Tholl          NaN   \n",
      "358     111167                      Ugo Nastasi          NaN   \n",
      "359     144776                 Christophe Tholl          NaN   \n",
      "366     207421                   Alex Fairbanks          NaN   \n",
      "442     202090                   Adrian Andreev          NaN   \n",
      "934     103529             Aisam Ul Haq Qureshi          NaN   \n",
      "956     109698          Christoffer Konigsfeldt          NaN   \n",
      "977     200460          John Bryan Decasa Otico          NaN   \n",
      "979     200460          John Bryan Decasa Otico          NaN   \n",
      "983     207738                    Brandon Perez          NaN   \n",
      "\n",
      "     winner_rank_points  \n",
      "32                  NaN  \n",
      "91                  NaN  \n",
      "274                 NaN  \n",
      "276                 NaN  \n",
      "278                 NaN  \n",
      "326                 NaN  \n",
      "327                 NaN  \n",
      "330                 NaN  \n",
      "333                 NaN  \n",
      "338                 NaN  \n",
      "339                 NaN  \n",
      "346                 NaN  \n",
      "347                 NaN  \n",
      "348                 NaN  \n",
      "352                 NaN  \n",
      "353                 NaN  \n",
      "354                 NaN  \n",
      "355                 NaN  \n",
      "357                 NaN  \n",
      "358                 NaN  \n",
      "359                 NaN  \n",
      "366                 NaN  \n",
      "442                 NaN  \n",
      "934                 NaN  \n",
      "956                 NaN  \n",
      "977                 NaN  \n",
      "979                 NaN  \n",
      "983                 NaN  \n",
      "Broj nedefinisanih u gubitnicima: 27\n"
     ]
    }
   ],
   "source": [
    "#provera da li je stvarno poslednji rang 2018-te godine\n",
    "#print(players_rank_2018[players_rank_2018['player']==200000].sort_values('ranking_date', ascending=False))\n",
    "\n",
    "#provera da li su svi elementi iz skup_id prisuni u tabeli player_sorted_date_rank_2018\n",
    "difference_set = set(map(int, skup_id)).difference(set(player_sorted_date_rank_2018['player']))\n",
    "print(len(difference_set))\n",
    "\n",
    "maska_diff_nodes_winner = data['winner_id'].isin(difference_set) \n",
    "maska_diff_nodes_loser =  data['loser_id'].isin(difference_set)\n",
    "active_columns_winner = ['winner_id', 'winner_name', 'winner_rank', 'winner_rank_points']\n",
    "active_columns_loser = ['loser_id', 'loser_name', 'loser_rank', 'loser_rank_points']\n",
    "winner_miss_data = data[active_columns_winner][maska_diff_nodes_winner]\n",
    "print(f\"Broj nedefinisanih u pobednicima: {len(winner_miss_data)}\")\n",
    "print(winner_miss_data)\n",
    "loser_miss_data = data[active_columns_loser][maska_diff_nodes_loser]\n",
    "loser_miss_data.rename(columns = {'loser_id':'winner_id', 'loser_name':'winner_name', 'loser_rank':'winner_rank', 'loser_rank_points':'winner_rank_points'}, inplace = True)\n",
    "#loser_miss_data.rename_axis({'winner_id', 'winner_name', 'winner_rank', 'winner_rank_points'}, axis=\"columns\")\n",
    "#loser_miss_data.to_replace(to_replace = active_columns_loser, value = active_columns_winner, inplace=True)\n",
    "print(f\"Broj nedefinisanih u gubitnicima: {len(loser_miss_data)}\")\n",
    "print(loser_miss_data)\n",
    "missed_data=loser_miss_data.append(winner_miss_data).drop_duplicates()\n",
    "print(f\"Broj nedefinisanih u gubitnicima: {len(missed_data)}\")\n"
   ]
  },
  {
   "cell_type": "code",
   "execution_count": 40,
   "metadata": {},
   "outputs": [
    {
     "name": "stdout",
     "output_type": "stream",
     "text": [
      "Broj nedefinisanih u gubitnicima: 27\n",
      "392\n"
     ]
    }
   ],
   "source": [
    "#dodavanje 27 sto fale u player_sorted_date_rank_2018\n",
    "#TREBA IZVRSITI SAMO JEDNOM\n",
    "import sys\n",
    "print(f\"Broj nedefinisanih u gubitnicima: {len(missed_data)}\")\n",
    "\n",
    "print(len(player_sorted_date_rank_2018)) \n",
    "for  winner_id, winner_name in missed_data.iteritems():\n",
    "    player_sorted_date_rank_2018 = player_sorted_date_rank_2018.append(dict(zip(player_sorted_date_rank_2018.columns,[20181231, sys.maxsize, winner_id,0])), ignore_index=True)\n",
    "   \n"
   ]
  },
  {
   "cell_type": "code",
   "execution_count": 41,
   "metadata": {},
   "outputs": [
    {
     "name": "stdout",
     "output_type": "stream",
     "text": [
      "396\n"
     ]
    }
   ],
   "source": [
    "import numpy as np\n",
    "import matplotlib.pyplot as plt\n",
    "print(len(player_sorted_date_rank_2018)) \n",
    "\n",
    "data_reduced = data[['winner_id', 'winner_name', 'winner_ioc', 'loser_id', 'loser_name', 'loser_ioc', 'id']]\n",
    "\n",
    "G = nx.Graph() # pravi praznu mrežu\n",
    "G.add_nodes_from(skup_id) # dodaje čvorove čije su labele u \"skup_id\"\n",
    "\n",
    "for _, winner_id, winner_name, winner_ioc, loser_id, loser_name, loser_ioc, _ in data_reduced.itertuples():\n",
    "    winner_id_string = str(winner_id)\n",
    "    loser_id_string = str(loser_id)\n",
    "    if (winner_id_string, loser_id_string) in G.edges:\n",
    "        G.edges[winner_id_string, loser_id_string]['weight'] += 1\n",
    "    else:\n",
    "        G.add_edge(winner_id_string, loser_id_string, weight=1)\n",
    "        winner_attrs = {winner_id_string: {'name': winner_name, 'country': winner_ioc}}\n",
    "        loser_attrs = {loser_id_string: {'name': loser_name, 'country': loser_ioc}}\n",
    "        nx.set_node_attributes(G, winner_attrs)\n",
    "        nx.set_node_attributes(G, loser_attrs)\n",
    "       # if G.nodes[winner_id].get('rank') is None:\n",
    "        #    winner_rank = \n",
    "        \n"
   ]
  },
  {
   "cell_type": "code",
   "execution_count": 42,
   "metadata": {},
   "outputs": [
    {
     "name": "stdout",
     "output_type": "stream",
     "text": [
      "tourney_id             object\n",
      "tourney_name           object\n",
      "surface                object\n",
      "draw_size               int64\n",
      "tourney_level          object\n",
      "tourney_date            int64\n",
      "match_num               int64\n",
      "winner_id               int64\n",
      "winner_seed           float64\n",
      "winner_entry           object\n",
      "winner_name            object\n",
      "winner_hand            object\n",
      "winner_ht             float64\n",
      "winner_ioc             object\n",
      "winner_age            float64\n",
      "loser_id                int64\n",
      "loser_seed            float64\n",
      "loser_entry            object\n",
      "loser_name             object\n",
      "loser_hand             object\n",
      "loser_ht              float64\n",
      "loser_ioc              object\n",
      "loser_age             float64\n",
      "score                  object\n",
      "best_of                 int64\n",
      "round                  object\n",
      "minutes               float64\n",
      "w_ace                 float64\n",
      "w_df                  float64\n",
      "w_svpt                float64\n",
      "w_1stIn               float64\n",
      "w_1stWon              float64\n",
      "w_2ndWon              float64\n",
      "w_SvGms               float64\n",
      "w_bpSaved             float64\n",
      "w_bpFaced             float64\n",
      "l_ace                 float64\n",
      "l_df                  float64\n",
      "l_svpt                float64\n",
      "l_1stIn               float64\n",
      "l_1stWon              float64\n",
      "l_2ndWon              float64\n",
      "l_SvGms               float64\n",
      "l_bpSaved             float64\n",
      "l_bpFaced             float64\n",
      "winner_rank           float64\n",
      "winner_rank_points    float64\n",
      "loser_rank            float64\n",
      "loser_rank_points     float64\n",
      "id                      int64\n",
      "dtype: object\n"
     ]
    },
    {
     "name": "stdout",
     "output_type": "stream",
     "text": [
      "[('105554', '105173', 1), ('105554', '104797', 1), ('105376', '105936', 1), ('105376', '126610', 1), ('105376', '104792', 1), ('105376', '105065', 1), ('105376', '106058', 2), ('105376', '104898', 1), ('105376', '105062', 1), ('105376', '100644', 2), ('105376', '104882', 1), ('105376', '105173', 1), ('105376', '105041', 1), ('105376', '104545', 1), ('105376', '124187', 1), ('105376', '105449', 1), ('105376', '126207', 1), ('105376', '106412', 1), ('105376', '104534', 1), ('105376', '105357', 1), ('105376', '105138', 1), ('105376', '105550', 1), ('105376', '105077', 1), ('105376', '105023', 1), ('105376', '132283', 1), ('105376', '104926', 2), ('105376', '103333', 1), ('105376', '103970', 1), ('105376', '104312', 1), ('105376', '105916', 2), ('105376', '111815', 1), ('105376', '105223', 1), ('105376', '111797', 3), ('105376', '104269', 1), ('105376', '105311', 1), ('105376', '103819', 1), ('105376', '104547', 1), ('105376', '105807', 1), ('105376', '104542', 1), ('105376', '105453', 1), ('105376', '106378', 1), ('105376', '105051', 1), ('105376', '126774', 1), ('105376', '106000', 1), ('124116', '106065', 1), ('124116', '104655', 1), ('124116', '106421', 1), ('124116', '105373', 1), ('111511', '105453', 1), ('111511', '104571', 1), ('111511', '104926', 1), ('111511', '104545', 2), ('111511', '106423', 1), ('111511', '106401', 1), ('111511', '104022', 1), ('111511', '126094', 1), ('111511', '105062', 1), ('103852', '104198', 1), ('103852', '105806', 1), ('103852', '126846', 1), ('103852', '106043', 3), ('103852', '200282', 2), ('103852', '105023', 2), ('103852', '105373', 2), ('103852', '105676', 2), ('103852', '106121', 1), ('103852', '106423', 1), ('103852', '111577', 2), ('103852', '124014', 1), ('103852', '106058', 1), ('103852', '105332', 1), ('103852', '105138', 1), ('103852', '105583', 1), ('103852', '104665', 1), ('103852', '105453', 1), ('103852', '104660', 1), ('103852', '104678', 1), ('103852', '104468', 1), ('103852', '106401', 2), ('103852', '105683', 1), ('103852', '105643', 2), ('103852', '105223', 1), ('103852', '106177', 1), ('103852', '126610', 1), ('103852', '105633', 1), ('103852', '111815', 1), ('103852', '104269', 1), ('103852', '106432', 1), ('103852', '105936', 1), ('103852', '126207', 1), ('103852', '105526', 1), ('200045', '200460', 1), ('105436', '144817', 1), ('105436', '105967', 1), ('104122', '134770', 1), ('104122', '104198', 1), ('104122', '105227', 1), ('104122', '205734', 1), ('104122', '104919', 1), ('104122', '105683', 1), ('126203', '105023', 3), ('126203', '104022', 1), ('126203', '133430', 1), ('126203', '124187', 1), ('126203', '126094', 2), ('126203', '104269', 1), ('126203', '106432', 1), ('126203', '105732', 1), ('126203', '105065', 1), ('126203', '105992', 1), ('126203', '106058', 2), ('126203', '105449', 1), ('126203', '105051', 1), ('126203', '105583', 1), ('126203', '105819', 1), ('126203', '105332', 1), ('126203', '111577', 1), ('126203', '132283', 1), ('126203', '100644', 1), ('126203', '106368', 1), ('126203', '111202', 2), ('126203', '106423', 1), ('126203', '106415', 1), ('126203', '104291', 1), ('126203', '105936', 1), ('126203', '104999', 1), ('126203', '106186', 1), ('126203', '106233', 1), ('126203', '202358', 1), ('126203', '105062', 1), ('126203', '104926', 1), ('126203', '104527', 1), ('126203', '104898', 1), ('126203', '111513', 1), ('126203', '105967', 1), ('126203', '105657', 1), ('126203', '132482', 1), ('126203', '200282', 1), ('124126', '200250', 1), ('138845', '105566', 1), ('105688', '200620', 1), ('105688', '200619', 1), ('105064', '103607', 1), ('105064', '106398', 1), ('105064', '106043', 1), ('105064', '104926', 1), ('105064', '104547', 1), ('105064', '105643', 1), ('144776', '105657', 1), ('144776', '126613', 1), ('200484', '105526', 1), ('200484', '106298', 1), ('200484', '105932', 1), ('200484', '103970', 1), ('200484', '106075', 1), ('111794', '105641', 1), ('111794', '105379', 1), ('111794', '105626', 1), ('111794', '111761', 1), ('111794', '105657', 1), ('111794', '104494', 1), ('208028', '207738', 1), ('106026', '111459', 1), ('106026', '105732', 2), ('106026', '104571', 1), ('106026', '103917', 1), ('106026', '106298', 1), ('106026', '105023', 1), ('106026', '105806', 1), ('106026', '106058', 1), ('106026', '105074', 1), ('106026', '106421', 1), ('106026', '105683', 1), ('106026', '105341', 1), ('106026', '106099', 1), ('105132', '105827', 1), ('105132', '207973', 1), ('105132', '105526', 1), ('105132', '106058', 1), ('105132', '105074', 1), ('105132', '109739', 2), ('105132', '105870', 1), ('105132', '104926', 1), ('105132', '105487', 1), ('105132', '126610', 1), ('105132', '106005', 1), ('105132', '106214', 1), ('206000', '202358', 1), ('138431', '133297', 1), ('103970', '200059', 1), ('103970', '105311', 1), ('103970', '111202', 1), ('103970', '105223', 3), ('103970', '126094', 2), ('103970', '111575', 2), ('103970', '100644', 3), ('103970', '105815', 1), ('103970', '105539', 1), ('103970', '104259', 1), ('103970', '106058', 1), ('103970', '144719', 1), ('103970', '126610', 1), ('103970', '105062', 1), ('103970', '144645', 1), ('103970', '134770', 1), ('103970', '105614', 1), ('103970', '105332', 1), ('103970', '104745', 1), ('104542', '110536', 1), ('104542', '133430', 1), ('104542', '106401', 1), ('104542', '103917', 1), ('104542', '126094', 1), ('104542', '106298', 1), ('104542', '105550', 1), ('104542', '104792', 1), ('104542', '105023', 1), ('104542', '105683', 1), ('104542', '105227', 1), ('106233', '105539', 1), ('106233', '105379', 2), ('106233', '126774', 5), ('106233', '104792', 2), ('106233', '105550', 2), ('106233', '106045', 1), ('106233', '105173', 1), ('106233', '105815', 1), ('106233', '105299', 1), ('106233', '125802', 2), ('106233', '104547', 1), ('106233', '105583', 2), ('106233', '104665', 1), ('106233', '104269', 1), ('106233', '111815', 1), ('106233', '133430', 1), ('106233', '105223', 1), ('106233', '104655', 1), ('106233', '126094', 1), ('106233', '104925', 1), ('106233', '104745', 4), ('106233', '144719', 1), ('106233', '106075', 1), ('106233', '105643', 1), ('106233', '106432', 2), ('106233', '104731', 3), ('106233', '100644', 2), ('106233', '104926', 1), ('106233', '106148', 1), ('106233', '104198', 1), ('106233', '104468', 2), ('106233', '126610', 1), ('106233', '105453', 3), ('106233', '106065', 1), ('106233', '104022', 1), ('106233', '105216', 1), ('106233', '104571', 1), ('106233', '144895', 1), ('106233', '105357', 1), ('106233', '111797', 1), ('106233', '105373', 2), ('106233', '105806', 1), ('106233', '105449', 1), ('106233', '111442', 1), ('106233', '200282', 1), ('106233', '105526', 1), ('106233', '106421', 1), ('106233', '105138', 1), ('106233', '105051', 1), ('106233', '105074', 1), ('106233', '105023', 1), ('106233', '106058', 1), ('106233', '111575', 1), ('106233', '103819', 1), ('105575', '106109', 1), ('105575', '105173', 3), ('105575', '104527', 1), ('105575', '144807', 1), ('105575', '103898', 1), ('105575', '111575', 1), ('105575', '133430', 1), ('105575', '105430', 2), ('105575', '200325', 1), ('105575', '105349', 1), ('105575', '100644', 1), ('105575', '105539', 1), ('105575', '111456', 1), ('105575', '104871', 1), ('105575', '105065', 1), ('105575', '105815', 1), ('105575', '111202', 1), ('105575', '109739', 1), ('105575', '126774', 1), ('105575', '104797', 1), ('105575', '105379', 1), ('105575', '106421', 1), ('144707', '104660', 1), ('144707', '105085', 1), ('144707', '105526', 1), ('144707', '105683', 1), ('144707', '105311', 1), ('144707', '105671', 1), ('144707', '104797', 1), ('144707', '104926', 1), ('144707', '105208', 1), ('122548', '144750', 1), ('122548', '105707', 1), ('122548', '106210', 1), ('105649', '126094', 1), ('105649', '109739', 1), ('105916', '106044', 2), ('105916', '105332', 3), ('105916', '105430', 2), ('105916', '105023', 1), ('105916', '103819', 1), ('105916', '105074', 1), ('105916', '105676', 1), ('105916', '104678', 1), ('105916', '105227', 1), ('105916', '109739', 2), ('105916', '104291', 1), ('105916', '106421', 1), ('105916', '120424', 1), ('105916', '105550', 1), ('105916', '106065', 2), ('105916', '105077', 1), ('105916', '126207', 1), ('105916', '104527', 3), ('105916', '105449', 1), ('105916', '105577', 1), ('105916', '106378', 1), ('105916', '106045', 1), ('105916', '105683', 1), ('105916', '104259', 1), ('105916', '103898', 1), ('105916', '105477', 1), ('105916', '104655', 1), ('105916', '105311', 1), ('105916', '128034', 1), ('105916', '104198', 1), ('105916', '105819', 1), ('105916', '104925', 1), ('105916', '105173', 1), ('105916', '104312', 1), ('105916', '104926', 3), ('105916', '106000', 1), ('105916', '200000', 1), ('105916', '105062', 1), ('106121', '104655', 1), ('106121', '103898', 1), ('106121', '104926', 2), ('106121', '105683', 1), ('106121', '111815', 1), ('106121', '104925', 1), ('106121', '104919', 1), ('106121', '103333', 1), ('106121', '126610', 1), ('106121', '105379', 1), ('106121', '104297', 1), ('106121', '104871', 1), ('106121', '104291', 1), ('106121', '104198', 1), ('106121', '105550', 1), ('106121', '111200', 1), ('106121', '106148', 1), ('106121', '105138', 1), ('106121', '105526', 1), ('106121', '111513', 1), ('106121', '144719', 1), ('106121', '105357', 1), ('106121', '105023', 1), ('106121', '136440', 1), ('106121', '111797', 1), ('106121', '106421', 1), ('106121', '200282', 1), ('106121', '105493', 1), ('106121', '105147', 1), ('106121', '104269', 1), ('106121', '126774', 1), ('106121', '105041', 1), ('106121', '104312', 1), ('105952', '106249', 1), ('104678', '126610', 1), ('104678', '105238', 1), ('104678', '106109', 1), ('104678', '106401', 1), ('104678', '105208', 1), ('104678', '104797', 1), ('104678', '104527', 1), ('104678', '105526', 1), ('104678', '104607', 1), ('104678', '104571', 1), ('104678', '133430', 1), ('104678', '109739', 1), ('104678', '106071', 1), ('104678', '104297', 1), ('104678', '105815', 1), ('104678', '104198', 1), ('104678', '105077', 1), ('105341', '105932', 2), ('105341', '100644', 1), ('105341', '200000', 1), ('105341', '106000', 3), ('105341', '105936', 1), ('105341', '105614', 1), ('105341', '106058', 1), ('105341', '104755', 1), ('105341', '104312', 1), ('105341', '104022', 1), ('105341', '104871', 1), ('105341', '105051', 1), ('105341', '106432', 1), ('105341', '104527', 1), ('105341', '126774', 1), ('105341', '105626', 1), ('105216', '111575', 1), ('105216', '106058', 1), ('105216', '103333', 1), ('105216', '104312', 1), ('105216', '104926', 1), ('105216', '105357', 1), ('105216', '105777', 1), ('105216', '125802', 2), ('105216', '105526', 2), ('105216', '106298', 1), ('105216', '104547', 2), ('105216', '104898', 1), ('105216', '104198', 1), ('105216', '120424', 1), ('105216', '104259', 1), ('105216', '105992', 1), ('105216', '105932', 1), ('105216', '105657', 1), ('105216', '109739', 1), ('105216', '106045', 1), ('105216', '105550', 1), ('105216', '105732', 1), ('105216', '105614', 1), ('105216', '104672', 1), ('105216', '104919', 1), ('105216', '104755', 1), ('105216', '200282', 1), ('105216', '105453', 1), ('126190', '106250', 1), ('123768', '200005', 1), ('123795', '111761', 1), ('104970', '104468', 1), ('104947', '104291', 1), ('206642', '202210', 1), ('105819', '104269', 1), ('105819', '104547', 1), ('105819', '105357', 1), ('105819', '200000', 1), ('105819', '105430', 1), ('105819', '106421', 1), ('105819', '106058', 1), ('104978', '111815', 1), ('126523', '104252', 1), ('126523', '104312', 1), ('106045', '105449', 1), ('106045', '104269', 1), ('106045', '103333', 1), ('106045', '106000', 1), ('106045', '105041', 2), ('106045', '126774', 1), ('106045', '103819', 1), ('106045', '106298', 2), ('106045', '105074', 1), ('106045', '106368', 1), ('106045', '111575', 1), ('106045', '126094', 2), ('106045', '106401', 1), ('106045', '126610', 1), ('106045', '105223', 1), ('106045', '106415', 1), ('106045', '104755', 1), ('106045', '104198', 1), ('106045', '111202', 1), ('111200', '111456', 1), ('111200', '105085', 1), ('111200', '104660', 1), ('111200', '105671', 1), ('111200', '105311', 1), ('111200', '105477', 1), ('111200', '104534', 1), ('111200', '104926', 1), ('111200', '106329', 1), ('111200', '103333', 1), ('111200', '105173', 1), ('111200', '109739', 1), ('111200', '106058', 1), ('106138', '110602', 1), ('105933', '106174', 1), ('105933', '111797', 1), ('105933', '105870', 1), ('105933', '105077', 1), ('105933', '105041', 1), ('200514', '110602', 1), ('105373', '200574', 1), ('105373', '104527', 2), ('105373', '105806', 2), ('105373', '106000', 1), ('105373', '105643', 1), ('105373', '104925', 1), ('105373', '104745', 1), ('105373', '104252', 1), ('105373', '111202', 1), ('105373', '111513', 1), ('105373', '104792', 1), ('105373', '111797', 1), ('105373', '104898', 1), ('105373', '105583', 1), ('105373', '144719', 1), ('105373', '104797', 1), ('105373', '105539', 1), ('105373', '104926', 1), ('105373', '133430', 1), ('105373', '105449', 1), ('105373', '106421', 1), ('105373', '104312', 1), ('200460', '106397', 1), ('200460', '207139', 1), ('105138', '104468', 1), ('105138', '105030', 1), ('105138', '105449', 2), ('105138', '106210', 1), ('105138', '104898', 2), ('105138', '105223', 1), ('105138', '104269', 1), ('105138', '111815', 1), ('105138', '103898', 1), ('105138', '104252', 1), ('105138', '105732', 1), ('105138', '106432', 3), ('105138', '104291', 1), ('105138', '106298', 2), ('105138', '111577', 2), ('105138', '111581', 1), ('105138', '105676', 2), ('105138', '103333', 1), ('105138', '104665', 1), ('105138', '134770', 1), ('105138', '104259', 2), ('105138', '104797', 1), ('105138', '105053', 1), ('105138', '104925', 1), ('105138', '105526', 1), ('105138', '111575', 1), ('105138', '144719', 1), ('105138', '111513', 1), ('105138', '126610', 1), ('105138', '106186', 1), ('105138', '104563', 1), ('105138', '104022', 1), ('105138', '106065', 1), ('105138', '100644', 2), ('105138', '126094', 1), ('105138', '111456', 1), ('105138', '103819', 1), ('105138', '105311', 1), ('105138', '105583', 1), ('105138', '105777', 1), ('200624', '126207', 1), ('144750', '104534', 1), ('144750', '104468', 1), ('144750', '104792', 1), ('144750', '106071', 1), ('104586', '106210', 1), ('104586', '105449', 1), ('104586', '200218', 1), ('104586', '200436', 1), ('104586', '126610', 1), ('104586', '111575', 1), ('103781', '105539', 1), ('103781', '105683', 1), ('103781', '104731', 1), ('202462', '106397', 1), ('202462', '127143', 1), ('105614', '106378', 1), ('105614', '100644', 1), ('105614', '109739', 1), ('105614', '105807', 1), ('105614', '104545', 2), ('105614', '106071', 1), ('105614', '106401', 1), ('105614', '106432', 1), ('105614', '105657', 1), ('105757', '111197', 1), ('106071', '105477', 1), ('106071', '110536', 1), ('106071', '104898', 1), ('106071', '104269', 1), ('106071', '104755', 1), ('106071', '128034', 1), ('106071', '105453', 1), ('106071', '104534', 1), ('106071', '106078', 1), ('106071', '200005', 1), ('106071', '200000', 1), ('106071', '105311', 1), ('106071', '104926', 1), ('104898', '104882', 1), ('104898', '111797', 1), ('104898', '105332', 1), ('104898', '134770', 1), ('104898', '105041', 1), ('104898', '132283', 1), ('104898', '104755', 1), ('104898', '105173', 1), ('104898', '105657', 2), ('104898', '105217', 1), ('104898', '134868', 1), ('104898', '103819', 1), ('104898', '111460', 1), ('104898', '104291', 1), ('104898', '105223', 1), ('104898', '105806', 1), ('104898', '126094', 2), ('104898', '111815', 1), ('104898', '111202', 1), ('104898', '105676', 3), ('104898', '106421', 1), ('104898', '133430', 3), ('104898', '103333', 1), ('104898', '105311', 1), ('104898', '104022', 2), ('104898', '104198', 1), ('104898', '106401', 1), ('104898', '104297', 1), ('104898', '105550', 1), ('104898', '105634', 1), ('104898', '144719', 1), ('104898', '105453', 1), ('104898', '111575', 1), ('104898', '105936', 1), ('104898', '100644', 2), ('104898', '105807', 1), ('104898', '111456', 1), ('104898', '133297', 1), ('104898', '125802', 1), ('104898', '104259', 1), ('105051', '126207', 3), ('105051', '106401', 1), ('105051', '104545', 2), ('105051', '105238', 1), ('105051', '104022', 1), ('105051', '105023', 1), ('105051', '111577', 1), ('105051', '104792', 1), ('105051', '104468', 2), ('105051', '111202', 1), ('105051', '105065', 2), ('105051', '104180', 1), ('105051', '105657', 1), ('105051', '104871', 1), ('105051', '104291', 1), ('105051', '104259', 2), ('105051', '103819', 1), ('105051', '105676', 1), ('105051', '103565', 1), ('105051', '105385', 1), ('105051', '104571', 1), ('105051', '105166', 1), ('105051', '105936', 1), ('105051', '105539', 1), ('105051', '126610', 1), ('105051', '104926', 1), ('105051', '104731', 1), ('105051', '106432', 1), ('105051', '104269', 1), ('105051', '200615', 1), ('105051', '111575', 1), ('104918', '106401', 1), ('104918', '104527', 1), ('104918', '106378', 2), ('104918', '111456', 1), ('104918', '105657', 1), ('104918', '200282', 1), ('104918', '106298', 1), ('104918', '105902', 1), ('104918', '104269', 2), ('104918', '111190', 1), ('104918', '105676', 1), ('104460', '105311', 1), ('104460', '103917', 1), ('104460', '105967', 1), ('104460', '109739', 1), ('123921', '105074', 1), ('123921', '106423', 1), ('123921', '104198', 2), ('123921', '144895', 1), ('123921', '106043', 1), ('104571', '126094', 1), ('104571', '106099', 1), ('104571', '105173', 1), ('104571', '106075', 1), ('104571', '105936', 1), ('104571', '106415', 1), ('104571', '106043', 1), ('104571', '104534', 1), ('104571', '105683', 1), ('104571', '111577', 1), ('104571', '105870', 1), ('104571', '105053', 1), ('104571', '104882', 1), ('104571', '111575', 1), ('104571', '104180', 1), ('104571', '106109', 1), ('104571', '126207', 1), ('104571', '105332', 1), ('104571', '111202', 1), ('104571', '104198', 1), ('104571', '104022', 1), ('104571', '106298', 1), ('104571', '104291', 1), ('104571', '106065', 1), ('126207', '105223', 2), ('126207', '104534', 1), ('126207', '104731', 3), ('126207', '111202', 1), ('126207', '133430', 2), ('126207', '124014', 1), ('126207', '106044', 1), ('126207', '106378', 1), ('126207', '104607', 1), ('126207', '111456', 1), ('126207', '105449', 1), ('126207', '105815', 1), ('126207', '104180', 1), ('126207', '104620', 1), ('126207', '105807', 1), ('126207', '105311', 1), ('126207', '126610', 1), ('126207', '105992', 1), ('126207', '105023', 1), ('126207', '111577', 1), ('126207', '104919', 1), ('126207', '104871', 1), ('126207', '104269', 1), ('126207', '103898', 1), ('126207', '111575', 1), ('126207', '105657', 1), ('126207', '128034', 2), ('126207', '105676', 1), ('126207', '106065', 1), ('126207', '105683', 1), ('126207', '105777', 1), ('126207', '105173', 1), ('126207', '200282', 1), ('126207', '105227', 1), ('126207', '106432', 1), ('126207', '109739', 1), ('126207', '105453', 1), ('126207', '103917', 1), ('126207', '100644', 1), ('126207', '144719', 1), ('126207', '126774', 1), ('104494', '104467', 1), ('104494', '128034', 1), ('200278', '104233', 1), ('200278', '126526', 1), ('104620', '106249', 1), ('104620', '105643', 1), ('104620', '104745', 1), ('104620', '104655', 1), ('104620', '104926', 1), ('104620', '106148', 1), ('104620', '106043', 1), ('104620', '105967', 1), ('104731', '106329', 1), ('104731', '105062', 3), ('104731', '105332', 1), ('104731', '104468', 1), ('104731', '106378', 1), ('104731', '124014', 1), ('104731', '105453', 4), ('104731', '105023', 1), ('104731', '105430', 1), ('104731', '105173', 1), ('104731', '111202', 1), ('104731', '111577', 1), ('104731', '105223', 1), ('104731', '105539', 2), ('104731', '106044', 1), ('104731', '105807', 2), ('104731', '106432', 2), ('104731', '105932', 3), ('104731', '111575', 1), ('104731', '126774', 3), ('104731', '104259', 2), ('104731', '105583', 1), ('104731', '105379', 1), ('104731', '103893', 1), ('104731', '104655', 1), ('104731', '104999', 1), ('104731', '106043', 1), ('104731', '104919', 1), ('104731', '105613', 1), ('104731', '104312', 1), ('104731', '104792', 1), ('104731', '103819', 2), ('104731', '104545', 1), ('104731', '104925', 3), ('104731', '125802', 1), ('104731', '105777', 1), ('104731', '104871', 2), ('104731', '105676', 1), ('104731', '105992', 1), ('104731', '133430', 1), ('104731', '104755', 1), ('104731', '104269', 1), ('104919', '105992', 1), ('104919', '104999', 2), ('104919', '105332', 1), ('104919', '111797', 2), ('104919', '104745', 1), ('104919', '104297', 1), ('104919', '104926', 2), ('104919', '104792', 2), ('104919', '104269', 2), ('104919', '105671', 1), ('104919', '104655', 1), ('104919', '103607', 1), ('104919', '105074', 1), ('104919', '105223', 1), ('104919', '105385', 1), ('104919', '106432', 1), ('104919', '111575', 1), ('104919', '100644', 1), ('104919', '105676', 1), ('104919', '103898', 1), ('104919', '104468', 2), ('104919', '105357', 1), ('104919', '105526', 1), ('104919', '126610', 2), ('104919', '105077', 1), ('104919', '106043', 1), ('104919', '106075', 1), ('104919', '105932', 1), ('104919', '111581', 1), ('104919', '106298', 1), ('104919', '103819', 1), ('104919', '106378', 1), ('104919', '111513', 1), ('104919', '104755', 1), ('104919', '105577', 1), ('106110', '105311', 1), ('106110', '105583', 3), ('121411', '105349', 1), ('110602', '105777', 1), ('110602', '126094', 1), ('110602', '105166', 1), ('110602', '106298', 1), ('110602', '105683', 1), ('110602', '105583', 1), ('110602', '105332', 1), ('110602', '200282', 1), ('110602', '111575', 1), ('106329', '105074', 1), ('106329', '106232', 1), ('106329', '105497', 1), ('106329', '104547', 1), ('106329', '105561', 1), ('106329', '104792', 1), ('106329', '105077', 1), ('106329', '104269', 2), ('106329', '104655', 1), ('106329', '106105', 1), ('106329', '105053', 1), ('106329', '123755', 1), ('106329', '105589', 1), ('106329', '106210', 1), ('106329', '105807', 1), ('106329', '104468', 1), ('106329', '106075', 1), ('127570', '206768', 1), ('105815', '104468', 1), ('105815', '111202', 2), ('105815', '104871', 1), ('105815', '104527', 1), ('105815', '109739', 1), ('105815', '106148', 1), ('105815', '104926', 2), ('105815', '104297', 1), ('105815', '105932', 1), ('105815', '104198', 1), ('105815', '104882', 1), ('105815', '106044', 1), ('105815', '105550', 1), ('105815', '103333', 1), ('105815', '105449', 1), ('105815', '104259', 1), ('105815', '104291', 1), ('105815', '133430', 1), ('105815', '104890', 1), ('105815', '105806', 1), ('105815', '128034', 1), ('105815', '104925', 2), ('105815', '136440', 1), ('105815', '105062', 1), ('105815', '105777', 1), ('105815', '106298', 1), ('105815', '106214', 1), ('105815', '104545', 1), ('105827', '105349', 1), ('105827', '200325', 1), ('103990', '103333', 1), ('103990', '126774', 1), ('136440', '105550', 1), ('104926', '105238', 1), ('104926', '105173', 1), ('104926', '106421', 1), ('104926', '104547', 1), ('104926', '105539', 1), ('104926', '103898', 1), ('104926', '104607', 1), ('104926', '105379', 1), ('104926', '104269', 2), ('104926', '106249', 1), ('104926', '104198', 1), ('104926', '104655', 1), ('104926', '111797', 1), ('104926', '104871', 2), ('104926', '200095', 1), ('104926', '106401', 1), ('104926', '106298', 1), ('104926', '125802', 1), ('104926', '105526', 1), ('104926', '106065', 1), ('104926', '104792', 1), ('104926', '104745', 1), ('104926', '104665', 1), ('104926', '106378', 1), ('104926', '105227', 1), ('104926', '106210', 1), ('104926', '105643', 1), ('104926', '104755', 1), ('104926', '111460', 1), ('104926', '106415', 1), ('104926', '111815', 1), ('104926', '105223', 2), ('104926', '105449', 1), ('104926', '133430', 1), ('104926', '111581', 1), ('104926', '105357', 1), ('104926', '105074', 1), ('104926', '105430', 1), ('104926', '126094', 1), ('104926', '105041', 1), ('104926', '111202', 1), ('104926', '126774', 1), ('104926', '106000', 1), ('104926', '103819', 1), ('105526', '104607', 1), ('105526', '104792', 1), ('105526', '106000', 1), ('105526', '126952', 1), ('105526', '103819', 3), ('105526', '106401', 1), ('105526', '104890', 1), ('105526', '200282', 1), ('105526', '106072', 1), ('105526', '100644', 2), ('105526', '122330', 1), ('105526', '106065', 2), ('105526', '109054', 1), ('105526', '120424', 1), ('105526', '105657', 1), ('105526', '106432', 1), ('105526', '105539', 1), ('105526', '105449', 1), ('105526', '103333', 1), ('105526', '105357', 2), ('105526', '105332', 1), ('105526', '111797', 1), ('105526', '105065', 1), ('105526', '103898', 1), ('105526', '105676', 1), ('105526', '126094', 1), ('105526', '105227', 1), ('105526', '104871', 1), ('105526', '133430', 1), ('105526', '106005', 1), ('105526', '104755', 1), ('103819', '105379', 2), ('103819', '104755', 1), ('103819', '104607', 1), ('103819', '111202', 2), ('103819', '105227', 1), ('103819', '105074', 1), ('103819', '104259', 1), ('103819', '104312', 1), ('103819', '105777', 1), ('103819', '105643', 1), ('103819', '105936', 2), ('103819', '104871', 1), ('103819', '106432', 3), ('103819', '105223', 1), ('103819', '106423', 1), ('103819', '104999', 1), ('103819', '105550', 1), ('103819', '106401', 2), ('103819', '105683', 2), ('103819', '105332', 2), ('103819', '105583', 1), ('103819', '105041', 1), ('103819', '105173', 1), ('103819', '104527', 1), ('103819', '105676', 1), ('103819', '104925', 2), ('103819', '106415', 1), ('103819', '105357', 1), ('103819', '106421', 2), ('103819', '105453', 3), ('103819', '104468', 1), ('103819', '105657', 1), ('103819', '100644', 1), ('106252', '105497', 1), ('106252', '106232', 1), ('106252', '105292', 1), ('126205', '106109', 1), ('126205', '126094', 1), ('126205', '111513', 1), ('126205', '105449', 1), ('106250', '200274', 1), ('106250', '200620', 1), ('106250', '122669', 1), ('106250', '104655', 1), ('105077', '105550', 1), ('105077', '103893', 1), ('105077', '111577', 2), ('105077', '105065', 1), ('105077', '104925', 2), ('105077', '106281', 1), ('105077', '111815', 1), ('105077', '105589', 1), ('105077', '106148', 2), ('105077', '105379', 1), ('105077', '104297', 2), ('105077', '111797', 2), ('105077', '106105', 1), ('105077', '106432', 2), ('105077', '144760', 1), ('105077', '106072', 1), ('105077', '104259', 1), ('105077', '126774', 1), ('105077', '105643', 2), ('105077', '104655', 1), ('105077', '104545', 1), ('105077', '105062', 2), ('105077', '134770', 1), ('105077', '105223', 2), ('105077', '103565', 2), ('105077', '105583', 1), ('105077', '105732', 2), ('105077', '111575', 2), ('105077', '104755', 1), ('105077', '104312', 1), ('105077', '106378', 1), ('200615', '105357', 2), ('200615', '105065', 1), ('200615', '100644', 1), ('105208', '106298', 1), ('105208', '104180', 1), ('105208', '126610', 1), ('105208', '126652', 1), ('105208', '106000', 1), ('105208', '100644', 1), ('105208', '105453', 1), ('105208', '133430', 1), ('105208', '106058', 2), ('105208', '104545', 1), ('105208', '126774', 1), ('105208', '104468', 1), ('105961', '104655', 1), ('106150', '105812', 1), ('106150', '127143', 1), ('106150', '106397', 1), ('105311', '105385', 1), ('105311', '105227', 1), ('105311', '106220', 1), ('105311', '109739', 1), ('105311', '104312', 2), ('105311', '105936', 1), ('105311', '105732', 1), ('105311', '104022', 1), ('105311', '100644', 1), ('105311', '105683', 1), ('105311', '105992', 1), ('105311', '105676', 1), ('105311', '111577', 1), ('105311', '111202', 1), ('105311', '124079', 1), ('105311', '105806', 2), ('105311', '105932', 1), ('105311', '104665', 1), ('105311', '144719', 1), ('105311', '106421', 2), ('105311', '105155', 1), ('105311', '106378', 1), ('105311', '126774', 1), ('105311', '105550', 1), ('105311', '104252', 1), ('105311', '105173', 1), ('105311', '104660', 1), ('105311', '105379', 1), ('105311', '105487', 1), ('105311', '104719', 1), ('105311', '105807', 1), ('105311', '106298', 1), ('105311', '104925', 2), ('105311', '105065', 1), ('105311', '105577', 1), ('105311', '104291', 1), ('105311', '126094', 1), ('105311', '106065', 1), ('125802', '111576', 1), ('125802', '106120', 1), ('125802', '105589', 1), ('125802', '111513', 1), ('125802', '104527', 1), ('125802', '103917', 1), ('125802', '106298', 1), ('125802', '104665', 1), ('125802', '104468', 1), ('125802', '128034', 1), ('125802', '105992', 1), ('125802', '105550', 1), ('125802', '133430', 1), ('125802', '106099', 1), ('125802', '106378', 1), ('104534', '104269', 1), ('104534', '105992', 1), ('104534', '105707', 1), ('104534', '105932', 1), ('104534', '104022', 1), ('104534', '106378', 1), ('104534', '106361', 1), ('104534', '104745', 1), ('104534', '103333', 1), ('104534', '105449', 1), ('127300', '111815', 1), ('106105', '123755', 1), ('106005', '104755', 1), ('126652', '105023', 1), ('126652', '105992', 1), ('126652', '111815', 1), ('126174', '200483', 1), ('126174', '109698', 1), ('126174', '208029', 1), ('105173', '105539', 1), ('105173', '126610', 1), ('105173', '106210', 1), ('105173', '105217', 1), ('105173', '104629', 1), ('105173', '105023', 2), ('105173', '105166', 1), ('105173', '104871', 2), ('105173', '105449', 2), ('105173', '104468', 1), ('105173', '104655', 1), ('105173', '105807', 1), ('105173', '106043', 1), ('105173', '132283', 1), ('105173', '104198', 1), ('105173', '103898', 1), ('105173', '104925', 2), ('105173', '104792', 1), ('105173', '106000', 1), ('105173', '106426', 1), ('105173', '105992', 1), ('105173', '106421', 1), ('105173', '111442', 1), ('105173', '104719', 1), ('105173', '111815', 1), ('105173', '106065', 2), ('105173', '104291', 1), ('105173', '105683', 1), ('105173', '104312', 2), ('105173', '106348', 1), ('105173', '106078', 1), ('105173', '111575', 1), ('105173', '105583', 1), ('105173', '200005', 1), ('105173', '105453', 1), ('106298', '105074', 1), ('106298', '126535', 1), ('106298', '105332', 2), ('106298', '104755', 1), ('106298', '126094', 1), ('106298', '105732', 1), ('106298', '105936', 2), ('106298', '111575', 3), ('106298', '104312', 2), ('106298', '104999', 1), ('106298', '105357', 1), ('106298', '106378', 1), ('106298', '106421', 1), ('106298', '111815', 1), ('106298', '104797', 1), ('106298', '105683', 1), ('106298', '126774', 1), ('106298', '104672', 1), ('106298', '200000', 1), ('106298', '120424', 1), ('106298', '104259', 1), ('106298', '106432', 1), ('106298', '104468', 1), ('106298', '105227', 1), ('106324', '106210', 1), ('106324', '200075', 1), ('106333', '200436', 1), ('105041', '126774', 1), ('105041', '105683', 1), ('105041', '106044', 1), ('105041', '105539', 1), ('105041', '106075', 1), ('105041', '105583', 1), ('105041', '106210', 1), ('105041', '106043', 1), ('105041', '111815', 1), ('105041', '106065', 2), ('105041', '104999', 1), ('105041', '126127', 1), ('105041', '105432', 1), ('105041', '105992', 1), ('105041', '104547', 1), ('105041', '105577', 1), ('105041', '105074', 1), ('105041', '111456', 1), ('105578', '207971', 1), ('207972', '120792', 1), ('126939', '207836', 1), ('126845', '104291', 1), ('200000', '105936', 1), ('200000', '105577', 1), ('200000', '105683', 1), ('200000', '104999', 1), ('200000', '105413', 1), ('200000', '126094', 1), ('200000', '105634', 1), ('200000', '106421', 1), ('200000', '133430', 1), ('200000', '200059', 1), ('200000', '111202', 1), ('200325', '144826', 1), ('200325', '104291', 1), ('200325', '105633', 1), ('200325', '105747', 1), ('106216', '105430', 1), ('106216', '106281', 1), ('106216', '111442', 1), ('106216', '106401', 1), ('106216', '106072', 1), ('106216', '104665', 1), ('106216', '106148', 1), ('106216', '105065', 1), ('105223', '133430', 1), ('105223', '111575', 3), ('105223', '104607', 1), ('105223', '104871', 1), ('105223', '104999', 1), ('105223', '100644', 1), ('105223', '200282', 1), ('105223', '104259', 1), ('105223', '105683', 2), ('105223', '105453', 1), ('105223', '105936', 2), ('105223', '104545', 3), ('105223', '106000', 2), ('105223', '105583', 1), ('105223', '126774', 1), ('105223', '105676', 2), ('105223', '103917', 1), ('105223', '103898', 1), ('105223', '105227', 1), ('105223', '104745', 3), ('105223', '105332', 1), ('105223', '104468', 1), ('105223', '106218', 1), ('105223', '106078', 1), ('105223', '111202', 1), ('105223', '106401', 1), ('105223', '105385', 1), ('105223', '104269', 1), ('105223', '106432', 2), ('105223', '104925', 1), ('105223', '105932', 1), ('105223', '104755', 1), ('202090', '104797', 1), ('106296', '105062', 1), ('106296', '105430', 1), ('106296', '126774', 1), ('106296', '104897', 1), ('105691', '105683', 1), ('104468', '106120', 1), ('104468', '105227', 1), ('104468', '111577', 1), ('104468', '105657', 1), ('104468', '105807', 1), ('104468', '120424', 1), ('104468', '105676', 1), ('104468', '109739', 1), ('104468', '105936', 2), ('104468', '105732', 1), ('104468', '105332', 1), ('104468', '106148', 1), ('104468', '104755', 2), ('104468', '111575', 1), ('104468', '105777', 1), ('104468', '105155', 1), ('104468', '105515', 1), ('104468', '106167', 1), ('104468', '105062', 1), ('104468', '111815', 1), ('104468', '105932', 2), ('104468', '105023', 1), ('104468', '105453', 1), ('104468', '126610', 2), ('104468', '105992', 1), ('104468', '105683', 1), ('104468', '106210', 1), ('104468', '105430', 1), ('104468', '104897', 1), ('104468', '200282', 1), ('104468', '106065', 1), ('104468', '104660', 1), ('104468', '111456', 1), ('104468', '106043', 1), ('105449', '200282', 2), ('105449', '132482', 1), ('105449', '106353', 1), ('105449', '104629', 1), ('105449', '105932', 1), ('105449', '105683', 1), ('105449', '105539', 1), ('105449', '106421', 3), ('105449', '103607', 1), ('105449', '105807', 3), ('105449', '124014', 1), ('105449', '104545', 1), ('105449', '104527', 1), ('105449', '105657', 1), ('105449', '105550', 1), ('105449', '105227', 1), ('105449', '105332', 1), ('105449', '104999', 1), ('105449', '105074', 1), ('105449', '106328', 1), ('105449', '104719', 1), ('105449', '106368', 1), ('105449', '104925', 1), ('105449', '144719', 1), ('105449', '106378', 1), ('105449', '104797', 1), ('105449', '106432', 1), ('105449', '111575', 1), ('105449', '104792', 1), ('104233', '126530', 1), ('104233', '105747', 1), ('105015', '122330', 1), ('105015', '111202', 1), ('105015', '105539', 1), ('105015', '105477', 1), ('105015', '105732', 1), ('105015', '105807', 1), ('104547', '124014', 1), ('104547', '105238', 1), ('104547', '106065', 1), ('104547', '104792', 2), ('104547', '104297', 1), ('104547', '111797', 1), ('104547', '105807', 1), ('104547', '105583', 2), ('104547', '106415', 1), ('104547', '106058', 1), ('104547', '104545', 1), ('104547', '104925', 1), ('104547', '105643', 1), ('104547', '200711', 1), ('105292', '105985', 1), ('144760', '105932', 1), ('144760', '105657', 1), ('106177', '103893', 1), ('200611', '104792', 1), ('104545', '111202', 2), ('104545', '105583', 2), ('104545', '105430', 4), ('104545', '105992', 3), ('104545', '104792', 2), ('104545', '106210', 1), ('104545', '104022', 1), ('104545', '105227', 2), ('104545', '100644', 3), ('104545', '106167', 1), ('104545', '105967', 1), ('104545', '104655', 1), ('104545', '111815', 2), ('104545', '105732', 2), ('104545', '120424', 1), ('104545', '105074', 1), ('104545', '126774', 1), ('104545', '105683', 2), ('104545', '200282', 1), ('104545', '104999', 1), ('104545', '111575', 2), ('104545', '105023', 1), ('104545', '111797', 1), ('104545', '105062', 1), ('104545', '104925', 1), ('105053', '106043', 1), ('104797', '106000', 1), ('104797', '111577', 2), ('104797', '105992', 1), ('104797', '105732', 1), ('104797', '106378', 1), ('104797', '111575', 1), ('104797', '200175', 1), ('104797', '105807', 1), ('104797', '103529', 1), ('104797', '103499', 1), ('104797', '122330', 1), ('104797', '111513', 2), ('104797', '104259', 2), ('104797', '104252', 1), ('104797', '104312', 1), ('104797', '106065', 1), ('104797', '106401', 1), ('104797', '105643', 1), ('104797', '109739', 1), ('104797', '111797', 1), ('104797', '105062', 1), ('126204', '122669', 1), ('126204', '104655', 1), ('126526', '126530', 1), ('133430', '106378', 3), ('133430', '104297', 1), ('133430', '126774', 2), ('133430', '105634', 1), ('133430', '106432', 2), ('133430', '103333', 1), ('133430', '111577', 2), ('133430', '105453', 2), ('133430', '104655', 1), ('133430', '106000', 1), ('133430', '105023', 1), ('133430', '105932', 2), ('133430', '105332', 2), ('133430', '105683', 2), ('133430', '100644', 1), ('133430', '104607', 1), ('133430', '104745', 1), ('133430', '105357', 1), ('133430', '109739', 1), ('133430', '105432', 1), ('133430', '104180', 1), ('133430', '104999', 1), ('133430', '104871', 2), ('133430', '106421', 2), ('133430', '104312', 1), ('133430', '104629', 1), ('133430', '126610', 1), ('133430', '106415', 1), ('133430', '111202', 1), ('133430', '104527', 1), ('133430', '105166', 1), ('133430', '105227', 1), ('133430', '104755', 1), ('105633', '202382', 1), ('105633', '105777', 1), ('105633', '105349', 1), ('111581', '105643', 1), ('111581', '104999', 1), ('111581', '200282', 1), ('111581', '111153', 1), ('111581', '111202', 1), ('111581', '104180', 1), ('111581', '124014', 1), ('111581', '105166', 1), ('111581', '106000', 1), ('117356', '105626', 1), ('117356', '103893', 1), ('117356', '105657', 1), ('106426', '106043', 1), ('106426', '105550', 1), ('103917', '105676', 1), ('103917', '126774', 1), ('103917', '104180', 1), ('103917', '105992', 1), ('103917', '105359', 1), ('103917', '144895', 1), ('103917', '100644', 1), ('103917', '104719', 1), ('105882', '106325', 1), ('105882', '105550', 1), ('105882', '104665', 1), ('105882', '111797', 1), ('105882', '104871', 1), ('105882', '200384', 1), ('105882', '104607', 1), ('105882', '105357', 1), ('105882', '106210', 1), ('105882', '128034', 1), ('105111', '111797', 1), ('111795', '105932', 1), ('111815', '111202', 1), ('111815', '111797', 1), ('111815', '106148', 1), ('111815', '105497', 1), ('111815', '109739', 1), ('111815', '104527', 1), ('111815', '105379', 1), ('111815', '104291', 1), ('111815', '104871', 1), ('111815', '106401', 1), ('111815', '105992', 1), ('111815', '105432', 1), ('111815', '111442', 1), ('111815', '105583', 1), ('111815', '122109', 1), ('111815', '105842', 1), ('111815', '106432', 1), ('111815', '106415', 1), ('111815', '104719', 1), ('111815', '106043', 1), ('106423', '106421', 1), ('106423', '122330', 1), ('106423', '104269', 1), ('106423', '111575', 1), ('103607', '104755', 1), ('103607', '104745', 1), ('103607', '105589', 1), ('103607', '105539', 1), ('103607', '106044', 2), ('103607', '106368', 1), ('111167', '126102', 1), ('111167', '105657', 1), ('105155', '105430', 1), ('105155', '104269', 1), ('105583', '106043', 1), ('105583', '105487', 1), ('105583', '104792', 1), ('105583', '111797', 1), ('105583', '111202', 1), ('105583', '106401', 1), ('105583', '104925', 1), ('105583', '124079', 1), ('105583', '105357', 1), ('105583', '104871', 1), ('105583', '111575', 1), ('105583', '104755', 1), ('105583', '106210', 1), ('105583', '100644', 1), ('105583', '105932', 2), ('105583', '105550', 1), ('105583', '104269', 1), ('105583', '104198', 1), ('105583', '105683', 1), ('105583', '106000', 1), ('105583', '105432', 1), ('105583', '105732', 1), ('105583', '105577', 1), ('105583', '105777', 1), ('105583', '106378', 1), ('105583', '106421', 1), ('126952', '103529', 1), ('105550', '105806', 1), ('105550', '126094', 1), ('105550', '106044', 1), ('105550', '104269', 2), ('105550', '105671', 1), ('105550', '144895', 1), ('105550', '111797', 1), ('105550', '104022', 1), ('105550', '111578', 1), ('105550', '105023', 3), ('105550', '106043', 1), ('105550', '106075', 1), ('105550', '104745', 1), ('105550', '105357', 1), ('105550', '105432', 1), ('105550', '106186', 1), ('105550', '105227', 1), ('105550', '111456', 1), ('105550', '105379', 1), ('105550', '106065', 1), ('105550', '106148', 1), ('105550', '134770', 1), ('105550', '103893', 1), ('105550', '105932', 1), ('105550', '123755', 1), ('105550', '106000', 1), ('105657', '111513', 1), ('105657', '104882', 1), ('105657', '104180', 1), ('105657', '106075', 1), ('105657', '105806', 2), ('105657', '106000', 2), ('105657', '105166', 1), ('105657', '105062', 1), ('105657', '111575', 1), ('105657', '105379', 2), ('105657', '134770', 1), ('105657', '106065', 1), ('105657', '104871', 1), ('105657', '104259', 1), ('105657', '105227', 3), ('105657', '128034', 1), ('105657', '105992', 1), ('105657', '100644', 1), ('105379', '104291', 1), ('105379', '105332', 1), ('105379', '128034', 1), ('105379', '106210', 1), ('105379', '106043', 1), ('105379', '105643', 1), ('105379', '104890', 1), ('105379', '105807', 3), ('105379', '105539', 1), ('105379', '105806', 1), ('105379', '104745', 1), ('105379', '126610', 1), ('105379', '132283', 1), ('105379', '105357', 1), ('105379', '104180', 1), ('105379', '104655', 1), ('105379', '105430', 1), ('105379', '105967', 1), ('105379', '105932', 1), ('105379', '104527', 1), ('105379', '111513', 1), ('104312', '144895', 1), ('104312', '106415', 1), ('104312', '103333', 1), ('104312', '106378', 3), ('104312', '104022', 2), ('104312', '104180', 1), ('104312', '100644', 1), ('104312', '106421', 2), ('104312', '105430', 1), ('104312', '104198', 1), ('104312', '105453', 1), ('104312', '105932', 1), ('104312', '106065', 2), ('104312', '111513', 1), ('104312', '104755', 1), ('104312', '111456', 1), ('104312', '126610', 1), ('104312', '104252', 1), ('104312', '106432', 1), ('104312', '105441', 1), ('104312', '111797', 1), ('104312', '105023', 1), ('104312', '105732', 1), ('104312', '105936', 1), ('122330', '105732', 1), ('207176', '202165', 1), ('128034', '105587', 1), ('128034', '132283', 1), ('128034', '105227', 2), ('128034', '200282', 1), ('128034', '111202', 1), ('128034', '144719', 1), ('128034', '126774', 1), ('200401', '134217', 1), ('134114', '104251', 1), ('104660', '104180', 1), ('104660', '104999', 1), ('104660', '105023', 1), ('104660', '105359', 1), ('105985', '105539', 1), ('105985', '200095', 1), ('127143', '134886', 1), ('104655', '111575', 1), ('104655', '104022', 1), ('104655', '105992', 1), ('104655', '108763', 1), ('104655', '105656', 1), ('104655', '104792', 1), ('104655', '105671', 1), ('104655', '111797', 1), ('104655', '111202', 1), ('104655', '106175', 1), ('104655', '104269', 1), ('104655', '106120', 1), ('104655', '106058', 1), ('104655', '106065', 1), ('104655', '111513', 1), ('104655', '105932', 1), ('200059', '104907', 1), ('200059', '106368', 1), ('200059', '105432', 1), ('200059', '104291', 1), ('200059', '104810', 1), ('200059', '105453', 1), ('104932', '105732', 1), ('104932', '105932', 1), ('104925', '105385', 1), ('104925', '104792', 1), ('104925', '111202', 1), ('104925', '105332', 1), ('104925', '106432', 2), ('104925', '105453', 4), ('104925', '106378', 2), ('104925', '105238', 1), ('104925', '105932', 1), ('104925', '104745', 2), ('104925', '104297', 1), ('104925', '144719', 1), ('104925', '104269', 1), ('104925', '106065', 2), ('104925', '105357', 2), ('104925', '105777', 2), ('104925', '104871', 2), ('104925', '105227', 4), ('104925', '111575', 2), ('104925', '105806', 1), ('104925', '105166', 1), ('104925', '126774', 1), ('104925', '105683', 1), ('104925', '104755', 1), ('104925', '100644', 3), ('104925', '106000', 1), ('132482', '126094', 1), ('132482', '200282', 1), ('105643', '104180', 1), ('105643', '104252', 1), ('105643', '105671', 1), ('105643', '104198', 2), ('105643', '106210', 1), ('105643', '106043', 2), ('105643', '106148', 1), ('105643', '105992', 1), ('105643', '104999', 1), ('105643', '105430', 1), ('105643', '105807', 1), ('105643', '105732', 1), ('105643', '105357', 1), ('111515', '105902', 1), ('106044', '111442', 1), ('106044', '104269', 1), ('106044', '104297', 1), ('106044', '106210', 1), ('106044', '106000', 1), ('106044', '111797', 1), ('106044', '105385', 1), ('106044', '105065', 1), ('106044', '105807', 1), ('106044', '105683', 1), ('106044', '105948', 1), ('106421', '104259', 1), ('106421', '111577', 1), ('106421', '103893', 1), ('106421', '200282', 2), ('106421', '111202', 1), ('106421', '104755', 1), ('106421', '104180', 1), ('106421', '105732', 1), ('106421', '126610', 1), ('106421', '105807', 2), ('106421', '126774', 3), ('106421', '100644', 2), ('106421', '105453', 2), ('106421', '106378', 1), ('106421', '104269', 1), ('106421', '106058', 2), ('106421', '104871', 1), ('106421', '106432', 4), ('106421', '104198', 1), ('106421', '133297', 1), ('106421', '105806', 1), ('106421', '105992', 1), ('106421', '105539', 1), ('106421', '105062', 1), ('106421', '106043', 1), ('106421', '105683', 1), ('106421', '105585', 1), ('106421', '111575', 1), ('106421', '109739', 1), ('105943', '106148', 1), ('105943', '105676', 1), ('126094', '104269', 1), ('126094', '106432', 1), ('126094', '104792', 1), ('126094', '105777', 2), ('126094', '104198', 1), ('126094', '104871', 2), ('126094', '106000', 1), ('126094', '105577', 1), ('126094', '126610', 1), ('126094', '200282', 2), ('126094', '105539', 1), ('126094', '105453', 1), ('126094', '144719', 2), ('126094', '106401', 1), ('126094', '105062', 1), ('126094', '126774', 1), ('104629', '144895', 1), ('104629', '104871', 1), ('104629', '144719', 1), ('104890', '105806', 1), ('104890', '105238', 1), ('104890', '106043', 1), ('104890', '106148', 1), ('104890', '104999', 1), ('104890', '111575', 1), ('106075', '105430', 2), ('106075', '105806', 1), ('106075', '105807', 1), ('106075', '106000', 1), ('106021', '207479', 1), ('105676', '104897', 1), ('105676', '103898', 1), ('105676', '105226', 1), ('105676', '111575', 2), ('105676', '104755', 1), ('105676', '104607', 1), ('105676', '105777', 2), ('105676', '126774', 3), ('105676', '104719', 1), ('105676', '104745', 1), ('105676', '106378', 1), ('105676', '106065', 2), ('105676', '100644', 1), ('105676', '144895', 1), ('105676', '104792', 1), ('105676', '105732', 1), ('105676', '105683', 1), ('105676', '105332', 1), ('105676', '105227', 1), ('104656', '123755', 1), ('105656', '105899', 1), ('105656', '106218', 1), ('122109', '103499', 1), ('200282', '105683', 1), ('200282', '105992', 1), ('200282', '104269', 1), ('200282', '106000', 2), ('200282', '105332', 2), ('200282', '104607', 1), ('200282', '100644', 3), ('200282', '106415', 1), ('200282', '105671', 1), ('200282', '106378', 2), ('200282', '105062', 1), ('200282', '106065', 1), ('200282', '105732', 2), ('200282', '104745', 1), ('200282', '103333', 1), ('200282', '105577', 2), ('200282', '111202', 1), ('200282', '105227', 1), ('200282', '111456', 1), ('200282', '126774', 2), ('200282', '104259', 1), ('200282', '144719', 1), ('126120', '109739', 1), ('111460', '134770', 1), ('111460', '104180', 1), ('111460', '105332', 1), ('105156', '122669', 1), ('104269', '109739', 1), ('104269', '106043', 2), ('104269', '105777', 3), ('104269', '104198', 1), ('104269', '105807', 2), ('104269', '105227', 2), ('104269', '103893', 1), ('104269', '106000', 1), ('104269', '106415', 2), ('104269', '106210', 1), ('104269', '132283', 1), ('104269', '111797', 1), ('104269', '104871', 2), ('104269', '105359', 1), ('104269', '104792', 2), ('104269', '105932', 1), ('104269', '104259', 1), ('104269', '105732', 1), ('104269', '106378', 1), ('104269', '104291', 1), ('105902', '105227', 1), ('105902', '100644', 1), ('105902', '111442', 1), ('105902', '105992', 1), ('105902', '106186', 1), ('105902', '126774', 1), ('105870', '105992', 1), ('105870', '100644', 1), ('105870', '144719', 1), ('105870', '104259', 1), ('106058', '105441', 1), ('106058', '124187', 1), ('106058', '124014', 1), ('106058', '106432', 1), ('106058', '104259', 1), ('106058', '126610', 1), ('106058', '111202', 1), ('106058', '105932', 2), ('106058', '104755', 1), ('106058', '104291', 1), ('105163', '104259', 1), ('200273', '134120', 1), ('200273', '124022', 1), ('200273', '106397', 1), ('200273', '207139', 1), ('207421', '106397', 1), ('106353', '105502', 1), ('105634', '109739', 1), ('105634', '111513', 1), ('100644', '111202', 2), ('100644', '106401', 2), ('100644', '111456', 1), ('100644', '105992', 1), ('100644', '106432', 2), ('100644', '105807', 1), ('100644', '104745', 2), ('100644', '104180', 1), ('100644', '104755', 1), ('100644', '105453', 2), ('100644', '104259', 2), ('100644', '105539', 1), ('100644', '126610', 1), ('100644', '106378', 2), ('100644', '105227', 2), ('100644', '106000', 1), ('100644', '111575', 2), ('100644', '104291', 2), ('100644', '104999', 1), ('100644', '126774', 2), ('100644', '105166', 1), ('100644', '105932', 1), ('100644', '106043', 1), ('106401', '105238', 1), ('106401', '105777', 2), ('106401', '105992', 1), ('106401', '104297', 1), ('106401', '103333', 1), ('106401', '109739', 1), ('106401', '106378', 1), ('106401', '105227', 1), ('106401', '105453', 1), ('106401', '104527', 1), ('106401', '106432', 1), ('106401', '105430', 1), ('106401', '105732', 1), ('106401', '106415', 1), ('106401', '104755', 1), ('106401', '105806', 1), ('111442', '111577', 2), ('111442', '103893', 1), ('111442', '134770', 1), ('111442', '106210', 1), ('111442', '105023', 1), ('105577', '105227', 2), ('105577', '106432', 2), ('105577', '103333', 1), ('105577', '106109', 1), ('105577', '105062', 1), ('105577', '105385', 1), ('105577', '104999', 1), ('105577', '106368', 1), ('105577', '104745', 1), ('105577', '105430', 1), ('105577', '105683', 1), ('105577', '104792', 1), ('105585', '105030', 1), ('105585', '111576', 1), ('111790', '144719', 1), ('105747', '126340', 1), ('105747', '105349', 1), ('126774', '104252', 1), ('126774', '104755', 2), ('126774', '104871', 2), ('126774', '105062', 1), ('126774', '104259', 2), ('126774', '104291', 2), ('126774', '105430', 1), ('126774', '144895', 1), ('126774', '106043', 1), ('126774', '105807', 1), ('126774', '104745', 2), ('126774', '104665', 1), ('126774', '106148', 1), ('126774', '105539', 1), ('126774', '106432', 1), ('126774', '126535', 1), ('126774', '105441', 1), ('126774', '111577', 2), ('126774', '106000', 2), ('126774', '105732', 1), ('126774', '105453', 1), ('126774', '104792', 1), ('126774', '111575', 1), ('126774', '105357', 1), ('126774', '144719', 1), ('105332', '104180', 1), ('105332', '104198', 1), ('105332', '104999', 3), ('105332', '105357', 1), ('105332', '106415', 1), ('105332', '106432', 1), ('105332', '106283', 1), ('105332', '105936', 1), ('105332', '111797', 2), ('105332', '105807', 3), ('105332', '104755', 2), ('105332', '106043', 1), ('105332', '105227', 1), ('105332', '106148', 1), ('105332', '105453', 2), ('105332', '104607', 1), ('105332', '105359', 1), ('105332', '111577', 1), ('105332', '104745', 1), ('105332', '120424', 1), ('105332', '106078', 1), ('111574', '104719', 1), ('105613', '126535', 1), ('105613', '105732', 1), ('105613', '106000', 1), ('104745', '106000', 2), ('104745', '106043', 3), ('104745', '105227', 2), ('104745', '104259', 1), ('104745', '111575', 3), ('104745', '105777', 1), ('104745', '105453', 1), ('104745', '106148', 1), ('104745', '104198', 1), ('104745', '104792', 1), ('104745', '104755', 1), ('104745', '109739', 1), ('104745', '105062', 1), ('104745', '106210', 1), ('104745', '104527', 1), ('104745', '105932', 1), ('123755', '105166', 1), ('106109', '111456', 1), ('106109', '106378', 1), ('106109', '106328', 1), ('105935', '106198', 1), ('105842', '104907', 1), ('105842', '106368', 1), ('106072', '104665', 1), ('122236', '144817', 1), ('104755', '104882', 1), ('104755', '132283', 2), ('104755', '105732', 2), ('104755', '106000', 1), ('104755', '106432', 1), ('104755', '104871', 3), ('104755', '104198', 1), ('104755', '106378', 2), ('104755', '106043', 1), ('104755', '104999', 1), ('104755', '104607', 1), ('104755', '104291', 1), ('104755', '105539', 1), ('104755', '104252', 1), ('104755', '104792', 1), ('104755', '105589', 1), ('104755', '134770', 1), ('104755', '105967', 1), ('104755', '111797', 1), ('104755', '105807', 1), ('104755', '111513', 1), ('104755', '105453', 1), ('104755', '106210', 1), ('104252', '105539', 1), ('104252', '105806', 1), ('104252', '104180', 1), ('104252', '104999', 1), ('104252', '120424', 1), ('104252', '106210', 1), ('104252', '105807', 1), ('104252', '106432', 1), ('104308', '111761', 1), ('105359', '105065', 1), ('103893', '104792', 2), ('103893', '106000', 1), ('103893', '106148', 1), ('103893', '104999', 1), ('103893', '105732', 1), ('103893', '105932', 1), ('103893', '105477', 1), ('103893', '111513', 2), ('103893', '105806', 1), ('103893', '105539', 1), ('103893', '106378', 1), ('105671', '106148', 1), ('105671', '104198', 1), ('105671', '106415', 1), ('105732', '106065', 1), ('105732', '105227', 2), ('105732', '104180', 1), ('105732', '104792', 1), ('105732', '104259', 1), ('105732', '105777', 1), ('105732', '105166', 1), ('105732', '104871', 1), ('105732', '106000', 1), ('105732', '104999', 1), ('105732', '106283', 1), ('105732', '105430', 1), ('105732', '106415', 1), ('105732', '105062', 1), ('106361', '105806', 1), ('106361', '106043', 1), ('106228', '105967', 1), ('202130', '104022', 1), ('105992', '105227', 2), ('105992', '105385', 1), ('105992', '103333', 1), ('105992', '124187', 1), ('105992', '106043', 1), ('105992', '105074', 1), ('105992', '200175', 1), ('105992', '104198', 1), ('105992', '109739', 1), ('105992', '106378', 1), ('105992', '106148', 1), ('105992', '111202', 1), ('105992', '111456', 1), ('105992', '127339', 1), ('105992', '105936', 1), ('134868', '104527', 1), ('106397', '133975', 1), ('105479', '106410', 1), ('105217', '105683', 1), ('104792', '144719', 1), ('104792', '134770', 1), ('104792', '105227', 1), ('104792', '106043', 2), ('104792', '105806', 1), ('104792', '105932', 1), ('104792', '109739', 1), ('104792', '104882', 1), ('104792', '104198', 1), ('104792', '105023', 1), ('104792', '106065', 1), ('104792', '105487', 1), ('104792', '105453', 1), ('104792', '105074', 1), ('104792', '106378', 1), ('106099', '104291', 1), ('105589', '105932', 1), ('105589', '106065', 1), ('105589', '104665', 1), ('105589', '104198', 1), ('105589', '144895', 1), ('105357', '105166', 1), ('105357', '105777', 1), ('105357', '104180', 2), ('105357', '106432', 1), ('105357', '106000', 1), ('105357', '105453', 1), ('105357', '105430', 1), ('105357', '120424', 1), ('105357', '106065', 2), ('105357', '105683', 1), ('105357', '202385', 1), ('105357', '105062', 1), ('105357', '105932', 1), ('105499', '105467', 1), ('105499', '106175', 1), ('105432', '126610', 1), ('106210', '106120', 1), ('106210', '105430', 1), ('106210', '105023', 1), ('106210', '106378', 1), ('106210', '104593', 1), ('106210', '104291', 1), ('106210', '105932', 1), ('106210', '106000', 1), ('106210', '106043', 1), ('106210', '106065', 1), ('106210', '200436', 1), ('106210', '200218', 1), ('106210', '106368', 1), ('106210', '144719', 1), ('105166', '111575', 1), ('105166', '105561', 1), ('105166', '111577', 1), ('105430', '105062', 1), ('105430', '105453', 1), ('105430', '105023', 1), ('105430', '106378', 1), ('105430', '104297', 1), ('105430', '106000', 1), ('105430', '105807', 1), ('105430', '126610', 2), ('105948', '105062', 1), ('133297', '105683', 1), ('105238', '106043', 2), ('105238', '105063', 1), ('106186', '105807', 1), ('109739', '104291', 1), ('109739', '105806', 1), ('109739', '103333', 1), ('109739', '104607', 1), ('109739', '105777', 1), ('109739', '106148', 1), ('109739', '120424', 1), ('109739', '106043', 1), ('109739', '104259', 1), ('109739', '106000', 1), ('109739', '111513', 1), ('109739', '109054', 1), ('109739', '105062', 1), ('109739', '105453', 1), ('109739', '104871', 1), ('106000', '105074', 1), ('106000', '105062', 1), ('106000', '104607', 1), ('106000', '120424', 1), ('106000', '105539', 2), ('106000', '106065', 2), ('106000', '103898', 1), ('106000', '105777', 1), ('106000', '104999', 1), ('106000', '111192', 1), ('106000', '104527', 1), ('106000', '106368', 1), ('106000', '104871', 1), ('106000', '106078', 1), ('202165', '105812', 1), ('120424', '104999', 1), ('120424', '104897', 1), ('105453', '105539', 1), ('105453', '104607', 1), ('105453', '105227', 2), ('105453', '104198', 1), ('105453', '105777', 1), ('105453', '104259', 2), ('105453', '126125', 1), ('105453', '104897', 2), ('105453', '111575', 2), ('105453', '106328', 1), ('105453', '105385', 1), ('105453', '104527', 1), ('105453', '106043', 1), ('105453', '105932', 1), ('105453', '105023', 1), ('105453', '105062', 1), ('144817', '104597', 1), ('144817', '105487', 1), ('106148', '106368', 1), ('106148', '111797', 2), ('106148', '105413', 1), ('106148', '105062', 1), ('106148', '111513', 1), ('106148', '105932', 1), ('106148', '104198', 1), ('106148', '106378', 1), ('106148', '106283', 1), ('106148', '106432', 1), ('106415', '104259', 1), ('106415', '104607', 1), ('106415', '105227', 1), ('106415', '105807', 1), ('106415', '105806', 1), ('105226', '126610', 1), ('105899', '106175', 1), ('105899', '106412', 1), ('105477', '106065', 2), ('105477', '105539', 1), ('104871', '103898', 1), ('104871', '104297', 1), ('104871', '105777', 1), ('104871', '105683', 1), ('104871', '105932', 1), ('104871', '104607', 1), ('104871', '104198', 1), ('104871', '111456', 1), ('104871', '105065', 1), ('104871', '106432', 1), ('200436', '104022', 1), ('111797', '104665', 1), ('111797', '105487', 1), ('111797', '104198', 1), ('111797', '106043', 4), ('111797', '106120', 1), ('111797', '105807', 1), ('111797', '111577', 1), ('111797', '104999', 2), ('111797', '105936', 1), ('111797', '111456', 2), ('111797', '105932', 1), ('111797', '126610', 1), ('111797', '105227', 1), ('111797', '106378', 1), ('126502', '105273', 1), ('104297', '105413', 1), ('104297', '111577', 1), ('105074', '105932', 1), ('105074', '111575', 1), ('105074', '105023', 1), ('105074', '144719', 1), ('105074', '104999', 1), ('106214', '126610', 1), ('105413', '105807', 1), ('105413', '144895', 1), ('106393', '106120', 1), ('103333', '111513', 1), ('103333', '124014', 1), ('103333', '144895', 2), ('103333', '111577', 1), ('103333', '105023', 1), ('103333', '104259', 1), ('103333', '104022', 1), ('103333', '105385', 1), ('126610', '105932', 2), ('126610', '105967', 1), ('126610', '103898', 1), ('126610', '111202', 1), ('126610', '104198', 1), ('126610', '106378', 1), ('105063', '104665', 1), ('106396', '133975', 1), ('106175', '108739', 1), ('104467', '106106', 1), ('104467', '105932', 2), ('104467', '104259', 1), ('138846', '105606', 1), ('138846', '133975', 1), ('105539', '105385', 1), ('105539', '104882', 1), ('105539', '105936', 2), ('105539', '111575', 1), ('105539', '104259', 1), ('105539', '104291', 1), ('105539', '105062', 1), ('132283', '104180', 1), ('132283', '111575', 1), ('103499', '111805', 1), ('105932', '106432', 2), ('105932', '106378', 2), ('105932', '111577', 1), ('105932', '104259', 1), ('105932', '105807', 1), ('105932', '111513', 1), ('105932', '200005', 1), ('105932', '105023', 1), ('105932', '104291', 1), ('105960', '111577', 1), ('122078', '105967', 1), ('122078', '106391', 1), ('122078', '105227', 1), ('111202', '104180', 1), ('111202', '106378', 1), ('111202', '104999', 1), ('111202', '105385', 1), ('111202', '124014', 1), ('111202', '104607', 1), ('111202', '104897', 1), ('111202', '104198', 1), ('111202', '105807', 1), ('111202', '105062', 1), ('111202', '106065', 1), ('104999', '105441', 1), ('104999', '104607', 1), ('104999', '104882', 1), ('104999', '111575', 2), ('104999', '105062', 2), ('104999', '105023', 1), ('104999', '104291', 1), ('104999', '104259', 1), ('104999', '105806', 1), ('104999', '104022', 2), ('104999', '105065', 2), ('104999', '105777', 1), ('104999', '105936', 1), ('104527', '105806', 1), ('104527', '111577', 1), ('104527', '104198', 1), ('104527', '105023', 1), ('104527', '105777', 2), ('104527', '105385', 1), ('104527', '106043', 1), ('104527', '200005', 1), ('104527', '105683', 1), ('104527', '111575', 1), ('104527', '106432', 1), ('207400', '207415', 1), ('105807', '106432', 2), ('105807', '104180', 1), ('105807', '105227', 3), ('105807', '104198', 1), ('105807', '106065', 2), ('105807', '105777', 1), ('105807', '111577', 1), ('105807', '111575', 1), ('105807', '104291', 1), ('124022', '133975', 1), ('105936', '105777', 1), ('105936', '106283', 1), ('105936', '106281', 1), ('105936', '111575', 2), ('105936', '144895', 1), ('105936', '106378', 1), ('106368', '105227', 1), ('106368', '105385', 1), ('106368', '105065', 1), ('106368', '111513', 1), ('134770', '106043', 3), ('134770', '144719', 1), ('111197', '105967', 1), ('200031', '105683', 1), ('105227', '106378', 1), ('105227', '104259', 2), ('105227', '105062', 1), ('105227', '105683', 1), ('105227', '104291', 1), ('105227', '104180', 1), ('105227', '105023', 2), ('105227', '106432', 1), ('105227', '106043', 1), ('105227', '111575', 1), ('105227', '105777', 1), ('124014', '111456', 1), ('124014', '104291', 1), ('104180', '104291', 1), ('104180', '104022', 1), ('104180', '104259', 1), ('104180', '104719', 1), ('104665', '106378', 1), ('105062', '111513', 1), ('105062', '106391', 1), ('105062', '106432', 1), ('105062', '104719', 1), ('105062', '104897', 1), ('105062', '106378', 1), ('105062', '144895', 1), ('105062', '105777', 1), ('103898', '104291', 1), ('103898', '111575', 1), ('103898', '106432', 1), ('103898', '104607', 1), ('103898', '106065', 1), ('109054', '106043', 1), ('106378', '105777', 2), ('106378', '104291', 2), ('106378', '106043', 2), ('106378', '111456', 1), ('105349', '104291', 1), ('104198', '104607', 1), ('104198', '111575', 1), ('111575', '104259', 2), ('111575', '104607', 1), ('111575', '105023', 2), ('111575', '105806', 1), ('111513', '105023', 1), ('111513', '104882', 1), ('111513', '105065', 1), ('111513', '104291', 1), ('111513', '106065', 1), ('111513', '106432', 1), ('105683', '105023', 1), ('105683', '106043', 1), ('105683', '106065', 1), ('105683', '105777', 1), ('105683', '105806', 1), ('105683', '104607', 1), ('105683', '106281', 1), ('105683', '111456', 2), ('105683', '104291', 1), ('106412', '105023', 1), ('105967', '106065', 1), ('105777', '111456', 1), ('105777', '104291', 2), ('105777', '104259', 1), ('105777', '111577', 1), ('104291', '104022', 1), ('104291', '111577', 1), ('104291', '105806', 1), ('106043', '106432', 1), ('106043', '105806', 1), ('106043', '105023', 2), ('106043', '144719', 1), ('105065', '104259', 1), ('105385', '106432', 1), ('106432', '104259', 1), ('105023', '104022', 1), ('105023', '106078', 1), ('106065', '105806', 1), ('104259', '105806', 1), ('104022', '105806', 1), ('133975', '207139', 1), ('144719', '104897', 1)]\n",
      "{'105554': 'Daniel Evans', '105376': 'Peter Gojowczyk', '124116': 'Sebastian Ofner', '111511': 'Noah Rubin', '103852': 'Feliciano Lopez', '200045': 'Anthony Susanto', '105436': 'Markus Eriksson', '104122': 'Carlos Berlocq', '126203': 'Taylor Fritz', '124126': 'Sarp Agabigun', '138845': 'Anthony Jackie Tang', '105688': 'Manuel Sanchez', '105064': 'Thomaz Bellucci', '144776': 'Christophe Tholl', '200484': 'Rudolf Molleker', '111794': 'Kamil Majchrzak', '208028': 'Francisco Llanes', '106026': 'Yuki Bhambri', '105132': 'Jurgen Zopp', '206000': 'Michel Saade', '138431': 'Darko Bojanovic', '103970': 'David Ferrer', '104542': 'Jo-Wilfried Tsonga', '106233': 'Dominic Thiem', '105575': 'Ricardas Berankis', '144707': 'Mikael Ymer', '122548': 'Edan Leshem', '105649': 'Cedrik Marcel Stebe', '105916': 'Marton Fucsovics', '106121': 'Taro Daniel', '105952': 'Renzo Olivo', '104678': 'Viktor Troicki', '105341': 'Thomas Fabbiano', '105216': 'Yuichi Sugita', '126190': 'Nicolas Alvarez', '123768': 'Collin Altamirano', '123795': 'Altug Celikbilek', '104970': 'Matteo Viola', '104947': 'Marsel Ilhan', '206642': 'Yassir Kilani', '105819': 'Guido Andreozzi', '104978': 'Daniel Brands', '126523': 'Bernabe Zapata Miralles', '106045': 'Denis Kudla', '111200': 'Elias Ymer', '106138': 'Yaraslau Shyla', '105933': 'Roberto Quiroz', '200514': 'Jurij Rodionov', '105373': 'Martin Klizan', '200460': 'John Bryan Decasa Otico', '105138': 'Roberto Bautista Agut', '200624': 'Sebastian Korda', '144750': 'Lloyd Harris', '104586': 'Lukas Rosol', '103781': 'Jurgen Melzer', '202462': 'Yasitha De Silva', '105614': 'Bradley Klahn', '105757': 'Sandro Ehrat', '106071': 'Bernard Tomic', '111459': 'Arjun Kadhe', '104898': 'Robin Haase', '105051': 'Matthew Ebden', '104918': 'Andy Murray', '104460': 'Dustin Brown', '200574': 'Alexander Donski', '106174': 'Gonzalo Lama', '123921': 'Calvin Hemery', '104571': 'Marcos Baghdatis', '126207': 'Frances Tiafoe', '104494': 'Adrian Ungur', '200278': 'Simon Carr', '104620': 'Simone Bolelli', '104731': 'Kevin Anderson', '104919': 'Leonardo Mayer', '106110': 'Filip Horansky', '121411': 'Moez Chargui', '205734': 'Thiago Seyboth Wild', '110602': 'Dennis Novak', '106329': 'Thiago Monteiro', '127570': 'Rodrigo Arus', '105815': 'Tennys Sandgren', '105827': 'Laurynas Grigelis', '103990': 'Tommy Robredo', '136440': 'Dominik Koepfer', '104926': 'Fabio Fognini', '105526': 'Jan Lennard Struff', '103819': 'Roger Federer', '106252': 'Joao Pedro Sorgi', '126205': 'Tommy Paul', '106250': 'Luis Patino', '105077': 'Albert Ramos', '200615': 'Alexei Popyrin', '105208': 'Ernests Gulbis', '105961': 'David Souto', '106150': 'Jeson Patrombon', '105311': 'Joao Sousa', '125802': 'Ilya Ivashka', '104534': 'Dudi Sela', '127300': 'Jurabek Karimov', '106105': 'Guilherme Clezar', '106005': 'Constant Lestienne', '126652': 'Jay Clarke', '105566': 'Shahin Khaledan', '111190': 'Zhizhen Zhang', '126174': 'Youssef Hossam', '105173': 'Adrian Mannarino', '106298': 'Lucas Pouille', '109698': 'Christoffer Konigsfeldt', '106324': 'Vaclav Safranek', '106333': 'Julien Cagnina', '105041': 'Lukas Lacko', '105578': 'Cristian Rodriguez', '207972': 'Minjong Park', '126939': 'Khumoun Sultanov', '126845': 'Max Purcell', '200000': 'Felix Auger Aliassime', '200325': 'Emil Ruusuvuori', '106216': 'Bjorn Fratangelo', '105223': 'Juan Martin del Potro', '202090': 'Adrian Andreev', '106296': 'Gregoire Barrere', '105691': 'Scott Griekspoor', '106232': 'Roberto Cid', '104468': 'Gilles Simon', '105449': 'Steve Johnson', '104233': 'Frederik Nielsen', '200274': 'Alex Diaz', '105015': 'Franko Skugor', '126127': 'Benjamin Bonzi', '104547': 'Horacio Zeballos', '105292': 'Alejandro Gonzalez', '144760': 'Amine Ahouda', '120792': 'M Abid Ali Khan Akbar', '106177': 'Oriol Roca Batalla', '200611': 'Elliot Benchetrit', '104545': 'John Isner', '105053': 'Santiago Giraldo', '104797': 'Denis Istomin', '126204': 'Gerardo Lopez Villasenor', '126526': 'Soren Hess Olesen', '133430': 'Denis Shapovalov', '105633': 'Mohamed Safwat', '111581': 'Michael Mmoh', '104672': 'Vincent Millot', '117356': 'Cem Ilkel', '106426': 'Christian Garin', '103917': 'Nicolas Mahut', '105882': 'Stefano Travaglia', '105111': 'Ivan Endara', '110536': 'Kevin King', '111795': 'Filippo Baldi', '111815': 'Cameron Norrie', '106423': 'Thanasi Kokkinakis', '103607': 'Victor Estrella', '111167': 'Ugo Nastasi', '105155': 'Pedro Sousa', '105583': 'Dusan Lajovic', '126952': 'Soon Woo Kwon', '105550': 'Guido Pella', '105657': 'Marius Copil', '200384': 'Hugo Gaston', '105379': 'Aljaz Bedene', '104312': 'Andreas Seppi', '111153': 'Christopher Eubanks', '122330': 'Alexander Bublik', '207176': 'Muhammad Althaf Dhaifullah', '128034': 'Hubert Hurkacz', '200401': 'Amir Hossein Badi', '134217': 'Skyler Butts', '134114': 'Jad Ballout', '104660': 'Sergiy Stakhovsky', '105707': 'Nicolaas Scholtz', '105985': 'Darian King', '127143': 'Jirat Navasirisomboon', '105497': 'Jose Hernandez', '104655': 'Pablo Cuevas', '200059': 'Yibing Wu', '103565': 'Stephane Robert', '104932': 'Kenny De Schepper', '104925': 'Novak Djokovic', '202382': 'Simen Sunde Bratholm', '200711': 'Nicolas Mejia', '132482': 'Liam Caruana', '108763': 'Alberto Emmanuel Alvarado Larin', '105643': 'Federico Delbonis', '111515': 'Thai Son Kwiatkowski', '106044': 'Nicolas Kicker', '106421': 'Daniil Medvedev', '105943': 'Federico Gaio', '126094': 'Andrey Rublev', '104629': 'Adrian Menendez Maceiras', '104890': 'Andreas Haider Maurer', '106075': 'Jozef Kovalik', '106021': 'Dragos Dima', '105676': 'David Goffin', '104656': 'Haydn Lewis', '105656': 'Marcelo Arevalo', '122109': 'Sanjar Fayziev', '200282': 'Alex De Minaur', '126120': 'Nino Serdarusic', '106348': 'Evgeny Karlovskiy', '111460': 'Quentin Halys', '105156': 'Federico Zeballos', '104269': 'Fernando Verdasco', '105902': 'James Duckworth', '105870': 'Yannick Hanfmann', '207836': 'Muzammil Murtaza', '200620': 'Ignacio Garcia', '106058': 'Jack Sock', '105163': 'Gleb Sakharov', '200273': 'Hady Habib', '207421': 'Alex Fairbanks', '106353': 'Pedja Krstin', '105634': 'Viktor Galovic', '100644': 'Alexander Zverev', '106401': 'Nick Kyrgios', '111442': 'Jordan Thompson', '105577': 'Vasek Pospisil', '105585': 'Ze Zhang', '106167': 'Joris De Loore', '111790': 'Brayden Schnur', '105747': 'Karim Mohamed Maamoun', '126774': 'Stefanos Tsitsipas', '126340': 'Viktor Durasovic', '106218': 'Marcos Giron', '105332': 'Benoit Paire', '111574': 'Jc Aragone', '105613': 'Norbert Gombos', '104745': 'Rafael Nadal', '123755': 'Daniel Elahi Galan', '106109': 'Alex Bolt', '105935': 'Duilio Beretta', '105842': 'Di Wu', '106398': 'Pedro Cachin', '106072': 'Alexey Vatutin', '122236': 'Roman Hassanov', '104755': 'Richard Gasquet', '104252': 'Florian Mayer', '104308': 'Michal Przysiezny', '105359': 'Jason Jung', '103893': 'Paolo Lorenzi', '105671': 'Gastao Elias', '105732': 'Pierre Hugues Herbert', '106361': 'Adam Pavlasek', '105502': 'N Sriram Balaji', '105030': 'Michael Venus', '106228': 'Juan Ignacio Londero', '202130': 'Emil Reinberg', '105992': 'Ryan Harrison', '134868': 'Tallon Griekspoor', '106397': 'Wishaya Trongcharoenchaikul', '105479': 'Alejandro Mendoza', '105217': 'Thiemo De Bakker', '104792': 'Gael Monfils', '106099': 'Salvatore Caruso', '105589': 'Gerald Melzer', '111761': 'Benjamin Lock', '134886': 'Sharmal Dissanayake', '105357': 'John Millman', '105499': 'Christopher Diaz Figueroa', '200250': 'Mehluli Don Ayanda Sibanda', '105432': 'Prajnesh Gunneswaran', '106198': 'Hugo Dellien', '106210': 'Jiri Vesely', '207973': 'Ainius Sabaliauskas', '105166': 'Peter Polansky', '104251': 'Ti Chen', '105430': 'Radu Albot', '144826': 'Aziz Dougaz', '105948': 'Federico Coria', '133297': 'Yosuke Watanuki', '105238': 'Alexandr Dolgopolov', '200095': 'Nicola Kuhn', '106186': 'Jason Kubler', '200619': 'Sebastian Arcila', '105467': 'Jordi Munoz Abreu', '206768': 'Rafael Eduardo Gonzalez Retana', '109739': 'Maximilian Marterer', '144645': 'Zdenek Kolar', '106000': 'Damir Dzumhur', '105561': 'Alessandro Giannessi', '202165': 'Alberto Lim', '120424': 'Yannick Maden', '105453': 'Kei Nishikori', '144817': 'Marc Andrea Huesler', '106148': 'Roberto Carballes Baena', '134120': 'Kuan Yi Lee', '106415': 'Yoshihito Nishioka', '105226': 'Attila Balazs', '105899': 'Martin Cuevas', '105477': 'Marco Trungelliti', '104871': 'Jeremy Chardy', '105587': 'Tom Kocevar Desman', '200436': 'Zsombor Piros', '111797': 'Nicolas Jarry', '126502': 'Luis Diego Chavez Villalpando', '105493': 'Tomislav Brkic', '202385': 'Jenson Brooksby', '104297': 'Rogerio Dutra Silva', '105487': 'Facundo Bagnis', '104907': 'Jose Rubin Statham', '105074': 'Ruben Bemelmans', '106214': 'Oscar Otte', '104597': 'Nicolas Almagro', '200483': 'Peter August Anker', '105413': 'Andrej Martin', '105299': 'Dzmitry Zhyrmont', '207971': 'Xavier Lawrence', '106393': 'Frederico Ferreira Silva', '103333': 'Ivo Karlovic', '126610': 'Matteo Berrettini', '105063': 'Andrea Arnaboldi', '106396': 'Cheng Yu Yu', '106175': 'Ricardo Rodriguez', '104467': 'Lamine Ouahab', '138846': 'Hong Kit Jack Wong', '126530': 'Peter Bothwell', '106410': 'Jorge Brian Panta Herreros', '105539': 'Evgeny Donskoy', '132283': 'Lorenzo Sonego', '103499': 'Aqeel Khan', '105932': 'Nikoloz Basilashvili', '105960': 'Evan King', '106120': 'Ricardo Ojeda Lara', '122078': 'Dmitry Popko', '103529': 'Aisam Ul Haq Qureshi', '200175': 'Miomir Kecmanovic', '111202': 'Hyeon Chung', '104999': 'Mischa Zverev', '104527': 'Stan Wawrinka', '106328': 'Christian Harrison', '105273': 'Mauricio Echazu', '111805': 'Seong Chan Hong', '207400': 'Mark Chigaazira', '106106': 'George Tsivadze', '105807': 'Pablo Carreno Busta', '105606': 'Mohsen Hossein Zade', '124022': 'Chun Hun Wong', '144807': 'Kenneth Raisma', '104593': 'Daniel Gimeno Traver', '105936': 'Filip Krajinovic', '106368': 'Ramkumar Ramanathan', '134770': 'Casper Ruud', '111197': 'Jonathan Mridha', '105441': 'John Patrick Smith', '200031': 'Lucas Catarina', '105227': 'Marin Cilic', '124014': 'Ernesto Escobedo', '104180': 'Gilles Muller', '111192': 'Lucas Miedler', '104665': 'Pablo Andujar', '105062': 'Mikhail Kukushkin', '106325': 'Jabor Al Mutawa', '126125': 'Maxime Janvier', '103898': 'Julien Benneteau', '109054': 'Daniel Masur', '106378': 'Kyle Edmund', '122669': 'Juan Pablo Varillas', '105626': 'Takanyi Garanganga', '105349': 'Harri Heliovaara', '105147': 'Tatsuma Ito', '207415': 'Daniel Michalski', '126613': 'Bogdan Borza', '144895': 'Corentin Moutet', '126535': 'Carlos Taberner', '108739': 'Wilfredo Gonzalez', '104198': 'Guillermo Garcia Lopez', '111575': 'Karen Khachanov', '111513': 'Laslo Djere', '105683': 'Milos Raonic', '124079': 'Pedro Martinez', '106412': 'Lucas Gomez', '105812': 'David Agung Susanto', '105967': 'Henri Laaksonen', '111578': 'Stefan Kozlov', '104810': 'Zhe Li', '104563': 'Luca Vanni', '207738': 'Brandon Perez', '105777': 'Grigor Dimitrov', '104291': 'Malek Jaziri', '200005': 'Ugo Humbert', '106043': 'Diego Schwartzman', '105065': 'Tim Smyczek', '208029': 'Holger Rune', '127339': 'Borna Gojo', '111577': 'Jared Donaldson', '104719': 'Marcel Granollers', '126846': 'Aleksandar Vukic', '104882': 'Blaz Kavcic', '200075': 'Yshai Oliel', '105385': 'Donald Young', '106432': 'Borna Coric', '105023': 'Sam Querrey', '106065': 'Marco Cecchinato', '126102': 'Nicolae Frunza', '105641': 'Blaz Rola', '105515': 'Jordi Samper Montana', '104259': 'Philipp Kohlschreiber', '202358': 'Chun Hsin Tseng', '202210': 'Edris Fetisleam', '104607': 'Tomas Berdych', '104022': 'Mikhail Youzhny', '106391': 'Adrian Bodmer', '106078': 'Egor Gerasimov', '106281': 'Liam Broady', '106220': 'Dimitar Kuzmanov', '111456': 'Mackenzie McDonald', '106283': 'Mitchell Krueger', '106249': 'Joao Domingues', '124187': 'Reilly Opelka', '200218': 'Mate Valkusz', '133975': 'Benjamin Hassan', '105806': 'Mirza Basic', '144719': 'Jaume Munar', '207139': 'Palaphoom Kovapitukted', '104897': 'Matthias Bachinger', '207479': 'Soufiane El Mesbahi', '105085': 'Artem Smirnov', '111576': 'Sumit Nagal'}\n",
      "{'105554': 'GBR', '105376': 'GER', '124116': 'AUT', '111511': 'USA', '103852': 'ESP', '200045': 'INA', '105436': 'SWE', '104122': 'ARG', '126203': 'USA', '124126': 'TUR', '138845': 'HKG', '105688': 'MEX', '105064': 'BRA', '144776': 'LUX', '200484': 'GER', '111794': 'POL', '208028': 'URU', '106026': 'IND', '105132': 'EST', '206000': 'LIB', '138431': 'BIH', '103970': 'ESP', '104542': 'FRA', '106233': 'AUT', '105575': 'LTU', '144707': 'SWE', '122548': 'ISR', '105649': 'GER', '105916': 'HUN', '106121': 'JPN', '105952': 'ARG', '104678': 'SRB', '105341': 'ITA', '105216': 'JPN', '126190': 'PER', '123768': 'USA', '123795': 'TUR', '104970': 'ITA', '104947': 'TUR', '206642': 'MAR', '105819': 'ARG', '104978': 'GER', '126523': 'ESP', '106045': 'USA', '111200': 'SWE', '106138': 'BLR', '105933': 'ECU', '200514': 'AUT', '105373': 'SVK', '200460': 'PHI', '105138': 'ESP', '200624': 'USA', '144750': 'RSA', '104586': 'CZE', '103781': 'AUT', '202462': 'SRI', '105614': 'USA', '105757': 'SUI', '106071': 'AUS', '111459': 'IND', '104898': 'NED', '105051': 'AUS', '104918': 'GBR', '104460': 'GER', '200574': 'CAN', '106174': 'CHI', '123921': 'FRA', '104571': 'CYP', '126207': 'USA', '104494': 'ROU', '200278': 'IRL', '104620': 'ITA', '104731': 'RSA', '104919': 'ARG', '106110': 'SVK', '121411': 'TUN', '205734': 'BRA', '110602': 'AUT', '106329': 'BRA', '127570': 'URU', '105815': 'USA', '105827': 'LTU', '103990': 'ESP', '136440': 'GER', '104926': 'ITA', '105526': 'GER', '103819': 'SUI', '106252': 'BRA', '126205': 'USA', '106250': 'MEX', '105077': 'ESP', '200615': 'AUS', '105208': 'LAT', '105961': 'VEN', '106150': 'PHI', '105311': 'POR', '125802': 'BLR', '104534': 'ISR', '127300': 'UZB', '106105': 'BRA', '106005': 'FRA', '126652': 'GBR', '105566': 'IRI', '111190': 'CHN', '126174': 'EGY', '105173': 'FRA', '106298': 'FRA', '109698': 'DEN', '106324': 'CZE', '106333': 'BEL', '105041': 'SVK', '105578': 'COL', '207972': 'KOR', '126939': 'UZB', '126845': 'AUS', '200000': 'CAN', '200325': 'FIN', '106216': 'USA', '105223': 'ARG', '202090': 'BUL', '106296': 'FRA', '105691': 'NED', '106232': 'DOM', '104468': 'FRA', '105449': 'USA', '104233': 'DEN', '200274': 'PUR', '105015': 'CRO', '126127': 'FRA', '104547': 'ARG', '105292': 'COL', '144760': 'MAR', '120792': 'PAK', '106177': 'ESP', '200611': 'FRA', '104545': 'USA', '105053': 'COL', '104797': 'UZB', '126204': 'MEX', '126526': 'DEN', '133430': 'CAN', '105633': 'EGY', '111581': 'USA', '104672': 'FRA', '117356': 'TUR', '106426': 'CHI', '103917': 'FRA', '105882': 'ITA', '105111': 'ECU', '110536': 'USA', '111795': 'ITA', '111815': 'GBR', '106423': 'AUS', '103607': 'DOM', '111167': 'LUX', '105155': 'POR', '105583': 'SRB', '126952': 'KOR', '105550': 'ARG', '105657': 'ROU', '200384': 'FRA', '105379': 'SLO', '104312': 'ITA', '111153': 'USA', '122330': 'KAZ', '207176': 'INA', '128034': 'POL', '200401': 'IRI', '134217': 'HKG', '134114': 'TPE', '104660': 'UKR', '105707': 'RSA', '105985': 'BAR', '127143': 'THA', '105497': 'DOM', '104655': 'URU', '200059': 'CHN', '103565': 'FRA', '104932': 'FRA', '104925': 'SRB', '202382': 'NOR', '200711': 'COL', '132482': 'USA', '108763': 'ESA', '105643': 'ARG', '111515': 'USA', '106044': 'ARG', '106421': 'RUS', '105943': 'ITA', '126094': 'RUS', '104629': 'ESP', '104890': 'AUT', '106075': 'SVK', '106021': 'ROU', '105676': 'BEL', '104656': 'BAR', '105656': 'ESA', '122109': 'UZB', '200282': 'AUS', '126120': 'CRO', '106348': 'RUS', '111460': 'FRA', '105156': 'BOL', '104269': 'ESP', '105902': 'AUS', '105870': 'GER', '207836': 'PAK', '200620': 'PUR', '106058': 'USA', '105163': 'FRA', '200273': 'LIB', '207421': 'SRI', '106353': 'SRB', '105634': 'ITA', '100644': 'GER', '106401': 'AUS', '111442': 'AUS', '105577': 'CAN', '105585': 'CHN', '106167': 'BEL', '111790': 'CAN', '105747': 'EGY', '126774': 'GRE', '126340': 'NOR', '106218': 'USA', '105332': 'FRA', '111574': 'USA', '105613': 'SVK', '104745': 'ESP', '123755': 'COL', '106109': 'AUS', '105935': 'PER', '105842': 'CHN', '106398': 'ARG', '106072': 'RUS', '122236': 'KAZ', '104755': 'FRA', '104252': 'GER', '104308': 'POL', '105359': 'TPE', '103893': 'ITA', '105671': 'POR', '105732': 'FRA', '106361': 'CZE', '105502': 'IND', '105030': 'NZL', '106228': 'ARG', '202130': 'USA', '105992': 'USA', '134868': 'NED', '106397': 'THA', '105479': 'BOL', '105217': 'NED', '104792': 'FRA', '106099': 'ITA', '105589': 'AUT', '111761': 'ZIM', '134886': 'SRI', '105357': 'AUS', '105499': 'GUA', '200250': 'ZIM', '105432': 'IND', '106198': 'BOL', '106210': 'CZE', '207973': 'LTU', '105166': 'CAN', '104251': 'TPE', '105430': 'MDA', '144826': 'TUN', '105948': 'ARG', '133297': 'JPN', '105238': 'UKR', '200095': 'ESP', '106186': 'AUS', '200619': 'PUR', '105467': 'VEN', '206768': 'ESA', '109739': 'GER', '144645': 'CZE', '106000': 'BIH', '105561': 'ITA', '202165': 'PHI', '120424': 'GER', '105453': 'JPN', '144817': 'SUI', '106148': 'ESP', '134120': 'TPE', '106415': 'JPN', '105226': 'HUN', '105899': 'URU', '105477': 'ARG', '104871': 'FRA', '105587': 'SLO', '200436': 'HUN', '111797': 'CHI', '126502': 'ESP', '105493': 'BIH', '202385': 'USA', '104297': 'BRA', '105487': 'ARG', '104907': 'NZL', '105074': 'BEL', '106214': 'GER', '104597': 'ESP', '200483': 'NOR', '105413': 'SVK', '105299': 'BLR', '207971': 'BAR', '106393': 'POR', '103333': 'CRO', '126610': 'ITA', '105063': 'ITA', '106396': 'TPE', '106175': 'VEN', '104467': 'ALG', '138846': 'HKG', '126530': 'IRL', '106410': 'PER', '105539': 'RUS', '132283': 'ITA', '103499': 'PAK', '105932': 'GEO', '105960': 'USA', '106120': 'ESP', '122078': 'KAZ', '103529': 'PAK', '200175': 'SRB', '111202': 'KOR', '104999': 'GER', '104527': 'SUI', '106328': 'USA', '105273': 'PER', '111805': 'KOR', '207400': 'ZIM', '106106': 'GEO', '105807': 'ESP', '105606': 'IRI', '124022': 'HKG', '144807': 'EST', '104593': 'ESP', '105936': 'SRB', '106368': 'IND', '134770': 'NOR', '111197': 'SWE', '105441': 'AUS', '200031': 'MON', '105227': 'CRO', '124014': 'USA', '104180': 'LUX', '111192': 'AUT', '104665': 'ESP', '105062': 'KAZ', '106325': 'QAT', '126125': 'FRA', '103898': 'FRA', '109054': 'GER', '106378': 'GBR', '122669': 'PER', '105626': 'ZIM', '105349': 'FIN', '105147': 'JPN', '207415': 'POL', '126613': 'ROU', '144895': 'FRA', '126535': 'ESP', '108739': 'GUA', '104198': 'ESP', '111575': 'RUS', '111513': 'SRB', '105683': 'CAN', '124079': 'ESP', '106412': 'MEX', '105812': 'INA', '105967': 'SUI', '111578': 'USA', '104810': 'CHN', '104563': 'ITA', '207738': 'VEN', '105777': 'BUL', '104291': 'TUN', '200005': 'FRA', '106043': 'ARG', '105065': 'USA', '208029': 'DEN', '127339': 'CRO', '111577': 'USA', '104719': 'ESP', '126846': 'AUS', '104882': 'SLO', '200075': 'ISR', '105385': 'USA', '106432': 'CRO', '105023': 'USA', '106065': 'ITA', '126102': 'ROU', '105641': 'SLO', '105515': 'ESP', '104259': 'GER', '202358': 'TPE', '202210': 'ROU', '104607': 'CZE', '104022': 'RUS', '106391': 'SUI', '106078': 'BLR', '106281': 'GBR', '106220': 'BUL', '111456': 'USA', '106283': 'USA', '106249': 'POR', '124187': 'USA', '200218': 'HUN', '133975': 'GER', '105806': 'BIH', '144719': 'ESP', '207139': 'THA', '104897': 'GER', '207479': 'MAR', '105085': 'UKR', '111576': 'IND'}\n"
     ]
    }
   ],
   "source": [
    "print(data.dtypes)\n",
    "print(G.edges.data(\"weight\"))\n",
    "print(nx.get_node_attributes(G, \"name\"))\n",
    "print(nx.get_node_attributes(G, \"country\"))\n",
    "output_path = \"models/undirected_graph_2018.gml\"\n",
    "\n",
    "nx.write_gml(G, output_path)\n"
   ]
  },
  {
   "cell_type": "markdown",
   "metadata": {},
   "source": [
    "1.pitanje Koliki je prosecan broj tenisera(saigraca) po svakom teniseru? \n",
    "gephi->ucitala graf, Statistics -> Network Overview -> Average Degree\n",
    "\n",
    "<img src=\"img/1.pitanje_average_degree\" width=500 height=500 />"
   ]
  },
  {
   "cell_type": "code",
   "execution_count": 43,
   "metadata": {},
   "outputs": [
    {
     "name": "stdout",
     "output_type": "stream",
     "text": [
      "('104926', 61)\n",
      "Fabio Fognini\n"
     ]
    }
   ],
   "source": [
    "#2.pitanje Koji teniseri su se susretali sa najvecim brojem drugih tenisera\n",
    "my_degrees = dict(G.degree()) #dictionary key:value\n",
    "degree_values = [v for k, v in G.degree()]\n",
    "\n",
    "print(max(my_degrees.items(), key= lambda x: x[1])) #max u tom dict \n",
    "\n",
    "print(nx.get_node_attributes(G, 'name')['104926']) #atribut name za cvor ciji je index rezultat prethodnog upita"
   ]
  },
  {
   "cell_type": "code",
   "execution_count": 44,
   "metadata": {},
   "outputs": [
    {
     "name": "stdout",
     "output_type": "stream",
     "text": [
      "      player_id                      tourney_id\n",
      "0        105992                       2018-M020\n",
      "1        111577                       2018-M020\n",
      "2        104797                       2018-M020\n",
      "3        200282                       2018-M020\n",
      "4        111581                       2018-M020\n",
      "...         ...                             ...\n",
      "2877     105227                       2018-0605\n",
      "2878     100644                       2018-0605\n",
      "2880     104925                       2018-0605\n",
      "2886     106432  2018-M-DC-2018-WG-M-FRA-CRO-01\n",
      "2887     105227  2018-M-DC-2018-WG-M-FRA-CRO-01\n",
      "\n",
      "[1587 rows x 2 columns]\n",
      "      player_id                      tourney_id\n",
      "0        104919                       2018-M020\n",
      "1        111442                       2018-M020\n",
      "2        106000                       2018-M020\n",
      "3        105449                       2018-M020\n",
      "4        105643                       2018-M020\n",
      "...         ...                             ...\n",
      "2882     100644                       2018-0605\n",
      "2885     104925                       2018-0605\n",
      "2886     104871  2018-M-DC-2018-WG-M-FRA-CRO-01\n",
      "2887     104542  2018-M-DC-2018-WG-M-FRA-CRO-01\n",
      "2888     106298  2018-M-DC-2018-WG-M-FRA-CRO-01\n",
      "\n",
      "[2847 rows x 2 columns]\n",
      "      player_id                      tourney_id\n",
      "0        105992                       2018-M020\n",
      "1        111577                       2018-M020\n",
      "2        104797                       2018-M020\n",
      "3        200282                       2018-M020\n",
      "4        111581                       2018-M020\n",
      "...         ...                             ...\n",
      "4429     100644                       2018-0605\n",
      "4430     104925                       2018-0605\n",
      "4431     104871  2018-M-DC-2018-WG-M-FRA-CRO-01\n",
      "4432     104542  2018-M-DC-2018-WG-M-FRA-CRO-01\n",
      "4433     106298  2018-M-DC-2018-WG-M-FRA-CRO-01\n",
      "\n",
      "[4434 rows x 2 columns]\n",
      "      player_id                      tourney_id\n",
      "0        105992                       2018-M020\n",
      "1        111577                       2018-M020\n",
      "2        104797                       2018-M020\n",
      "3        200282                       2018-M020\n",
      "4        111581                       2018-M020\n",
      "...         ...                             ...\n",
      "4416     132482                       2018-7696\n",
      "4427     104545                       2018-0605\n",
      "4431     104871  2018-M-DC-2018-WG-M-FRA-CRO-01\n",
      "4432     104542  2018-M-DC-2018-WG-M-FRA-CRO-01\n",
      "4433     106298  2018-M-DC-2018-WG-M-FRA-CRO-01\n",
      "\n",
      "[3048 rows x 2 columns]\n",
      "           tourney_id\n",
      "player_id            \n",
      "100644             23\n",
      "103333             16\n",
      "103499              2\n",
      "103529              2\n",
      "103565              2\n",
      "...               ...\n",
      "207971              1\n",
      "207972              1\n",
      "207973              1\n",
      "208028              1\n",
      "208029              1\n",
      "\n",
      "[419 rows x 1 columns]\n",
      "Alexander Zverev\n",
      "Ivo Karlovic\n"
     ]
    }
   ],
   "source": [
    "#3.pitanje Koji teniseri su ucestvovali na najvecem broju (razlicih) turnira?\n",
    "winner_tourney_columns = ['winner_id', 'tourney_id']\n",
    "loser_tourney_columns = ['loser_id', 'tourney_id']\n",
    "\n",
    "dataWinner_tourney = data[winner_tourney_columns].drop_duplicates()\n",
    "dataWinner_tourney = dataWinner_tourney.rename(columns = {'winner_id': 'player_id'})\n",
    "print(dataWinner_tourney)\n",
    "\n",
    "dataLoser_tourney = data[loser_tourney_columns].drop_duplicates()\n",
    "dataLoser_tourney = dataLoser_tourney.rename(columns = {'loser_id': 'player_id'})\n",
    "print(dataLoser_tourney)\n",
    "\n",
    "#unija pobednika i gubitnika sa preimenovanom kolonom player_id, zbog konkatenacije\n",
    "dataWinnerAndLoserUnion = pd.concat([dataWinner_tourney, dataLoser_tourney], ignore_index=True)\n",
    "print(dataWinnerAndLoserUnion)\n",
    "\n",
    "#izbaci duplikate\n",
    "dataWinnerAndLoserUnion = dataWinnerAndLoserUnion.drop_duplicates()\n",
    "print(dataWinnerAndLoserUnion)\n",
    "\n",
    "#grupisi po player_id pa izdvoj po sumi\n",
    "dataWinnerAndLoserUnion = dataWinnerAndLoserUnion.groupby('player_id').count()\n",
    "print(dataWinnerAndLoserUnion)\n",
    "\n",
    "\n",
    "print(nx.get_node_attributes(G, 'name')['100644'])\n",
    "print(nx.get_node_attributes(G, 'name')['103333'])\n",
    "\n",
    "#proveri presek, datawinner.drop_duplicates, dataloser.drop_dupicates pa onda preimenuj kolone u id, unija pa onda drop_duplicates, pa group_by pa count pa onda uzmes resenje\n"
   ]
  },
  {
   "cell_type": "code",
   "execution_count": 45,
   "metadata": {},
   "outputs": [
    {
     "name": "stdout",
     "output_type": "stream",
     "text": [
      "[('104926', 0.14593301435406697), ('106233', 0.13157894736842105), ('126774', 0.12679425837320574), ('100644', 0.12440191387559808), ('104755', 0.12200956937799043)]\n"
     ]
    }
   ],
   "source": [
    "#4.pitanje Koji teniseri su dobri kandidati za predstavnike profesionalnih tenisera? Da li se i sta se menja ukoliko se umesto jednog bira skup od nekoliko predstavnika? Dobar predstavnik ili predstavnici bi trebalo da budu u kontaktu sa sto vecim skupom tenisera\n",
    "\n",
    "#proveriti ovaj 2.deo na sta se odnosi????\n",
    "#mere centralnosti koristim Degree centrality, vise u kontaktu sa drugim teniserima teze da budu predstavnici\n",
    "import operator\n",
    "dictionary = dict(nx.degree_centrality(G))\n",
    "print(sorted(dictionary.items(), key=operator.itemgetter(1), reverse=True)[:5])"
   ]
  },
  {
   "cell_type": "code",
   "execution_count": 46,
   "metadata": {},
   "outputs": [
    {
     "name": "stdout",
     "output_type": "stream",
     "text": [
      "Fabio Fognini\n",
      "Dominic Thiem\n",
      "Stefanos Tsitsipas\n",
      "Alexander Zverev\n",
      "Richard Gasquet\n"
     ]
    }
   ],
   "source": [
    "print(nx.get_node_attributes(G, 'name')['104926'])\n",
    "print(nx.get_node_attributes(G, 'name')['106233'])\n",
    "print(nx.get_node_attributes(G, 'name')['126774'])\n",
    "print(nx.get_node_attributes(G, 'name')['100644'])\n",
    "print(nx.get_node_attributes(G, 'name')['104755'])"
   ]
  },
  {
   "cell_type": "markdown",
   "metadata": {},
   "source": [
    "Prvo kreiramo masku koja ce da selektuje sve igrace koji su u skupu igraca koji su igrali mec u 2018\n",
    "Potom dobijen rezultat grupisemo po drzavi i sortiramo zatim\n",
    "Najaktivniji su iz SAD, Francuske, Spanije, Nemacke, Italije\n",
    "Srbija na 9 mestu sa Rusijom i Kanadom sa 7 aktivnih igraca"
   ]
  },
  {
   "cell_type": "code",
   "execution_count": 47,
   "metadata": {},
   "outputs": [
    {
     "name": "stdout",
     "output_type": "stream",
     "text": [
      "country_code\n",
      "USA    34\n",
      "FRA    25\n",
      "ESP    24\n",
      "GER    18\n",
      "ITA    17\n",
      "ARG    15\n",
      "AUS    14\n",
      "AUT     8\n",
      "RUS     7\n",
      "CAN     7\n",
      "SRB     7\n",
      "GBR     6\n",
      "CZE     6\n",
      "CRO     6\n",
      "ROU     6\n",
      "SVK     6\n",
      "SUI     6\n",
      "BRA     6\n",
      "TPE     6\n",
      "IND     6\n",
      "Name: country_code, dtype: int64\n"
     ]
    }
   ],
   "source": [
    "maska_active_players = players_data['player_id'].isin(skup_id) \n",
    "active_players_2018 = players_data[maska_active_players]\n",
    "data_grupisano = active_players_2018[['player_id', 'country_code']].groupby('country_code')\n",
    "data_agregirano = data_grupisano['country_code'].agg(np.size)\n",
    "\n",
    "print(data_agregirano.sort_values(ascending=False).head(20))"
   ]
  },
  {
   "cell_type": "markdown",
   "metadata": {},
   "source": [
    "Analiza komuna\n",
    "\n",
    "U realnim mrezama mogu se uociti gusce povezani delovi mreze, odredjeni broj aktera bolje povezani nego sa ostalim clanovima mreze -> grupe ili zajednica. Mogu biti odvojene ili delimicno se preklapati.\n",
    "\n",
    "Modularnost je mera kvaliteta particionisanja cvorova mreze u odgovarajuce klastere.\n",
    "\n",
    "1. implementiracemo bottom-up pristup -> Louvain metod\n",
    "2. primenicemo metriku modularnosti i analizu u Gephi alatu da bismo analizirali izdvojene komune/klastere i prikazali ih"
   ]
  },
  {
   "cell_type": "code",
   "execution_count": 48,
   "metadata": {},
   "outputs": [
    {
     "name": "stdout",
     "output_type": "stream",
     "text": [
      "Requirement already satisfied: python-louvain in /home/mari-mari/anaconda3/lib/python3.8/site-packages (0.15)\n",
      "Requirement already satisfied: networkx in /home/mari-mari/anaconda3/lib/python3.8/site-packages (from python-louvain) (2.5)\n",
      "Requirement already satisfied: numpy in /home/mari-mari/anaconda3/lib/python3.8/site-packages (from python-louvain) (1.19.2)\n",
      "Requirement already satisfied: decorator>=4.3.0 in /home/mari-mari/anaconda3/lib/python3.8/site-packages (from networkx->python-louvain) (4.4.2)\n",
      "{'105554': 11, '105376': 0, '124116': 2, '111511': 3, '103852': 4, '200045': 18, '105436': 6, '104122': 7, '126203': 0, '124126': 8, '138845': 9, '105688': 17, '105064': 4, '144776': 3, '200484': 2, '111794': 11, '208028': 12, '106026': 0, '105132': 11, '206000': 0, '138431': 13, '103970': 2, '104542': 0, '106233': 2, '105575': 7, '144707': 6, '122548': 6, '105649': 11, '105916': 7, '106121': 7, '105952': 4, '104678': 7, '105341': 2, '105216': 14, '126190': 17, '123768': 6, '123795': 11, '104970': 28, '104947': 3, '206642': 16, '105819': 14, '104978': 3, '126523': 14, '106045': 2, '111200': 6, '106138': 17, '105933': 4, '200514': 17, '105373': 2, '200460': 18, '105138': 13, '200624': 7, '144750': 6, '104586': 28, '103781': 2, '202462': 18, '105614': 3, '105757': 14, '106071': 6, '111459': 0, '104898': 13, '105051': 0, '104918': 3, '104460': 14, '200574': 2, '106174': 4, '123921': 7, '104571': 0, '126207': 7, '104494': 6, '200278': 19, '104620': 4, '104731': 2, '104919': 28, '106110': 6, '121411': 19, '205734': 7, '110602': 17, '106329': 17, '127570': 21, '105815': 7, '105827': 19, '103990': 13, '136440': 7, '104926': 7, '105526': 14, '103819': 2, '106252': 17, '126205': 7, '106250': 17, '105077': 4, '200615': 0, '105208': 0, '105961': 17, '106150': 18, '105311': 6, '125802': 4, '104534': 6, '127300': 3, '106105': 17, '106005': 11, '126652': 3, '105566': 9, '111190': 3, '126174': 22, '105173': 7, '106298': 2, '109698': 22, '106324': 28, '106333': 28, '105041': 7, '105578': 23, '207972': 24, '126939': 25, '126845': 3, '200000': 2, '200325': 19, '106216': 4, '105223': 2, '202090': 11, '106296': 2, '105691': 7, '106232': 17, '104468': 28, '105449': 7, '104233': 19, '200274': 17, '105015': 3, '126127': 7, '104547': 14, '105292': 17, '144760': 6, '120792': 24, '106177': 11, '200611': 2, '104545': 3, '105053': 17, '104797': 11, '126204': 17, '126526': 19, '133430': 7, '105633': 19, '111581': 13, '104672': 14, '117356': 11, '106426': 0, '103917': 0, '105882': 4, '105111': 4, '110536': 0, '111795': 6, '111815': 3, '106423': 3, '103607': 7, '111167': 3, '105155': 28, '105583': 6, '126952': 11, '105550': 0, '105657': 3, '200384': 4, '105379': 14, '104312': 14, '111153': 13, '122330': 3, '207176': 18, '128034': 3, '200401': 26, '134217': 26, '134114': 27, '104660': 6, '105707': 6, '105985': 17, '127143': 18, '105497': 17, '104655': 17, '200059': 28, '103565': 4, '104932': 6, '104925': 2, '202382': 19, '200711': 14, '132482': 0, '108763': 17, '105643': 4, '111515': 3, '106044': 7, '106421': 2, '105943': 13, '126094': 0, '104629': 7, '104890': 4, '106075': 28, '106021': 10, '105676': 13, '104656': 17, '105656': 17, '122109': 11, '200282': 3, '126120': 11, '106348': 7, '111460': 14, '105156': 17, '104269': 3, '105902': 3, '105870': 3, '207836': 25, '200620': 17, '106058': 0, '105163': 2, '200273': 18, '207421': 18, '106353': 7, '105634': 11, '100644': 3, '106401': 3, '111442': 4, '105577': 2, '105585': 13, '106167': 28, '111790': 2, '105747': 19, '126774': 2, '126340': 19, '106218': 17, '105332': 14, '111574': 7, '105613': 2, '104745': 2, '123755': 17, '106109': 7, '105935': 15, '105842': 28, '106398': 4, '106072': 4, '122236': 6, '104755': 14, '104252': 14, '104308': 11, '105359': 0, '103893': 11, '105671': 6, '105732': 3, '106361': 6, '105502': 7, '105030': 13, '106228': 14, '202130': 13, '105992': 3, '134868': 13, '106397': 18, '105479': 20, '105217': 7, '104792': 2, '106099': 0, '105589': 4, '111761': 11, '134886': 18, '105357': 14, '105499': 17, '200250': 8, '105432': 28, '106198': 15, '106210': 28, '207973': 11, '105166': 17, '104251': 27, '105430': 28, '144826': 19, '105948': 7, '133297': 13, '105238': 4, '200095': 17, '106186': 0, '200619': 17, '105467': 17, '206768': 21, '109739': 11, '144645': 2, '106000': 2, '105561': 17, '202165': 18, '120424': 14, '105453': 2, '144817': 6, '106148': 4, '134120': 18, '106415': 3, '105226': 13, '105899': 0, '105477': 6, '104871': 7, '105587': 3, '200436': 28, '111797': 4, '126502': 1, '105493': 7, '202385': 14, '104297': 7, '105487': 6, '104907': 28, '105074': 2, '106214': 11, '104597': 6, '200483': 22, '105413': 13, '105299': 2, '207971': 23, '106393': 28, '103333': 13, '126610': 28, '105063': 4, '106396': 18, '106175': 17, '104467': 6, '138846': 18, '126530': 19, '106410': 20, '105539': 2, '132283': 14, '103499': 11, '105932': 6, '105960': 4, '106120': 28, '122078': 14, '103529': 11, '200175': 11, '111202': 3, '104999': 2, '104527': 7, '106328': 7, '105273': 1, '111805': 11, '207400': 5, '106106': 6, '105807': 14, '105606': 18, '124022': 18, '144807': 7, '104593': 28, '105936': 2, '106368': 28, '134770': 4, '111197': 14, '105441': 0, '200031': 7, '105227': 3, '124014': 13, '104180': 14, '111192': 2, '104665': 4, '105062': 2, '106325': 4, '126125': 2, '103898': 7, '109054': 11, '106378': 3, '122669': 17, '105626': 11, '105349': 19, '105147': 7, '207415': 5, '126613': 3, '144895': 13, '126535': 2, '108739': 17, '104198': 7, '111575': 2, '111513': 11, '105683': 7, '124079': 6, '106412': 0, '105812': 18, '105967': 14, '111578': 0, '104810': 28, '104563': 13, '207738': 12, '105777': 3, '104291': 3, '200005': 6, '106043': 4, '105065': 0, '208029': 22, '127339': 3, '111577': 4, '104719': 7, '126846': 4, '104882': 0, '200075': 28, '105385': 2, '106432': 2, '105023': 0, '106065': 14, '126102': 3, '105641': 11, '105515': 28, '104259': 2, '202358': 0, '202210': 16, '104607': 7, '104022': 13, '106391': 14, '106078': 2, '106281': 4, '106220': 6, '111456': 7, '106283': 14, '106249': 4, '124187': 0, '200218': 28, '133975': 18, '105806': 2, '144719': 2, '207139': 18, '104897': 2, '207479': 10, '105085': 6, '111576': 13}\n"
     ]
    },
    {
     "data": {
      "image/png": "[encoded data removed]",
      "text/plain": [
       "<Figure size 432x288 with 1 Axes>"
      ]
     },
     "metadata": {},
     "output_type": "display_data"
    }
   ],
   "source": [
    "import sys\n",
    "!{sys.executable} -m pip install python-louvain\n",
    "import community as community_louvain\n",
    "import matplotlib.pyplot as plt\n",
    "import matplotlib.cm as cm\n",
    "partition = community_louvain.best_partition(G)\n",
    "\n",
    "print(partition)\n",
    "\n",
    "#vizuelno\n",
    "pos = nx.spring_layout(G)\n",
    "cmap = cm.get_cmap('viridis', max(partition.values()) + 1)\n",
    "nx.draw_networkx_nodes(G, pos, partition.keys(), node_size=200, cmap=cmap, node_color=list(partition.values()))\n",
    "nx.draw_networkx_edges(G, pos, alpha=1)\n",
    "plt.show()\n"
   ]
  },
  {
   "cell_type": "markdown",
   "metadata": {},
   "source": [
    "Gephi alat i analiza izdvojenih komuna primenom analize modularnosti\n",
    "\n",
    "\n",
    "<img src=\"img/modularity_analysis.png\" width=1000 height=1000 />\n",
    "\n",
    "Po opadajucim vrednostima 5 komuna sa najvecom modularnoscu: \n",
    "\n",
    "<img src=\"img/top5ValueModularityClass.png\" width=1000 height=1000 />\n",
    "\n",
    "Uoceno je da mreze sa vecom modularnoscu podeljene na klastere koji su, unutar sebe, gusto povezani. Ovakve mreze po definiciji, ali i sto se da videti sa prilozenih slika, nemaju veliki broj veza sa ostatkom mreze.\n",
    "\n",
    "#TODO objasnjenje za detektovane komune, analiziraj tenisere, da li postoji veza izmedju njih i zasto su oni bas bolje povezani.\n",
    "\n"
   ]
  },
  {
   "cell_type": "markdown",
   "metadata": {},
   "source": [
    "10. Sprovesti analizu klasterisanja i asortativnu analizu, pa uporediti grupisanje na osnovu zemlje iz koje igrači dolaze, na osnovu broja mečeva koje igraju i na osnovu rejtinga\n",
    "\n",
    "\n",
    "Lokalni koeficijent klasterizacije se računa kao gustina mreže koju čine posmatrani čvor, njegovi susedi i njihove međusobne veze\n",
    "\n",
    "Stepen klasterizacije kompletne mreže se računa na osnovu proseka pojedinačnih čvorova\n",
    "\n",
    "\n",
    "Globalni koeficijent klasterizacije (alternativa)- Posmatra zatvorene trijade unutar mreze u odnosu na sve moguće povezane trijade"
   ]
  },
  {
   "cell_type": "code",
   "execution_count": 49,
   "metadata": {
    "scrolled": true
   },
   "outputs": [
    {
     "name": "stdout",
     "output_type": "stream",
     "text": [
      "Max lokalni cc: 0.20000000000000004\n",
      "Prosečan cc: 0.12227548001603943\n",
      "Lokalni stepeni klasterisanja koji nisu nula:\n",
      "         id        cc\n",
      "180  105967  0.003030\n",
      "4    104122  0.013333\n",
      "31   106071  0.013767\n",
      "61   106216  0.014286\n",
      "9    105132  0.015152\n",
      "..      ...       ...\n",
      "91   132482  0.192659\n",
      "157  200175  0.200000\n",
      "200  200218  0.200000\n",
      "73   104672  0.200000\n",
      "21   126523  0.200000\n",
      "\n",
      "[204 rows x 2 columns]\n",
      "Alexander Zverev\n",
      "419\n",
      "204\n",
      "100644\n",
      "Tranzitivnost 0.23329403817370226\n"
     ]
    }
   ],
   "source": [
    "player_id, clustering_coef = zip(*nx.clustering(G, weight = \"weight\").items())\n",
    "\n",
    "nenula = [(id_ig, cc)  for id_ig, cc in zip(player_id, clustering_coef) if cc > 0]\n",
    "\n",
    "df = pd.DataFrame(nenula, columns = [\"id\", \"cc\"])\n",
    "df.sort_values('cc', inplace = True)\n",
    "\n",
    "max_lokalni_stepen_klasterisanja = max(clustering_coef)\n",
    "\n",
    "prosecni_stepen_klasterisanja = nx.average_clustering(G)\n",
    "\n",
    "print(f\"Max lokalni cc: {max_lokalni_stepen_klasterisanja}\")\n",
    "print(f\"Prosečan cc: {prosecni_stepen_klasterisanja}\")\n",
    "print(\"Lokalni stepeni klasterisanja koji nisu nula:\")\n",
    "print(df)\n",
    "print(nx.get_node_attributes(G, 'name')['100644'])\n",
    "print(len(nx.triangles(G).items()))\n",
    "newDict = dict(filter(lambda elem: elem[1] > 0,nx.triangles(G).items()))\n",
    "print(len(newDict))\n",
    "v=list(newDict.values())\n",
    "k=list(newDict.keys())\n",
    "print(k[v.index(max(v))]) \n",
    "\n",
    "transitivity = nx.transitivity(G)\n",
    "print(f\"Tranzitivnost {transitivity}\")"
   ]
  },
  {
   "cell_type": "code",
   "execution_count": 50,
   "metadata": {},
   "outputs": [
    {
     "data": {
      "text/plain": [
       "{('106298', '105216'): Text(0.24999996274709668, 0.43301271829021687, '1'),\n",
       " ('106298', '104672'): Text(0.2500000372529033, -0.43301270835610933, '1'),\n",
       " ('105216', '104672'): Text(-0.5, -9.934107536579972e-09, '1')}"
      ]
     },
     "execution_count": 50,
     "metadata": {},
     "output_type": "execute_result"
    },
    {
     "data": {
      "image/png": "[encoded data removed]",
      "text/plain": [
       "<Figure size 1080x720 with 1 Axes>"
      ]
     },
     "metadata": {},
     "output_type": "display_data"
    }
   ],
   "source": [
    "# možemo iskoristiti networkx.draw_network da predstavimo egomrežu tog čvora\n",
    "ego_mreza = nx.ego_graph(G, '104672')\n",
    "plt.figure(figsize=(15,10))\n",
    "tezine_grana = nx.get_edge_attributes(ego_mreza,'weight')\n",
    "pos = nx.circular_layout(ego_mreza)\n",
    "#pos = nx.spring_layout(ego_mreza)\n",
    "#print(pos)\n",
    "nx.draw_networkx(ego_mreza, pos)\n",
    "nx.draw_networkx_edge_labels(ego_mreza, pos, edge_labels = tezine_grana)"
   ]
  },
  {
   "cell_type": "markdown",
   "metadata": {},
   "source": [
    "Asortativnost:\n",
    "Homofilija - tendencija ljudi da stvaraju veze sa sebi slicnim ljudima\n",
    "U analizi socijalnih mreze homofilija u formi asortativnosti - cvorovi imaju tendenciju da se povezuju sa cvorovima slicnog stepena"
   ]
  },
  {
   "cell_type": "code",
   "execution_count": 51,
   "metadata": {},
   "outputs": [
    {
     "name": "stdout",
     "output_type": "stream",
     "text": [
      "Koeficijent asortativnosti na osnovu netežinskog stepena čvora: 0.21868975600564688\n",
      "Koeficijent asortativnosti na osnovu težinskog stepena čvora: 0.22945507317379313\n"
     ]
    }
   ],
   "source": [
    "# asortativnost na osnovu netežinskog stepena čvora\n",
    "r1 = nx.degree_assortativity_coefficient(G)\n",
    "print(f\"Koeficijent asortativnosti na osnovu netežinskog stepena čvora: {r1}\")\n",
    "\n",
    "# asortativnost na osnovu težinskog stepena čvora\n",
    "r2 = nx.degree_assortativity_coefficient(G, weight='weight')\n",
    "print(f\"Koeficijent asortativnosti na osnovu težinskog stepena čvora: {r2}\")"
   ]
  },
  {
   "cell_type": "code",
   "execution_count": 52,
   "metadata": {},
   "outputs": [
    {
     "name": "stdout",
     "output_type": "stream",
     "text": [
      "{'105554': 2, '105376': 20, '124116': 4, '111511': 8, '103852': 20, '200045': 1, '105436': 2, '104122': 5, '126203': 20, '124126': 1, '138845': 1, '105688': 1, '105064': 5, '144776': 1, '200484': 5, '111794': 3, '208028': 1, '106026': 10, '105132': 6, '206000': 1, '138431': 1, '103970': 15, '104542': 10, '106233': 20, '105575': 16, '144707': 8, '122548': 2, '105649': 2, '105916': 20, '106121': 20, '105952': 1, '104678': 14, '105341': 13, '105216': 20, '126190': 1, '123768': 1, '123795': 1, '104970': 1, '104947': 1, '206642': 1, '105819': 9, '104978': 1, '126523': 2, '106045': 18, '111200': 10, '106138': 1, '105933': 4, '200514': 1, '105373': 19, '200460': 2, '105138': 20, '200624': 1, '144750': 4, '104586': 4, '103781': 3, '202462': 2, '105614': 11, '105757': 1, '106071': 11, '111459': 1, '104898': 20, '105051': 20, '104918': 9, '104460': 4, '200574': 1, '106174': 1, '123921': 5, '104571': 18, '126207': 20, '104494': 3, '200278': 2, '104620': 7, '104731': 20, '104919': 20, '106110': 2, '121411': 1, '205734': 1, '110602': 9, '106329': 11, '127570': 1, '105815': 20, '105827': 3, '103990': 2, '136440': 3, '104926': 20, '105526': 20, '103819': 20, '106252': 2, '126205': 4, '106250': 2, '105077': 20, '200615': 4, '105208': 12, '105961': 1, '106150': 2, '105311': 20, '125802': 13, '104534': 11, '127300': 1, '106105': 3, '106005': 3, '126652': 4, '105566': 1, '111190': 1, '126174': 1, '105173': 20, '106298': 20, '109698': 1, '106324': 1, '106333': 1, '105041': 17, '105578': 1, '207972': 1, '126939': 1, '126845': 1, '200000': 11, '200325': 3, '106216': 6, '105223': 20, '202090': 1, '106296': 4, '105691': 1, '106232': 2, '104468': 20, '105449': 20, '104233': 2, '200274': 1, '105015': 5, '126127': 1, '104547': 15, '105292': 2, '144760': 3, '120792': 1, '106177': 2, '200611': 1, '104545': 20, '105053': 4, '104797': 19, '126204': 2, '126526': 2, '133430': 20, '105633': 3, '111581': 11, '104672': 2, '117356': 3, '106426': 3, '103917': 10, '105882': 8, '105111': 1, '110536': 2, '111795': 1, '111815': 20, '106423': 7, '103607': 8, '111167': 1, '105155': 4, '105583': 20, '126952': 2, '105550': 20, '105657': 20, '200384': 1, '105379': 20, '104312': 20, '111153': 1, '122330': 5, '207176': 1, '128034': 11, '200401': 1, '134217': 1, '134114': 1, '104660': 8, '105707': 2, '105985': 2, '127143': 2, '105497': 2, '104655': 19, '200059': 6, '103565': 2, '104932': 2, '104925': 20, '202382': 1, '200711': 1, '132482': 4, '108763': 1, '105643': 18, '111515': 1, '106044': 14, '106421': 20, '105943': 2, '126094': 20, '104629': 6, '104890': 8, '106075': 11, '106021': 1, '105676': 20, '104656': 1, '105656': 2, '122109': 2, '200282': 20, '126120': 1, '106348': 1, '111460': 5, '105156': 1, '104269': 20, '105902': 6, '105870': 6, '207836': 1, '200620': 1, '106058': 15, '105163': 1, '200273': 2, '207421': 1, '106353': 1, '105634': 5, '100644': 20, '106401': 20, '111442': 9, '105577': 16, '105585': 2, '106167': 2, '111790': 1, '105747': 2, '126774': 20, '126340': 1, '106218': 2, '105332': 20, '111574': 1, '105613': 3, '104745': 20, '123755': 3, '106109': 6, '105935': 1, '105842': 2, '106398': 1, '106072': 4, '122236': 1, '104755': 20, '104252': 15, '104308': 1, '105359': 5, '103893': 15, '105671': 9, '105732': 20, '106361': 3, '105502': 1, '105030': 2, '106228': 1, '202130': 1, '105992': 20, '134868': 2, '106397': 2, '105479': 1, '105217': 3, '104792': 20, '106099': 4, '105589': 9, '111761': 1, '134886': 1, '105357': 20, '105499': 1, '200250': 1, '105432': 6, '106198': 1, '106210': 18, '207973': 1, '105166': 11, '104251': 1, '105430': 18, '144826': 1, '105948': 2, '133297': 3, '105238': 8, '200095': 2, '106186': 5, '200619': 1, '105467': 1, '206768': 1, '109739': 20, '144645': 1, '106000': 20, '105561': 2, '202165': 1, '120424': 12, '105453': 20, '144817': 2, '106148': 19, '134120': 1, '106415': 18, '105226': 2, '105899': 2, '105477': 6, '104871': 20, '105587': 1, '200436': 3, '111797': 20, '126502': 1, '105493': 1, '202385': 1, '104297': 14, '105487': 5, '104907': 2, '105074': 17, '106214': 3, '104597': 1, '200483': 1, '105413': 5, '105299': 1, '207971': 1, '106393': 1, '103333': 18, '126610': 20, '105063': 2, '106396': 1, '106175': 2, '104467': 3, '138846': 1, '126530': 2, '106410': 1, '105539': 19, '132283': 10, '103499': 2, '105932': 20, '105960': 1, '106120': 5, '122078': 2, '103529': 2, '200175': 2, '111202': 20, '104999': 20, '104527': 20, '106328': 3, '105273': 1, '111805': 1, '207400': 1, '106106': 1, '105807': 20, '105606': 1, '124022': 2, '144807': 1, '104593': 1, '105936': 19, '106368': 11, '134770': 10, '111197': 1, '105441': 4, '200031': 1, '105227': 20, '124014': 11, '104180': 18, '111192': 1, '104665': 9, '105062': 20, '106325': 1, '126125': 1, '103898': 18, '109054': 3, '106378': 20, '122669': 2, '105626': 3, '105349': 3, '105147': 1, '207415': 1, '126613': 1, '144895': 9, '126535': 3, '108739': 1, '104198': 20, '111575': 20, '111513': 19, '105683': 20, '124079': 2, '106412': 2, '105812': 1, '105967': 7, '111578': 1, '104810': 1, '104563': 1, '207738': 1, '105777': 20, '104291': 20, '200005': 4, '106043': 20, '105065': 12, '208029': 1, '127339': 1, '111577': 19, '104719': 8, '126846': 1, '104882': 10, '200075': 1, '105385': 14, '106432': 20, '105023': 20, '106065': 20, '126102': 1, '105641': 1, '105515': 1, '104259': 20, '202358': 1, '202210': 1, '104607': 19, '104022': 17, '106391': 2, '106078': 6, '106281': 4, '106220': 1, '111456': 16, '106283': 4, '106249': 2, '124187': 4, '200218': 2, '133975': 2, '105806': 20, '144719': 16, '207139': 2, '104897': 7, '207479': 1, '105085': 2, '111576': 2}\n",
      "20\n",
      "105023\n",
      "Sam Querrey\n",
      "106065\n",
      "Marco Cecchinato\n",
      "104999\n",
      "Mischa Zverev\n",
      "105376\n",
      "Peter Gojowczyk\n",
      "105379\n",
      "Aljaz Bedene\n",
      "104527\n",
      "Stan Wawrinka\n",
      "133430\n",
      "Denis Shapovalov\n",
      "105216\n",
      "Yuichi Sugita\n",
      "104312\n",
      "Andreas Seppi\n",
      "126610\n",
      "Matteo Berrettini\n",
      "104198\n",
      "Guillermo Garcia Lopez\n",
      "104926\n",
      "Fabio Fognini\n",
      "105526\n",
      "Jan Lennard Struff\n",
      "103819\n",
      "Roger Federer\n",
      "106421\n",
      "Daniil Medvedev\n",
      "111575\n",
      "Karen Khachanov\n",
      "105807\n",
      "Pablo Carreno Busta\n",
      "103852\n",
      "Feliciano Lopez\n",
      "105683\n",
      "Milos Raonic\n",
      "104259\n",
      "Philipp Kohlschreiber\n",
      "126094\n",
      "Andrey Rublev\n",
      "105077\n",
      "Albert Ramos\n",
      "104755\n",
      "Richard Gasquet\n",
      "104898\n",
      "Robin Haase\n",
      "105051\n",
      "Matthew Ebden\n",
      "104871\n",
      "Jeremy Chardy\n",
      "126203\n",
      "Taylor Fritz\n",
      "111815\n",
      "Cameron Norrie\n",
      "105311\n",
      "Joao Sousa\n",
      "100644\n",
      "Alexander Zverev\n",
      "105223\n",
      "Juan Martin del Potro\n",
      "105806\n",
      "Mirza Basic\n",
      "106401\n",
      "Nick Kyrgios\n",
      "105676\n",
      "David Goffin\n",
      "105732\n",
      "Pierre Hugues Herbert\n",
      "105227\n",
      "Marin Cilic\n",
      "111797\n",
      "Nicolas Jarry\n",
      "105932\n",
      "Nikoloz Basilashvili\n",
      "126207\n",
      "Frances Tiafoe\n",
      "104925\n",
      "Novak Djokovic\n",
      "105992\n",
      "Ryan Harrison\n",
      "104731\n",
      "Kevin Anderson\n",
      "104919\n",
      "Leonardo Mayer\n",
      "106233\n",
      "Dominic Thiem\n",
      "104468\n",
      "Gilles Simon\n",
      "105449\n",
      "Steve Johnson\n",
      "200282\n",
      "Alex De Minaur\n",
      "109739\n",
      "Maximilian Marterer\n",
      "105062\n",
      "Mikhail Kukushkin\n",
      "105777\n",
      "Grigor Dimitrov\n",
      "126774\n",
      "Stefanos Tsitsipas\n",
      "104291\n",
      "Malek Jaziri\n",
      "106043\n",
      "Diego Schwartzman\n",
      "105138\n",
      "Roberto Bautista Agut\n",
      "105173\n",
      "Adrian Mannarino\n",
      "105583\n",
      "Dusan Lajovic\n",
      "106000\n",
      "Damir Dzumhur\n",
      "104792\n",
      "Gael Monfils\n",
      "106378\n",
      "Kyle Edmund\n",
      "105332\n",
      "Benoit Paire\n",
      "106298\n",
      "Lucas Pouille\n",
      "105550\n",
      "Guido Pella\n",
      "105657\n",
      "Marius Copil\n",
      "104269\n",
      "Fernando Verdasco\n",
      "104745\n",
      "Rafael Nadal\n",
      "111202\n",
      "Hyeon Chung\n",
      "105916\n",
      "Marton Fucsovics\n",
      "106121\n",
      "Taro Daniel\n",
      "105453\n",
      "Kei Nishikori\n",
      "105815\n",
      "Tennys Sandgren\n",
      "105357\n",
      "John Millman\n",
      "104545\n",
      "John Isner\n",
      "106432\n",
      "Borna Coric\n"
     ]
    }
   ],
   "source": [
    "#12 Koji teniseri predstavljaju jezgro mreze?\n",
    "core_number = nx.core_number(G)\n",
    "print(core_number)#dict\n",
    "\n",
    "max_core_number = max(core_number.values()) #max value u dict\n",
    "print(max_core_number)\n",
    "\n",
    "core = nx.k_core(G, max_core_number)\n",
    "for player_id in core:\n",
    "    print(player_id)\n",
    "    print(nx.get_node_attributes(G, 'name')[player_id])"
   ]
  },
  {
   "cell_type": "code",
   "execution_count": 53,
   "metadata": {},
   "outputs": [
    {
     "data": {
      "text/plain": [
       "[('103852', '126846'),\n",
       " ('200045', '200460'),\n",
       " ('104122', '205734'),\n",
       " ('126203', '202358'),\n",
       " ('124126', '200250'),\n",
       " ('138845', '105566'),\n",
       " ('105688', '200620'),\n",
       " ('105688', '200619'),\n",
       " ('105064', '106398'),\n",
       " ('144776', '105657'),\n",
       " ('144776', '126613'),\n",
       " ('111794', '105641'),\n",
       " ('111794', '111761'),\n",
       " ('208028', '207738'),\n",
       " ('106026', '111459'),\n",
       " ('105132', '207973'),\n",
       " ('206000', '202358'),\n",
       " ('138431', '133297'),\n",
       " ('103970', '144645'),\n",
       " ('106233', '105299'),\n",
       " ('105575', '144807'),\n",
       " ('106121', '105493'),\n",
       " ('106121', '105147'),\n",
       " ('105952', '106249'),\n",
       " ('126190', '106250'),\n",
       " ('123768', '200005'),\n",
       " ('123795', '111761'),\n",
       " ('104970', '104468'),\n",
       " ('104947', '104291'),\n",
       " ('206642', '202210'),\n",
       " ('104978', '111815'),\n",
       " ('106138', '110602'),\n",
       " ('105933', '106174'),\n",
       " ('200514', '110602'),\n",
       " ('105373', '200574'),\n",
       " ('105138', '104563'),\n",
       " ('200624', '126207'),\n",
       " ('105757', '111197'),\n",
       " ('104918', '111190'),\n",
       " ('121411', '105349'),\n",
       " ('127570', '206768'),\n",
       " ('106250', '200274'),\n",
       " ('106250', '200620'),\n",
       " ('105961', '104655'),\n",
       " ('106150', '105812'),\n",
       " ('105311', '106220'),\n",
       " ('127300', '111815'),\n",
       " ('126174', '200483'),\n",
       " ('126174', '109698'),\n",
       " ('126174', '208029'),\n",
       " ('105173', '106348'),\n",
       " ('106324', '106210'),\n",
       " ('106324', '200075'),\n",
       " ('106333', '200436'),\n",
       " ('105041', '126127'),\n",
       " ('105578', '207971'),\n",
       " ('207972', '120792'),\n",
       " ('126939', '207836'),\n",
       " ('126845', '104291'),\n",
       " ('200325', '144826'),\n",
       " ('202090', '104797'),\n",
       " ('105691', '105683'),\n",
       " ('104468', '105515'),\n",
       " ('105449', '106353'),\n",
       " ('104233', '105747'),\n",
       " ('104547', '200711'),\n",
       " ('200611', '104792'),\n",
       " ('105633', '202382'),\n",
       " ('111581', '111153'),\n",
       " ('105882', '106325'),\n",
       " ('105882', '200384'),\n",
       " ('105111', '111797'),\n",
       " ('111795', '105932'),\n",
       " ('111167', '126102'),\n",
       " ('111167', '105657'),\n",
       " ('105550', '111578'),\n",
       " ('207176', '202165'),\n",
       " ('128034', '105587'),\n",
       " ('200401', '134217'),\n",
       " ('134114', '104251'),\n",
       " ('127143', '134886'),\n",
       " ('104655', '108763'),\n",
       " ('200059', '104810'),\n",
       " ('111515', '105902'),\n",
       " ('106021', '207479'),\n",
       " ('104656', '123755'),\n",
       " ('126120', '109739'),\n",
       " ('105156', '122669'),\n",
       " ('105163', '104259'),\n",
       " ('200273', '134120'),\n",
       " ('207421', '106397'),\n",
       " ('106353', '105502'),\n",
       " ('111790', '144719'),\n",
       " ('105747', '126340'),\n",
       " ('111574', '104719'),\n",
       " ('105935', '106198'),\n",
       " ('122236', '144817'),\n",
       " ('104308', '111761'),\n",
       " ('106228', '105967'),\n",
       " ('202130', '104022'),\n",
       " ('105992', '127339'),\n",
       " ('105479', '106410'),\n",
       " ('105357', '202385'),\n",
       " ('105499', '105467'),\n",
       " ('105499', '106175'),\n",
       " ('106210', '104593'),\n",
       " ('106000', '111192'),\n",
       " ('202165', '105812'),\n",
       " ('105453', '126125'),\n",
       " ('144817', '104597'),\n",
       " ('126502', '105273'),\n",
       " ('106393', '106120'),\n",
       " ('106396', '133975'),\n",
       " ('106175', '108739'),\n",
       " ('104467', '106106'),\n",
       " ('138846', '105606'),\n",
       " ('138846', '133975'),\n",
       " ('103499', '111805'),\n",
       " ('105960', '111577'),\n",
       " ('207400', '207415'),\n",
       " ('111197', '105967'),\n",
       " ('200031', '105683')]"
      ]
     },
     "execution_count": 53,
     "metadata": {},
     "output_type": "execute_result"
    }
   ],
   "source": [
    "#13 Ko su teniseri koji povezuju razlicite grupe u okviru mreze -> pronalazimo bridgeve u ovkviru mreze grane koje povezuju razlicite grupe u okviru mreze\n",
    "bridges = nx.bridges(G)\n",
    "list(bridges)"
   ]
  },
  {
   "cell_type": "markdown",
   "metadata": {},
   "source": [
    "14. Kolika je gustina svake od modelovanih mreza? \n",
    "Gustina mreza moze se odrediti iz Gephi alata (Statistics -> Graph density) \n",
    "Racuna se za neusmerene grafove kao d = (2m)/n(n-1)\n",
    "m -> broj grana\n",
    "n -> broj cvorova\n",
    "\n",
    "Rezultat:\n",
    "<img src=\"img/graph_density.png\" width=1000 height=1000 />"
   ]
  },
  {
   "cell_type": "code",
   "execution_count": 54,
   "metadata": {},
   "outputs": [
    {
     "name": "stdout",
     "output_type": "stream",
     "text": [
      "Gustina mreze koristeci biblioteku network x je: 0.028422651334345846\n"
     ]
    }
   ],
   "source": [
    "#koristeci python i networkx\n",
    "density = nx.density(G)\n",
    "print(f\"Gustina mreze koristeci biblioteku network x je: {density}\")\n"
   ]
  },
  {
   "cell_type": "code",
   "execution_count": 55,
   "metadata": {
    "scrolled": true
   },
   "outputs": [
    {
     "name": "stdout",
     "output_type": "stream",
     "text": [
      "[('104926', 0.14593301435406697), ('106233', 0.13157894736842105), ('126774', 0.12679425837320574), ('100644', 0.12440191387559808), ('104755', 0.12200956937799043)]\n",
      "[('104926', 0.38868304352899985), ('106233', 0.3877373426931629), ('111575', 0.3863273887197332), ('104269', 0.3835380212921539), ('105173', 0.3817007134057244)]\n",
      "[('104655', 0.06984202008882848), ('104291', 0.04386650942308232), ('104926', 0.033726444430694745), ('105657', 0.03102832411331371), ('106210', 0.030991357611591417)]\n",
      "False\n"
     ]
    }
   ],
   "source": [
    "#15 U kojoj mrezi povezane i centralizovane mreze\n",
    "#izracunacemo degree_centrality, closeness_centrality, information_centrality, betweenes_centrality i opisacemo znacenje tih vrednosti\n",
    "DC = nx.degree_centrality(G)\n",
    "import operator\n",
    "print(sorted(DC.items(), key=operator.itemgetter(1), reverse=True)[:5])\n",
    "#vazni cvorovi imaju veliki broj konekcija; broj direktnih suseda svakog cvora u mrezi\n",
    "#akteri u mrezi sa vecim brojem relacija manje zavisni u odnosu na druge aktere\n",
    "\n",
    "CC = nx.closeness_centrality(G)\n",
    "print(sorted(CC.items(), key=operator.itemgetter(1), reverse=True)[:5])\n",
    "#vazni cvorovi su blizi drugim cvorovima, vazniji cvorovi centralniji polozaj u mrezi\n",
    "\n",
    "BC = nx.betweenness_centrality(G)\n",
    "print(sorted(BC.items(), key=operator.itemgetter(1), reverse=True)[:5])\n",
    "#vazni cvorovi povezuju druge cvorove, mostovi posrednici izmedju ostalih cvorova u mrezi\n",
    "#vazni cvorovi se nalaze na vecem broju najkracih putanja\n",
    "\n",
    "#check if graph is connected\n",
    "print(nx.is_connected(G))\n",
    "\n",
    "#graf nije povezan ne moze se izracunati information_centrality\n",
    "#nije povezan postoji grupa ljudi koji nisu igrali jedni sa drugima"
   ]
  },
  {
   "cell_type": "markdown",
   "metadata": {},
   "source": [
    "#habovi su vezani za degree_centrality i susedima onim sa najvecim vrednostima ove metrike iscrtati u gephiju videti TODO\n",
    "\n",
    "#16 Koje su prosecne distance, a koliki dijametar u okviru modelovanih mreza? \n",
    "Average Path length: 3.1371012285965936\n",
    "Diameter: 11"
   ]
  },
  {
   "cell_type": "markdown",
   "metadata": {},
   "source": [
    "19. Da li mreza iskazuje osobine malog sveta?\n",
    "iz gephija citanje prosecne udaljenosti cvorova i prema koeficijentu klasterizacije\n",
    "\n",
    "Mreza iskazuje osobine malog sveta ukoliko je prosecna udaljenost bilo koja 2 cvora mala u odnosu na velicinu mreze\n",
    "Ima visok stepen klasterizacije -> vrednost stepena u 10.pitanju ??proveriti da li je to nizak ili visok stepen klasterizacije\n",
    "\n",
    "<img src=\"img/shortest_path.png\" width=1000 height=1000 />"
   ]
  },
  {
   "cell_type": "code",
   "execution_count": 68,
   "metadata": {},
   "outputs": [
    {
     "name": "stdout",
     "output_type": "stream",
     "text": [
      "Name: novak\n",
      "Type: Graph\n",
      "Number of nodes: 43\n",
      "Number of edges: 324\n",
      "Average degree:  15.0698\n",
      "Name: roger\n",
      "Type: Graph\n",
      "Number of nodes: 45\n",
      "Number of edges: 355\n",
      "Average degree:  15.7778\n",
      "Name: nadal\n",
      "Type: Graph\n",
      "Number of nodes: 36\n",
      "Number of edges: 229\n",
      "Average degree:  12.7222\n"
     ]
    }
   ],
   "source": [
    "#20. Ego mreze i osobine\n",
    "#Novak Djokovic 104925\n",
    "Novak_ego = nx.ego_graph(G, '104925', undirected=True)\n",
    "Novak_ego.name = \"novak\"\n",
    "print(nx.info(Novak_ego))\n",
    "\n",
    "#Roger Federer 103819\n",
    "Roger_ego = nx.ego_graph(G, '103819', undirected=True)\n",
    "Roger_ego.name = \"roger\"\n",
    "print(nx.info(Roger_ego))\n",
    "\n",
    "#Rafael Nadal 104745\n",
    "Nadal_ego = nx.ego_graph(G, '104745', undirected=True)\n",
    "Nadal_ego.name = \"nadal\"\n",
    "print(nx.info(Nadal_ego))\n",
    "\n",
    "#sacuvaj u odredjenom formatu\n",
    "nx.write_gexf(Novak_ego, \"models/djokovic_2018.gexf\")\n",
    "nx.write_gexf(Roger_ego, \"models/federer_2018.gexf\")\n",
    "nx.write_gexf(Nadal_ego, \"models/nadal_2018.gexf\")\n",
    "\n",
    "#analizirati poziciju ego cvora unutar svake od ego mreza TODO(plt.show())\n",
    "#analizirati ugradjenost svake od ego mreza unutar celokupne mreze (TODO)\n",
    "#Unifikacija ego mreza (koliki procenat ucestvuje u njoj). Sprovesti klasterisanje na 3 klastera i na osnovu dobijenih rezultata\n",
    "#dati interpretaciju kriterijuma pripadnosti klasterima\n",
    "\n"
   ]
  },
  {
   "cell_type": "code",
   "execution_count": null,
   "metadata": {},
   "outputs": [],
   "source": []
  }
 ],
 "metadata": {
  "kernelspec": {
   "display_name": "Python 3",
   "language": "python",
   "name": "python3"
  },
  "language_info": {
   "codemirror_mode": {
    "name": "ipython",
    "version": 3
   },
   "file_extension": ".py",
   "mimetype": "text/x-python",
   "name": "python",
   "nbconvert_exporter": "python",
   "pygments_lexer": "ipython3",
   "version": "3.8.5"
  }
 },
 "nbformat": 4,
 "nbformat_minor": 4
}
