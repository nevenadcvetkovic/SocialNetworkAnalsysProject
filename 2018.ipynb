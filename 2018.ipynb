{
 "cells": [
  {
   "cell_type": "markdown",
   "metadata": {},
   "source": [
    "# Projekat iz predmeta analiza socijalnih mreza\n",
    "\n",
    "\n",
    "## Kvantitativna i kvalitativna Analiza stanja profesionalnog muškog tenisa u periodu od 2018. do 2020. godine\n",
    "\n",
    "\n",
    "Ucitavanje podataka\n"
   ]
  },
  {
   "cell_type": "code",
   "execution_count": 1,
   "metadata": {
    "scrolled": true
   },
   "outputs": [
    {
     "data": {
      "text/plain": [
       "ranking_date    False\n",
       "rank            False\n",
       "player          False\n",
       "points           True\n",
       "dtype: bool"
      ]
     },
     "execution_count": 1,
     "metadata": {},
     "output_type": "execute_result"
    }
   ],
   "source": [
    "import pandas as pd\n",
    "\n",
    "dataPath = \"data/atp_matches_2018.csv\"\n",
    "\n",
    "players_dataPath = \"data/atp_players.csv\"\n",
    "\n",
    "player_atp_rankings_dataPath = \"data/atp_rankings_10s.csv\"\n",
    "\n",
    "data = pd.read_csv(dataPath) \n",
    "#print(data.columns)\n",
    "data.isna().any()\n",
    "\n",
    "#players\n",
    "players_data = pd.read_csv(players_dataPath)\n",
    "#print(players_data)\n",
    "\n",
    "#atp ranking\n",
    "players_atp_rank_data = pd.read_csv(player_atp_rankings_dataPath)\n",
    "players_atp_rank_data.isna().any()\n",
    "#points null moze biti\n",
    "#print(players_atp_rank_data)"
   ]
  },
  {
   "cell_type": "code",
   "execution_count": 2,
   "metadata": {},
   "outputs": [],
   "source": [
    "#provera da li je match_num kolona koja moze da bude uzeta za id\n",
    "\n",
    "print(data['match_num'].isnull().values.any())\n",
    "print(data['match_num'].is_unique)"
   ]
  },
  {
   "cell_type": "code",
   "execution_count": 3,
   "metadata": {},
   "outputs": [],
   "source": [
    "#dodati automatski generisani id kao dodatnu kolonu\n",
    "data['id'] = data.index\n",
    "print(data)\n",
    "\n",
    "#sacuvati u novi fajl\n",
    "import pickle\n",
    "\n",
    "with open(\"data/data2018_cleaned.csv\", 'wb') as file:\n",
    "    pickle.dump(data, file)"
   ]
  },
  {
   "cell_type": "code",
   "execution_count": 4,
   "metadata": {},
   "outputs": [],
   "source": [
    "import numpy as np\n",
    "\n",
    "# Selekcija samo kolona 'match_num' i 'id' i grupisanje po match_num\n",
    "data_grupisano = data[['match_num', 'id']].groupby('match_num')\n",
    "\n",
    "# agg() radi agregaciju, u ovom slučaju po broju elemenata u grupi\n",
    "data_agregirano = data_grupisano['id'].agg(np.size)\n",
    "print(type(data_agregirano))\n",
    "print(data_agregirano)"
   ]
  },
  {
   "cell_type": "code",
   "execution_count": 5,
   "metadata": {},
   "outputs": [],
   "source": [
    "data_nonunique = data_agregirano[data_agregirano>1]\n",
    "print(data_nonunique)"
   ]
  },
  {
   "cell_type": "code",
   "execution_count": 6,
   "metadata": {},
   "outputs": [
    {
     "name": "stdout",
     "output_type": "stream",
     "text": [
      "match_num\n",
      "1    67\n",
      "2    67\n",
      "4    67\n",
      "Name: id, dtype: int64\n",
      "1\n"
     ]
    }
   ],
   "source": [
    "#naci max i index max broja ponovljenih\n",
    "trazeni = data_nonunique[data_nonunique == data_nonunique.max()]\n",
    "print(trazeni)\n",
    "target_match_num = trazeni.keys()[0]\n",
    "print(target_match_num)"
   ]
  },
  {
   "cell_type": "code",
   "execution_count": 9,
   "metadata": {
    "scrolled": false
   },
   "outputs": [
    {
     "name": "stdout",
     "output_type": "stream",
     "text": [
      "                     tourney_name  winner_id  loser_id  winner_rank  \\\n",
      "266   Davis Cup G1 R1: AUT vs BLR     105589    125802         98.0   \n",
      "270   Davis Cup G1 R1: CHI vs ECU     111797    105111         95.0   \n",
      "273   Davis Cup G1 R1: CHN vs NZL     104907    105842        308.0   \n",
      "276   Davis Cup G1 R1: COL vs BAR     123755    104656        292.0   \n",
      "279   Davis Cup G1 R1: DOM vs BRA     105497    106252        284.0   \n",
      "...                           ...        ...       ...          ...   \n",
      "2425  Davis Cup WG SF: FRA vs ESP     105332    105807         54.0   \n",
      "2429  Davis Cup G2 R3: ROU vs POL     105657    111794         81.0   \n",
      "2433  Davis Cup G2 R3: THA vs LBN     200273    106397        643.0   \n",
      "2437  Davis Cup G2 R3: URU vs MEX     104655    106250         68.0   \n",
      "2886   Davis Cup WG F: FRA vs CRO     106432    104871         12.0   \n",
      "\n",
      "      loser_rank  \n",
      "266        190.0  \n",
      "270        597.0  \n",
      "273        253.0  \n",
      "276          NaN  \n",
      "279        365.0  \n",
      "...          ...  \n",
      "2425        21.0  \n",
      "2429       187.0  \n",
      "2433       453.0  \n",
      "2437       762.0  \n",
      "2886        40.0  \n",
      "\n",
      "[67 rows x 5 columns]\n",
      "                             tourney_id                 tourney_name surface  \\\n",
      "276   2018-M-DC-2018-G1-AM-M-COL-BAR-01  Davis Cup G1 R1: COL vs BAR    Hard   \n",
      "283   2018-M-DC-2018-G1-AO-M-KOR-PAK-01  Davis Cup G1 R1: KOR vs PAK   Grass   \n",
      "327   2018-M-DC-2018-G2-AM-M-ESA-URU-01  Davis Cup G2 R1: ESA vs URU    Hard   \n",
      "348   2018-M-DC-2018-G2-AO-M-PHI-INA-01  Davis Cup G2 R1: PHI vs INA    Hard   \n",
      "352   2018-M-DC-2018-G2-AM-M-PUR-MEX-01  Davis Cup G2 R1: PUR vs MEX    Hard   \n",
      "356  2018-M-DC-2018-G2-EPA-M-ROU-LUX-01  Davis Cup G2 R1: ROU vs LUX    Hard   \n",
      "934   2018-M-DC-2018-G1-AO-M-PAK-UZB-01  Davis Cup G1 R2: PAK vs UZB   Grass   \n",
      "\n",
      "     draw_size tourney_level  tourney_date  match_num  winner_id  winner_seed  \\\n",
      "276          4             D      20180202          1     123755          NaN   \n",
      "283          4             D      20180202          1     103529          NaN   \n",
      "327          4             D      20180203          1     104655          NaN   \n",
      "348          4             D      20180203          1     202165          NaN   \n",
      "352          4             D      20180203          1     105688          NaN   \n",
      "356          4             D      20180203          1     111167          NaN   \n",
      "934          4             D      20180406          1     104797          NaN   \n",
      "\n",
      "    winner_entry  ... l_1stWon l_2ndWon  l_SvGms l_bpSaved  l_bpFaced  \\\n",
      "276          NaN  ...     14.0     10.0      8.0       1.0        5.0   \n",
      "283          NaN  ...     35.0     22.0     14.0       0.0        2.0   \n",
      "327          NaN  ...     26.0      8.0      8.0       4.0        8.0   \n",
      "348          NaN  ...     25.0      4.0      8.0       2.0        6.0   \n",
      "352          NaN  ...     35.0      8.0     11.0       3.0        7.0   \n",
      "356          NaN  ...     41.0     18.0     14.0       3.0        5.0   \n",
      "934          NaN  ...     31.0     12.0      8.0       0.0        1.0   \n",
      "\n",
      "     winner_rank  winner_rank_points loser_rank loser_rank_points   id  \n",
      "276        292.0               168.0        NaN               NaN  276  \n",
      "283          NaN                 NaN      178.0             301.0  283  \n",
      "327         32.0              1380.0        NaN               NaN  327  \n",
      "348       1371.0                 3.0        NaN               NaN  348  \n",
      "352        560.0                54.0        NaN               NaN  352  \n",
      "356          NaN                 NaN      596.0              48.0  356  \n",
      "934         83.0               673.0        NaN               NaN  934  \n",
      "\n",
      "[7 rows x 50 columns]\n",
      "False\n",
      "       player_id        first_name          last_name hand  birth_date  \\\n",
      "3528      103529      Aisam Ul Haq            Qureshi    R  19800317.0   \n",
      "4653      104655             Pablo             Cuevas    R  19860101.0   \n",
      "4654      104656             Haydn              Lewis    L  19860102.0   \n",
      "4793      104797             Denis            Istomin    R  19860907.0   \n",
      "5674      105688            Manuel            Sanchez    R  19910105.0   \n",
      "8748      108763  Alberto Emmanuel     Alvarado Larin    U  19941201.0   \n",
      "11152     111167               Ugo            Nastasi    R  19930416.0   \n",
      "23739     123755      Daniel Elahi      Galan Riveros    U  19960618.0   \n",
      "26086     126102           Nicolae             Frunza    R  19971115.0   \n",
      "26936     126952          Soon Woo               Kwon    R  19971202.0   \n",
      "45654     200620           Ignacio             Garcia  NaN         NaN   \n",
      "47199     202165           Alberto                Lim    R  19990518.0   \n",
      "52210     207176          Muhammad  Althaf Dhaifullah    R  20001119.0   \n",
      "\n",
      "      country_code  \n",
      "3528           PAK  \n",
      "4653           URU  \n",
      "4654           BAR  \n",
      "4793           UZB  \n",
      "5674           MEX  \n",
      "8748           ESA  \n",
      "11152          LUX  \n",
      "23739          COL  \n",
      "26086          ROU  \n",
      "26936          KOR  \n",
      "45654          PUR  \n",
      "47199          PHI  \n",
      "52210          INA  \n"
     ]
    }
   ],
   "source": [
    "#ispisati sve meceve kao match_num imaju odredjeni max\n",
    "data_target = data[data['match_num'] == target_match_num]\n",
    "lista_labela = ['tourney_name', 'winner_id', 'loser_id', 'winner_rank', 'loser_rank']\n",
    "print(data_target[lista_labela])\n",
    "\n",
    "#ispisi sve ciji je ili winner_rank null ili loser_rank null\n",
    "data_winOrlos_is_null = data_target[(data_target['winner_rank'].isnull()) | (data_target['loser_rank'].isnull())]\n",
    "print(data_winOrlos_is_null)\n",
    "\n",
    "#istraga o igracima ciji je winner_rank u tabeli matches_2018 null ili loser_rank u tabeli matches_2018 null\n",
    "print(players_data['player_id'].equals(data_winOrlos_is_null['winner_id']))\n",
    "players_info_rang_null = players_data.loc[(players_data['player_id'].isin(data_winOrlos_is_null['winner_id'])) | (players_data['player_id'].isin(data_winOrlos_is_null['loser_id']))]\n",
    "print(players_data.loc[(players_data['player_id'].isin(data_winOrlos_is_null['winner_id'])) | (players_data['player_id'].isin(data_winOrlos_is_null['loser_id']))])\n",
    "\n",
    "#postoje neki koji uopste nemaju upisanu ruku i datum rodjenja, datum rodjenja format double iako u opisu drugaciji format"
   ]
  },
  {
   "cell_type": "code",
   "execution_count": 10,
   "metadata": {
    "scrolled": false
   },
   "outputs": [
    {
     "name": "stdout",
     "output_type": "stream",
     "text": [
      "        ranking_date  rank  player   points\n",
      "0           20100104     1  103819  10550.0\n",
      "1           20100104     2  104745   9205.0\n",
      "2           20100104     3  104925   8310.0\n",
      "3           20100104     4  104918   7030.0\n",
      "4           20100104     5  105223   6785.0\n",
      "...              ...   ...     ...      ...\n",
      "916291      20191230  1922  134833      1.0\n",
      "916292      20191230  1922  144856      1.0\n",
      "916293      20191230  1922  202326      1.0\n",
      "916294      20191230  1926  207307      1.0\n",
      "916295      20191230  1927  208186      1.0\n",
      "\n",
      "[916296 rows x 4 columns]\n",
      "        ranking_date         rank       points\n",
      "player                                        \n",
      "100644  2.015885e+07   247.552326  2102.796512\n",
      "101389  2.014282e+07  1724.404255     1.000000\n",
      "101397  2.011134e+07  1204.478261     3.000000\n",
      "101404  2.011255e+07  1031.626374     6.571429\n",
      "101549  2.010697e+07  1468.750000     1.000000\n",
      "...              ...          ...          ...\n",
      "209397  2.019123e+07  1581.000000     1.000000\n",
      "209398  2.019122e+07  1581.666667     1.000000\n",
      "209399  2.019122e+07  1725.666667     1.000000\n",
      "209506  2.018140e+07   940.871212          NaN\n",
      "209508  2.015536e+07  1873.288889     1.000000\n",
      "\n",
      "[6180 rows x 3 columns]\n"
     ]
    }
   ],
   "source": [
    "#players_info_rang_null \n",
    "#players_atp_rank_data\n",
    "columns_name_players_atp_rank = ['ranking_date', 'rank', 'player', 'points']\n",
    "print(players_atp_rank_data[columns_name_players_atp_rank])\n",
    "print(players_atp_rank_data[columns_name_players_atp_rank].groupby('player').mean())"
   ]
  },
  {
   "cell_type": "code",
   "execution_count": 11,
   "metadata": {},
   "outputs": [],
   "source": [
    "import networkx as nx\n",
    "\n",
    "list_winner = set(data['winner_id'].apply(str).unique())\n",
    "print(list_winner)\n",
    "list_loser = set(data['loser_id'].apply(str).unique())\n",
    "print(list_loser)\n",
    "\n",
    "skup_id = list_winner.union(list_loser)\n",
    "print(f\"Postoji { len(skup_id) } različitih igrača\") # formatiranje ispisa pomoću fstringa\n",
    "\n",
    "print(data.columns)"
   ]
  },
  {
   "cell_type": "code",
   "execution_count": 12,
   "metadata": {},
   "outputs": [],
   "source": [
    "import numpy as np\n",
    "import matplotlib.pyplot as plt\n",
    "\n",
    "data_reduced = data[['winner_id', 'winner_name', 'winner_ioc', 'loser_id', 'loser_name', 'loser_ioc', 'id']]\n",
    "\n",
    "G = nx.Graph() # pravi praznu mrežu\n",
    "G.add_nodes_from(skup_id) # dodaje čvorove čije su labele u \"skup_id\"\n",
    "\n",
    "for _, winner_id, winner_name, winner_ioc, loser_id, loser_name, loser_ioc, _ in data_reduced.itertuples():\n",
    "    winner_id_string = str(winner_id)\n",
    "    loser_id_string = str(loser_id)\n",
    "    if (winner_id_string, loser_id_string) in G.edges:\n",
    "        G.edges[winner_id_string, loser_id_string]['weight'] += 1\n",
    "    else:\n",
    "        G.add_edge(winner_id_string, loser_id_string, weight=1)\n",
    "        winner_attrs = {winner_id_string: {'name': winner_name, 'country': winner_ioc}}\n",
    "        loser_attrs = {loser_id_string: {'name': loser_name, 'country': loser_ioc}}\n",
    "        nx.set_node_attributes(G, winner_attrs)\n",
    "        nx.set_node_attributes(G, loser_attrs)\n",
    "        \n"
   ]
  },
  {
   "cell_type": "code",
   "execution_count": 13,
   "metadata": {},
   "outputs": [],
   "source": [
    "print(data.dtypes)\n",
    "print(G.edges.data(\"weight\"))\n",
    "print(nx.get_node_attributes(G, \"name\"))\n",
    "print(nx.get_node_attributes(G, \"country\"))\n",
    "output_path = \"models/undirected_graph_2018.gml\"\n",
    "\n",
    "nx.write_gml(G, output_path)\n"
   ]
  },
  {
   "cell_type": "markdown",
   "metadata": {},
   "source": [
    "1.pitanje Koliki je prosecan broj tenisera(saigraca) po svakom teniseru? \n",
    "gephi->ucitala graf, Statistics -> Network Overview -> Average Degree\n",
    "\n",
    "<img src=\"img/1.pitanje_average_degree\" width=500 height=500 />"
   ]
  },
  {
   "cell_type": "code",
   "execution_count": 14,
   "metadata": {},
   "outputs": [
    {
     "name": "stdout",
     "output_type": "stream",
     "text": [
      "('104926', 61)\n",
      "Fabio Fognini\n"
     ]
    }
   ],
   "source": [
    "#2.pitanje Koji teniseri su se susretali sa najvecim brojem drugih tenisera\n",
    "my_degrees = dict(G.degree()) #dictionary key:value\n",
    "degree_values = [v for k, v in G.degree()]\n",
    "\n",
    "print(max(my_degrees.items(), key= lambda x: x[1])) #max u tom dict \n",
    "\n",
    "print(nx.get_node_attributes(G, 'name')['104926']) #atribut name za cvor ciji je index rezultat prethodnog upita"
   ]
  },
  {
   "cell_type": "code",
   "execution_count": 15,
   "metadata": {},
   "outputs": [
    {
     "name": "stdout",
     "output_type": "stream",
     "text": [
      "           tourney_id\n",
      "winner_id            \n",
      "100644             20\n",
      "103333              7\n",
      "103499              2\n",
      "103529              1\n",
      "103565              1\n",
      "...               ...\n",
      "202358              1\n",
      "207139              1\n",
      "207415              1\n",
      "208028              1\n",
      "208029              1\n",
      "\n",
      "[282 rows x 1 columns]\n",
      "          tourney_id\n",
      "loser_id            \n",
      "100644            19\n",
      "103333            16\n",
      "103499             1\n",
      "103529             1\n",
      "103565             2\n",
      "...              ...\n",
      "207738             1\n",
      "207836             1\n",
      "207971             1\n",
      "207972             1\n",
      "207973             1\n",
      "\n",
      "[393 rows x 1 columns]\n",
      "Alexander Zverev\n",
      "Ivo Karlovic\n"
     ]
    }
   ],
   "source": [
    "#3.pitanje Koji teniseri su ucestvovali na najvecem broju (razlicih) turnira?\n",
    "winner_tourney_columns = ['winner_id', 'tourney_id']\n",
    "loser_tourney_columns = ['loser_id', 'tourney_id']\n",
    "dataWinner_tourney = data[winner_tourney_columns].drop_duplicates().groupby('winner_id').count()\n",
    "print(dataWinner_tourney)\n",
    "dataLoser_tourney = data[loser_tourney_columns].drop_duplicates().groupby('loser_id').count()\n",
    "print(dataLoser_tourney)\n",
    "\n",
    "print(nx.get_node_attributes(G, 'name')['100644'])\n",
    "print(nx.get_node_attributes(G, 'name')['103333'])\n",
    "\n",
    "#check???\n"
   ]
  },
  {
   "cell_type": "code",
   "execution_count": 16,
   "metadata": {},
   "outputs": [
    {
     "name": "stdout",
     "output_type": "stream",
     "text": [
      "[('104926', 0.14593301435406697), ('106233', 0.13157894736842105), ('126774', 0.12679425837320574), ('100644', 0.12440191387559808), ('104755', 0.12200956937799043)]\n"
     ]
    }
   ],
   "source": [
    "#4.pitanje Koji teniseri su dobri kandidati za predstavnike profesionalnih tenisera? Da li se i sta se menja ukoliko se umesto jednog bira skup od nekoliko predstavnika? Dobar predstavnik ili predstavnici bi trebalo da budu u kontaktu sa sto vecim skupom tenisera\n",
    "\n",
    "#proveriti ovaj 2.deo na sta se odnosi????\n",
    "#mere centralnosti koristim Degree centrality, vise u kontaktu sa drugim teniserima teze da budu predstavnici\n",
    "import operator\n",
    "dictionary = dict(nx.degree_centrality(G))\n",
    "print(sorted(dictionary.items(), key=operator.itemgetter(1), reverse=True)[:5])"
   ]
  },
  {
   "cell_type": "code",
   "execution_count": 17,
   "metadata": {},
   "outputs": [
    {
     "name": "stdout",
     "output_type": "stream",
     "text": [
      "Fabio Fognini\n",
      "Dominic Thiem\n",
      "Stefanos Tsitsipas\n",
      "Alexander Zverev\n",
      "Richard Gasquet\n"
     ]
    }
   ],
   "source": [
    "print(nx.get_node_attributes(G, 'name')['104926'])\n",
    "print(nx.get_node_attributes(G, 'name')['106233'])\n",
    "print(nx.get_node_attributes(G, 'name')['126774'])\n",
    "print(nx.get_node_attributes(G, 'name')['100644'])\n",
    "print(nx.get_node_attributes(G, 'name')['104755'])"
   ]
  },
  {
   "cell_type": "markdown",
   "metadata": {},
   "source": [
    "Prvo kreiramo masku koja ce da selektuje sve igrace koji su u skupu igraca koji su igrali mec u 2018\n",
    "Potom dobijen rezultat grupisemo po drzavi i sortiramo zatim\n",
    "Najaktivniji su iz SAD, Francuske, Spanije, Nemacke, Italije\n",
    "Srbija na 9 mestu sa Rusijom i Kanadom sa 7 aktivnih igraca"
   ]
  },
  {
   "cell_type": "code",
   "execution_count": 18,
   "metadata": {},
   "outputs": [
    {
     "name": "stdout",
     "output_type": "stream",
     "text": [
      "country_code\n",
      "USA    34\n",
      "FRA    25\n",
      "ESP    24\n",
      "GER    18\n",
      "ITA    17\n",
      "ARG    15\n",
      "AUS    14\n",
      "AUT     8\n",
      "RUS     7\n",
      "CAN     7\n",
      "SRB     7\n",
      "GBR     6\n",
      "CZE     6\n",
      "CRO     6\n",
      "ROU     6\n",
      "SVK     6\n",
      "SUI     6\n",
      "BRA     6\n",
      "TPE     6\n",
      "IND     6\n",
      "Name: country_code, dtype: int64\n"
     ]
    }
   ],
   "source": [
    "maska_active_players = players_data['player_id'].isin(skup_id) \n",
    "active_players_2018 = players_data[maska_active_players]\n",
    "data_grupisano = active_players_2018[['player_id', 'country_code']].groupby('country_code')\n",
    "data_agregirano = data_grupisano['country_code'].agg(np.size)\n",
    "\n",
    "print(data_agregirano.sort_values(ascending=False).head(20))"
   ]
  },
  {
   "cell_type": "markdown",
   "metadata": {},
   "source": [
    "Analiza komuna\n",
    "\n",
    "implementiracemo bottom-up pristup -> Louvain metod"
   ]
  },
  {
   "cell_type": "code",
   "execution_count": 27,
   "metadata": {},
   "outputs": [],
   "source": [
    "import sys\n",
    "!{sys.executable} -m pip install python-louvain\n",
    "import community as community_louvain\n",
    "import matplotlib.pyplot as plt\n",
    "import matplotlib.cm as cm\n",
    "partition = community_louvain.best_partition(G)\n",
    "\n",
    "print(partition)\n",
    "\n",
    "#vizuelno\n",
    "pos = nx.spring_layout(G)\n",
    "cmap = cm.get_cmap('viridis', max(partition.values()) + 1)\n",
    "nx.draw_networkx_nodes(G, pos, partition.keys(), node_size=200, cmap=cmap, node_color=list(partition.values()))\n",
    "nx.draw_networkx_edges(G, pos, alpha=1)\n",
    "plt.show()"
   ]
  },
  {
   "cell_type": "code",
   "execution_count": 20,
   "metadata": {
    "scrolled": true
   },
   "outputs": [
    {
     "name": "stdout",
     "output_type": "stream",
     "text": [
      "Max lokalni cc: 0.20000000000000004\n",
      "Prosečan cc: 0.12227548001603938\n",
      "Lokalni stepeni klasterisanja koji nisu nula:\n",
      "         id        cc\n",
      "85   105967  0.003030\n",
      "17   104122  0.013333\n",
      "66   106071  0.013767\n",
      "63   106216  0.014286\n",
      "76   105132  0.015152\n",
      "..      ...       ...\n",
      "61   132482  0.192659\n",
      "59   200175  0.200000\n",
      "34   104672  0.200000\n",
      "70   200218  0.200000\n",
      "162  126523  0.200000\n",
      "\n",
      "[204 rows x 2 columns]\n"
     ]
    }
   ],
   "source": [
    "player_id, clustering_coef = zip(*nx.clustering(G, weight = \"weight\").items())\n",
    "\n",
    "nenula = [(id_ig, cc)  for id_ig, cc in zip(player_id, clustering_coef) if cc > 0]\n",
    "\n",
    "df = pd.DataFrame(nenula, columns = [\"id\", \"cc\"])\n",
    "df.sort_values('cc', inplace = True)\n",
    "\n",
    "max_lokalni_stepen_klasterisanja = max(clustering_coef)\n",
    "\n",
    "prosecni_stepen_klasterisanja = nx.average_clustering(G)\n",
    "\n",
    "print(f\"Max lokalni cc: {max_lokalni_stepen_klasterisanja}\")\n",
    "print(f\"Prosečan cc: {prosecni_stepen_klasterisanja}\")\n",
    "print(\"Lokalni stepeni klasterisanja koji nisu nula:\")\n",
    "print(df)"
   ]
  },
  {
   "cell_type": "markdown",
   "metadata": {},
   "source": [
    "Asortativnost:\n",
    "Homofilija - tendencija ljudi da stvaraju veze sa sebi slicnim ljudima\n",
    "U analizi socijalnih mreze homofilija u formi asortativnosti - cvorovi imaju tendenciju da se povezuju sa cvorovima slicnog stepena"
   ]
  },
  {
   "cell_type": "code",
   "execution_count": 19,
   "metadata": {},
   "outputs": [
    {
     "name": "stdout",
     "output_type": "stream",
     "text": [
      "Koeficijent asortativnosti na osnovu netežinskog stepena čvora: 0.21868975600564688\n",
      "Koeficijent asortativnosti na osnovu težinskog stepena čvora: 0.22945507317379313\n"
     ]
    }
   ],
   "source": [
    "# asortativnost na osnovu netežinskog stepena čvora\n",
    "r1 = nx.degree_assortativity_coefficient(G)\n",
    "print(f\"Koeficijent asortativnosti na osnovu netežinskog stepena čvora: {r1}\")\n",
    "\n",
    "# asortativnost na osnovu težinskog stepena čvora\n",
    "r2 = nx.degree_assortativity_coefficient(G, weight='weight')\n",
    "print(f\"Koeficijent asortativnosti na osnovu težinskog stepena čvora: {r2}\")"
   ]
  }
 ],
 "metadata": {
  "kernelspec": {
   "display_name": "Python 3",
   "language": "python",
   "name": "python3"
  },
  "language_info": {
   "codemirror_mode": {
    "name": "ipython",
    "version": 3
   },
   "file_extension": ".py",
   "mimetype": "text/x-python",
   "name": "python",
   "nbconvert_exporter": "python",
   "pygments_lexer": "ipython3",
   "version": "3.8.5"
  }
 },
 "nbformat": 4,
 "nbformat_minor": 4
}
