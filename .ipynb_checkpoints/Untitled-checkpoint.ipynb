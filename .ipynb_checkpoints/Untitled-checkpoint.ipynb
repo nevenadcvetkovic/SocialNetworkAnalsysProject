{
 "cells": [
  {
   "cell_type": "markdown",
   "metadata": {},
   "source": [
    "# Projekat iz predmeta analiza socijalnih mreza\n",
    "\n",
    "\n",
    "## Kvantitativna i kvalitativna Analiza stanja profesionalnog muškog tenisa u periodu od 2018. do 2020. godine\n",
    "\n",
    "\n",
    "Ucitavanje podataka\n"
   ]
  },
  {
   "cell_type": "code",
   "execution_count": 4,
   "metadata": {},
   "outputs": [
    {
     "name": "stdout",
     "output_type": "stream",
     "text": [
      "                          tourney_id                tourney_name surface  \\\n",
      "0                          2018-M020                    Brisbane    Hard   \n",
      "1                          2018-M020                    Brisbane    Hard   \n",
      "2                          2018-M020                    Brisbane    Hard   \n",
      "3                          2018-M020                    Brisbane    Hard   \n",
      "4                          2018-M020                    Brisbane    Hard   \n",
      "...                              ...                         ...     ...   \n",
      "2884                       2018-0605                 Tour Finals    Hard   \n",
      "2885                       2018-0605                 Tour Finals    Hard   \n",
      "2886  2018-M-DC-2018-WG-M-FRA-CRO-01  Davis Cup WG F: FRA vs CRO    Clay   \n",
      "2887  2018-M-DC-2018-WG-M-FRA-CRO-01  Davis Cup WG F: FRA vs CRO    Clay   \n",
      "2888  2018-M-DC-2018-WG-M-FRA-CRO-01  Davis Cup WG F: FRA vs CRO    Clay   \n",
      "\n",
      "      draw_size tourney_level  tourney_date  match_num  winner_id  \\\n",
      "0            32             A      20180101        271     105992   \n",
      "1            32             A      20180101        272     111577   \n",
      "2            32             A      20180101        273     104797   \n",
      "3            32             A      20180101        275     200282   \n",
      "4            32             A      20180101        276     111581   \n",
      "...         ...           ...           ...        ...        ...   \n",
      "2884          8             F      20181112        299     104925   \n",
      "2885          8             F      20181112        300     100644   \n",
      "2886          4             D      20181123          1     106432   \n",
      "2887          4             D      20181123          2     105227   \n",
      "2888          4             D      20181123          4     105227   \n",
      "\n",
      "      winner_seed winner_entry  ... l_1stIn l_1stWon  l_2ndWon l_SvGms  \\\n",
      "0             NaN          NaN  ...    47.0     33.0      19.0    14.0   \n",
      "1             NaN          NaN  ...    41.0     25.0       7.0     9.0   \n",
      "2             NaN          NaN  ...    53.0     37.0      29.0    15.0   \n",
      "3             NaN           WC  ...    43.0     33.0      17.0    11.0   \n",
      "4             NaN            Q  ...    35.0     28.0       5.0     9.0   \n",
      "...           ...          ...  ...     ...      ...       ...     ...   \n",
      "2884          1.0          NaN  ...    33.0     23.0       7.0     8.0   \n",
      "2885          3.0          NaN  ...    34.0     25.0       8.0    10.0   \n",
      "2886          NaN          NaN  ...    64.0     43.0      18.0    15.0   \n",
      "2887          NaN          NaN  ...    57.0     39.0      18.0    15.0   \n",
      "2888          NaN          NaN  ...    58.0     43.0      21.0    15.0   \n",
      "\n",
      "      l_bpSaved  l_bpFaced  winner_rank winner_rank_points loser_rank  \\\n",
      "0           1.0        4.0         47.0             1010.0       52.0   \n",
      "1           7.0       11.0         54.0              890.0       94.0   \n",
      "2          10.0       16.0         63.0              809.0       30.0   \n",
      "3           4.0        6.0        208.0              245.0       44.0   \n",
      "4           0.0        2.0        175.0              299.0       68.0   \n",
      "...         ...        ...          ...                ...        ...   \n",
      "2884        5.0        9.0          1.0             8045.0        6.0   \n",
      "2885        2.0        6.0          5.0             5085.0        1.0   \n",
      "2886        9.0       13.0         12.0             2480.0       40.0   \n",
      "2887        1.0        4.0          7.0             4250.0      259.0   \n",
      "2888        9.0       12.0          7.0             4250.0       32.0   \n",
      "\n",
      "     loser_rank_points  \n",
      "0                909.0  \n",
      "1                593.0  \n",
      "2               1391.0  \n",
      "3               1055.0  \n",
      "4                755.0  \n",
      "...                ...  \n",
      "2884            4310.0  \n",
      "2885            8045.0  \n",
      "2886            1050.0  \n",
      "2887             200.0  \n",
      "2888            1245.0  \n",
      "\n",
      "[2889 rows x 49 columns]\n"
     ]
    }
   ],
   "source": [
    "import pandas as pd\n",
    "\n",
    "dataPath = \"data/atp_matches_2018.csv\"\n",
    "\n",
    "data = pd.read_csv(dataPath) \n",
    "print(data)"
   ]
  },
  {
   "cell_type": "code",
   "execution_count": null,
   "metadata": {},
   "outputs": [],
   "source": []
  }
 ],
 "metadata": {
  "kernelspec": {
   "display_name": "Python 3",
   "language": "python",
   "name": "python3"
  },
  "language_info": {
   "codemirror_mode": {
    "name": "ipython",
    "version": 3
   },
   "file_extension": ".py",
   "mimetype": "text/x-python",
   "name": "python",
   "nbconvert_exporter": "python",
   "pygments_lexer": "ipython3",
   "version": "3.8.5"
  }
 },
 "nbformat": 4,
 "nbformat_minor": 4
}
