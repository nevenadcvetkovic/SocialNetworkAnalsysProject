{
 "cells": [
  {
   "cell_type": "markdown",
   "metadata": {},
   "source": [
    "# Projekat iz predmeta analiza socijalnih mreza\n",
    "\n",
    "\n",
    "## Kvantitativna i kvalitativna Analiza stanja profesionalnog muškog tenisa u periodu od 2018. do 2020. godine\n",
    "\n",
    "\n",
    "Ucitavanje podataka\n"
   ]
  },
  {
   "cell_type": "code",
   "execution_count": 23,
   "metadata": {
    "scrolled": true
   },
   "outputs": [
    {
     "name": "stdout",
     "output_type": "stream",
     "text": [
      "Index(['tourney_id', 'tourney_name', 'surface', 'draw_size', 'tourney_level',\n",
      "       'tourney_date', 'match_num', 'winner_id', 'winner_seed', 'winner_entry',\n",
      "       'winner_name', 'winner_hand', 'winner_ht', 'winner_ioc', 'winner_age',\n",
      "       'loser_id', 'loser_seed', 'loser_entry', 'loser_name', 'loser_hand',\n",
      "       'loser_ht', 'loser_ioc', 'loser_age', 'score', 'best_of', 'round',\n",
      "       'minutes', 'w_ace', 'w_df', 'w_svpt', 'w_1stIn', 'w_1stWon', 'w_2ndWon',\n",
      "       'w_SvGms', 'w_bpSaved', 'w_bpFaced', 'l_ace', 'l_df', 'l_svpt',\n",
      "       'l_1stIn', 'l_1stWon', 'l_2ndWon', 'l_SvGms', 'l_bpSaved', 'l_bpFaced',\n",
      "       'winner_rank', 'winner_rank_points', 'loser_rank', 'loser_rank_points'],\n",
      "      dtype='object')\n"
     ]
    },
    {
     "data": {
      "text/plain": [
       "tourney_id            False\n",
       "tourney_name          False\n",
       "surface               False\n",
       "draw_size             False\n",
       "tourney_level         False\n",
       "tourney_date          False\n",
       "match_num             False\n",
       "winner_id             False\n",
       "winner_seed            True\n",
       "winner_entry           True\n",
       "winner_name           False\n",
       "winner_hand            True\n",
       "winner_ht              True\n",
       "winner_ioc            False\n",
       "winner_age            False\n",
       "loser_id              False\n",
       "loser_seed             True\n",
       "loser_entry            True\n",
       "loser_name            False\n",
       "loser_hand             True\n",
       "loser_ht               True\n",
       "loser_ioc             False\n",
       "loser_age              True\n",
       "score                 False\n",
       "best_of               False\n",
       "round                 False\n",
       "minutes                True\n",
       "w_ace                  True\n",
       "w_df                   True\n",
       "w_svpt                 True\n",
       "w_1stIn                True\n",
       "w_1stWon               True\n",
       "w_2ndWon               True\n",
       "w_SvGms                True\n",
       "w_bpSaved              True\n",
       "w_bpFaced              True\n",
       "l_ace                  True\n",
       "l_df                   True\n",
       "l_svpt                 True\n",
       "l_1stIn                True\n",
       "l_1stWon               True\n",
       "l_2ndWon               True\n",
       "l_SvGms                True\n",
       "l_bpSaved              True\n",
       "l_bpFaced              True\n",
       "winner_rank            True\n",
       "winner_rank_points     True\n",
       "loser_rank             True\n",
       "loser_rank_points      True\n",
       "dtype: bool"
      ]
     },
     "execution_count": 23,
     "metadata": {},
     "output_type": "execute_result"
    }
   ],
   "source": [
    "import pandas as pd\n",
    "\n",
    "dataPath = \"data/atp_matches_2018.csv\"\n",
    "\n",
    "data = pd.read_csv(dataPath) \n",
    "print(data.columns)\n",
    "data.isna().any()"
   ]
  },
  {
   "cell_type": "code",
   "execution_count": 9,
   "metadata": {},
   "outputs": [
    {
     "name": "stdout",
     "output_type": "stream",
     "text": [
      "False\n",
      "False\n"
     ]
    }
   ],
   "source": [
    "#provera da li je match_num kolona koja moze da bude uzeta za id\n",
    "\n",
    "print(data['match_num'].isnull().values.any())\n",
    "print(data['match_num'].is_unique)"
   ]
  },
  {
   "cell_type": "code",
   "execution_count": 10,
   "metadata": {
    "collapsed": true
   },
   "outputs": [
    {
     "name": "stdout",
     "output_type": "stream",
     "text": [
      "                          tourney_id                tourney_name surface  \\\n",
      "0                          2018-M020                    Brisbane    Hard   \n",
      "1                          2018-M020                    Brisbane    Hard   \n",
      "2                          2018-M020                    Brisbane    Hard   \n",
      "3                          2018-M020                    Brisbane    Hard   \n",
      "4                          2018-M020                    Brisbane    Hard   \n",
      "...                              ...                         ...     ...   \n",
      "2884                       2018-0605                 Tour Finals    Hard   \n",
      "2885                       2018-0605                 Tour Finals    Hard   \n",
      "2886  2018-M-DC-2018-WG-M-FRA-CRO-01  Davis Cup WG F: FRA vs CRO    Clay   \n",
      "2887  2018-M-DC-2018-WG-M-FRA-CRO-01  Davis Cup WG F: FRA vs CRO    Clay   \n",
      "2888  2018-M-DC-2018-WG-M-FRA-CRO-01  Davis Cup WG F: FRA vs CRO    Clay   \n",
      "\n",
      "      draw_size tourney_level  tourney_date  match_num  winner_id  \\\n",
      "0            32             A      20180101        271     105992   \n",
      "1            32             A      20180101        272     111577   \n",
      "2            32             A      20180101        273     104797   \n",
      "3            32             A      20180101        275     200282   \n",
      "4            32             A      20180101        276     111581   \n",
      "...         ...           ...           ...        ...        ...   \n",
      "2884          8             F      20181112        299     104925   \n",
      "2885          8             F      20181112        300     100644   \n",
      "2886          4             D      20181123          1     106432   \n",
      "2887          4             D      20181123          2     105227   \n",
      "2888          4             D      20181123          4     105227   \n",
      "\n",
      "      winner_seed winner_entry  ... l_1stWon l_2ndWon  l_SvGms l_bpSaved  \\\n",
      "0             NaN          NaN  ...     33.0     19.0     14.0       1.0   \n",
      "1             NaN          NaN  ...     25.0      7.0      9.0       7.0   \n",
      "2             NaN          NaN  ...     37.0     29.0     15.0      10.0   \n",
      "3             NaN           WC  ...     33.0     17.0     11.0       4.0   \n",
      "4             NaN            Q  ...     28.0      5.0      9.0       0.0   \n",
      "...           ...          ...  ...      ...      ...      ...       ...   \n",
      "2884          1.0          NaN  ...     23.0      7.0      8.0       5.0   \n",
      "2885          3.0          NaN  ...     25.0      8.0     10.0       2.0   \n",
      "2886          NaN          NaN  ...     43.0     18.0     15.0       9.0   \n",
      "2887          NaN          NaN  ...     39.0     18.0     15.0       1.0   \n",
      "2888          NaN          NaN  ...     43.0     21.0     15.0       9.0   \n",
      "\n",
      "      l_bpFaced  winner_rank  winner_rank_points loser_rank loser_rank_points  \\\n",
      "0           4.0         47.0              1010.0       52.0             909.0   \n",
      "1          11.0         54.0               890.0       94.0             593.0   \n",
      "2          16.0         63.0               809.0       30.0            1391.0   \n",
      "3           6.0        208.0               245.0       44.0            1055.0   \n",
      "4           2.0        175.0               299.0       68.0             755.0   \n",
      "...         ...          ...                 ...        ...               ...   \n",
      "2884        9.0          1.0              8045.0        6.0            4310.0   \n",
      "2885        6.0          5.0              5085.0        1.0            8045.0   \n",
      "2886       13.0         12.0              2480.0       40.0            1050.0   \n",
      "2887        4.0          7.0              4250.0      259.0             200.0   \n",
      "2888       12.0          7.0              4250.0       32.0            1245.0   \n",
      "\n",
      "        id  \n",
      "0        0  \n",
      "1        1  \n",
      "2        2  \n",
      "3        3  \n",
      "4        4  \n",
      "...    ...  \n",
      "2884  2884  \n",
      "2885  2885  \n",
      "2886  2886  \n",
      "2887  2887  \n",
      "2888  2888  \n",
      "\n",
      "[2889 rows x 50 columns]\n"
     ]
    }
   ],
   "source": [
    "#dodati automatski generisani id kao dodatnu kolonu\n",
    "data['id'] = data.index\n",
    "print(data)"
   ]
  },
  {
   "cell_type": "code",
   "execution_count": 11,
   "metadata": {},
   "outputs": [
    {
     "name": "stdout",
     "output_type": "stream",
     "text": [
      "<class 'pandas.core.series.Series'>\n",
      "match_num\n",
      "1      67\n",
      "2      67\n",
      "4      67\n",
      "5      35\n",
      "100     3\n",
      "       ..\n",
      "503     1\n",
      "504     1\n",
      "601     1\n",
      "602     1\n",
      "701     1\n",
      "Name: id, Length: 233, dtype: int64\n"
     ]
    }
   ],
   "source": [
    "import numpy as np\n",
    "\n",
    "# Selekcija samo kolona 'match_num' i 'id' i grupisanje po match_num\n",
    "data_grupisano = data[['match_num', 'id']].groupby('match_num')\n",
    "\n",
    "# agg() radi agregaciju, u ovom slučaju po broju elemenata u grupi\n",
    "data_agregirano = data_grupisano['id'].agg(np.size)\n",
    "print(type(data_agregirano))\n",
    "print(data_agregirano)"
   ]
  },
  {
   "cell_type": "code",
   "execution_count": 12,
   "metadata": {},
   "outputs": [
    {
     "name": "stdout",
     "output_type": "stream",
     "text": [
      "match_num\n",
      "1      67\n",
      "2      67\n",
      "4      67\n",
      "5      35\n",
      "100     3\n",
      "       ..\n",
      "296    64\n",
      "297    64\n",
      "298    64\n",
      "299    64\n",
      "300    64\n",
      "Name: id, Length: 200, dtype: int64\n"
     ]
    }
   ],
   "source": [
    "data_nonunique = data_agregirano[data_agregirano>1]\n",
    "print(data_nonunique)"
   ]
  },
  {
   "cell_type": "code",
   "execution_count": 13,
   "metadata": {},
   "outputs": [
    {
     "name": "stdout",
     "output_type": "stream",
     "text": [
      "match_num\n",
      "1    67\n",
      "2    67\n",
      "4    67\n",
      "Name: id, dtype: int64\n",
      "1\n"
     ]
    }
   ],
   "source": [
    "#naci max i index max broja ponovljenih\n",
    "trazeni = data_nonunique[data_nonunique == data_nonunique.max()]\n",
    "print(trazeni)\n",
    "target_match_num = trazeni.keys()[0]\n",
    "print(target_match_num)"
   ]
  },
  {
   "cell_type": "code",
   "execution_count": 21,
   "metadata": {},
   "outputs": [
    {
     "name": "stdout",
     "output_type": "stream",
     "text": [
      "                     tourney_name  winner_id  loser_id\n",
      "266   Davis Cup G1 R1: AUT vs BLR     105589    125802\n",
      "270   Davis Cup G1 R1: CHI vs ECU     111797    105111\n",
      "273   Davis Cup G1 R1: CHN vs NZL     104907    105842\n",
      "276   Davis Cup G1 R1: COL vs BAR     123755    104656\n",
      "279   Davis Cup G1 R1: DOM vs BRA     105497    106252\n",
      "...                           ...        ...       ...\n",
      "2425  Davis Cup WG SF: FRA vs ESP     105332    105807\n",
      "2429  Davis Cup G2 R3: ROU vs POL     105657    111794\n",
      "2433  Davis Cup G2 R3: THA vs LBN     200273    106397\n",
      "2437  Davis Cup G2 R3: URU vs MEX     104655    106250\n",
      "2886   Davis Cup WG F: FRA vs CRO     106432    104871\n",
      "\n",
      "[67 rows x 3 columns]\n",
      "(67, 50)\n"
     ]
    }
   ],
   "source": [
    "#ispisati sve meceve kao match_num imaju odredjeni max\n",
    "data_target = data[data['match_num'] == target_match_num]\n",
    "lista_labela = ['tourney_name', 'winner_id', 'loser_id']\n",
    "print(data_target[lista_labela])\n",
    "print(data_target.shape)"
   ]
  },
  {
   "cell_type": "code",
   "execution_count": null,
   "metadata": {},
   "outputs": [],
   "source": []
  }
 ],
 "metadata": {
  "kernelspec": {
   "display_name": "Python 3",
   "language": "python",
   "name": "python3"
  },
  "language_info": {
   "codemirror_mode": {
    "name": "ipython",
    "version": 3
   },
   "file_extension": ".py",
   "mimetype": "text/x-python",
   "name": "python",
   "nbconvert_exporter": "python",
   "pygments_lexer": "ipython3",
   "version": "3.8.5"
  }
 },
 "nbformat": 4,
 "nbformat_minor": 4
}
