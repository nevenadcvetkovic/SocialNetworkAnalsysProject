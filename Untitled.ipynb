{
 "cells": [
  {
   "cell_type": "markdown",
   "metadata": {},
   "source": [
    "# Projekat iz predmeta analiza socijalnih mreza\n",
    "\n",
    "\n",
    "## Kvantitativna i kvalitativna Analiza stanja profesionalnog muškog tenisa u periodu od 2018. do 2020. godine\n",
    "\n",
    "\n",
    "Ucitavanje podataka\n"
   ]
  },
  {
   "cell_type": "code",
   "execution_count": 1,
   "metadata": {
    "scrolled": true
   },
   "outputs": [
    {
     "data": {
      "text/plain": [
       "ranking_date    False\n",
       "rank            False\n",
       "player          False\n",
       "points           True\n",
       "dtype: bool"
      ]
     },
     "execution_count": 1,
     "metadata": {},
     "output_type": "execute_result"
    }
   ],
   "source": [
    "import pandas as pd\n",
    "\n",
    "dataPath = \"data/atp_matches_2018.csv\"\n",
    "\n",
    "players_dataPath = \"data/atp_players.csv\"\n",
    "\n",
    "player_atp_rankings_dataPath = \"data/atp_rankings_10s.csv\"\n",
    "\n",
    "data = pd.read_csv(dataPath) \n",
    "#print(data.columns)\n",
    "data.isna().any()\n",
    "\n",
    "#players\n",
    "players_data = pd.read_csv(players_dataPath)\n",
    "#print(players_data)\n",
    "\n",
    "#atp ranking\n",
    "players_atp_rank_data = pd.read_csv(player_atp_rankings_dataPath)\n",
    "players_atp_rank_data.isna().any()\n",
    "#points null moze biti\n",
    "#print(players_atp_rank_data)"
   ]
  },
  {
   "cell_type": "code",
   "execution_count": 2,
   "metadata": {},
   "outputs": [
    {
     "name": "stdout",
     "output_type": "stream",
     "text": [
      "False\n",
      "False\n"
     ]
    }
   ],
   "source": [
    "#provera da li je match_num kolona koja moze da bude uzeta za id\n",
    "\n",
    "print(data['match_num'].isnull().values.any())\n",
    "print(data['match_num'].is_unique)"
   ]
  },
  {
   "cell_type": "code",
   "execution_count": 3,
   "metadata": {},
   "outputs": [
    {
     "name": "stdout",
     "output_type": "stream",
     "text": [
      "                          tourney_id                tourney_name surface  \\\n",
      "0                          2018-M020                    Brisbane    Hard   \n",
      "1                          2018-M020                    Brisbane    Hard   \n",
      "2                          2018-M020                    Brisbane    Hard   \n",
      "3                          2018-M020                    Brisbane    Hard   \n",
      "4                          2018-M020                    Brisbane    Hard   \n",
      "...                              ...                         ...     ...   \n",
      "2884                       2018-0605                 Tour Finals    Hard   \n",
      "2885                       2018-0605                 Tour Finals    Hard   \n",
      "2886  2018-M-DC-2018-WG-M-FRA-CRO-01  Davis Cup WG F: FRA vs CRO    Clay   \n",
      "2887  2018-M-DC-2018-WG-M-FRA-CRO-01  Davis Cup WG F: FRA vs CRO    Clay   \n",
      "2888  2018-M-DC-2018-WG-M-FRA-CRO-01  Davis Cup WG F: FRA vs CRO    Clay   \n",
      "\n",
      "      draw_size tourney_level  tourney_date  match_num  winner_id  \\\n",
      "0            32             A      20180101        271     105992   \n",
      "1            32             A      20180101        272     111577   \n",
      "2            32             A      20180101        273     104797   \n",
      "3            32             A      20180101        275     200282   \n",
      "4            32             A      20180101        276     111581   \n",
      "...         ...           ...           ...        ...        ...   \n",
      "2884          8             F      20181112        299     104925   \n",
      "2885          8             F      20181112        300     100644   \n",
      "2886          4             D      20181123          1     106432   \n",
      "2887          4             D      20181123          2     105227   \n",
      "2888          4             D      20181123          4     105227   \n",
      "\n",
      "      winner_seed winner_entry  ... l_1stWon l_2ndWon  l_SvGms l_bpSaved  \\\n",
      "0             NaN          NaN  ...     33.0     19.0     14.0       1.0   \n",
      "1             NaN          NaN  ...     25.0      7.0      9.0       7.0   \n",
      "2             NaN          NaN  ...     37.0     29.0     15.0      10.0   \n",
      "3             NaN           WC  ...     33.0     17.0     11.0       4.0   \n",
      "4             NaN            Q  ...     28.0      5.0      9.0       0.0   \n",
      "...           ...          ...  ...      ...      ...      ...       ...   \n",
      "2884          1.0          NaN  ...     23.0      7.0      8.0       5.0   \n",
      "2885          3.0          NaN  ...     25.0      8.0     10.0       2.0   \n",
      "2886          NaN          NaN  ...     43.0     18.0     15.0       9.0   \n",
      "2887          NaN          NaN  ...     39.0     18.0     15.0       1.0   \n",
      "2888          NaN          NaN  ...     43.0     21.0     15.0       9.0   \n",
      "\n",
      "      l_bpFaced  winner_rank  winner_rank_points loser_rank loser_rank_points  \\\n",
      "0           4.0         47.0              1010.0       52.0             909.0   \n",
      "1          11.0         54.0               890.0       94.0             593.0   \n",
      "2          16.0         63.0               809.0       30.0            1391.0   \n",
      "3           6.0        208.0               245.0       44.0            1055.0   \n",
      "4           2.0        175.0               299.0       68.0             755.0   \n",
      "...         ...          ...                 ...        ...               ...   \n",
      "2884        9.0          1.0              8045.0        6.0            4310.0   \n",
      "2885        6.0          5.0              5085.0        1.0            8045.0   \n",
      "2886       13.0         12.0              2480.0       40.0            1050.0   \n",
      "2887        4.0          7.0              4250.0      259.0             200.0   \n",
      "2888       12.0          7.0              4250.0       32.0            1245.0   \n",
      "\n",
      "        id  \n",
      "0        0  \n",
      "1        1  \n",
      "2        2  \n",
      "3        3  \n",
      "4        4  \n",
      "...    ...  \n",
      "2884  2884  \n",
      "2885  2885  \n",
      "2886  2886  \n",
      "2887  2887  \n",
      "2888  2888  \n",
      "\n",
      "[2889 rows x 50 columns]\n"
     ]
    }
   ],
   "source": [
    "#dodati automatski generisani id kao dodatnu kolonu\n",
    "data['id'] = data.index\n",
    "print(data)\n",
    "\n",
    "#sacuvati u novi fajl\n",
    "import pickle\n",
    "\n",
    "with open(\"data/data2018_cleaned.csv\", 'wb') as file:\n",
    "    pickle.dump(data, file)"
   ]
  },
  {
   "cell_type": "code",
   "execution_count": 4,
   "metadata": {},
   "outputs": [
    {
     "name": "stdout",
     "output_type": "stream",
     "text": [
      "<class 'pandas.core.series.Series'>\n",
      "match_num\n",
      "1      67\n",
      "2      67\n",
      "4      67\n",
      "5      35\n",
      "100     3\n",
      "       ..\n",
      "503     1\n",
      "504     1\n",
      "601     1\n",
      "602     1\n",
      "701     1\n",
      "Name: id, Length: 233, dtype: int64\n"
     ]
    }
   ],
   "source": [
    "import numpy as np\n",
    "\n",
    "# Selekcija samo kolona 'match_num' i 'id' i grupisanje po match_num\n",
    "data_grupisano = data[['match_num', 'id']].groupby('match_num')\n",
    "\n",
    "# agg() radi agregaciju, u ovom slučaju po broju elemenata u grupi\n",
    "data_agregirano = data_grupisano['id'].agg(np.size)\n",
    "print(type(data_agregirano))\n",
    "print(data_agregirano)"
   ]
  },
  {
   "cell_type": "code",
   "execution_count": 5,
   "metadata": {},
   "outputs": [
    {
     "name": "stdout",
     "output_type": "stream",
     "text": [
      "match_num\n",
      "1      67\n",
      "2      67\n",
      "4      67\n",
      "5      35\n",
      "100     3\n",
      "       ..\n",
      "296    64\n",
      "297    64\n",
      "298    64\n",
      "299    64\n",
      "300    64\n",
      "Name: id, Length: 200, dtype: int64\n"
     ]
    }
   ],
   "source": [
    "data_nonunique = data_agregirano[data_agregirano>1]\n",
    "print(data_nonunique)"
   ]
  },
  {
   "cell_type": "code",
   "execution_count": 6,
   "metadata": {},
   "outputs": [
    {
     "name": "stdout",
     "output_type": "stream",
     "text": [
      "match_num\n",
      "1    67\n",
      "2    67\n",
      "4    67\n",
      "Name: id, dtype: int64\n",
      "1\n"
     ]
    }
   ],
   "source": [
    "#naci max i index max broja ponovljenih\n",
    "trazeni = data_nonunique[data_nonunique == data_nonunique.max()]\n",
    "print(trazeni)\n",
    "target_match_num = trazeni.keys()[0]\n",
    "print(target_match_num)"
   ]
  },
  {
   "cell_type": "code",
   "execution_count": 9,
   "metadata": {
    "scrolled": false
   },
   "outputs": [
    {
     "name": "stdout",
     "output_type": "stream",
     "text": [
      "                     tourney_name  winner_id  loser_id  winner_rank  \\\n",
      "266   Davis Cup G1 R1: AUT vs BLR     105589    125802         98.0   \n",
      "270   Davis Cup G1 R1: CHI vs ECU     111797    105111         95.0   \n",
      "273   Davis Cup G1 R1: CHN vs NZL     104907    105842        308.0   \n",
      "276   Davis Cup G1 R1: COL vs BAR     123755    104656        292.0   \n",
      "279   Davis Cup G1 R1: DOM vs BRA     105497    106252        284.0   \n",
      "...                           ...        ...       ...          ...   \n",
      "2425  Davis Cup WG SF: FRA vs ESP     105332    105807         54.0   \n",
      "2429  Davis Cup G2 R3: ROU vs POL     105657    111794         81.0   \n",
      "2433  Davis Cup G2 R3: THA vs LBN     200273    106397        643.0   \n",
      "2437  Davis Cup G2 R3: URU vs MEX     104655    106250         68.0   \n",
      "2886   Davis Cup WG F: FRA vs CRO     106432    104871         12.0   \n",
      "\n",
      "      loser_rank  \n",
      "266        190.0  \n",
      "270        597.0  \n",
      "273        253.0  \n",
      "276          NaN  \n",
      "279        365.0  \n",
      "...          ...  \n",
      "2425        21.0  \n",
      "2429       187.0  \n",
      "2433       453.0  \n",
      "2437       762.0  \n",
      "2886        40.0  \n",
      "\n",
      "[67 rows x 5 columns]\n",
      "                             tourney_id                 tourney_name surface  \\\n",
      "276   2018-M-DC-2018-G1-AM-M-COL-BAR-01  Davis Cup G1 R1: COL vs BAR    Hard   \n",
      "283   2018-M-DC-2018-G1-AO-M-KOR-PAK-01  Davis Cup G1 R1: KOR vs PAK   Grass   \n",
      "327   2018-M-DC-2018-G2-AM-M-ESA-URU-01  Davis Cup G2 R1: ESA vs URU    Hard   \n",
      "348   2018-M-DC-2018-G2-AO-M-PHI-INA-01  Davis Cup G2 R1: PHI vs INA    Hard   \n",
      "352   2018-M-DC-2018-G2-AM-M-PUR-MEX-01  Davis Cup G2 R1: PUR vs MEX    Hard   \n",
      "356  2018-M-DC-2018-G2-EPA-M-ROU-LUX-01  Davis Cup G2 R1: ROU vs LUX    Hard   \n",
      "934   2018-M-DC-2018-G1-AO-M-PAK-UZB-01  Davis Cup G1 R2: PAK vs UZB   Grass   \n",
      "\n",
      "     draw_size tourney_level  tourney_date  match_num  winner_id  winner_seed  \\\n",
      "276          4             D      20180202          1     123755          NaN   \n",
      "283          4             D      20180202          1     103529          NaN   \n",
      "327          4             D      20180203          1     104655          NaN   \n",
      "348          4             D      20180203          1     202165          NaN   \n",
      "352          4             D      20180203          1     105688          NaN   \n",
      "356          4             D      20180203          1     111167          NaN   \n",
      "934          4             D      20180406          1     104797          NaN   \n",
      "\n",
      "    winner_entry  ... l_1stWon l_2ndWon  l_SvGms l_bpSaved  l_bpFaced  \\\n",
      "276          NaN  ...     14.0     10.0      8.0       1.0        5.0   \n",
      "283          NaN  ...     35.0     22.0     14.0       0.0        2.0   \n",
      "327          NaN  ...     26.0      8.0      8.0       4.0        8.0   \n",
      "348          NaN  ...     25.0      4.0      8.0       2.0        6.0   \n",
      "352          NaN  ...     35.0      8.0     11.0       3.0        7.0   \n",
      "356          NaN  ...     41.0     18.0     14.0       3.0        5.0   \n",
      "934          NaN  ...     31.0     12.0      8.0       0.0        1.0   \n",
      "\n",
      "     winner_rank  winner_rank_points loser_rank loser_rank_points   id  \n",
      "276        292.0               168.0        NaN               NaN  276  \n",
      "283          NaN                 NaN      178.0             301.0  283  \n",
      "327         32.0              1380.0        NaN               NaN  327  \n",
      "348       1371.0                 3.0        NaN               NaN  348  \n",
      "352        560.0                54.0        NaN               NaN  352  \n",
      "356          NaN                 NaN      596.0              48.0  356  \n",
      "934         83.0               673.0        NaN               NaN  934  \n",
      "\n",
      "[7 rows x 50 columns]\n"
     ]
    },
    {
     "ename": "KeyError",
     "evalue": "0",
     "output_type": "error",
     "traceback": [
      "\u001b[0;31m---------------------------------------------------------------------------\u001b[0m",
      "\u001b[0;31mKeyError\u001b[0m                                  Traceback (most recent call last)",
      "\u001b[0;32m~/anaconda3/lib/python3.8/site-packages/pandas/core/indexes/base.py\u001b[0m in \u001b[0;36mget_loc\u001b[0;34m(self, key, method, tolerance)\u001b[0m\n\u001b[1;32m   2894\u001b[0m             \u001b[0;32mtry\u001b[0m\u001b[0;34m:\u001b[0m\u001b[0;34m\u001b[0m\u001b[0;34m\u001b[0m\u001b[0m\n\u001b[0;32m-> 2895\u001b[0;31m                 \u001b[0;32mreturn\u001b[0m \u001b[0mself\u001b[0m\u001b[0;34m.\u001b[0m\u001b[0m_engine\u001b[0m\u001b[0;34m.\u001b[0m\u001b[0mget_loc\u001b[0m\u001b[0;34m(\u001b[0m\u001b[0mcasted_key\u001b[0m\u001b[0;34m)\u001b[0m\u001b[0;34m\u001b[0m\u001b[0;34m\u001b[0m\u001b[0m\n\u001b[0m\u001b[1;32m   2896\u001b[0m             \u001b[0;32mexcept\u001b[0m \u001b[0mKeyError\u001b[0m \u001b[0;32mas\u001b[0m \u001b[0merr\u001b[0m\u001b[0;34m:\u001b[0m\u001b[0;34m\u001b[0m\u001b[0;34m\u001b[0m\u001b[0m\n",
      "\u001b[0;32mpandas/_libs/index.pyx\u001b[0m in \u001b[0;36mpandas._libs.index.IndexEngine.get_loc\u001b[0;34m()\u001b[0m\n",
      "\u001b[0;32mpandas/_libs/index.pyx\u001b[0m in \u001b[0;36mpandas._libs.index.IndexEngine.get_loc\u001b[0;34m()\u001b[0m\n",
      "\u001b[0;32mpandas/_libs/hashtable_class_helper.pxi\u001b[0m in \u001b[0;36mpandas._libs.hashtable.PyObjectHashTable.get_item\u001b[0;34m()\u001b[0m\n",
      "\u001b[0;32mpandas/_libs/hashtable_class_helper.pxi\u001b[0m in \u001b[0;36mpandas._libs.hashtable.PyObjectHashTable.get_item\u001b[0;34m()\u001b[0m\n",
      "\u001b[0;31mKeyError\u001b[0m: 0",
      "\nThe above exception was the direct cause of the following exception:\n",
      "\u001b[0;31mKeyError\u001b[0m                                  Traceback (most recent call last)",
      "\u001b[0;32m<ipython-input-9-51783a5bc78e>\u001b[0m in \u001b[0;36m<module>\u001b[0;34m\u001b[0m\n\u001b[1;32m      9\u001b[0m \u001b[0;34m\u001b[0m\u001b[0m\n\u001b[1;32m     10\u001b[0m \u001b[0;31m#istraga o igracima ciji je winner_rank u tabeli matches_2018 null ili loser_rank u tabeli matches_2018 null\u001b[0m\u001b[0;34m\u001b[0m\u001b[0;34m\u001b[0m\u001b[0;34m\u001b[0m\u001b[0m\n\u001b[0;32m---> 11\u001b[0;31m \u001b[0mprint\u001b[0m\u001b[0;34m(\u001b[0m\u001b[0mplayers_data\u001b[0m\u001b[0;34m[\u001b[0m\u001b[0;36m0\u001b[0m\u001b[0;34m]\u001b[0m\u001b[0;34m.\u001b[0m\u001b[0mequals\u001b[0m\u001b[0;34m(\u001b[0m\u001b[0mdata_winOrlos_is_null\u001b[0m\u001b[0;34m[\u001b[0m\u001b[0;34m'winner_id'\u001b[0m\u001b[0;34m]\u001b[0m\u001b[0;34m)\u001b[0m\u001b[0;34m)\u001b[0m\u001b[0;34m\u001b[0m\u001b[0;34m\u001b[0m\u001b[0m\n\u001b[0m\u001b[1;32m     12\u001b[0m \u001b[0mplayers_info_rang_null\u001b[0m \u001b[0;34m=\u001b[0m \u001b[0mplayers_data\u001b[0m\u001b[0;34m.\u001b[0m\u001b[0mloc\u001b[0m\u001b[0;34m[\u001b[0m\u001b[0;34m(\u001b[0m\u001b[0mplayers_data\u001b[0m\u001b[0;34m[\u001b[0m\u001b[0;36m0\u001b[0m\u001b[0;34m]\u001b[0m\u001b[0;34m.\u001b[0m\u001b[0misin\u001b[0m\u001b[0;34m(\u001b[0m\u001b[0mdata_winOrlos_is_null\u001b[0m\u001b[0;34m[\u001b[0m\u001b[0;34m'winner_id'\u001b[0m\u001b[0;34m]\u001b[0m\u001b[0;34m)\u001b[0m\u001b[0;34m)\u001b[0m \u001b[0;34m|\u001b[0m \u001b[0;34m(\u001b[0m\u001b[0mplayers_data\u001b[0m\u001b[0;34m[\u001b[0m\u001b[0;36m0\u001b[0m\u001b[0;34m]\u001b[0m\u001b[0;34m.\u001b[0m\u001b[0misin\u001b[0m\u001b[0;34m(\u001b[0m\u001b[0mdata_winOrlos_is_null\u001b[0m\u001b[0;34m[\u001b[0m\u001b[0;34m'loser_id'\u001b[0m\u001b[0;34m]\u001b[0m\u001b[0;34m)\u001b[0m\u001b[0;34m)\u001b[0m\u001b[0;34m]\u001b[0m\u001b[0;34m\u001b[0m\u001b[0;34m\u001b[0m\u001b[0m\n\u001b[1;32m     13\u001b[0m \u001b[0mprint\u001b[0m\u001b[0;34m(\u001b[0m\u001b[0mplayers_data\u001b[0m\u001b[0;34m.\u001b[0m\u001b[0mloc\u001b[0m\u001b[0;34m[\u001b[0m\u001b[0;34m(\u001b[0m\u001b[0mplayers_data\u001b[0m\u001b[0;34m[\u001b[0m\u001b[0;36m0\u001b[0m\u001b[0;34m]\u001b[0m\u001b[0;34m.\u001b[0m\u001b[0misin\u001b[0m\u001b[0;34m(\u001b[0m\u001b[0mdata_winOrlos_is_null\u001b[0m\u001b[0;34m[\u001b[0m\u001b[0;34m'winner_id'\u001b[0m\u001b[0;34m]\u001b[0m\u001b[0;34m)\u001b[0m\u001b[0;34m)\u001b[0m \u001b[0;34m|\u001b[0m \u001b[0;34m(\u001b[0m\u001b[0mplayers_data\u001b[0m\u001b[0;34m[\u001b[0m\u001b[0;36m0\u001b[0m\u001b[0;34m]\u001b[0m\u001b[0;34m.\u001b[0m\u001b[0misin\u001b[0m\u001b[0;34m(\u001b[0m\u001b[0mdata_winOrlos_is_null\u001b[0m\u001b[0;34m[\u001b[0m\u001b[0;34m'loser_id'\u001b[0m\u001b[0;34m]\u001b[0m\u001b[0;34m)\u001b[0m\u001b[0;34m)\u001b[0m\u001b[0;34m]\u001b[0m\u001b[0;34m)\u001b[0m\u001b[0;34m\u001b[0m\u001b[0;34m\u001b[0m\u001b[0m\n",
      "\u001b[0;32m~/anaconda3/lib/python3.8/site-packages/pandas/core/frame.py\u001b[0m in \u001b[0;36m__getitem__\u001b[0;34m(self, key)\u001b[0m\n\u001b[1;32m   2900\u001b[0m             \u001b[0;32mif\u001b[0m \u001b[0mself\u001b[0m\u001b[0;34m.\u001b[0m\u001b[0mcolumns\u001b[0m\u001b[0;34m.\u001b[0m\u001b[0mnlevels\u001b[0m \u001b[0;34m>\u001b[0m \u001b[0;36m1\u001b[0m\u001b[0;34m:\u001b[0m\u001b[0;34m\u001b[0m\u001b[0;34m\u001b[0m\u001b[0m\n\u001b[1;32m   2901\u001b[0m                 \u001b[0;32mreturn\u001b[0m \u001b[0mself\u001b[0m\u001b[0;34m.\u001b[0m\u001b[0m_getitem_multilevel\u001b[0m\u001b[0;34m(\u001b[0m\u001b[0mkey\u001b[0m\u001b[0;34m)\u001b[0m\u001b[0;34m\u001b[0m\u001b[0;34m\u001b[0m\u001b[0m\n\u001b[0;32m-> 2902\u001b[0;31m             \u001b[0mindexer\u001b[0m \u001b[0;34m=\u001b[0m \u001b[0mself\u001b[0m\u001b[0;34m.\u001b[0m\u001b[0mcolumns\u001b[0m\u001b[0;34m.\u001b[0m\u001b[0mget_loc\u001b[0m\u001b[0;34m(\u001b[0m\u001b[0mkey\u001b[0m\u001b[0;34m)\u001b[0m\u001b[0;34m\u001b[0m\u001b[0;34m\u001b[0m\u001b[0m\n\u001b[0m\u001b[1;32m   2903\u001b[0m             \u001b[0;32mif\u001b[0m \u001b[0mis_integer\u001b[0m\u001b[0;34m(\u001b[0m\u001b[0mindexer\u001b[0m\u001b[0;34m)\u001b[0m\u001b[0;34m:\u001b[0m\u001b[0;34m\u001b[0m\u001b[0;34m\u001b[0m\u001b[0m\n\u001b[1;32m   2904\u001b[0m                 \u001b[0mindexer\u001b[0m \u001b[0;34m=\u001b[0m \u001b[0;34m[\u001b[0m\u001b[0mindexer\u001b[0m\u001b[0;34m]\u001b[0m\u001b[0;34m\u001b[0m\u001b[0;34m\u001b[0m\u001b[0m\n",
      "\u001b[0;32m~/anaconda3/lib/python3.8/site-packages/pandas/core/indexes/base.py\u001b[0m in \u001b[0;36mget_loc\u001b[0;34m(self, key, method, tolerance)\u001b[0m\n\u001b[1;32m   2895\u001b[0m                 \u001b[0;32mreturn\u001b[0m \u001b[0mself\u001b[0m\u001b[0;34m.\u001b[0m\u001b[0m_engine\u001b[0m\u001b[0;34m.\u001b[0m\u001b[0mget_loc\u001b[0m\u001b[0;34m(\u001b[0m\u001b[0mcasted_key\u001b[0m\u001b[0;34m)\u001b[0m\u001b[0;34m\u001b[0m\u001b[0;34m\u001b[0m\u001b[0m\n\u001b[1;32m   2896\u001b[0m             \u001b[0;32mexcept\u001b[0m \u001b[0mKeyError\u001b[0m \u001b[0;32mas\u001b[0m \u001b[0merr\u001b[0m\u001b[0;34m:\u001b[0m\u001b[0;34m\u001b[0m\u001b[0;34m\u001b[0m\u001b[0m\n\u001b[0;32m-> 2897\u001b[0;31m                 \u001b[0;32mraise\u001b[0m \u001b[0mKeyError\u001b[0m\u001b[0;34m(\u001b[0m\u001b[0mkey\u001b[0m\u001b[0;34m)\u001b[0m \u001b[0;32mfrom\u001b[0m \u001b[0merr\u001b[0m\u001b[0;34m\u001b[0m\u001b[0;34m\u001b[0m\u001b[0m\n\u001b[0m\u001b[1;32m   2898\u001b[0m \u001b[0;34m\u001b[0m\u001b[0m\n\u001b[1;32m   2899\u001b[0m         \u001b[0;32mif\u001b[0m \u001b[0mtolerance\u001b[0m \u001b[0;32mis\u001b[0m \u001b[0;32mnot\u001b[0m \u001b[0;32mNone\u001b[0m\u001b[0;34m:\u001b[0m\u001b[0;34m\u001b[0m\u001b[0;34m\u001b[0m\u001b[0m\n",
      "\u001b[0;31mKeyError\u001b[0m: 0"
     ]
    }
   ],
   "source": [
    "#ispisati sve meceve kao match_num imaju odredjeni max\n",
    "data_target = data[data['match_num'] == target_match_num]\n",
    "lista_labela = ['tourney_name', 'winner_id', 'loser_id', 'winner_rank', 'loser_rank']\n",
    "print(data_target[lista_labela])\n",
    "\n",
    "#ispisi sve ciji je ili winner_rank null ili loser_rank null\n",
    "data_winOrlos_is_null = data_target[(data_target['winner_rank'].isnull()) | (data_target['loser_rank'].isnull())]\n",
    "print(data_winOrlos_is_null)\n",
    "\n",
    "#istraga o igracima ciji je winner_rank u tabeli matches_2018 null ili loser_rank u tabeli matches_2018 null\n",
    "print(players_data[0].equals(data_winOrlos_is_null['winner_id']))\n",
    "players_info_rang_null = players_data.loc[(players_data[0].isin(data_winOrlos_is_null['winner_id'])) | (players_data[0].isin(data_winOrlos_is_null['loser_id']))]\n",
    "print(players_data.loc[(players_data[0].isin(data_winOrlos_is_null['winner_id'])) | (players_data[0].isin(data_winOrlos_is_null['loser_id']))])\n",
    "\n",
    "#postoje neki koji uopste nemaju upisanu ruku i datum rodjenja, datum rodjenja format double iako u opisu drugaciji format"
   ]
  },
  {
   "cell_type": "code",
   "execution_count": 10,
   "metadata": {
    "scrolled": false
   },
   "outputs": [
    {
     "name": "stdout",
     "output_type": "stream",
     "text": [
      "        ranking_date  rank  player   points\n",
      "0           20100104     1  103819  10550.0\n",
      "1           20100104     2  104745   9205.0\n",
      "2           20100104     3  104925   8310.0\n",
      "3           20100104     4  104918   7030.0\n",
      "4           20100104     5  105223   6785.0\n",
      "...              ...   ...     ...      ...\n",
      "916291      20191230  1922  134833      1.0\n",
      "916292      20191230  1922  144856      1.0\n",
      "916293      20191230  1922  202326      1.0\n",
      "916294      20191230  1926  207307      1.0\n",
      "916295      20191230  1927  208186      1.0\n",
      "\n",
      "[916296 rows x 4 columns]\n",
      "        ranking_date         rank       points\n",
      "player                                        \n",
      "100644  2.015885e+07   247.552326  2102.796512\n",
      "101389  2.014282e+07  1724.404255     1.000000\n",
      "101397  2.011134e+07  1204.478261     3.000000\n",
      "101404  2.011255e+07  1031.626374     6.571429\n",
      "101549  2.010697e+07  1468.750000     1.000000\n",
      "...              ...          ...          ...\n",
      "209397  2.019123e+07  1581.000000     1.000000\n",
      "209398  2.019122e+07  1581.666667     1.000000\n",
      "209399  2.019122e+07  1725.666667     1.000000\n",
      "209506  2.018140e+07   940.871212          NaN\n",
      "209508  2.015536e+07  1873.288889     1.000000\n",
      "\n",
      "[6180 rows x 3 columns]\n"
     ]
    }
   ],
   "source": [
    "#players_info_rang_null \n",
    "#players_atp_rank_data\n",
    "columns_name_players_atp_rank = ['ranking_date', 'rank', 'player', 'points']\n",
    "print(players_atp_rank_data[columns_name_players_atp_rank])\n",
    "print(players_atp_rank_data[columns_name_players_atp_rank].groupby('player').mean())"
   ]
  },
  {
   "cell_type": "code",
   "execution_count": 11,
   "metadata": {},
   "outputs": [
    {
     "name": "stdout",
     "output_type": "stream",
     "text": [
      "{'105238', '106043', '105633', '105550', '122669', '144895', '202210', '106120', '105477', '126523', '105902', '104269', '126502', '105487', '106045', '103893', '144760', '124014', '105561', '104792', '105063', '104999', '106216', '103819', '105626', '105589', '126207', '104022', '104926', '105357', '104882', '105332', '126205', '104925', '126174', '105349', '105166', '104620', '103529', '105173', '200095', '105614', '104672', '202165', '105376', '103898', '200325', '105932', '104233', '105053', '104527', '106252', '104655', '106121', '104542', '105539', '207415', '105379', '105683', '104251', '127300', '106058', '105992', '103917', '105815', '105373', '106329', '104494', '106071', '105341', '106368', '208029', '104897', '104607', '126204', '122330', '104918', '132283', '105643', '103565', '106177', '134886', '106397', '104259', '106021', '105916', '125802', '138845', '105074', '104665', '106378', '105217', '103333', '106233', '106075', '105223', '133430', '105575', '122078', '106249', '105432', '144719', '104719', '105948', '105023', '200460', '105688', '111513', '106026', '105526', '126535', '104291', '105015', '103781', '105062', '200273', '111511', '122548', '104731', '105819', '111442', '106099', '126610', '144707', '106150', '105430', '105777', '200436', '111460', '104571', '105138', '104198', '105453', '106210', '105747', '126774', '104907', '126094', '126939', '105208', '105933', '105041', '106214', '105499', '106410', '109739', '106005', '126526', '105132', '106078', '105585', '103499', '134217', '111167', '106423', '106110', '105359', '200282', '106186', '103607', '103970', '126530', '127570', '106044', '111815', '111794', '105064', '106065', '104252', '105634', '106000', '200484', '105292', '104797', '126203', '106328', '138846', '124126', '106281', '104745', '106298', '105671', '104534', '105870', '109054', '105227', '104678', '106353', '105578', '144817', '105935', '202358', '104297', '200000', '105554', '136440', '106072', '105936', '104122', '104312', '126652', '105882', '105827', '111577', '106421', '104468', '200059', '105807', '200615', '120792', '106175', '106105', '106283', '123921', '106415', '105436', '134770', '111202', '134868', '104755', '106109', '105806', '111761', '200005', '105812', '105577', '105449', '207139', '111575', '105385', '200075', '123755', '124116', '127143', '106432', '105732', '105051', '133975', '126190', '106218', '106401', '106361', '104586', '105065', '104547', '103852', '105657', '105583', '144750', '111797', '104660', '105216', '111581', '126613', '105311', '106148', '208028', '104919', '110602', '128034', '111456', '120424', '133297', '105899', '105077', '124187', '104898', '100644', '105656', '106250', '105155', '105676', '104545', '105497', '104629', '111197', '105413', '105967', '111200', '104180', '104467', '104871'}\n",
      "{'122669', '105487', '103893', '200611', '105587', '106216', '105357', '104882', '104810', '105332', '104925', '105349', '104620', '105614', '200095', '110536', '104672', '200278', '105932', '126652', '105053', '104527', '104655', '104542', '105992', '103917', '105815', '104494', '126204', '126952', '103565', '105643', '200514', '104665', '103333', '133430', '105575', '122078', '124022', '105467', '205734', '105023', '103781', '111513', '105526', '126535', '122548', '106174', '206642', '106348', '105777', '200436', '104907', '105208', '106214', '104656', '105606', '105585', '103499', '105359', '207421', '200282', '103607', '105757', '200384', '104745', '104593', '111578', '104312', '104890', '200218', '111202', '105806', '111575', '126845', '200045', '105065', '104547', '104660', '111581', '106324', '104919', '110602', '202385', '104898', '144807', '109698', '105497', '105413', '104180', '104871', '105238', '105550', '144895', '105156', '200483', '144760', '111190', '105943', '207400', '111795', '104999', '144826', '104022', '104926', '108763', '126205', '126174', '105166', '103529', '105173', '200031', '106396', '105376', '105961', '111459', '104563', '105683', '106071', '104978', '104897', '105960', '104607', '104932', '144645', '106397', '104259', '105916', '207973', '106398', '105691', '106075', '105223', '105432', '106412', '111460', '104291', '126610', '104571', '105041', '106106', '111576', '105707', '105499', '104947', '105566', '111167', '104597', '106186', '111815', '106065', '206768', '106325', '105634', '106000', '200484', '106328', '104797', '104460', '105671', '132482', '109054', '105227', '202358', '144817', '105163', '200401', '136440', '104122', '106232', '104468', '105807', '123921', '106283', '106393', '134770', '123795', '111761', '105449', '207139', '105385', '123755', '105641', '124116', '105732', '105273', '105085', '104970', '123768', '105657', '103852', '105583', '105216', '138431', '106148', '105311', '200711', '120424', '124187', '106250', '105155', '105676', '111790', '207836', '111153', '126523', '106045', '105561', '105063', '103819', '126125', '122236', '105589', '126207', '207738', '126102', '105649', '103898', '104233', '106252', '106121', '105030', '105539', '105379', '200624', '106058', '105373', '103990', '105341', '104918', '132283', '202462', '117356', '106378', '111192', '106249', '207972', '200175', '144719', '202090', '104719', '105948', '126127', '105952', '111442', '206000', '207479', '106099', '105819', '105430', '105453', '105138', '105747', '126774', '126094', '105933', '106005', '105842', '126526', '105132', '144776', '106423', '106167', '108739', '126530', '111794', '104252', '106298', '105870', '104678', '104308', '106198', '105554', '105882', '200059', '200615', '106105', '105436', '106109', '105577', '106432', '105051', '106218', '106220', '134114', '111515', '200620', '128034', '124079', '134120', '100644', '105656', '104545', '111197', '111200', '106043', '105613', '105633', '105477', '106120', '200250', '105902', '104269', '127339', '105226', '124014', '105502', '121411', '105626', '105299', '105479', '200325', '106329', '106368', '122330', '106177', '126120', '106228', '125802', '105074', '105217', '106233', '111805', '105111', '105015', '200460', '106078', '106026', '111511', '105062', '104731', '144707', '105147', '106150', '104198', '106210', '106426', '109739', '106296', '106110', '103970', '202382', '105064', '106044', '207176', '126340', '105985', '126203', '105441', '138846', '202130', '106281', '111574', '104534', '104297', '200000', '106072', '105936', '106391', '200574', '105827', '111577', '106421', '207971', '126846', '106175', '106415', '134868', '104755', '200005', '105812', '127143', '106333', '133975', '106401', '106138', '104586', '106361', '105515', '144750', '111797', '200274', '122109', '105493', '200619', '133297', '111456', '105899', '105077', '104629', '105967', '104792', '104467'}\n",
      "Postoji 419 različitih igrača\n",
      "Index(['tourney_id', 'tourney_name', 'surface', 'draw_size', 'tourney_level',\n",
      "       'tourney_date', 'match_num', 'winner_id', 'winner_seed', 'winner_entry',\n",
      "       'winner_name', 'winner_hand', 'winner_ht', 'winner_ioc', 'winner_age',\n",
      "       'loser_id', 'loser_seed', 'loser_entry', 'loser_name', 'loser_hand',\n",
      "       'loser_ht', 'loser_ioc', 'loser_age', 'score', 'best_of', 'round',\n",
      "       'minutes', 'w_ace', 'w_df', 'w_svpt', 'w_1stIn', 'w_1stWon', 'w_2ndWon',\n",
      "       'w_SvGms', 'w_bpSaved', 'w_bpFaced', 'l_ace', 'l_df', 'l_svpt',\n",
      "       'l_1stIn', 'l_1stWon', 'l_2ndWon', 'l_SvGms', 'l_bpSaved', 'l_bpFaced',\n",
      "       'winner_rank', 'winner_rank_points', 'loser_rank', 'loser_rank_points',\n",
      "       'id'],\n",
      "      dtype='object')\n"
     ]
    }
   ],
   "source": [
    "import networkx as nx\n",
    "\n",
    "list_winner = set(data['winner_id'].apply(str).unique())\n",
    "print(list_winner)\n",
    "list_loser = set(data['loser_id'].apply(str).unique())\n",
    "print(list_loser)\n",
    "\n",
    "skup_id = list_winner.union(list_loser)\n",
    "print(f\"Postoji { len(skup_id) } različitih igrača\") # formatiranje ispisa pomoću fstringa\n",
    "\n",
    "print(data.columns)"
   ]
  },
  {
   "cell_type": "code",
   "execution_count": 12,
   "metadata": {},
   "outputs": [],
   "source": [
    "import numpy as np\n",
    "import matplotlib.pyplot as plt\n",
    "\n",
    "data_reduced = data[['winner_id', 'winner_name', 'winner_ioc', 'loser_id', 'loser_name', 'loser_ioc', 'id']]\n",
    "\n",
    "G = nx.Graph() # pravi praznu mrežu\n",
    "G.add_nodes_from(skup_id) # dodaje čvorove čije su labele u \"skup_id\"\n",
    "\n",
    "for _, winner_id, winner_name, winner_ioc, loser_id, loser_name, loser_ioc, _ in data_reduced.itertuples():\n",
    "    winner_id_string = str(winner_id)\n",
    "    loser_id_string = str(loser_id)\n",
    "    if (winner_id_string, loser_id_string) in G.edges:\n",
    "        G.edges[winner_id_string, loser_id_string]['weight'] += 1\n",
    "    else:\n",
    "        G.add_edge(winner_id_string, loser_id_string, weight=1)\n",
    "        winner_attrs = {winner_id_string: {'name': winner_name, 'country': winner_ioc}}\n",
    "        loser_attrs = {loser_id_string: {'name': loser_name, 'country': loser_ioc}}\n",
    "        nx.set_node_attributes(G, winner_attrs)\n",
    "        nx.set_node_attributes(G, loser_attrs)\n",
    "        \n"
   ]
  },
  {
   "cell_type": "code",
   "execution_count": 13,
   "metadata": {},
   "outputs": [
    {
     "name": "stdout",
     "output_type": "stream",
     "text": [
      "tourney_id             object\n",
      "tourney_name           object\n",
      "surface                object\n",
      "draw_size               int64\n",
      "tourney_level          object\n",
      "tourney_date            int64\n",
      "match_num               int64\n",
      "winner_id               int64\n",
      "winner_seed           float64\n",
      "winner_entry           object\n",
      "winner_name            object\n",
      "winner_hand            object\n",
      "winner_ht             float64\n",
      "winner_ioc             object\n",
      "winner_age            float64\n",
      "loser_id                int64\n",
      "loser_seed            float64\n",
      "loser_entry            object\n",
      "loser_name             object\n",
      "loser_hand             object\n",
      "loser_ht              float64\n",
      "loser_ioc              object\n",
      "loser_age             float64\n",
      "score                  object\n",
      "best_of                 int64\n",
      "round                  object\n",
      "minutes               float64\n",
      "w_ace                 float64\n",
      "w_df                  float64\n",
      "w_svpt                float64\n",
      "w_1stIn               float64\n",
      "w_1stWon              float64\n",
      "w_2ndWon              float64\n",
      "w_SvGms               float64\n",
      "w_bpSaved             float64\n",
      "w_bpFaced             float64\n",
      "l_ace                 float64\n",
      "l_df                  float64\n",
      "l_svpt                float64\n",
      "l_1stIn               float64\n",
      "l_1stWon              float64\n",
      "l_2ndWon              float64\n",
      "l_SvGms               float64\n",
      "l_bpSaved             float64\n",
      "l_bpFaced             float64\n",
      "winner_rank           float64\n",
      "winner_rank_points    float64\n",
      "loser_rank            float64\n",
      "loser_rank_points     float64\n",
      "id                      int64\n",
      "dtype: object\n",
      "[('122669', '105156', 1), ('122669', '126204', 1), ('122669', '106250', 1), ('105487', '111797', 1), ('105487', '105583', 1), ('105487', '105311', 1), ('105487', '144817', 1), ('105487', '105132', 1), ('105487', '104792', 1), ('103893', '104792', 2), ('103893', '111442', 1), ('103893', '105077', 1), ('103893', '106421', 1), ('103893', '106000', 1), ('103893', '106148', 1), ('103893', '104999', 1), ('103893', '105732', 1), ('103893', '105932', 1), ('103893', '117356', 1), ('103893', '105477', 1), ('103893', '111513', 2), ('103893', '104269', 1), ('103893', '104731', 1), ('103893', '105806', 1), ('103893', '105539', 1), ('103893', '106177', 1), ('103893', '106378', 1), ('103893', '105550', 1), ('200611', '104792', 1), ('105587', '128034', 1), ('106216', '105430', 1), ('106216', '106281', 1), ('106216', '111442', 1), ('106216', '106401', 1), ('106216', '106072', 1), ('106216', '104665', 1), ('106216', '106148', 1), ('106216', '105065', 1), ('105357', '105166', 1), ('105357', '105777', 1), ('105357', '200615', 2), ('105357', '104180', 2), ('105357', '106432', 1), ('105357', '106000', 1), ('105357', '105216', 1), ('105357', '105332', 1), ('105357', '105376', 1), ('105357', '105453', 1), ('105357', '105430', 1), ('105357', '106298', 1), ('105357', '120424', 1), ('105357', '105379', 1), ('105357', '106065', 2), ('105357', '105583', 1), ('105357', '133430', 1), ('105357', '105550', 1), ('105357', '104925', 2), ('105357', '104919', 1), ('105357', '105882', 1), ('105357', '105683', 1), ('105357', '105819', 1), ('105357', '105643', 1), ('105357', '105526', 2), ('105357', '106233', 1), ('105357', '106121', 1), ('105357', '202385', 1), ('105357', '104926', 1), ('105357', '105062', 1), ('105357', '103819', 1), ('105357', '126774', 1), ('105357', '105932', 1), ('104882', '104898', 1), ('104882', '104755', 1), ('104882', '111513', 1), ('104882', '105657', 1), ('104882', '105376', 1), ('104882', '104999', 1), ('104882', '105539', 1), ('104882', '105815', 1), ('104882', '104571', 1), ('104882', '104792', 1), ('104810', '200059', 1), ('105332', '105916', 3), ('105332', '104898', 1), ('105332', '104731', 1), ('105332', '105379', 1), ('105332', '104919', 1), ('105332', '104180', 1), ('105332', '200282', 2), ('105332', '104198', 1), ('105332', '104999', 3), ('105332', '106298', 2), ('105332', '106415', 1), ('105332', '106432', 1), ('105332', '106283', 1), ('105332', '104925', 1), ('105332', '105936', 1), ('105332', '104468', 1), ('105332', '103852', 1), ('105332', '111797', 2), ('105332', '105807', 3), ('105332', '133430', 2), ('105332', '104755', 2), ('105332', '106043', 1), ('105332', '105227', 1), ('105332', '106148', 1), ('105332', '105453', 2), ('105332', '126203', 1), ('105332', '104607', 1), ('105332', '105449', 1), ('105332', '103819', 2), ('105332', '105359', 1), ('105332', '105223', 1), ('105332', '104571', 1), ('105332', '111577', 1), ('105332', '104745', 1), ('105332', '103970', 1), ('105332', '105676', 1), ('105332', '105526', 1), ('105332', '110602', 1), ('105332', '111460', 1), ('105332', '120424', 1), ('105332', '106078', 1), ('104925', '105385', 1), ('104925', '104792', 1), ('104925', '105077', 2), ('104925', '111202', 1), ('104925', '106121', 1), ('104925', '105583', 1), ('104925', '106432', 2), ('104925', '106233', 1), ('104925', '105373', 1), ('104925', '105453', 4), ('104925', '106378', 2), ('104925', '105238', 1), ('104925', '105932', 1), ('104925', '104745', 2), ('104925', '104297', 1), ('104925', '144719', 1), ('104925', '105138', 1), ('104925', '104269', 1), ('104925', '106065', 2), ('104925', '105777', 2), ('104925', '105173', 2), ('104925', '104871', 2), ('104925', '105227', 4), ('104925', '105815', 2), ('104925', '104547', 1), ('104925', '111575', 2), ('104925', '104731', 3), ('104925', '105806', 1), ('104925', '105166', 1), ('104925', '126774', 1), ('104925', '105449', 1), ('104925', '105683', 1), ('104925', '103819', 2), ('104925', '105916', 1), ('104925', '104755', 1), ('104925', '105311', 2), ('104925', '105223', 1), ('104925', '100644', 3), ('104925', '106000', 1), ('104925', '104545', 1), ('105349', '104291', 1), ('105349', '121411', 1), ('105349', '105827', 1), ('105349', '105575', 1), ('105349', '105747', 1), ('105349', '105633', 1), ('104620', '106249', 1), ('104620', '105643', 1), ('104620', '126207', 1), ('104620', '104745', 1), ('104620', '104655', 1), ('104620', '104926', 1), ('104620', '106148', 1), ('104620', '106043', 1), ('104620', '105967', 1), ('200095', '105985', 1), ('200095', '104926', 1), ('105614', '105341', 1), ('105614', '105216', 1), ('105614', '106378', 1), ('105614', '103970', 1), ('105614', '100644', 1), ('105614', '109739', 1), ('105614', '105807', 1), ('105614', '104545', 2), ('105614', '106071', 1), ('105614', '106401', 1), ('105614', '106432', 1), ('105614', '105657', 1), ('110536', '104542', 1), ('110536', '106071', 1), ('104672', '105216', 1), ('104672', '106298', 1), ('202165', '207176', 1), ('202165', '105812', 1), ('200278', '104233', 1), ('200278', '126526', 1), ('105932', '105341', 2), ('105932', '106432', 2), ('105932', '105589', 1), ('105932', '105074', 1), ('105932', '106378', 2), ('105932', '144760', 1), ('105932', '104467', 2), ('105932', '104534', 1), ('105932', '105449', 1), ('105932', '111577', 1), ('105932', '105815', 1), ('105932', '104731', 3), ('105932', '126610', 2), ('105932', '105311', 1), ('105932', '133430', 2), ('105932', '104312', 1), ('105932', '104871', 1), ('105932', '104792', 1), ('105932', '111795', 1), ('105932', '104468', 2), ('105932', '105216', 1), ('105932', '200484', 1), ('105932', '106148', 1), ('105932', '105583', 2), ('105932', '106210', 1), ('105932', '104259', 1), ('105932', '104655', 1), ('105932', '105807', 1), ('105932', '111797', 1), ('105932', '104919', 1), ('105932', '111513', 1), ('105932', '105379', 1), ('105932', '106058', 2), ('105932', '105550', 1), ('105932', '104745', 1), ('105932', '104932', 1), ('105932', '200005', 1), ('105932', '105453', 1), ('105932', '105023', 1), ('105932', '104269', 1), ('105932', '104291', 1), ('105932', '105223', 1), ('105932', '100644', 1), ('126652', '105023', 1), ('126652', '105992', 1), ('126652', '111815', 1), ('126652', '105208', 1), ('105053', '106329', 1), ('105053', '104571', 1), ('105053', '105138', 1), ('105053', '106043', 1), ('104527', '105575', 1), ('104527', '105815', 1), ('104527', '105373', 2), ('104527', '104678', 1), ('104527', '105806', 1), ('104527', '134868', 1), ('104527', '125802', 1), ('104527', '105449', 1), ('104527', '111577', 1), ('104527', '105916', 3), ('104527', '104198', 1), ('104527', '111815', 1), ('104527', '105023', 1), ('104527', '104918', 1), ('104527', '105777', 2), ('104527', '105341', 1), ('104527', '105385', 1), ('104527', '106401', 1), ('104527', '104745', 1), ('104527', '106043', 1), ('104527', '105453', 1), ('104527', '103819', 1), ('104527', '200005', 1), ('104527', '105683', 1), ('104527', '105379', 1), ('104527', '111575', 1), ('104527', '106000', 1), ('104527', '126203', 1), ('104527', '133430', 1), ('104527', '106432', 1), ('104655', '106121', 1), ('104655', '111575', 1), ('104655', '104022', 1), ('104655', '105992', 1), ('104655', '108763', 1), ('104655', '105656', 1), ('104655', '104792', 1), ('104655', '106329', 1), ('104655', '105671', 1), ('104655', '111797', 1), ('104655', '124116', 1), ('104655', '104919', 1), ('104655', '104926', 1), ('104655', '133430', 1), ('104655', '106233', 1), ('104655', '111202', 1), ('104655', '105961', 1), ('104655', '106175', 1), ('104655', '104269', 1), ('104655', '106120', 1), ('104655', '105173', 1), ('104655', '106058', 1), ('104655', '105077', 1), ('104655', '104545', 1), ('104655', '106065', 1), ('104655', '105379', 1), ('104655', '104731', 1), ('104655', '111513', 1), ('104655', '105916', 1), ('104655', '106250', 1), ('104655', '126204', 1), ('104542', '133430', 1), ('104542', '106401', 1), ('104542', '103917', 1), ('104542', '126094', 1), ('104542', '106298', 1), ('104542', '105376', 1), ('104542', '105550', 1), ('104542', '104792', 1), ('104542', '105023', 1), ('104542', '105683', 1), ('104542', '105227', 1), ('207415', '207400', 1), ('105992', '104919', 1), ('105992', '105870', 1), ('105992', '104797', 1), ('105992', '200282', 1), ('105992', '106401', 1), ('105992', '104534', 1), ('105992', '105227', 2), ('105992', '105385', 1), ('105992', '103333', 1), ('105992', '124187', 1), ('105992', '104545', 3), ('105992', '106043', 1), ('105992', '100644', 1), ('105992', '105643', 1), ('105992', '105311', 1), ('105992', '105074', 1), ('105992', '200175', 1), ('105992', '126203', 1), ('105992', '104198', 1), ('105992', '105216', 1), ('105992', '126207', 1), ('105992', '109739', 1), ('105992', '106378', 1), ('105992', '106148', 1), ('105992', '105173', 1), ('105992', '103917', 1), ('105992', '105902', 1), ('105992', '105041', 1), ('105992', '111202', 1), ('105992', '111815', 1), ('105992', '111456', 1), ('105992', '125802', 1), ('105992', '127339', 1), ('105992', '104468', 1), ('105992', '105936', 1), ('105992', '106421', 1), ('105992', '104731', 1), ('105992', '105657', 1), ('103917', '104460', 1), ('103917', '105676', 1), ('103917', '126774', 1), ('103917', '104180', 1), ('103917', '125802', 1), ('103917', '106026', 1), ('103917', '105223', 1), ('103917', '105359', 1), ('103917', '144895', 1), ('103917', '100644', 1), ('103917', '104719', 1), ('103917', '126207', 1), ('105815', '104468', 1), ('105815', '111202', 2), ('105815', '104871', 1), ('105815', '109739', 1), ('105815', '106233', 1), ('105815', '106148', 1), ('105815', '104926', 2), ('105815', '104297', 1), ('105815', '103970', 1), ('105815', '104198', 1), ('105815', '106044', 1), ('105815', '105550', 1), ('105815', '103333', 1), ('105815', '105449', 1), ('105815', '104259', 1), ('105815', '104291', 1), ('105815', '126207', 1), ('105815', '133430', 1), ('105815', '104890', 1), ('105815', '105806', 1), ('105815', '128034', 1), ('105815', '105575', 1), ('105815', '136440', 1), ('105815', '104678', 1), ('105815', '105062', 1), ('105815', '105777', 1), ('105815', '106298', 1), ('105815', '106214', 1), ('105815', '104545', 1), ('104494', '104467', 1), ('104494', '128034', 1), ('104494', '111794', 1), ('208029', '126174', 1), ('126952', '105526', 1), ('126952', '103529', 1), ('103565', '105077', 2), ('103565', '105051', 1), ('105643', '111581', 1), ('105643', '104180', 1), ('105643', '104252', 1), ('105643', '105671', 1), ('105643', '104198', 2), ('105643', '105379', 1), ('105643', '106210', 1), ('105643', '106043', 2), ('105643', '106148', 1), ('105643', '103819', 1), ('105643', '105373', 1), ('105643', '105077', 2), ('105643', '104999', 1), ('105643', '106233', 1), ('105643', '105430', 1), ('105643', '105064', 1), ('105643', '105807', 1), ('105643', '105732', 1), ('105643', '103852', 2), ('105643', '104547', 1), ('105643', '104926', 1), ('105643', '104797', 1), ('200514', '110602', 1), ('104665', '111797', 1), ('104665', '105882', 1), ('104665', '105589', 1), ('104665', '106233', 1), ('104665', '125802', 1), ('104665', '105063', 1), ('104665', '106072', 1), ('104665', '105311', 1), ('104665', '106378', 1), ('104665', '105138', 1), ('104665', '126774', 1), ('104665', '103852', 1), ('104665', '104926', 1), ('103333', '111513', 1), ('103333', '105216', 1), ('103333', '104312', 1), ('103333', '124014', 1), ('103333', '144895', 2), ('103333', '111577', 1), ('103333', '105023', 1), ('103333', '133430', 1), ('103333', '109739', 1), ('103333', '105577', 1), ('103333', '106121', 1), ('103333', '106045', 1), ('103333', '106401', 1), ('103333', '103990', 1), ('103333', '105138', 1), ('103333', '104259', 1), ('103333', '105376', 1), ('103333', '104898', 1), ('103333', '104022', 1), ('103333', '105526', 1), ('103333', '200282', 1), ('103333', '104534', 1), ('103333', '105385', 1), ('103333', '111200', 1), ('133430', '106378', 3), ('133430', '104297', 1), ('133430', '105223', 1), ('133430', '126774', 2), ('133430', '105634', 1), ('133430', '106432', 2), ('133430', '111577', 2), ('133430', '126203', 1), ('133430', '126207', 2), ('133430', '105453', 2), ('133430', '106233', 1), ('133430', '105575', 1), ('133430', '104678', 1), ('133430', '106000', 1), ('133430', '105023', 1), ('133430', '105683', 2), ('133430', '100644', 1), ('133430', '104607', 1), ('133430', '104898', 3), ('133430', '104745', 1), ('133430', '109739', 1), ('133430', '105432', 1), ('133430', '104180', 1), ('133430', '104999', 1), ('133430', '104871', 2), ('133430', '106421', 2), ('133430', '104926', 1), ('133430', '200000', 1), ('133430', '104312', 1), ('133430', '104731', 1), ('133430', '104629', 1), ('133430', '126610', 1), ('133430', '105373', 1), ('133430', '125802', 1), ('133430', '106415', 1), ('133430', '111202', 1), ('133430', '105526', 1), ('133430', '105166', 1), ('133430', '105208', 1), ('133430', '105227', 1), ('133430', '104755', 1), ('105575', '106109', 1), ('105575', '105173', 3), ('105575', '144807', 1), ('105575', '103898', 1), ('105575', '111575', 1), ('105575', '105430', 2), ('105575', '200325', 1), ('105575', '100644', 1), ('105575', '105539', 1), ('105575', '111456', 1), ('105575', '104871', 1), ('105575', '105065', 1), ('105575', '111202', 1), ('105575', '109739', 1), ('105575', '126774', 1), ('105575', '104797', 1), ('105575', '105379', 1), ('105575', '106421', 1), ('122078', '105967', 1), ('122078', '106391', 1), ('122078', '105227', 1), ('124022', '200273', 1), ('124022', '133975', 1), ('105467', '105499', 1), ('205734', '104122', 1), ('105023', '106210', 1), ('105023', '103852', 2), ('105023', '105916', 1), ('105023', '111513', 1), ('105023', '104022', 1), ('105023', '105173', 2), ('105023', '104731', 1), ('105023', '126203', 3), ('105023', '105051', 1), ('105023', '104999', 1), ('105023', '106026', 1), ('105023', '105683', 1), ('105023', '105430', 1), ('105023', '105074', 1), ('105023', '105550', 3), ('105023', '105376', 1), ('105023', '126207', 1), ('105023', '104468', 1), ('105023', '105227', 2), ('105023', '111442', 1), ('105023', '104660', 1), ('105023', '104792', 1), ('105023', '106412', 1), ('105023', '106078', 1), ('105023', '106043', 2), ('105023', '104545', 1), ('105023', '111575', 2), ('105023', '106121', 1), ('105023', '104312', 1), ('105023', '105453', 1), ('105023', '106233', 1), ('103781', '105539', 1), ('103781', '105683', 1), ('103781', '104731', 1), ('111513', '105657', 1), ('111513', '105062', 1), ('111513', '125802', 1), ('111513', '105065', 1), ('111513', '104797', 2), ('111513', '104312', 1), ('111513', '104291', 1), ('111513', '106148', 1), ('111513', '105373', 1), ('111513', '109739', 1), ('111513', '106065', 1), ('111513', '106432', 1), ('111513', '105634', 1), ('111513', '105138', 1), ('111513', '106121', 1), ('111513', '126205', 1), ('111513', '104919', 1), ('111513', '104755', 1), ('111513', '106368', 1), ('111513', '105379', 1), ('111513', '126203', 1), ('105526', '104607', 1), ('105526', '104792', 1), ('105526', '106000', 1), ('105526', '103819', 3), ('105526', '106401', 1), ('105526', '104678', 1), ('105526', '104890', 1), ('105526', '105216', 2), ('105526', '200282', 1), ('105526', '144707', 1), ('105526', '106072', 1), ('105526', '104926', 1), ('105526', '100644', 2), ('105526', '105132', 1), ('105526', '122330', 1), ('105526', '106065', 2), ('105526', '109054', 1), ('105526', '120424', 1), ('105526', '105657', 1), ('105526', '106432', 1), ('105526', '105539', 1), ('105526', '105449', 1), ('105526', '200484', 1), ('105526', '105138', 1), ('105526', '104919', 1), ('105526', '106121', 1), ('105526', '111797', 1), ('105526', '105065', 1), ('105526', '103898', 1), ('105526', '105676', 1), ('105526', '126094', 1), ('105526', '106233', 1), ('105526', '105227', 1), ('105526', '104871', 1), ('105526', '106005', 1), ('105526', '103852', 1), ('105526', '104755', 1), ('126535', '105613', 1), ('126535', '106298', 1), ('126535', '126774', 1), ('122548', '144750', 1), ('122548', '105707', 1), ('122548', '106210', 1), ('106174', '105933', 1), ('206642', '202210', 1), ('106348', '105173', 1), ('105777', '106378', 2), ('105777', '106401', 2), ('105777', '110602', 1), ('105777', '111456', 1), ('105777', '126094', 2), ('105777', '105216', 1), ('105777', '105936', 1), ('105777', '105676', 2), ('105777', '103819', 1), ('105777', '104291', 2), ('105777', '104269', 3), ('105777', '109739', 1), ('105777', '104871', 1), ('105777', '105732', 1), ('105777', '104259', 1), ('105777', '104745', 1), ('105777', '104468', 1), ('105777', '105807', 1), ('105777', '105683', 1), ('105777', '105453', 1), ('105777', '105633', 1), ('105777', '111577', 1), ('105777', '106000', 1), ('105777', '126207', 1), ('105777', '104731', 1), ('105777', '104999', 1), ('105777', '105583', 1), ('105777', '105062', 1), ('105777', '105138', 1), ('105777', '105227', 1), ('200436', '106333', 1), ('200436', '104022', 1), ('200436', '106210', 1), ('200436', '104586', 1), ('104907', '105842', 1), ('104907', '200059', 1), ('105208', '104678', 1), ('105208', '106298', 1), ('105208', '104180', 1), ('105208', '126610', 1), ('105208', '106000', 1), ('105208', '100644', 1), ('105208', '105453', 1), ('105208', '144707', 1), ('105208', '106058', 2), ('105208', '104545', 1), ('105208', '126774', 1), ('105208', '104468', 1), ('106214', '126610', 1), ('106214', '105132', 1), ('104656', '123755', 1), ('105606', '138846', 1), ('105585', '105030', 1), ('105585', '111576', 1), ('105585', '106421', 1), ('103499', '111805', 1), ('103499', '122109', 1), ('103499', '104797', 1), ('105359', '104660', 1), ('105359', '105065', 1), ('105359', '104269', 1), ('207421', '106397', 1), ('200282', '105449', 2), ('200282', '105683', 1), ('200282', '111581', 1), ('200282', '104269', 1), ('200282', '106000', 2), ('200282', '103852', 2), ('200282', '106421', 2), ('200282', '104607', 1), ('200282', '100644', 3), ('200282', '105223', 1), ('200282', '106415', 1), ('200282', '105671', 1), ('200282', '106378', 2), ('200282', '105062', 1), ('200282', '106065', 1), ('200282', '105732', 2), ('200282', '104745', 1), ('200282', '128034', 1), ('200282', '104545', 1), ('200282', '105577', 2), ('200282', '111202', 1), ('200282', '104918', 1), ('200282', '126094', 2), ('200282', '106121', 1), ('200282', '126207', 1), ('200282', '105227', 1), ('200282', '110602', 1), ('200282', '106233', 1), ('200282', '105216', 1), ('200282', '111456', 1), ('200282', '104468', 1), ('200282', '126774', 2), ('200282', '104259', 1), ('200282', '132482', 1), ('200282', '126203', 1), ('200282', '144719', 1), ('103607', '104755', 1), ('103607', '104745', 1), ('103607', '105064', 1), ('103607', '105589', 1), ('103607', '105539', 1), ('103607', '106044', 2), ('103607', '104919', 1), ('103607', '105449', 1), ('103607', '106368', 1), ('105757', '111197', 1), ('127570', '206768', 1), ('200384', '105882', 1), ('105292', '105985', 1), ('105292', '106252', 1), ('104745', '104919', 1), ('104745', '106000', 2), ('104745', '106043', 3), ('104745', '105227', 2), ('104745', '104259', 1), ('104745', '100644', 2), ('104745', '105379', 1), ('104745', '111575', 3), ('104745', '106233', 4), ('104745', '105453', 1), ('104745', '106148', 1), ('104745', '104198', 1), ('104745', '105373', 1), ('104745', '105676', 1), ('104745', '126774', 2), ('104745', '104792', 1), ('104745', '104926', 1), ('104745', '105550', 1), ('104745', '104755', 1), ('104745', '109739', 1), ('104745', '105223', 3), ('104745', '104534', 1), ('104745', '105062', 1), ('104745', '106210', 1), ('104745', '103970', 1), ('104745', '105577', 1), ('104593', '106210', 1), ('111578', '105550', 1), ('105578', '207971', 1), ('104312', '144895', 1), ('104312', '106415', 1), ('104312', '106378', 3), ('104312', '105216', 1), ('104312', '104022', 2), ('104312', '104180', 1), ('104312', '105311', 2), ('104312', '100644', 1), ('104312', '106421', 2), ('104312', '103819', 1), ('104312', '106298', 2), ('104312', '105430', 1), ('104312', '104198', 1), ('104312', '105453', 1), ('104312', '105341', 1), ('104312', '106065', 2), ('104312', '126523', 1), ('104312', '105376', 1), ('104312', '104755', 1), ('104312', '111456', 1), ('104312', '126610', 1), ('104312', '104252', 1), ('104312', '106432', 1), ('104312', '104797', 1), ('104312', '105441', 1), ('104312', '104731', 1), ('104312', '111797', 1), ('104312', '105077', 1), ('104312', '105916', 1), ('104312', '105173', 2), ('104312', '105373', 1), ('104312', '105732', 1), ('104312', '105936', 1), ('104312', '106121', 1), ('104890', '105806', 1), ('104890', '105238', 1), ('104890', '106043', 1), ('104890', '105379', 1), ('104890', '106148', 1), ('104890', '104999', 1), ('104890', '111575', 1), ('200218', '104586', 1), ('200218', '106210', 1), ('111202', '104180', 1), ('111202', '106378', 1), ('111202', '104545', 2), ('111202', '103970', 1), ('111202', '104999', 1), ('111202', '106421', 1), ('111202', '100644', 2), ('111202', '103819', 2), ('111202', '111815', 1), ('111202', '105015', 1), ('111202', '126207', 1), ('111202', '105385', 1), ('111202', '124014', 1), ('111202', '104731', 1), ('111202', '105583', 1), ('111202', '104607', 1), ('111202', '105051', 1), ('111202', '111581', 1), ('111202', '105311', 1), ('111202', '104897', 1), ('111202', '105373', 1), ('111202', '104898', 1), ('111202', '126203', 2), ('111202', '104571', 1), ('111202', '106058', 1), ('111202', '105223', 1), ('111202', '104198', 1), ('111202', '126610', 1), ('111202', '105807', 1), ('111202', '105062', 1), ('111202', '200000', 1), ('111202', '128034', 1), ('111202', '106065', 1), ('111202', '106045', 1), ('111202', '104926', 1), ('105806', '103852', 1), ('105806', '105550', 1), ('105806', '104252', 1), ('105806', '104259', 1), ('105806', '109739', 1), ('105806', '105657', 2), ('105806', '106026', 1), ('105806', '105373', 2), ('105806', '106075', 1), ('105806', '104898', 1), ('105806', '105311', 2), ('105806', '105379', 1), ('105806', '106065', 1), ('105806', '104792', 1), ('105806', '104999', 1), ('105806', '106361', 1), ('105806', '105683', 1), ('105806', '106043', 1), ('105806', '106421', 1), ('105806', '106233', 1), ('105806', '106415', 1), ('105806', '104022', 1), ('105806', '104291', 1), ('105806', '106401', 1), ('105806', '111575', 1), ('111575', '105216', 1), ('111575', '105223', 3), ('111575', '105166', 1), ('111575', '103970', 2), ('111575', '105676', 2), ('111575', '104259', 2), ('111575', '105074', 1), ('111575', '104999', 2), ('111575', '103898', 1), ('111575', '104607', 1), ('111575', '106298', 3), ('111575', '104797', 1), ('111575', '105539', 1), ('111575', '105657', 1), ('111575', '104731', 1), ('111575', '106423', 1), ('111575', '104468', 1), ('111575', '104919', 1), ('111575', '105583', 1), ('111575', '104198', 1), ('111575', '100644', 2), ('111575', '105453', 2), ('111575', '105138', 1), ('111575', '104571', 1), ('111575', '126207', 1), ('111575', '106045', 1), ('111575', '105936', 2), ('111575', '105807', 1), ('111575', '104545', 2), ('111575', '104898', 1), ('111575', '105077', 2), ('111575', '105227', 1), ('111575', '132283', 1), ('111575', '105449', 1), ('111575', '126774', 1), ('111575', '104586', 1), ('111575', '106421', 1), ('111575', '105173', 1), ('111575', '110602', 1), ('111575', '105051', 1), ('111575', '106233', 1), ('126845', '104291', 1), ('200045', '200460', 1), ('105065', '105376', 1), ('105065', '200615', 1), ('105065', '105077', 1), ('105065', '104259', 1), ('105065', '126203', 1), ('105065', '106044', 1), ('105065', '105051', 2), ('105065', '104871', 1), ('105065', '106368', 1), ('105065', '104999', 2), ('105065', '105311', 1), ('104547', '124014', 1), ('104547', '105238', 1), ('104547', '104926', 1), ('104547', '106329', 1), ('104547', '106065', 1), ('104547', '106233', 1), ('104547', '104792', 2), ('104547', '105064', 1), ('104547', '104297', 1), ('104547', '111797', 1), ('104547', '105216', 2), ('104547', '105807', 1), ('104547', '105583', 2), ('104547', '106415', 1), ('104547', '106058', 1), ('104547', '104545', 1), ('104547', '105819', 1), ('104547', '105041', 1), ('104547', '105376', 1), ('104547', '200711', 1), ('104660', '144707', 1), ('104660', '111200', 1), ('104660', '104180', 1), ('104660', '103852', 1), ('104660', '104999', 1), ('104660', '105311', 1), ('104660', '104468', 1), ('111581', '104999', 1), ('111581', '111153', 1), ('111581', '105138', 1), ('111581', '104180', 1), ('111581', '124014', 1), ('111581', '105166', 1), ('111581', '106000', 1), ('111581', '104919', 1), ('111581', '104926', 1), ('106324', '106210', 1), ('106324', '200075', 1), ('104919', '104999', 2), ('104919', '111797', 2), ('104919', '104297', 1), ('104919', '104926', 2), ('104919', '104792', 2), ('104919', '104269', 2), ('104919', '105671', 1), ('104919', '104122', 1), ('104919', '105074', 1), ('104919', '106121', 1), ('104919', '105223', 1), ('104919', '105385', 1), ('104919', '106432', 1), ('104919', '100644', 1), ('104919', '105676', 1), ('104919', '103898', 1), ('104919', '104731', 1), ('104919', '126207', 1), ('104919', '104468', 2), ('104919', '126610', 2), ('104919', '105077', 1), ('104919', '106043', 1), ('104919', '106075', 1), ('104919', '106298', 1), ('104919', '103819', 1), ('104919', '105216', 1), ('104919', '106378', 1), ('104919', '104755', 1), ('104919', '105577', 1), ('110602', '106138', 1), ('110602', '126094', 1), ('110602', '105166', 1), ('110602', '106298', 1), ('110602', '105683', 1), ('110602', '105583', 1), ('104898', '111797', 1), ('104898', '134770', 1), ('104898', '105041', 1), ('104898', '105376', 1), ('104898', '105138', 2), ('104898', '132283', 1), ('104898', '104755', 1), ('104898', '105173', 1), ('104898', '105657', 2), ('104898', '105217', 1), ('104898', '134868', 1), ('104898', '103819', 1), ('104898', '111460', 1), ('104898', '104291', 1), ('104898', '105216', 1), ('104898', '105223', 1), ('104898', '126094', 2), ('104898', '111815', 1), ('104898', '105676', 3), ('104898', '106421', 1), ('104898', '106071', 1), ('104898', '105311', 1), ('104898', '104022', 2), ('104898', '104198', 1), ('104898', '106401', 1), ('104898', '104297', 1), ('104898', '105373', 1), ('104898', '105550', 1), ('104898', '105634', 1), ('104898', '144719', 1), ('104898', '105453', 1), ('104898', '105936', 1), ('104898', '100644', 2), ('104898', '105807', 1), ('104898', '111456', 1), ('104898', '133297', 1), ('104898', '126203', 1), ('104898', '125802', 1), ('104898', '104259', 1), ('109698', '126174', 1), ('105497', '106252', 1), ('105497', '106329', 1), ('105497', '111815', 1), ('105413', '104297', 1), ('105413', '105807', 1), ('105413', '144895', 1), ('105413', '106148', 1), ('105413', '200000', 1), ('104180', '104291', 1), ('104180', '105807', 1), ('104180', '105657', 1), ('104180', '106421', 1), ('104180', '105732', 1), ('104180', '104022', 1), ('104180', '104252', 1), ('104180', '100644', 1), ('104180', '126207', 1), ('104180', '105379', 1), ('104180', '105051', 1), ('104180', '105227', 1), ('104180', '104259', 1), ('104180', '104571', 1), ('104180', '104719', 1), ('104180', '111460', 1), ('104180', '132283', 1), ('104871', '126774', 2), ('104871', '126094', 2), ('104871', '105882', 1), ('104871', '104629', 1), ('104871', '105223', 1), ('104871', '103898', 1), ('104871', '104926', 2), ('104871', '105173', 2), ('104871', '103819', 1), ('104871', '104297', 1), ('104871', '104755', 3), ('104871', '105683', 1), ('104871', '105583', 1), ('104871', '105341', 1), ('104871', '106121', 1), ('104871', '104607', 1), ('104871', '105732', 1), ('104871', '104198', 1), ('104871', '111456', 1), ('104871', '105051', 1), ('104871', '106421', 1), ('104871', '126207', 1), ('104871', '111815', 1), ('104871', '105657', 1), ('104871', '104269', 2), ('104871', '104731', 2), ('104871', '106000', 1), ('104871', '109739', 1), ('104871', '106432', 1), ('105238', '106043', 2), ('105238', '106401', 1), ('105238', '104678', 1), ('105238', '104926', 1), ('105238', '105051', 1), ('105238', '105063', 1), ('105550', '105077', 1), ('105550', '105882', 1), ('105550', '126094', 1), ('105550', '106233', 2), ('105550', '106044', 1), ('105550', '104269', 2), ('105550', '105671', 1), ('105550', '144895', 1), ('105550', '111797', 1), ('105550', '104022', 1), ('105550', '106426', 1), ('105550', '106043', 1), ('105550', '105376', 1), ('105550', '106075', 1), ('105550', '105916', 1), ('105550', '136440', 1), ('105550', '105449', 1), ('105550', '105311', 1), ('105550', '105432', 1), ('105550', '103819', 1), ('105550', '105216', 1), ('105550', '106186', 1), ('105550', '105227', 1), ('105550', '111456', 1), ('105550', '106121', 1), ('105550', '105379', 1), ('105550', '105583', 1), ('105550', '106065', 1), ('105550', '106148', 1), ('105550', '134770', 1), ('105550', '123755', 1), ('105550', '125802', 1), ('105550', '106000', 1), ('144895', '104629', 1), ('144895', '126774', 1), ('144895', '123921', 1), ('144895', '105676', 1), ('144895', '105589', 1), ('144895', '106233', 1), ('144895', '105062', 1), ('144895', '105936', 1), ('200483', '126174', 1), ('144760', '105657', 1), ('144760', '105077', 1), ('111190', '104918', 1), ('105943', '106148', 1), ('105943', '105676', 1), ('104999', '105441', 1), ('104999', '104607', 1), ('104999', '105223', 1), ('104999', '105062', 2), ('104999', '104291', 1), ('104999', '200000', 1), ('104999', '106298', 1), ('104999', '104755', 1), ('104999', '104259', 1), ('104999', '104252', 1), ('104999', '104731', 1), ('104999', '104022', 2), ('104999', '103819', 1), ('104999', '111797', 2), ('104999', '105449', 1), ('104999', '105041', 1), ('104999', '105732', 1), ('104999', '105577', 1), ('104999', '104545', 1), ('104999', '100644', 1), ('104999', '106000', 1), ('104999', '126203', 1), ('104999', '120424', 1), ('104999', '105074', 1), ('104999', '105936', 1), ('144826', '200325', 1), ('104022', '105051', 1), ('104022', '104534', 1), ('104022', '126203', 1), ('104022', '105311', 1), ('104022', '104545', 1), ('104022', '105341', 1), ('104022', '104291', 1), ('104022', '106233', 1), ('104022', '202130', 1), ('104022', '111511', 1), ('104022', '104571', 1), ('104022', '105138', 1), ('104926', '105173', 1), ('104926', '106421', 1), ('104926', '105539', 1), ('104926', '103898', 1), ('104926', '104607', 1), ('104926', '106121', 2), ('104926', '105216', 1), ('104926', '105064', 1), ('104926', '105379', 1), ('104926', '104269', 2), ('104926', '106249', 1), ('104926', '104198', 1), ('104926', '111797', 1), ('104926', '106401', 1), ('104926', '106298', 1), ('104926', '125802', 1), ('104926', '106065', 1), ('104926', '104792', 1), ('104926', '106233', 1), ('104926', '105376', 2), ('104926', '111511', 1), ('104926', '111200', 1), ('104926', '106378', 1), ('104926', '105227', 1), ('104926', '106210', 1), ('104926', '144707', 1), ('104926', '104755', 1), ('104926', '105132', 1), ('104926', '111460', 1), ('104926', '106415', 1), ('104926', '111815', 1), ('104926', '105223', 2), ('104926', '105449', 1), ('104926', '105373', 1), ('104926', '105074', 1), ('104926', '105051', 1), ('104926', '126203', 1), ('104926', '106071', 1), ('104926', '105430', 1), ('104926', '126094', 1), ('104926', '105916', 3), ('104926', '105041', 1), ('104926', '126774', 1), ('104926', '106000', 1), ('104926', '103819', 1), ('126205', '106109', 1), ('126205', '126094', 1), ('126205', '105449', 1), ('105166', '105561', 1), ('105166', '111577', 1), ('105166', '105657', 1), ('105166', '105173', 1), ('105166', '105732', 1), ('105166', '123755', 1), ('105166', '105051', 1), ('105166', '100644', 1), ('103529', '104797', 1), ('105173', '105539', 1), ('105173', '126610', 1), ('105173', '106210', 1), ('105173', '106233', 1), ('105173', '105217', 1), ('105173', '104571', 1), ('105173', '105376', 1), ('105173', '104629', 1), ('105173', '104731', 1), ('105173', '105449', 2), ('105173', '104468', 1), ('105173', '105807', 1), ('105173', '106043', 1), ('105173', '132283', 1), ('105173', '104198', 1), ('105173', '105554', 1), ('105173', '103898', 1), ('105173', '105311', 1), ('105173', '104792', 1), ('105173', '106000', 1), ('105173', '106426', 1), ('105173', '106421', 1), ('105173', '103819', 1), ('105173', '111442', 1), ('105173', '104719', 1), ('105173', '111200', 1), ('105173', '111815', 1), ('105173', '106065', 2), ('105173', '126207', 1), ('105173', '105916', 1), ('105173', '104291', 1), ('105173', '105683', 1), ('105173', '106078', 1), ('105173', '105583', 1), ('105173', '200005', 1), ('105173', '105453', 1), ('200031', '105683', 1), ('106396', '133975', 1), ('105376', '105936', 1), ('105376', '126610', 1), ('105376', '104792', 1), ('105376', '106058', 2), ('105376', '105062', 1), ('105376', '100644', 2), ('105376', '105041', 1), ('105376', '104545', 1), ('105376', '124187', 1), ('105376', '105449', 1), ('105376', '126207', 1), ('105376', '106412', 1), ('105376', '104534', 1), ('105376', '105138', 1), ('105376', '105077', 1), ('105376', '132283', 1), ('105376', '103970', 1), ('105376', '105916', 2), ('105376', '111815', 1), ('105376', '105223', 1), ('105376', '111797', 3), ('105376', '104269', 1), ('105376', '105311', 1), ('105376', '103819', 1), ('105376', '105807', 1), ('105376', '105453', 1), ('105376', '106378', 1), ('105376', '105051', 1), ('105376', '126774', 1), ('105376', '106000', 1), ('111459', '106026', 1), ('104563', '105138', 1), ('105683', '105041', 1), ('105683', '106121', 1), ('105683', '105449', 1), ('105683', '200000', 1), ('105683', '105311', 1), ('105683', '104571', 1), ('105683', '105223', 2), ('105683', '144707', 1), ('105683', '106043', 1), ('105683', '106065', 1), ('105683', '105227', 1), ('105683', '106044', 1), ('105683', '105916', 1), ('105683', '104607', 1), ('105683', '106298', 1), ('105683', '103819', 2), ('105683', '106026', 1), ('105683', '103852', 1), ('105683', '106281', 1), ('105683', '111456', 2), ('105683', '104545', 2), ('105683', '105676', 1), ('105683', '126207', 1), ('105683', '105583', 1), ('105683', '104291', 1), ('105683', '104122', 1), ('105683', '104468', 1), ('105683', '105217', 1), ('105683', '105691', 1), ('105683', '133297', 1), ('105683', '106421', 1), ('105683', '105577', 1), ('106071', '104678', 1), ('106071', '105477', 1), ('106071', '104269', 1), ('106071', '104755', 1), ('106071', '128034', 1), ('106071', '105453', 1), ('106071', '104534', 1), ('106071', '106078', 1), ('106071', '200005', 1), ('106071', '144750', 1), ('106071', '200000', 1), ('106071', '105311', 1), ('104978', '111815', 1), ('104897', '105676', 1), ('104897', '105062', 1), ('104897', '105453', 2), ('104897', '144719', 1), ('104897', '106296', 1), ('104897', '120424', 1), ('104897', '104468', 1), ('105960', '111577', 1), ('104607', '104198', 1), ('104607', '105223', 1), ('104607', '103819', 1), ('104607', '104678', 1), ('104607', '105676', 1), ('104607', '105882', 1), ('104607', '106000', 1), ('104607', '109739', 1), ('104607', '106415', 1), ('104607', '126207', 1), ('104607', '105453', 1), ('104607', '104755', 1), ('104607', '103898', 1), ('104932', '105732', 1), ('144645', '103970', 1), ('106397', '202462', 1), ('106397', '200460', 1), ('106397', '106150', 1), ('106397', '200273', 1), ('106397', '133975', 1), ('104259', '106421', 1), ('104259', '106415', 1), ('104259', '103819', 1), ('104259', '105163', 1), ('104259', '126774', 2), ('104259', '105227', 2), ('104259', '105732', 1), ('104259', '105223', 1), ('104259', '103970', 1), ('104259', '104467', 1), ('104259', '105077', 1), ('104259', '105138', 2), ('104259', '109739', 1), ('104259', '100644', 2), ('104259', '105216', 1), ('104259', '104731', 2), ('104259', '106058', 1), ('104259', '105453', 2), ('104259', '106432', 1), ('104259', '104797', 2), ('104259', '105916', 1), ('104259', '105051', 2), ('104259', '105539', 1), ('104259', '105657', 1), ('104259', '105870', 1), ('104259', '104269', 1), ('104259', '106298', 1), ('106021', '207479', 1), ('105916', '106044', 2), ('105916', '105430', 2), ('105916', '103819', 1), ('105916', '105074', 1), ('105916', '105676', 1), ('105916', '104678', 1), ('105916', '105227', 1), ('105916', '109739', 2), ('105916', '104291', 1), ('105916', '106421', 1), ('105916', '120424', 1), ('105916', '106065', 2), ('105916', '105077', 1), ('105916', '126207', 1), ('105916', '105449', 1), ('105916', '105577', 1), ('105916', '106378', 1), ('105916', '106045', 1), ('105916', '103898', 1), ('105916', '105477', 1), ('105916', '105311', 1), ('105916', '128034', 1), ('105916', '104198', 1), ('105916', '105819', 1), ('105916', '106000', 1), ('105916', '200000', 1), ('105916', '105062', 1), ('207973', '105132', 1), ('106398', '105064', 1), ('106075', '105430', 2), ('106075', '105041', 1), ('106075', '104571', 1), ('106075', '105657', 1), ('106075', '106233', 1), ('106075', '105807', 1), ('106075', '106000', 1), ('106075', '200484', 1), ('106075', '106329', 1), ('105223', '103970', 3), ('105223', '105138', 1), ('105223', '126207', 2), ('105223', '106233', 1), ('105223', '100644', 1), ('105223', '104731', 1), ('105223', '103819', 1), ('105223', '105453', 1), ('105223', '105936', 2), ('105223', '104545', 3), ('105223', '106000', 2), ('105223', '105583', 1), ('105223', '126774', 1), ('105223', '105676', 2), ('105223', '103898', 1), ('105223', '105077', 2), ('105223', '105227', 1), ('105223', '103852', 1), ('105223', '104468', 1), ('105223', '106218', 1), ('105223', '106078', 1), ('105223', '106401', 1), ('105223', '105385', 1), ('105223', '106045', 1), ('105223', '104269', 1), ('105223', '106432', 2), ('105223', '104755', 1), ('105432', '200059', 1), ('105432', '105041', 1), ('105432', '111815', 1), ('105432', '105583', 1), ('105432', '126610', 1), ('106412', '105899', 1), ('111460', '134770', 1), ('105688', '200620', 1), ('105688', '200619', 1), ('104291', '105379', 1), ('104291', '106099', 1), ('104291', '200325', 1), ('104291', '109739', 1), ('104291', '103898', 1), ('104291', '126774', 2), ('104291', '105138', 1), ('104291', '106378', 2), ('104291', '124014', 1), ('104291', '104947', 1), ('104291', '105227', 1), ('104291', '106210', 1), ('104291', '106121', 1), ('104291', '104755', 1), ('104291', '105051', 1), ('104291', '111577', 1), ('104291', '111815', 1), ('104291', '105539', 1), ('104291', '100644', 2), ('104291', '126203', 1), ('104291', '105807', 1), ('104291', '104571', 1), ('104291', '105311', 1), ('104291', '200059', 1), ('104291', '104269', 1), ('104291', '106058', 1), ('126610', '104678', 1), ('126610', '106421', 1), ('126610', '105226', 1), ('126610', '105379', 1), ('126610', '106121', 1), ('126610', '126207', 1), ('126610', '100644', 1), ('126610', '106233', 1), ('126610', '103970', 1), ('126610', '106058', 1), ('126610', '104468', 2), ('126610', '105967', 1), ('126610', '105430', 2), ('126610', '126094', 1), ('126610', '103852', 1), ('126610', '105132', 1), ('126610', '105138', 1), ('126610', '111797', 1), ('126610', '103898', 1), ('126610', '106045', 1), ('126610', '104198', 1), ('126610', '105051', 1), ('126610', '106378', 1), ('126610', '104586', 1), ('104571', '106026', 1), ('104571', '126094', 1), ('104571', '106099', 1), ('104571', '104678', 1), ('104571', '105936', 1), ('104571', '106415', 1), ('104571', '106043', 1), ('104571', '104534', 1), ('104571', '111577', 1), ('104571', '105870', 1), ('104571', '111511', 1), ('104571', '106233', 1), ('104571', '106109', 1), ('104571', '126207', 1), ('104571', '105051', 1), ('104571', '104198', 1), ('104571', '106298', 1), ('104571', '106065', 1), ('105041', '126774', 1), ('105041', '106044', 1), ('105041', '105539', 1), ('105041', '105583', 1), ('105041', '106210', 1), ('105041', '106045', 2), ('105041', '105933', 1), ('105041', '106043', 1), ('105041', '111815', 1), ('105041', '106065', 2), ('105041', '126127', 1), ('105041', '103819', 1), ('105041', '105577', 1), ('105041', '105074', 1), ('105041', '111456', 1), ('105041', '106121', 1), ('106106', '104467', 1), ('111576', '125802', 1), ('105499', '106175', 1), ('105707', '104534', 1), ('105566', '138845', 1), ('111167', '126102', 1), ('111167', '105657', 1), ('134217', '200401', 1), ('104597', '144817', 1), ('106186', '105807', 1), ('106186', '105902', 1), ('106186', '105138', 1), ('106186', '126203', 1), ('111815', '105138', 1), ('111815', '105077', 1), ('111815', '106233', 1), ('111815', '106121', 1), ('111815', '111797', 1), ('111815', '106148', 1), ('111815', '109739', 1), ('111815', '104545', 2), ('111815', '104468', 1), ('111815', '106298', 1), ('111815', '105379', 1), ('111815', '106401', 1), ('111815', '103852', 1), ('111815', '111442', 1), ('111815', '105583', 1), ('111815', '127300', 1), ('111815', '122109', 1), ('111815', '105842', 1), ('111815', '106432', 1), ('111815', '106415', 1), ('111815', '104719', 1), ('111815', '106043', 1), ('106065', '105732', 1), ('106065', '105589', 1), ('106065', '105807', 2), ('106065', '124116', 1), ('106065', '106000', 2), ('106065', '105676', 2), ('106065', '105657', 1), ('106065', '105477', 2), ('106065', '106233', 1), ('106065', '104797', 1), ('106065', '106210', 1), ('106065', '104792', 1), ('106065', '126207', 1), ('106065', '103898', 1), ('106065', '105138', 1), ('106065', '104468', 1), ('106065', '105967', 1), ('106065', '105311', 1), ('106325', '105882', 1), ('105634', '109739', 1), ('105634', '200000', 1), ('106000', '104797', 1), ('106000', '105074', 1), ('106000', '104755', 1), ('106000', '105657', 2), ('106000', '126094', 1), ('106000', '105062', 1), ('106000', '105341', 3), ('106000', '120424', 1), ('106000', '105539', 2), ('106000', '106044', 1), ('106000', '105613', 1), ('106000', '105373', 1), ('106000', '103898', 1), ('106000', '104269', 1), ('106000', '106045', 1), ('106000', '105430', 1), ('106000', '100644', 1), ('106000', '105732', 1), ('106000', '106210', 1), ('106000', '109739', 1), ('106000', '126774', 2), ('106000', '105583', 1), ('106000', '111192', 1), ('106000', '106368', 1), ('106000', '106078', 1), ('200484', '106298', 1), ('200484', '103970', 1), ('106328', '105453', 1), ('106328', '106109', 1), ('106328', '105449', 1), ('104797', '111577', 2), ('104797', '105732', 1), ('104797', '106378', 1), ('104797', '202090', 1), ('104797', '104678', 1), ('104797', '200175', 1), ('104797', '105807', 1), ('104797', '122330', 1), ('104797', '105138', 1), ('104797', '104252', 1), ('104797', '106298', 1), ('104797', '106401', 1), ('104797', '144707', 1), ('104797', '109739', 1), ('104797', '111797', 1), ('104797', '105373', 1), ('104797', '105449', 1), ('104797', '105554', 1), ('104797', '105062', 1), ('104460', '105311', 1), ('104460', '105967', 1), ('104460', '109739', 1), ('105671', '106148', 1), ('105671', '111200', 1), ('105671', '144707', 1), ('105671', '104198', 1), ('105671', '106415', 1), ('132482', '105449', 1), ('132482', '126094', 1), ('132482', '126203', 1), ('109054', '109739', 1), ('109054', '106043', 1), ('105227', '106368', 1), ('105227', '105732', 2), ('105227', '104468', 1), ('105227', '105577', 2), ('105227', '105311', 1), ('105227', '105807', 3), ('105227', '106378', 1), ('105227', '103819', 1), ('105227', '104122', 1), ('105227', '104792', 1), ('105227', '104545', 2), ('105227', '105062', 1), ('105227', '104269', 2), ('105227', '105453', 2), ('105227', '100644', 2), ('105227', '105902', 1), ('105227', '128034', 2), ('105227', '105449', 1), ('105227', '106401', 1), ('105227', '106415', 1), ('105227', '106432', 1), ('105227', '106043', 1), ('105227', '105657', 3), ('105227', '105676', 1), ('105227', '126207', 1), ('105227', '111797', 1), ('105227', '106298', 1), ('202358', '206000', 1), ('202358', '126203', 1), ('144817', '122236', 1), ('144817', '105436', 1), ('136440', '106121', 1), ('104122', '134770', 1), ('104122', '104198', 1), ('106232', '106329', 1), ('106232', '106252', 1), ('104468', '105138', 1), ('104468', '106120', 1), ('104468', '104731', 1), ('104468', '111577', 1), ('104468', '105657', 1), ('104468', '105807', 1), ('104468', '120424', 1), ('104468', '105676', 1), ('104468', '109739', 1), ('104468', '105936', 2), ('104468', '105732', 1), ('104468', '105051', 2), ('104468', '106148', 1), ('104468', '104755', 2), ('104468', '125802', 1), ('104468', '105155', 1), ('104468', '105515', 1), ('104468', '106167', 1), ('104468', '105062', 1), ('104468', '106233', 2), ('104468', '105453', 1), ('104468', '104970', 1), ('104468', '103852', 1), ('104468', '106329', 1), ('104468', '144750', 1), ('104468', '106210', 1), ('104468', '105430', 1), ('104468', '111456', 1), ('104468', '106043', 1), ('104468', '103819', 1), ('104468', '106298', 1), ('105807', '106432', 2), ('105807', '104198', 1), ('105807', '105379', 3), ('105807', '106421', 2), ('105807', '104731', 2), ('105807', '105449', 3), ('105807', '104269', 2), ('105807', '100644', 1), ('105807', '126774', 1), ('105807', '106044', 1), ('105807', '111797', 1), ('105807', '126207', 1), ('105807', '111577', 1), ('105807', '105430', 1), ('105807', '106329', 1), ('105807', '104252', 1), ('105807', '106415', 1), ('105807', '104755', 1), ('105807', '105015', 1), ('105807', '105311', 1), ('120792', '207972', 1), ('123921', '105074', 1), ('123921', '106423', 1), ('123921', '104198', 2), ('123921', '106043', 1), ('106283', '105936', 1), ('106283', '105732', 1), ('106283', '106148', 1), ('106393', '106120', 1), ('134770', '106043', 3), ('134770', '104792', 1), ('134770', '105657', 1), ('134770', '105138', 1), ('134770', '111442', 1), ('134770', '105077', 1), ('134770', '144719', 1), ('134770', '103970', 1), ('134770', '104755', 1), ('123795', '111761', 1), ('111761', '104308', 1), ('111761', '111794', 1), ('105449', '105138', 2), ('105449', '106045', 1), ('105449', '106353', 1), ('105449', '104629', 1), ('105449', '105539', 1), ('105449', '106421', 3), ('105449', '124014', 1), ('105449', '126207', 1), ('105449', '104545', 1), ('105449', '126203', 1), ('105449', '105657', 1), ('105449', '104586', 1), ('105449', '105074', 1), ('105449', '104534', 1), ('105449', '104719', 1), ('105449', '106368', 1), ('105449', '144719', 1), ('105449', '106378', 1), ('105449', '106233', 1), ('105449', '106432', 1), ('105449', '105373', 1), ('105449', '104792', 1), ('207139', '200460', 1), ('207139', '133975', 1), ('207139', '200273', 1), ('105385', '105311', 1), ('105385', '106368', 1), ('105385', '105539', 1), ('105385', '106432', 1), ('105385', '106044', 1), ('105385', '105577', 1), ('105385', '105051', 1), ('105385', '105453', 1), ('123755', '106105', 1), ('123755', '106329', 1), ('105641', '111794', 1), ('124116', '106421', 1), ('124116', '105373', 1), ('105732', '106026', 2), ('105732', '104755', 2), ('105732', '106421', 1), ('105732', '105613', 1), ('105732', '106298', 1), ('105732', '105311', 1), ('105732', '105138', 1), ('105732', '104792', 1), ('105732', '126203', 1), ('105732', '104545', 2), ('105732', '105216', 1), ('105732', '105676', 1), ('105732', '105077', 2), ('105732', '105015', 1), ('105732', '106401', 1), ('105732', '105430', 1), ('105732', '105583', 1), ('105732', '126774', 1), ('105732', '106415', 1), ('105732', '122330', 1), ('105732', '104269', 1), ('105732', '105062', 1), ('105273', '126502', 1), ('105085', '111200', 1), ('105085', '144707', 1), ('123768', '200005', 1), ('105657', '144776', 1), ('105657', '105062', 1), ('105657', '105379', 2), ('105657', '105216', 1), ('105657', '105051', 1), ('105657', '117356', 1), ('105657', '126207', 1), ('105657', '104918', 1), ('105657', '111794', 1), ('105657', '128034', 1), ('105657', '126203', 1), ('105657', '100644', 1), ('105657', '103819', 1), ('103852', '104198', 1), ('103852', '126846', 1), ('103852', '106043', 3), ('103852', '105373', 2), ('103852', '105676', 2), ('103852', '106121', 1), ('103852', '106423', 1), ('103852', '111577', 2), ('103852', '124014', 1), ('103852', '106058', 1), ('103852', '105138', 1), ('103852', '105583', 1), ('103852', '105453', 1), ('103852', '104678', 1), ('103852', '106401', 2), ('103852', '106177', 1), ('103852', '105633', 1), ('103852', '104269', 1), ('103852', '106432', 1), ('103852', '105936', 1), ('103852', '126207', 1), ('105583', '106043', 1), ('105583', '104545', 2), ('105583', '104792', 1), ('105583', '106233', 2), ('105583', '111797', 1), ('105583', '106401', 1), ('105583', '124079', 1), ('105583', '104755', 1), ('105583', '104731', 1), ('105583', '106110', 3), ('105583', '126203', 1), ('105583', '106210', 1), ('105583', '100644', 1), ('105583', '103819', 1), ('105583', '105077', 1), ('105583', '104269', 1), ('105583', '104198', 1), ('105583', '105373', 1), ('105583', '105577', 1), ('105583', '106378', 1), ('105583', '106421', 1), ('105583', '105138', 1), ('105216', '106058', 1), ('105216', '125802', 2), ('105216', '106298', 1), ('105216', '104198', 1), ('105216', '120424', 1), ('105216', '109739', 1), ('105216', '106233', 1), ('105216', '106045', 1), ('105216', '104755', 1), ('105216', '105453', 1), ('138431', '133297', 1), ('105311', '103970', 1), ('105311', '106220', 1), ('105311', '109739', 1), ('105311', '105936', 1), ('105311', '100644', 1), ('105311', '105676', 1), ('105311', '111577', 1), ('105311', '144707', 1), ('105311', '111200', 1), ('105311', '124079', 1), ('105311', '144719', 1), ('105311', '106421', 2), ('105311', '105155', 1), ('105311', '106378', 1), ('105311', '126774', 1), ('105311', '126207', 1), ('105311', '106110', 1), ('105311', '104252', 1), ('105311', '105379', 1), ('105311', '104719', 1), ('105311', '106298', 1), ('105311', '105577', 1), ('105311', '126094', 1), ('105311', '105138', 1), ('106148', '106368', 1), ('106148', '111797', 2), ('106148', '105077', 2), ('106148', '109739', 1), ('106148', '126774', 1), ('106148', '105062', 1), ('106148', '106233', 1), ('106148', '104198', 1), ('106148', '106121', 1), ('106148', '106378', 1), ('106148', '106432', 1), ('120424', '109739', 1), ('120424', '104252', 1), ('120424', '104545', 1), ('120424', '106298', 1), ('124187', '106058', 1), ('124187', '126203', 1), ('106250', '200274', 1), ('106250', '200620', 1), ('106250', '126190', 1), ('105155', '105430', 1), ('105155', '104269', 1), ('105676', '103898', 1), ('105676', '105226', 1), ('105676', '104755', 1), ('105676', '126774', 3), ('105676', '105138', 2), ('105676', '104719', 1), ('105676', '106378', 1), ('105676', '100644', 1), ('105676', '104792', 1), ('105676', '105051', 1), ('105676', '126207', 1), ('105676', '104731', 1), ('105676', '103819', 1), ('105676', '104918', 1), ('111790', '144719', 1), ('207836', '126939', 1), ('126523', '104252', 1), ('106045', '106233', 1), ('106045', '104269', 1), ('106045', '126774', 1), ('106045', '103819', 1), ('106045', '106298', 2), ('106045', '105074', 1), ('106045', '106368', 1), ('106045', '126094', 2), ('106045', '106401', 1), ('106045', '106415', 1), ('106045', '104755', 1), ('106045', '104198', 1), ('105561', '106329', 1), ('103819', '105379', 2), ('103819', '104755', 1), ('103819', '105074', 1), ('103819', '105936', 2), ('103819', '106432', 3), ('103819', '106423', 1), ('103819', '106401', 2), ('103819', '105051', 1), ('103819', '104731', 2), ('103819', '106415', 1), ('103819', '106421', 2), ('103819', '105138', 1), ('103819', '105453', 3), ('103819', '106233', 1), ('103819', '100644', 1), ('126125', '105453', 1), ('105589', '125802', 1), ('105589', '105077', 1), ('105589', '104198', 1), ('105589', '106329', 1), ('105589', '104755', 1), ('126207', '105051', 3), ('126207', '200624', 1), ('126207', '104534', 1), ('126207', '104731', 3), ('126207', '124014', 1), ('126207', '106044', 1), ('126207', '106378', 1), ('126207', '111456', 1), ('126207', '111577', 1), ('126207', '104269', 1), ('126207', '103898', 1), ('126207', '128034', 2), ('126207', '106432', 1), ('126207', '109739', 1), ('126207', '105453', 1), ('126207', '100644', 1), ('126207', '144719', 1), ('126207', '126774', 1), ('207738', '208028', 1), ('105649', '126094', 1), ('105649', '109739', 1), ('103898', '106121', 1), ('103898', '105138', 1), ('103898', '106432', 1), ('104233', '126530', 1), ('104233', '105747', 1), ('106121', '105379', 1), ('106121', '104297', 1), ('106121', '104198', 1), ('106121', '111200', 1), ('106121', '105138', 1), ('106121', '144719', 1), ('106121', '111797', 1), ('106121', '106421', 1), ('106121', '105493', 1), ('106121', '105147', 1), ('106121', '104269', 1), ('106121', '126774', 1), ('105030', '105138', 1), ('105539', '106233', 1), ('105539', '104252', 1), ('105539', '105453', 1), ('105539', '105985', 1), ('105539', '105936', 2), ('105539', '104731', 2), ('105539', '105379', 1), ('105539', '103970', 1), ('105539', '126774', 1), ('105539', '100644', 1), ('105539', '105015', 1), ('105539', '104755', 1), ('105539', '105477', 1), ('105539', '126094', 1), ('105539', '106421', 1), ('105539', '105373', 1), ('105539', '105051', 1), ('105539', '105062', 1), ('105379', '106233', 2), ('105379', '128034', 1), ('105379', '111794', 1), ('105379', '106210', 1), ('105379', '105077', 1), ('105379', '106043', 1), ('105379', '132283', 1), ('105379', '104731', 1), ('105379', '105430', 1), ('105379', '105967', 1), ('106058', '105441', 1), ('106058', '124014', 1), ('106058', '105341', 1), ('106058', '106026', 1), ('106058', '106432', 1), ('106058', '126203', 2), ('106058', '103970', 1), ('106058', '105132', 1), ('106058', '106421', 2), ('106058', '105819', 1), ('106058', '111200', 1), ('106058', '104755', 1), ('106058', '106233', 1), ('105373', '200574', 1), ('105373', '104252', 1), ('105373', '104792', 1), ('105373', '111797', 1), ('105373', '106233', 2), ('105373', '144719', 1), ('105373', '106421', 1), ('103990', '126774', 1), ('105341', '100644', 1), ('105341', '200000', 1), ('105341', '105936', 1), ('105341', '104755', 1), ('105341', '105051', 1), ('105341', '106432', 1), ('105341', '106026', 1), ('105341', '126774', 1), ('105341', '105626', 1), ('104918', '106401', 1), ('104918', '106378', 2), ('104918', '111456', 1), ('104918', '106298', 1), ('104918', '105902', 1), ('104918', '104269', 2), ('132283', '104755', 2), ('132283', '128034', 1), ('132283', '126203', 1), ('132283', '104269', 1), ('202462', '127143', 1), ('134886', '127143', 1), ('117356', '105626', 1), ('106378', '104731', 1), ('106378', '104534', 1), ('106378', '106210', 1), ('106378', '105430', 1), ('106378', '104755', 2), ('106378', '106421', 1), ('106378', '106298', 1), ('106378', '100644', 2), ('106378', '106401', 1), ('106378', '105062', 1), ('106378', '106109', 1), ('106378', '106043', 2), ('106378', '111456', 1), ('106378', '105936', 1), ('106378', '111797', 1), ('106378', '105077', 1), ('106378', '125802', 1), ('106378', '104792', 1), ('106378', '104269', 1), ('106249', '105952', 1), ('144719', '104792', 1), ('144719', '106233', 1), ('144719', '103970', 1), ('144719', '104629', 1), ('144719', '105138', 1), ('144719', '105870', 1), ('144719', '126094', 2), ('144719', '105074', 1), ('144719', '106043', 1), ('144719', '106210', 1), ('144719', '128034', 1), ('144719', '126774', 1), ('104719', '105062', 1), ('104719', '111574', 1), ('105948', '106044', 1), ('105948', '105062', 1), ('111442', '111577', 2), ('111442', '106044', 1), ('111442', '106210', 1), ('111442', '105902', 1), ('111442', '106233', 1), ('105819', '126203', 1), ('105819', '104269', 1), ('105819', '200000', 1), ('105819', '105430', 1), ('105819', '106421', 1), ('106099', '106026', 1), ('106099', '125802', 1), ('105430', '105062', 1), ('105430', '106210', 1), ('105430', '104545', 4), ('105430', '105453', 1), ('105430', '104731', 1), ('105430', '126774', 1), ('105430', '104297', 1), ('105430', '106296', 1), ('105430', '106401', 1), ('105430', '105577', 1), ('105453', '111511', 1), ('105453', '104731', 4), ('105453', '106421', 2), ('105453', '100644', 2), ('105453', '104198', 1), ('105453', '106233', 3), ('105453', '106401', 1), ('105453', '126094', 1), ('105453', '109739', 1), ('105453', '104792', 1), ('105453', '106043', 1), ('105453', '126774', 1), ('105453', '104755', 1), ('105453', '200059', 1), ('105453', '105062', 1), ('105138', '106210', 1), ('105138', '104269', 1), ('105138', '104252', 1), ('105138', '106432', 3), ('105138', '106298', 2), ('105138', '111577', 2), ('105138', '106233', 1), ('105138', '100644', 2), ('105138', '126094', 1), ('105138', '111456', 1), ('105747', '126340', 1), ('105747', '200325', 1), ('126774', '104252', 1), ('126774', '104755', 2), ('126774', '106233', 5), ('126774', '105062', 1), ('126774', '106421', 3), ('126774', '106043', 1), ('126774', '105077', 1), ('126774', '104731', 3), ('126774', '106432', 1), ('126774', '105441', 1), ('126774', '106298', 1), ('126774', '106296', 1), ('126774', '111577', 2), ('126774', '104545', 1), ('126774', '105902', 1), ('126774', '100644', 2), ('126774', '104792', 1), ('126774', '128034', 1), ('126774', '126094', 1), ('126094', '104269', 1), ('126094', '106432', 1), ('126094', '104792', 1), ('126094', '103970', 2), ('126094', '104198', 1), ('126094', '106298', 1), ('126094', '126203', 2), ('126094', '105577', 1), ('126094', '106233', 1), ('126094', '200000', 1), ('126094', '111511', 1), ('126094', '106401', 1), ('126094', '105062', 1), ('105933', '111797', 1), ('105933', '105870', 1), ('105933', '105077', 1), ('106005', '105132', 1), ('106005', '104755', 1), ('105842', '106368', 1), ('126526', '126530', 1), ('105132', '105827', 1), ('105132', '105074', 1), ('105132', '109739', 2), ('105132', '105870', 1), ('144776', '126613', 1), ('106423', '106421', 1), ('106423', '122330', 1), ('106423', '104269', 1), ('106423', '111511', 1), ('106423', '126203', 1), ('106167', '104545', 1), ('108739', '106175', 1), ('111794', '105626', 1), ('104252', '104755', 1), ('104252', '106210', 1), ('104252', '106432', 1), ('106298', '105074', 1), ('106298', '104755', 1), ('106298', '105936', 2), ('106298', '125802', 1), ('106298', '106026', 1), ('106298', '106421', 1), ('106298', '200000', 1), ('106298', '106432', 1), ('105870', '100644', 1), ('104678', '106109', 1), ('104678', '106401', 1), ('104678', '109739', 1), ('104678', '104297', 1), ('104678', '104198', 1), ('104678', '105077', 1), ('105935', '106198', 1), ('105882', '111797', 1), ('105882', '106210', 1), ('105882', '128034', 1), ('200059', '103970', 1), ('200059', '106368', 1), ('200059', '200000', 1), ('200615', '105051', 1), ('200615', '100644', 1), ('106105', '106329', 1), ('106105', '105077', 1), ('105436', '105967', 1), ('106109', '105577', 1), ('106109', '111456', 1), ('105577', '106432', 2), ('105577', '200000', 1), ('105577', '105062', 1), ('105577', '106368', 1), ('105577', '104792', 1), ('106432', '104755', 1), ('106432', '105077', 2), ('106432', '126203', 1), ('106432', '104731', 2), ('106432', '100644', 2), ('106432', '105062', 1), ('106432', '106233', 2), ('106432', '106043', 1), ('106432', '106421', 4), ('106432', '106401', 1), ('106432', '105051', 1), ('105051', '106401', 1), ('105051', '104545', 2), ('105051', '111577', 1), ('105051', '104792', 1), ('105051', '126203', 1), ('105051', '105936', 1), ('105051', '104731', 1), ('105051', '106233', 1), ('105051', '104269', 1), ('106218', '105656', 1), ('134114', '104251', 1), ('111515', '105902', 1), ('128034', '125802', 1), ('134120', '200273', 1), ('100644', '106401', 2), ('100644', '103970', 3), ('100644', '111456', 1), ('100644', '106421', 2), ('100644', '104545', 3), ('100644', '104755', 1), ('100644', '106233', 2), ('100644', '105902', 1), ('100644', '126203', 1), ('100644', '106043', 1), ('105656', '105899', 1), ('104545', '104792', 2), ('104545', '106210', 1), ('104545', '105967', 1), ('104545', '105077', 1), ('104545', '111511', 2), ('104545', '105074', 1), ('104545', '104731', 1), ('104545', '111797', 1), ('104545', '105062', 1), ('111197', '105967', 1), ('111200', '111456', 1), ('111200', '105477', 1), ('111200', '104534', 1), ('111200', '106329', 1), ('111200', '109739', 1), ('106043', '105064', 1), ('106043', '104792', 2), ('106043', '111797', 4), ('106043', '104269', 2), ('106043', '106426', 1), ('106043', '104755', 1), ('106043', '109739', 1), ('106043', '106361', 1), ('106043', '104731', 1), ('106043', '106210', 1), ('106043', '106421', 1), ('105633', '202382', 1), ('105633', '200325', 1), ('105613', '104731', 1), ('105477', '105015', 1), ('106120', '106210', 1), ('106120', '125802', 1), ('106120', '111797', 1), ('200250', '124126', 1), ('104269', '104534', 1), ('104269', '109739', 1), ('104269', '106329', 2), ('104269', '106044', 1), ('104269', '106233', 1), ('104269', '126203', 1), ('104269', '104198', 1), ('104269', '106415', 2), ('104269', '106421', 1), ('104269', '106210', 1), ('104269', '111797', 1), ('104269', '104792', 2), ('104269', '104731', 1), ('124014', '111456', 1), ('124014', '104731', 1), ('105502', '106353', 1), ('105299', '106233', 1), ('105479', '106410', 1), ('200325', '105827', 1), ('106329', '105074', 1), ('106329', '104731', 1), ('106329', '104792', 1), ('106329', '105077', 1), ('106329', '106210', 1), ('106368', '126203', 1), ('106368', '106210', 1), ('122330', '105015', 1), ('126120', '109739', 1), ('106228', '105967', 1), ('125802', '106233', 2), ('125802', '104731', 1), ('105074', '106026', 1), ('105074', '104792', 1), ('105074', '106233', 1), ('106233', '104792', 2), ('106233', '104731', 3), ('106233', '104198', 1), ('106233', '111797', 1), ('106233', '126203', 1), ('106233', '106421', 1), ('105111', '111797', 1), ('106026', '106421', 1), ('111511', '106401', 1), ('111511', '105062', 1), ('105062', '104731', 3), ('105062', '106391', 1), ('105062', '106296', 1), ('105062', '105077', 2), ('105062', '103970', 1), ('105062', '109739', 1), ('105062', '106421', 1), ('105062', '126203', 1), ('104731', '111577', 1), ('104731', '106044', 1), ('104731', '104792', 1), ('104731', '104755', 1), ('106150', '105812', 1), ('106150', '127143', 1), ('104198', '111797', 1), ('104198', '104755', 1), ('104198', '104792', 1), ('104198', '106421', 1), ('106210', '106044', 1), ('106210', '104586', 1), ('106210', '104755', 1), ('109739', '104792', 1), ('109739', '106401', 1), ('109739', '106421', 1), ('106044', '104297', 1), ('106044', '111797', 1), ('126203', '111577', 1), ('126203', '106415', 1), ('126203', '105936', 1), ('126203', '105967', 1), ('138846', '133975', 1), ('106281', '105077', 1), ('106281', '105936', 1), ('104534', '144750', 1), ('104534', '106361', 1), ('104297', '106401', 1), ('104297', '105077', 2), ('104297', '111577', 1), ('200000', '105936', 1), ('200000', '106421', 1), ('106072', '105077', 1), ('105936', '111797', 1), ('111577', '106421', 1), ('111577', '105077', 2), ('111577', '111797', 1), ('106421', '104755', 1), ('106421', '133297', 1), ('106175', '105899', 1), ('106415', '106401', 1), ('104755', '104792', 1), ('104755', '105967', 1), ('104755', '111797', 1), ('104755', '105077', 1), ('104755', '106401', 1), ('144750', '104792', 1), ('111797', '105077', 2), ('111797', '111456', 2)]\n",
      "{'122669': 'Juan Pablo Varillas', '105487': 'Facundo Bagnis', '103893': 'Paolo Lorenzi', '200611': 'Elliot Benchetrit', '105587': 'Tom Kocevar Desman', '106216': 'Bjorn Fratangelo', '105357': 'John Millman', '104882': 'Blaz Kavcic', '104810': 'Zhe Li', '105332': 'Benoit Paire', '104925': 'Novak Djokovic', '105349': 'Harri Heliovaara', '104620': 'Simone Bolelli', '200095': 'Nicola Kuhn', '105614': 'Bradley Klahn', '110536': 'Kevin King', '104672': 'Vincent Millot', '202165': 'Alberto Lim', '200278': 'Simon Carr', '105932': 'Nikoloz Basilashvili', '126652': 'Jay Clarke', '105053': 'Santiago Giraldo', '104527': 'Stan Wawrinka', '104655': 'Pablo Cuevas', '104542': 'Jo-Wilfried Tsonga', '207415': 'Daniel Michalski', '105992': 'Ryan Harrison', '103917': 'Nicolas Mahut', '105815': 'Tennys Sandgren', '104494': 'Adrian Ungur', '208029': 'Holger Rune', '126204': 'Gerardo Lopez Villasenor', '126952': 'Soon Woo Kwon', '103565': 'Stephane Robert', '105643': 'Federico Delbonis', '200514': 'Jurij Rodionov', '104665': 'Pablo Andujar', '103333': 'Ivo Karlovic', '133430': 'Denis Shapovalov', '105575': 'Ricardas Berankis', '122078': 'Dmitry Popko', '124022': 'Chun Hun Wong', '105467': 'Jordi Munoz Abreu', '205734': 'Thiago Seyboth Wild', '105023': 'Sam Querrey', '103781': 'Jurgen Melzer', '111513': 'Laslo Djere', '105526': 'Jan Lennard Struff', '126535': 'Carlos Taberner', '122548': 'Edan Leshem', '106174': 'Gonzalo Lama', '206642': 'Yassir Kilani', '106348': 'Evgeny Karlovskiy', '105777': 'Grigor Dimitrov', '200436': 'Zsombor Piros', '104907': 'Jose Rubin Statham', '105208': 'Ernests Gulbis', '106214': 'Oscar Otte', '104656': 'Haydn Lewis', '105606': 'Mohsen Hossein Zade', '105585': 'Ze Zhang', '103499': 'Aqeel Khan', '105359': 'Jason Jung', '207421': 'Alex Fairbanks', '200282': 'Alex De Minaur', '103607': 'Victor Estrella', '105757': 'Sandro Ehrat', '127570': 'Rodrigo Arus', '200384': 'Hugo Gaston', '105292': 'Alejandro Gonzalez', '104745': 'Rafael Nadal', '104593': 'Daniel Gimeno Traver', '111578': 'Stefan Kozlov', '105578': 'Cristian Rodriguez', '104312': 'Andreas Seppi', '104890': 'Andreas Haider Maurer', '200218': 'Mate Valkusz', '111202': 'Hyeon Chung', '105806': 'Mirza Basic', '111575': 'Karen Khachanov', '126845': 'Max Purcell', '200045': 'Anthony Susanto', '105065': 'Tim Smyczek', '104547': 'Horacio Zeballos', '104660': 'Sergiy Stakhovsky', '111581': 'Michael Mmoh', '106324': 'Vaclav Safranek', '104919': 'Leonardo Mayer', '110602': 'Dennis Novak', '202385': 'Jenson Brooksby', '104898': 'Robin Haase', '144807': 'Kenneth Raisma', '109698': 'Christoffer Konigsfeldt', '105497': 'Jose Hernandez', '105413': 'Andrej Martin', '104180': 'Gilles Muller', '104871': 'Jeremy Chardy', '105238': 'Alexandr Dolgopolov', '202210': 'Edris Fetisleam', '105550': 'Guido Pella', '144895': 'Corentin Moutet', '105156': 'Federico Zeballos', '200483': 'Peter August Anker', '144760': 'Amine Ahouda', '111190': 'Zhizhen Zhang', '105943': 'Federico Gaio', '207400': 'Mark Chigaazira', '111795': 'Filippo Baldi', '104999': 'Mischa Zverev', '144826': 'Aziz Dougaz', '104022': 'Mikhail Youzhny', '104926': 'Fabio Fognini', '126205': 'Tommy Paul', '108763': 'Alberto Emmanuel Alvarado Larin', '126174': 'Youssef Hossam', '105166': 'Peter Polansky', '103529': 'Aisam Ul Haq Qureshi', '105173': 'Adrian Mannarino', '200031': 'Lucas Catarina', '106396': 'Cheng Yu Yu', '105376': 'Peter Gojowczyk', '105961': 'David Souto', '111459': 'Arjun Kadhe', '104563': 'Luca Vanni', '105683': 'Milos Raonic', '106071': 'Bernard Tomic', '104978': 'Daniel Brands', '104897': 'Matthias Bachinger', '105960': 'Evan King', '104607': 'Tomas Berdych', '104932': 'Kenny De Schepper', '144645': 'Zdenek Kolar', '106397': 'Wishaya Trongcharoenchaikul', '104259': 'Philipp Kohlschreiber', '106021': 'Dragos Dima', '105916': 'Marton Fucsovics', '207973': 'Ainius Sabaliauskas', '106398': 'Pedro Cachin', '105691': 'Scott Griekspoor', '106075': 'Jozef Kovalik', '105223': 'Juan Martin del Potro', '105432': 'Prajnesh Gunneswaran', '106412': 'Lucas Gomez', '111460': 'Quentin Halys', '105688': 'Manuel Sanchez', '104291': 'Malek Jaziri', '126610': 'Matteo Berrettini', '104571': 'Marcos Baghdatis', '105041': 'Lukas Lacko', '106106': 'George Tsivadze', '111576': 'Sumit Nagal', '105499': 'Christopher Diaz Figueroa', '105707': 'Nicolaas Scholtz', '104947': 'Marsel Ilhan', '105566': 'Shahin Khaledan', '111167': 'Ugo Nastasi', '134217': 'Skyler Butts', '104597': 'Nicolas Almagro', '106186': 'Jason Kubler', '111815': 'Cameron Norrie', '106065': 'Marco Cecchinato', '206768': 'Rafael Eduardo Gonzalez Retana', '106325': 'Jabor Al Mutawa', '105634': 'Viktor Galovic', '106000': 'Damir Dzumhur', '200484': 'Rudolf Molleker', '106328': 'Christian Harrison', '104797': 'Denis Istomin', '104460': 'Dustin Brown', '105671': 'Gastao Elias', '132482': 'Liam Caruana', '109054': 'Daniel Masur', '105227': 'Marin Cilic', '202358': 'Chun Hsin Tseng', '144817': 'Marc Andrea Huesler', '105163': 'Gleb Sakharov', '200401': 'Amir Hossein Badi', '136440': 'Dominik Koepfer', '104122': 'Carlos Berlocq', '106232': 'Roberto Cid', '104468': 'Gilles Simon', '105807': 'Pablo Carreno Busta', '120792': 'M Abid Ali Khan Akbar', '123921': 'Calvin Hemery', '106283': 'Mitchell Krueger', '106393': 'Frederico Ferreira Silva', '134770': 'Casper Ruud', '123795': 'Altug Celikbilek', '111761': 'Benjamin Lock', '105449': 'Steve Johnson', '207139': 'Palaphoom Kovapitukted', '105385': 'Donald Young', '200075': 'Yshai Oliel', '123755': 'Daniel Elahi Galan', '105641': 'Blaz Rola', '124116': 'Sebastian Ofner', '105732': 'Pierre Hugues Herbert', '105273': 'Mauricio Echazu', '105085': 'Artem Smirnov', '104970': 'Matteo Viola', '123768': 'Collin Altamirano', '105657': 'Marius Copil', '103852': 'Feliciano Lopez', '105583': 'Dusan Lajovic', '105216': 'Yuichi Sugita', '138431': 'Darko Bojanovic', '105311': 'Joao Sousa', '106148': 'Roberto Carballes Baena', '200711': 'Nicolas Mejia', '120424': 'Yannick Maden', '124187': 'Reilly Opelka', '106250': 'Luis Patino', '105155': 'Pedro Sousa', '105676': 'David Goffin', '111790': 'Brayden Schnur', '207836': 'Muzammil Murtaza', '111153': 'Christopher Eubanks', '126523': 'Bernabe Zapata Miralles', '126502': 'Luis Diego Chavez Villalpando', '106045': 'Denis Kudla', '105561': 'Alessandro Giannessi', '105063': 'Andrea Arnaboldi', '103819': 'Roger Federer', '126125': 'Maxime Janvier', '122236': 'Roman Hassanov', '105589': 'Gerald Melzer', '126207': 'Frances Tiafoe', '207738': 'Brandon Perez', '126102': 'Nicolae Frunza', '105649': 'Cedrik Marcel Stebe', '103898': 'Julien Benneteau', '104233': 'Frederik Nielsen', '106252': 'Joao Pedro Sorgi', '106121': 'Taro Daniel', '105030': 'Michael Venus', '105539': 'Evgeny Donskoy', '105379': 'Aljaz Bedene', '200624': 'Sebastian Korda', '127300': 'Jurabek Karimov', '106058': 'Jack Sock', '105373': 'Martin Klizan', '103990': 'Tommy Robredo', '105341': 'Thomas Fabbiano', '104918': 'Andy Murray', '132283': 'Lorenzo Sonego', '202462': 'Yasitha De Silva', '134886': 'Sharmal Dissanayake', '117356': 'Cem Ilkel', '106378': 'Kyle Edmund', '111192': 'Lucas Miedler', '106249': 'Joao Domingues', '207972': 'Minjong Park', '200175': 'Miomir Kecmanovic', '144719': 'Jaume Munar', '202090': 'Adrian Andreev', '104719': 'Marcel Granollers', '105948': 'Federico Coria', '126127': 'Benjamin Bonzi', '105952': 'Renzo Olivo', '111442': 'Jordan Thompson', '206000': 'Michel Saade', '105819': 'Guido Andreozzi', '106099': 'Salvatore Caruso', '207479': 'Soufiane El Mesbahi', '105430': 'Radu Albot', '105453': 'Kei Nishikori', '105138': 'Roberto Bautista Agut', '105747': 'Karim Mohamed Maamoun', '126774': 'Stefanos Tsitsipas', '126094': 'Andrey Rublev', '126939': 'Khumoun Sultanov', '105933': 'Roberto Quiroz', '106005': 'Constant Lestienne', '105842': 'Di Wu', '126526': 'Soren Hess Olesen', '105132': 'Jurgen Zopp', '144776': 'Christophe Tholl', '106423': 'Thanasi Kokkinakis', '106167': 'Joris De Loore', '108739': 'Wilfredo Gonzalez', '126530': 'Peter Bothwell', '111794': 'Kamil Majchrzak', '104252': 'Florian Mayer', '106298': 'Lucas Pouille', '105870': 'Yannick Hanfmann', '104678': 'Viktor Troicki', '105935': 'Duilio Beretta', '104308': 'Michal Przysiezny', '105554': 'Daniel Evans', '106198': 'Hugo Dellien', '105882': 'Stefano Travaglia', '200059': 'Yibing Wu', '200615': 'Alexei Popyrin', '106105': 'Guilherme Clezar', '105436': 'Markus Eriksson', '106109': 'Alex Bolt', '105577': 'Vasek Pospisil', '106432': 'Borna Coric', '105051': 'Matthew Ebden', '106218': 'Marcos Giron', '106220': 'Dimitar Kuzmanov', '134114': 'Jad Ballout', '111515': 'Thai Son Kwiatkowski', '208028': 'Francisco Llanes', '200620': 'Ignacio Garcia', '128034': 'Hubert Hurkacz', '124079': 'Pedro Martinez', '134120': 'Kuan Yi Lee', '100644': 'Alexander Zverev', '105656': 'Marcelo Arevalo', '104545': 'John Isner', '111197': 'Jonathan Mridha', '111200': 'Elias Ymer', '106043': 'Diego Schwartzman', '105633': 'Mohamed Safwat', '105613': 'Norbert Gombos', '105477': 'Marco Trungelliti', '106120': 'Ricardo Ojeda Lara', '200250': 'Mehluli Don Ayanda Sibanda', '105902': 'James Duckworth', '104269': 'Fernando Verdasco', '127339': 'Borna Gojo', '105226': 'Attila Balazs', '124014': 'Ernesto Escobedo', '105502': 'N Sriram Balaji', '121411': 'Moez Chargui', '105626': 'Takanyi Garanganga', '105299': 'Dzmitry Zhyrmont', '105479': 'Alejandro Mendoza', '200325': 'Emil Ruusuvuori', '104251': 'Ti Chen', '106329': 'Thiago Monteiro', '106368': 'Ramkumar Ramanathan', '122330': 'Alexander Bublik', '106177': 'Oriol Roca Batalla', '126120': 'Nino Serdarusic', '106228': 'Juan Ignacio Londero', '125802': 'Ilya Ivashka', '138845': 'Anthony Jackie Tang', '105074': 'Ruben Bemelmans', '105217': 'Thiemo De Bakker', '106233': 'Dominic Thiem', '111805': 'Seong Chan Hong', '105111': 'Ivan Endara', '200460': 'John Bryan Decasa Otico', '105015': 'Franko Skugor', '106078': 'Egor Gerasimov', '106026': 'Yuki Bhambri', '111511': 'Noah Rubin', '105062': 'Mikhail Kukushkin', '200273': 'Hady Habib', '104731': 'Kevin Anderson', '144707': 'Mikael Ymer', '105147': 'Tatsuma Ito', '106150': 'Jeson Patrombon', '104198': 'Guillermo Garcia Lopez', '106210': 'Jiri Vesely', '106426': 'Christian Garin', '106410': 'Jorge Brian Panta Herreros', '109739': 'Maximilian Marterer', '106296': 'Gregoire Barrere', '106110': 'Filip Horansky', '103970': 'David Ferrer', '202382': 'Simen Sunde Bratholm', '105064': 'Thomaz Bellucci', '106044': 'Nicolas Kicker', '207176': 'Muhammad Althaf Dhaifullah', '126340': 'Viktor Durasovic', '105985': 'Darian King', '126203': 'Taylor Fritz', '105441': 'John Patrick Smith', '138846': 'Hong Kit Jack Wong', '124126': 'Sarp Agabigun', '106281': 'Liam Broady', '202130': 'Emil Reinberg', '111574': 'Jc Aragone', '104534': 'Dudi Sela', '104297': 'Rogerio Dutra Silva', '106353': 'Pedja Krstin', '200000': 'Felix Auger Aliassime', '106072': 'Alexey Vatutin', '105936': 'Filip Krajinovic', '106391': 'Adrian Bodmer', '200574': 'Alexander Donski', '105827': 'Laurynas Grigelis', '111577': 'Jared Donaldson', '106421': 'Daniil Medvedev', '207971': 'Xavier Lawrence', '126846': 'Aleksandar Vukic', '106175': 'Ricardo Rodriguez', '106415': 'Yoshihito Nishioka', '134868': 'Tallon Griekspoor', '104755': 'Richard Gasquet', '200005': 'Ugo Humbert', '105812': 'David Agung Susanto', '127143': 'Jirat Navasirisomboon', '133975': 'Benjamin Hassan', '126190': 'Nicolas Alvarez', '106333': 'Julien Cagnina', '106401': 'Nick Kyrgios', '106138': 'Yaraslau Shyla', '106361': 'Adam Pavlasek', '104586': 'Lukas Rosol', '105515': 'Jordi Samper Montana', '144750': 'Lloyd Harris', '111797': 'Nicolas Jarry', '200274': 'Alex Diaz', '122109': 'Sanjar Fayziev', '126613': 'Bogdan Borza', '105493': 'Tomislav Brkic', '200619': 'Sebastian Arcila', '133297': 'Yosuke Watanuki', '111456': 'Mackenzie McDonald', '105899': 'Martin Cuevas', '105077': 'Albert Ramos', '104629': 'Adrian Menendez Maceiras', '105967': 'Henri Laaksonen', '104792': 'Gael Monfils', '104467': 'Lamine Ouahab'}\n",
      "{'122669': 'PER', '105487': 'ARG', '103893': 'ITA', '200611': 'FRA', '105587': 'SLO', '106216': 'USA', '105357': 'AUS', '104882': 'SLO', '104810': 'CHN', '105332': 'FRA', '104925': 'SRB', '105349': 'FIN', '104620': 'ITA', '200095': 'ESP', '105614': 'USA', '110536': 'USA', '104672': 'FRA', '202165': 'PHI', '200278': 'IRL', '105932': 'GEO', '126652': 'GBR', '105053': 'COL', '104527': 'SUI', '104655': 'URU', '104542': 'FRA', '207415': 'POL', '105992': 'USA', '103917': 'FRA', '105815': 'USA', '104494': 'ROU', '208029': 'DEN', '126204': 'MEX', '126952': 'KOR', '103565': 'FRA', '105643': 'ARG', '200514': 'AUT', '104665': 'ESP', '103333': 'CRO', '133430': 'CAN', '105575': 'LTU', '122078': 'KAZ', '124022': 'HKG', '105467': 'VEN', '205734': 'BRA', '105023': 'USA', '103781': 'AUT', '111513': 'SRB', '105526': 'GER', '126535': 'ESP', '122548': 'ISR', '106174': 'CHI', '206642': 'MAR', '106348': 'RUS', '105777': 'BUL', '200436': 'HUN', '104907': 'NZL', '105208': 'LAT', '106214': 'GER', '104656': 'BAR', '105606': 'IRI', '105585': 'CHN', '103499': 'PAK', '105359': 'TPE', '207421': 'SRI', '200282': 'AUS', '103607': 'DOM', '105757': 'SUI', '127570': 'URU', '200384': 'FRA', '105292': 'COL', '104745': 'ESP', '104593': 'ESP', '111578': 'USA', '105578': 'COL', '104312': 'ITA', '104890': 'AUT', '200218': 'HUN', '111202': 'KOR', '105806': 'BIH', '111575': 'RUS', '126845': 'AUS', '200045': 'INA', '105065': 'USA', '104547': 'ARG', '104660': 'UKR', '111581': 'USA', '106324': 'CZE', '104919': 'ARG', '110602': 'AUT', '202385': 'USA', '104898': 'NED', '144807': 'EST', '109698': 'DEN', '105497': 'DOM', '105413': 'SVK', '104180': 'LUX', '104871': 'FRA', '105238': 'UKR', '202210': 'ROU', '105550': 'ARG', '144895': 'FRA', '105156': 'BOL', '200483': 'NOR', '144760': 'MAR', '111190': 'CHN', '105943': 'ITA', '207400': 'ZIM', '111795': 'ITA', '104999': 'GER', '144826': 'TUN', '104022': 'RUS', '104926': 'ITA', '126205': 'USA', '108763': 'ESA', '126174': 'EGY', '105166': 'CAN', '103529': 'PAK', '105173': 'FRA', '200031': 'MON', '106396': 'TPE', '105376': 'GER', '105961': 'VEN', '111459': 'IND', '104563': 'ITA', '105683': 'CAN', '106071': 'AUS', '104978': 'GER', '104897': 'GER', '105960': 'USA', '104607': 'CZE', '104932': 'FRA', '144645': 'CZE', '106397': 'THA', '104259': 'GER', '106021': 'ROU', '105916': 'HUN', '207973': 'LTU', '106398': 'ARG', '105691': 'NED', '106075': 'SVK', '105223': 'ARG', '105432': 'IND', '106412': 'MEX', '111460': 'FRA', '105688': 'MEX', '104291': 'TUN', '126610': 'ITA', '104571': 'CYP', '105041': 'SVK', '106106': 'GEO', '111576': 'IND', '105499': 'GUA', '105707': 'RSA', '104947': 'TUR', '105566': 'IRI', '111167': 'LUX', '134217': 'HKG', '104597': 'ESP', '106186': 'AUS', '111815': 'GBR', '106065': 'ITA', '206768': 'ESA', '106325': 'QAT', '105634': 'ITA', '106000': 'BIH', '200484': 'GER', '106328': 'USA', '104797': 'UZB', '104460': 'GER', '105671': 'POR', '132482': 'USA', '109054': 'GER', '105227': 'CRO', '202358': 'TPE', '144817': 'SUI', '105163': 'FRA', '200401': 'IRI', '136440': 'GER', '104122': 'ARG', '106232': 'DOM', '104468': 'FRA', '105807': 'ESP', '120792': 'PAK', '123921': 'FRA', '106283': 'USA', '106393': 'POR', '134770': 'NOR', '123795': 'TUR', '111761': 'ZIM', '105449': 'USA', '207139': 'THA', '105385': 'USA', '200075': 'ISR', '123755': 'COL', '105641': 'SLO', '124116': 'AUT', '105732': 'FRA', '105273': 'PER', '105085': 'UKR', '104970': 'ITA', '123768': 'USA', '105657': 'ROU', '103852': 'ESP', '105583': 'SRB', '105216': 'JPN', '138431': 'BIH', '105311': 'POR', '106148': 'ESP', '200711': 'COL', '120424': 'GER', '124187': 'USA', '106250': 'MEX', '105155': 'POR', '105676': 'BEL', '111790': 'CAN', '207836': 'PAK', '111153': 'USA', '126523': 'ESP', '126502': 'ESP', '106045': 'USA', '105561': 'ITA', '105063': 'ITA', '103819': 'SUI', '126125': 'FRA', '122236': 'KAZ', '105589': 'AUT', '126207': 'USA', '207738': 'VEN', '126102': 'ROU', '105649': 'GER', '103898': 'FRA', '104233': 'DEN', '106252': 'BRA', '106121': 'JPN', '105030': 'NZL', '105539': 'RUS', '105379': 'SLO', '200624': 'USA', '127300': 'UZB', '106058': 'USA', '105373': 'SVK', '103990': 'ESP', '105341': 'ITA', '104918': 'GBR', '132283': 'ITA', '202462': 'SRI', '134886': 'SRI', '117356': 'TUR', '106378': 'GBR', '111192': 'AUT', '106249': 'POR', '207972': 'KOR', '200175': 'SRB', '144719': 'ESP', '202090': 'BUL', '104719': 'ESP', '105948': 'ARG', '126127': 'FRA', '105952': 'ARG', '111442': 'AUS', '206000': 'LIB', '105819': 'ARG', '106099': 'ITA', '207479': 'MAR', '105430': 'MDA', '105453': 'JPN', '105138': 'ESP', '105747': 'EGY', '126774': 'GRE', '126094': 'RUS', '126939': 'UZB', '105933': 'ECU', '106005': 'FRA', '105842': 'CHN', '126526': 'DEN', '105132': 'EST', '144776': 'LUX', '106423': 'AUS', '106167': 'BEL', '108739': 'GUA', '126530': 'IRL', '111794': 'POL', '104252': 'GER', '106298': 'FRA', '105870': 'GER', '104678': 'SRB', '105935': 'PER', '104308': 'POL', '105554': 'GBR', '106198': 'BOL', '105882': 'ITA', '200059': 'CHN', '200615': 'AUS', '106105': 'BRA', '105436': 'SWE', '106109': 'AUS', '105577': 'CAN', '106432': 'CRO', '105051': 'AUS', '106218': 'USA', '106220': 'BUL', '134114': 'TPE', '111515': 'USA', '208028': 'URU', '200620': 'PUR', '128034': 'POL', '124079': 'ESP', '134120': 'TPE', '100644': 'GER', '105656': 'ESA', '104545': 'USA', '111197': 'SWE', '111200': 'SWE', '106043': 'ARG', '105633': 'EGY', '105613': 'SVK', '105477': 'ARG', '106120': 'ESP', '200250': 'ZIM', '105902': 'AUS', '104269': 'ESP', '127339': 'CRO', '105226': 'HUN', '124014': 'USA', '105502': 'IND', '121411': 'TUN', '105626': 'ZIM', '105299': 'BLR', '105479': 'BOL', '200325': 'FIN', '104251': 'TPE', '106329': 'BRA', '106368': 'IND', '122330': 'KAZ', '106177': 'ESP', '126120': 'CRO', '106228': 'ARG', '125802': 'BLR', '138845': 'HKG', '105074': 'BEL', '105217': 'NED', '106233': 'AUT', '111805': 'KOR', '105111': 'ECU', '200460': 'PHI', '105015': 'CRO', '106078': 'BLR', '106026': 'IND', '111511': 'USA', '105062': 'KAZ', '200273': 'LIB', '104731': 'RSA', '144707': 'SWE', '105147': 'JPN', '106150': 'PHI', '104198': 'ESP', '106210': 'CZE', '106426': 'CHI', '106410': 'PER', '109739': 'GER', '106296': 'FRA', '106110': 'SVK', '103970': 'ESP', '202382': 'NOR', '105064': 'BRA', '106044': 'ARG', '207176': 'INA', '126340': 'NOR', '105985': 'BAR', '126203': 'USA', '105441': 'AUS', '138846': 'HKG', '124126': 'TUR', '106281': 'GBR', '202130': 'USA', '111574': 'USA', '104534': 'ISR', '104297': 'BRA', '106353': 'SRB', '200000': 'CAN', '106072': 'RUS', '105936': 'SRB', '106391': 'SUI', '200574': 'CAN', '105827': 'LTU', '111577': 'USA', '106421': 'RUS', '207971': 'BAR', '126846': 'AUS', '106175': 'VEN', '106415': 'JPN', '134868': 'NED', '104755': 'FRA', '200005': 'FRA', '105812': 'INA', '127143': 'THA', '133975': 'GER', '126190': 'PER', '106333': 'BEL', '106401': 'AUS', '106138': 'BLR', '106361': 'CZE', '104586': 'CZE', '105515': 'ESP', '144750': 'RSA', '111797': 'CHI', '200274': 'PUR', '122109': 'UZB', '126613': 'ROU', '105493': 'BIH', '200619': 'PUR', '133297': 'JPN', '111456': 'USA', '105899': 'URU', '105077': 'ESP', '104629': 'ESP', '105967': 'SUI', '104792': 'FRA', '104467': 'ALG'}\n"
     ]
    }
   ],
   "source": [
    "print(data.dtypes)\n",
    "print(G.edges.data(\"weight\"))\n",
    "print(nx.get_node_attributes(G, \"name\"))\n",
    "print(nx.get_node_attributes(G, \"country\"))\n",
    "output_path = \"models/undirected_graph_2018.gml\"\n",
    "\n",
    "nx.write_gml(G, output_path)\n"
   ]
  },
  {
   "cell_type": "markdown",
   "metadata": {},
   "source": [
    "1.pitanje Koliki je prosecan broj tenisera(saigraca) po svakom teniseru? \n",
    "gephi->ucitala graf, Statistics -> Network Overview -> Average Degree\n",
    "\n",
    "<img src=\"img/1.pitanje_average_degree\" width=500 height=500 />"
   ]
  },
  {
   "cell_type": "code",
   "execution_count": 14,
   "metadata": {},
   "outputs": [
    {
     "name": "stdout",
     "output_type": "stream",
     "text": [
      "('104926', 61)\n",
      "Fabio Fognini\n"
     ]
    }
   ],
   "source": [
    "#2.pitanje Koji teniseri su se susretali sa najvecim brojem drugih tenisera\n",
    "my_degrees = dict(G.degree()) #dictionary key:value\n",
    "degree_values = [v for k, v in G.degree()]\n",
    "\n",
    "print(max(my_degrees.items(), key= lambda x: x[1])) #max u tom dict \n",
    "\n",
    "print(nx.get_node_attributes(G, 'name')['104926']) #atribut name za cvor ciji je index rezultat prethodnog upita"
   ]
  },
  {
   "cell_type": "code",
   "execution_count": 15,
   "metadata": {},
   "outputs": [
    {
     "name": "stdout",
     "output_type": "stream",
     "text": [
      "           tourney_id\n",
      "winner_id            \n",
      "100644             20\n",
      "103333              7\n",
      "103499              2\n",
      "103529              1\n",
      "103565              1\n",
      "...               ...\n",
      "202358              1\n",
      "207139              1\n",
      "207415              1\n",
      "208028              1\n",
      "208029              1\n",
      "\n",
      "[282 rows x 1 columns]\n",
      "          tourney_id\n",
      "loser_id            \n",
      "100644            19\n",
      "103333            16\n",
      "103499             1\n",
      "103529             1\n",
      "103565             2\n",
      "...              ...\n",
      "207738             1\n",
      "207836             1\n",
      "207971             1\n",
      "207972             1\n",
      "207973             1\n",
      "\n",
      "[393 rows x 1 columns]\n",
      "Alexander Zverev\n",
      "Ivo Karlovic\n"
     ]
    }
   ],
   "source": [
    "#3.pitanje Koji teniseri su ucestvovali na najvecem broju (razlicih) turnira?\n",
    "winner_tourney_columns = ['winner_id', 'tourney_id']\n",
    "loser_tourney_columns = ['loser_id', 'tourney_id']\n",
    "dataWinner_tourney = data[winner_tourney_columns].drop_duplicates().groupby('winner_id').count()\n",
    "print(dataWinner_tourney)\n",
    "dataLoser_tourney = data[loser_tourney_columns].drop_duplicates().groupby('loser_id').count()\n",
    "print(dataLoser_tourney)\n",
    "\n",
    "print(nx.get_node_attributes(G, 'name')['100644'])\n",
    "print(nx.get_node_attributes(G, 'name')['103333'])\n",
    "\n",
    "#check???\n"
   ]
  },
  {
   "cell_type": "code",
   "execution_count": 16,
   "metadata": {},
   "outputs": [
    {
     "name": "stdout",
     "output_type": "stream",
     "text": [
      "[('104926', 0.14593301435406697), ('106233', 0.13157894736842105), ('126774', 0.12679425837320574), ('100644', 0.12440191387559808), ('104755', 0.12200956937799043)]\n"
     ]
    }
   ],
   "source": [
    "#4.pitanje Koji teniseri su dobri kandidati za predstavnike profesionalnih tenisera? Da li se i sta se menja ukoliko se umesto jednog bira skup od nekoliko predstavnika? Dobar predstavnik ili predstavnici bi trebalo da budu u kontaktu sa sto vecim skupom tenisera\n",
    "\n",
    "#proveriti ovaj 2.deo na sta se odnosi????\n",
    "#mere centralnosti koristim Degree centrality, vise u kontaktu sa drugim teniserima teze da budu predstavnici\n",
    "import operator\n",
    "dictionary = dict(nx.degree_centrality(G))\n",
    "print(sorted(dictionary.items(), key=operator.itemgetter(1), reverse=True)[:5])"
   ]
  },
  {
   "cell_type": "code",
   "execution_count": 17,
   "metadata": {},
   "outputs": [
    {
     "name": "stdout",
     "output_type": "stream",
     "text": [
      "Fabio Fognini\n",
      "Dominic Thiem\n",
      "Stefanos Tsitsipas\n",
      "Alexander Zverev\n",
      "Richard Gasquet\n"
     ]
    }
   ],
   "source": [
    "print(nx.get_node_attributes(G, 'name')['104926'])\n",
    "print(nx.get_node_attributes(G, 'name')['106233'])\n",
    "print(nx.get_node_attributes(G, 'name')['126774'])\n",
    "print(nx.get_node_attributes(G, 'name')['100644'])\n",
    "print(nx.get_node_attributes(G, 'name')['104755'])"
   ]
  },
  {
   "cell_type": "markdown",
   "metadata": {},
   "source": [
    "Prvo kreiramo masku koja ce da selektuje sve igrace koji su u skupu igraca koji su igrali mec u 2018\n",
    "Potom dobijen rezultat grupisemo po drzavi i sortiramo zatim\n",
    "Najaktivniji su iz SAD, Francuske, Spanije, Nemacke, Italije\n",
    "Srbija na 9 mestu sa Rusijom i Kanadom sa 7 aktivnih igraca"
   ]
  },
  {
   "cell_type": "code",
   "execution_count": 18,
   "metadata": {},
   "outputs": [
    {
     "name": "stdout",
     "output_type": "stream",
     "text": [
      "country_code\n",
      "USA    34\n",
      "FRA    25\n",
      "ESP    24\n",
      "GER    18\n",
      "ITA    17\n",
      "ARG    15\n",
      "AUS    14\n",
      "AUT     8\n",
      "RUS     7\n",
      "CAN     7\n",
      "SRB     7\n",
      "GBR     6\n",
      "CZE     6\n",
      "CRO     6\n",
      "ROU     6\n",
      "SVK     6\n",
      "SUI     6\n",
      "BRA     6\n",
      "TPE     6\n",
      "IND     6\n",
      "Name: country_code, dtype: int64\n"
     ]
    }
   ],
   "source": [
    "maska_active_players = players_data['player_id'].isin(skup_id) \n",
    "active_players_2018 = players_data[maska_active_players]\n",
    "data_grupisano = active_players_2018[['player_id', 'country_code']].groupby('country_code')\n",
    "data_agregirano = data_grupisano['country_code'].agg(np.size)\n",
    "\n",
    "print(data_agregirano.sort_values(ascending=False).head(20))"
   ]
  },
  {
   "cell_type": "markdown",
   "metadata": {},
   "source": [
    "Analiza komuna\n",
    "\n",
    "implementiracemo bottom-up pristup -> Louvain metod"
   ]
  },
  {
   "cell_type": "code",
   "execution_count": 27,
   "metadata": {},
   "outputs": [
    {
     "name": "stdout",
     "output_type": "stream",
     "text": [
      "Requirement already satisfied: python-louvain in /home/mari-mari/anaconda3/lib/python3.8/site-packages (0.15)\n",
      "Requirement already satisfied: networkx in /home/mari-mari/anaconda3/lib/python3.8/site-packages (from python-louvain) (2.5)\n",
      "Requirement already satisfied: numpy in /home/mari-mari/anaconda3/lib/python3.8/site-packages (from python-louvain) (1.19.2)\n",
      "Requirement already satisfied: decorator>=4.3.0 in /home/mari-mari/anaconda3/lib/python3.8/site-packages (from networkx->python-louvain) (4.4.2)\n",
      "{'122669': 0, '105487': 1, '103893': 2, '200611': 3, '105587': 4, '106216': 2, '105357': 5, '104882': 4, '104810': 2, '105332': 4, '104925': 7, '105349': 8, '104620': 2, '200095': 0, '105614': 7, '110536': 11, '104672': 12, '202165': 19, '200278': 8, '105932': 11, '126652': 2, '105053': 0, '104527': 2, '104655': 0, '104542': 20, '207415': 17, '105992': 7, '103917': 4, '105815': 4, '104494': 4, '208029': 18, '126204': 0, '126952': 2, '103565': 2, '105643': 2, '200514': 3, '104665': 2, '103333': 12, '133430': 7, '105575': 5, '122078': 1, '124022': 19, '105467': 0, '205734': 2, '105023': 20, '103781': 7, '111513': 2, '105526': 5, '126535': 7, '122548': 11, '106174': 5, '206642': 22, '106348': 5, '105777': 3, '200436': 11, '104907': 2, '105208': 7, '106214': 5, '104656': 0, '105606': 19, '105585': 12, '103499': 2, '105359': 4, '207421': 19, '200282': 7, '103607': 2, '105757': 1, '127570': 23, '200384': 5, '105292': 0, '104745': 7, '104593': 11, '111578': 20, '105578': 24, '104312': 12, '104890': 2, '200218': 11, '111202': 4, '105806': 2, '111575': 7, '126845': 3, '200045': 19, '105065': 4, '104547': 20, '104660': 4, '111581': 4, '106324': 11, '104919': 11, '110602': 3, '202385': 5, '104898': 12, '144807': 5, '109698': 18, '105497': 0, '105413': 12, '104180': 4, '104871': 5, '105238': 2, '202210': 22, '105550': 20, '144895': 12, '105156': 0, '200483': 18, '144760': 2, '111190': 3, '105943': 2, '207400': 17, '111795': 11, '104999': 4, '144826': 8, '104022': 12, '104926': 5, '126205': 4, '108763': 0, '126174': 18, '105166': 4, '103529': 2, '105173': 5, '200031': 5, '106396': 19, '105376': 20, '105961': 0, '111459': 3, '104563': 12, '105683': 5, '106071': 11, '104978': 2, '104897': 7, '105960': 2, '104607': 5, '104932': 11, '144645': 7, '106397': 19, '104259': 7, '106021': 25, '105916': 5, '207973': 5, '106398': 2, '105691': 5, '106075': 11, '105223': 7, '105432': 2, '106412': 20, '111460': 4, '105688': 0, '104291': 3, '126610': 11, '104571': 4, '105041': 5, '106106': 11, '111576': 12, '105499': 0, '105707': 11, '104947': 3, '105566': 26, '111167': 4, '134217': 27, '104597': 1, '106186': 20, '111815': 2, '106065': 5, '206768': 23, '106325': 5, '105634': 12, '106000': 7, '200484': 11, '106328': 4, '104797': 2, '104460': 1, '105671': 2, '132482': 20, '109054': 5, '105227': 7, '202358': 20, '144817': 1, '105163': 7, '200401': 27, '136440': 20, '104122': 2, '106232': 0, '104468': 11, '105807': 4, '120792': 14, '123921': 2, '106283': 2, '106393': 11, '134770': 2, '123795': 4, '111761': 4, '105449': 4, '207139': 19, '105385': 7, '200075': 11, '123755': 0, '105641': 4, '124116': 0, '105732': 3, '105273': 15, '105085': 5, '104970': 11, '123768': 11, '105657': 4, '103852': 2, '105583': 3, '105216': 12, '138431': 12, '105311': 12, '106148': 2, '200711': 20, '120424': 12, '124187': 20, '106250': 0, '105155': 11, '105676': 12, '111790': 12, '207836': 16, '111153': 4, '126523': 12, '126502': 15, '106045': 5, '105561': 0, '105063': 2, '103819': 5, '126125': 7, '122236': 1, '105589': 2, '126207': 4, '207738': 21, '126102': 4, '105649': 5, '103898': 5, '104233': 8, '106252': 0, '106121': 5, '105030': 12, '105539': 7, '105379': 4, '200624': 4, '127300': 2, '106058': 20, '105373': 2, '103990': 12, '105341': 7, '104918': 3, '132283': 3, '202462': 19, '134886': 19, '117356': 4, '106378': 3, '111192': 7, '106249': 2, '207972': 14, '200175': 2, '144719': 12, '202090': 2, '104719': 4, '105948': 2, '126127': 5, '105952': 2, '111442': 2, '206000': 20, '105819': 20, '106099': 3, '207479': 25, '105430': 11, '105453': 7, '105138': 12, '105747': 8, '126774': 7, '126094': 12, '126939': 16, '105933': 5, '106005': 5, '105842': 2, '126526': 8, '105132': 5, '144776': 4, '106423': 2, '106167': 7, '108739': 0, '126530': 8, '111794': 4, '104252': 12, '106298': 12, '105870': 5, '104678': 2, '105935': 6, '104308': 4, '105554': 2, '106198': 6, '105882': 5, '200059': 2, '200615': 5, '106105': 0, '105436': 1, '106109': 4, '105577': 7, '106432': 7, '105051': 4, '106218': 0, '106220': 12, '134114': 9, '111515': 7, '208028': 21, '200620': 0, '128034': 4, '124079': 3, '134120': 19, '100644': 7, '105656': 0, '104545': 7, '111197': 1, '111200': 5, '106043': 2, '105633': 8, '105613': 7, '105477': 5, '106120': 11, '200250': 10, '105902': 7, '104269': 3, '127339': 7, '105226': 11, '124014': 4, '105502': 4, '121411': 8, '105626': 4, '105299': 7, '105479': 13, '200325': 8, '104251': 9, '106329': 0, '106368': 2, '122330': 3, '106177': 2, '126120': 5, '106228': 1, '125802': 12, '138845': 26, '105074': 5, '105217': 5, '106233': 7, '111805': 2, '105111': 2, '200460': 19, '105015': 3, '106078': 11, '106026': 3, '111511': 7, '105062': 7, '200273': 19, '104731': 7, '144707': 5, '105147': 5, '106150': 19, '104198': 2, '106210': 11, '106426': 5, '106410': 13, '109739': 5, '106296': 7, '106110': 3, '103970': 7, '202382': 8, '105064': 2, '106044': 2, '207176': 19, '126340': 8, '105985': 0, '126203': 20, '105441': 4, '138846': 19, '124126': 10, '106281': 2, '202130': 12, '111574': 4, '104534': 11, '104297': 2, '106353': 4, '200000': 12, '106072': 2, '105936': 12, '106391': 1, '200574': 2, '105827': 8, '111577': 2, '106421': 7, '207971': 24, '126846': 2, '106175': 0, '106415': 3, '134868': 2, '104755': 3, '200005': 11, '105812': 19, '127143': 19, '133975': 19, '126190': 0, '106333': 11, '106401': 3, '106138': 3, '106361': 11, '104586': 11, '105515': 11, '144750': 11, '111797': 2, '200274': 0, '122109': 2, '126613': 4, '105493': 5, '200619': 0, '133297': 12, '111456': 5, '105899': 20, '105077': 2, '104629': 12, '105967': 1, '104792': 3, '104467': 11}\n"
     ]
    },
    {
     "data": {
      "image/png": "[encoded data removed]",
      "text/plain": [
       "<Figure size 432x288 with 1 Axes>"
      ]
     },
     "metadata": {},
     "output_type": "display_data"
    }
   ],
   "source": [
    "import sys\n",
    "!{sys.executable} -m pip install python-louvain\n",
    "import community as community_louvain\n",
    "import matplotlib.pyplot as plt\n",
    "import matplotlib.cm as cm\n",
    "partition = community_louvain.best_partition(G)\n",
    "\n",
    "print(partition)\n",
    "\n",
    "#vizuelno\n",
    "pos = nx.spring_layout(G)\n",
    "cmap = cm.get_cmap('viridis', max(partition.values()) + 1)\n",
    "nx.draw_networkx_nodes(G, pos, partition.keys(), node_size=200, cmap=cmap, node_color=list(partition.values()))\n",
    "nx.draw_networkx_edges(G, pos, alpha=1)\n",
    "plt.show()"
   ]
  },
  {
   "cell_type": "code",
   "execution_count": null,
   "metadata": {},
   "outputs": [],
   "source": []
  }
 ],
 "metadata": {
  "kernelspec": {
   "display_name": "Python 3",
   "language": "python",
   "name": "python3"
  },
  "language_info": {
   "codemirror_mode": {
    "name": "ipython",
    "version": 3
   },
   "file_extension": ".py",
   "mimetype": "text/x-python",
   "name": "python",
   "nbconvert_exporter": "python",
   "pygments_lexer": "ipython3",
   "version": "3.8.5"
  }
 },
 "nbformat": 4,
 "nbformat_minor": 4
}
