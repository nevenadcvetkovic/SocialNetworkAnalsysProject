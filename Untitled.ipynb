{
 "cells": [
  {
   "cell_type": "markdown",
   "metadata": {},
   "source": [
    "# Projekat iz predmeta analiza socijalnih mreza\n",
    "\n",
    "\n",
    "## Kvantitativna i kvalitativna Analiza stanja profesionalnog muškog tenisa u periodu od 2018. do 2020. godine\n",
    "\n",
    "\n",
    "Ucitavanje podataka\n"
   ]
  },
  {
   "cell_type": "code",
   "execution_count": 4,
   "metadata": {},
   "outputs": [
    {
     "name": "stdout",
     "output_type": "stream",
     "text": [
      "                          tourney_id                tourney_name surface  \\\n",
      "0                          2018-M020                    Brisbane    Hard   \n",
      "1                          2018-M020                    Brisbane    Hard   \n",
      "2                          2018-M020                    Brisbane    Hard   \n",
      "3                          2018-M020                    Brisbane    Hard   \n",
      "4                          2018-M020                    Brisbane    Hard   \n",
      "...                              ...                         ...     ...   \n",
      "2884                       2018-0605                 Tour Finals    Hard   \n",
      "2885                       2018-0605                 Tour Finals    Hard   \n",
      "2886  2018-M-DC-2018-WG-M-FRA-CRO-01  Davis Cup WG F: FRA vs CRO    Clay   \n",
      "2887  2018-M-DC-2018-WG-M-FRA-CRO-01  Davis Cup WG F: FRA vs CRO    Clay   \n",
      "2888  2018-M-DC-2018-WG-M-FRA-CRO-01  Davis Cup WG F: FRA vs CRO    Clay   \n",
      "\n",
      "      draw_size tourney_level  tourney_date  match_num  winner_id  \\\n",
      "0            32             A      20180101        271     105992   \n",
      "1            32             A      20180101        272     111577   \n",
      "2            32             A      20180101        273     104797   \n",
      "3            32             A      20180101        275     200282   \n",
      "4            32             A      20180101        276     111581   \n",
      "...         ...           ...           ...        ...        ...   \n",
      "2884          8             F      20181112        299     104925   \n",
      "2885          8             F      20181112        300     100644   \n",
      "2886          4             D      20181123          1     106432   \n",
      "2887          4             D      20181123          2     105227   \n",
      "2888          4             D      20181123          4     105227   \n",
      "\n",
      "      winner_seed winner_entry  ... l_1stIn l_1stWon  l_2ndWon l_SvGms  \\\n",
      "0             NaN          NaN  ...    47.0     33.0      19.0    14.0   \n",
      "1             NaN          NaN  ...    41.0     25.0       7.0     9.0   \n",
      "2             NaN          NaN  ...    53.0     37.0      29.0    15.0   \n",
      "3             NaN           WC  ...    43.0     33.0      17.0    11.0   \n",
      "4             NaN            Q  ...    35.0     28.0       5.0     9.0   \n",
      "...           ...          ...  ...     ...      ...       ...     ...   \n",
      "2884          1.0          NaN  ...    33.0     23.0       7.0     8.0   \n",
      "2885          3.0          NaN  ...    34.0     25.0       8.0    10.0   \n",
      "2886          NaN          NaN  ...    64.0     43.0      18.0    15.0   \n",
      "2887          NaN          NaN  ...    57.0     39.0      18.0    15.0   \n",
      "2888          NaN          NaN  ...    58.0     43.0      21.0    15.0   \n",
      "\n",
      "      l_bpSaved  l_bpFaced  winner_rank winner_rank_points loser_rank  \\\n",
      "0           1.0        4.0         47.0             1010.0       52.0   \n",
      "1           7.0       11.0         54.0              890.0       94.0   \n",
      "2          10.0       16.0         63.0              809.0       30.0   \n",
      "3           4.0        6.0        208.0              245.0       44.0   \n",
      "4           0.0        2.0        175.0              299.0       68.0   \n",
      "...         ...        ...          ...                ...        ...   \n",
      "2884        5.0        9.0          1.0             8045.0        6.0   \n",
      "2885        2.0        6.0          5.0             5085.0        1.0   \n",
      "2886        9.0       13.0         12.0             2480.0       40.0   \n",
      "2887        1.0        4.0          7.0             4250.0      259.0   \n",
      "2888        9.0       12.0          7.0             4250.0       32.0   \n",
      "\n",
      "     loser_rank_points  \n",
      "0                909.0  \n",
      "1                593.0  \n",
      "2               1391.0  \n",
      "3               1055.0  \n",
      "4                755.0  \n",
      "...                ...  \n",
      "2884            4310.0  \n",
      "2885            8045.0  \n",
      "2886            1050.0  \n",
      "2887             200.0  \n",
      "2888            1245.0  \n",
      "\n",
      "[2889 rows x 49 columns]\n"
     ]
    }
   ],
   "source": [
    "import pandas as pd\n",
    "\n",
    "dataPath = \"data/atp_matches_2018.csv\"\n",
    "\n",
    "data = pd.read_csv(dataPath) \n",
    "print(data)"
   ]
  },
  {
   "cell_type": "code",
   "execution_count": 10,
   "metadata": {},
   "outputs": [
    {
     "name": "stdout",
     "output_type": "stream",
     "text": [
      "False\n",
      "False\n"
     ]
    }
   ],
   "source": [
    "print(data['match_num'].isnull().values.any())\n",
    "print(data['match_num'].is_unique)"
   ]
  },
  {
   "cell_type": "code",
   "execution_count": 11,
   "metadata": {},
   "outputs": [
    {
     "name": "stdout",
     "output_type": "stream",
     "text": [
      "0    0\n",
      "1    1\n",
      "2    2\n",
      "3    3\n",
      "4    4\n",
      "Name: id, dtype: int64\n",
      "  tourney_id tourney_name surface  draw_size tourney_level  tourney_date  \\\n",
      "0  2018-M020     Brisbane    Hard         32             A      20180101   \n",
      "1  2018-M020     Brisbane    Hard         32             A      20180101   \n",
      "2  2018-M020     Brisbane    Hard         32             A      20180101   \n",
      "3  2018-M020     Brisbane    Hard         32             A      20180101   \n",
      "4  2018-M020     Brisbane    Hard         32             A      20180101   \n",
      "\n",
      "   match_num  winner_id  winner_seed winner_entry  ... l_1stWon l_2ndWon  \\\n",
      "0        271     105992          NaN          NaN  ...     33.0     19.0   \n",
      "1        272     111577          NaN          NaN  ...     25.0      7.0   \n",
      "2        273     104797          NaN          NaN  ...     37.0     29.0   \n",
      "3        275     200282          NaN           WC  ...     33.0     17.0   \n",
      "4        276     111581          NaN            Q  ...     28.0      5.0   \n",
      "\n",
      "   l_SvGms l_bpSaved  l_bpFaced  winner_rank  winner_rank_points loser_rank  \\\n",
      "0     14.0       1.0        4.0         47.0              1010.0       52.0   \n",
      "1      9.0       7.0       11.0         54.0               890.0       94.0   \n",
      "2     15.0      10.0       16.0         63.0               809.0       30.0   \n",
      "3     11.0       4.0        6.0        208.0               245.0       44.0   \n",
      "4      9.0       0.0        2.0        175.0               299.0       68.0   \n",
      "\n",
      "  loser_rank_points id  \n",
      "0             909.0  0  \n",
      "1             593.0  1  \n",
      "2            1391.0  2  \n",
      "3            1055.0  3  \n",
      "4             755.0  4  \n",
      "\n",
      "[5 rows x 50 columns]\n"
     ]
    }
   ],
   "source": [
    "data['id'] = data.index\n",
    "print(data['id'].head())\n",
    "print(data.head())"
   ]
  },
  {
   "cell_type": "code",
   "execution_count": 12,
   "metadata": {},
   "outputs": [
    {
     "name": "stdout",
     "output_type": "stream",
     "text": [
      "<class 'pandas.core.series.Series'>\n",
      "match_num\n",
      "1      67\n",
      "2      67\n",
      "4      67\n",
      "5      35\n",
      "100     3\n",
      "       ..\n",
      "503     1\n",
      "504     1\n",
      "601     1\n",
      "602     1\n",
      "701     1\n",
      "Name: id, Length: 233, dtype: int64\n"
     ]
    }
   ],
   "source": [
    "import numpy as np\n",
    "\n",
    "# Selekcija samo kolona 'match_id' i 'id' i grupisanje po match_id \n",
    "data_grupisano = data[['match_num', 'id']].groupby('match_num')\n",
    "\n",
    "# agg() radi agregaciju, u ovom slučaju po broju elemenata u grupi (np.size vrati broj elemenata u grupi)\n",
    "data_agregirano = data_grupisano['id'].agg(np.size)\n",
    "print(type(data_agregirano))\n",
    "print(data_agregirano)"
   ]
  },
  {
   "cell_type": "code",
   "execution_count": 13,
   "metadata": {},
   "outputs": [
    {
     "name": "stdout",
     "output_type": "stream",
     "text": [
      "match_num\n",
      "1      67\n",
      "2      67\n",
      "4      67\n",
      "5      35\n",
      "100     3\n",
      "       ..\n",
      "296    64\n",
      "297    64\n",
      "298    64\n",
      "299    64\n",
      "300    64\n",
      "Name: id, Length: 200, dtype: int64\n"
     ]
    }
   ],
   "source": [
    "data_nonunique = data_agregirano[data_agregirano>1]\n",
    "print(data_nonunique)"
   ]
  },
  {
   "cell_type": "code",
   "execution_count": 14,
   "metadata": {},
   "outputs": [
    {
     "name": "stdout",
     "output_type": "stream",
     "text": [
      "match_num\n",
      "1    67\n",
      "2    67\n",
      "4    67\n",
      "Name: id, dtype: int64\n",
      "1\n"
     ]
    }
   ],
   "source": [
    "trazeni = data_nonunique[data_nonunique == data_nonunique.max()]\n",
    "print(trazeni)\n",
    "target_match_num = trazeni.keys()[0]\n",
    "print(target_match_num)"
   ]
  },
  {
   "cell_type": "code",
   "execution_count": 15,
   "metadata": {},
   "outputs": [
    {
     "name": "stdout",
     "output_type": "stream",
     "text": [
      "                              tourney_id                 tourney_name surface  \\\n",
      "266   2018-M-DC-2018-G1-EPA-M-AUT-BLR-01  Davis Cup G1 R1: AUT vs BLR    Clay   \n",
      "270    2018-M-DC-2018-G1-AM-M-CHI-ECU-01  Davis Cup G1 R1: CHI vs ECU    Clay   \n",
      "273    2018-M-DC-2018-G1-AO-M-CHN-NZL-01  Davis Cup G1 R1: CHN vs NZL    Hard   \n",
      "276    2018-M-DC-2018-G1-AM-M-COL-BAR-01  Davis Cup G1 R1: COL vs BAR    Hard   \n",
      "279    2018-M-DC-2018-G1-AM-M-DOM-BRA-01  Davis Cup G1 R1: DOM vs BRA    Hard   \n",
      "...                                  ...                          ...     ...   \n",
      "2425      2018-M-DC-2018-WG-M-FRA-ESP-01  Davis Cup WG SF: FRA vs ESP    Hard   \n",
      "2429  2018-M-DC-2018-G2-EPA-M-ROU-POL-01  Davis Cup G2 R3: ROU vs POL    Clay   \n",
      "2433   2018-M-DC-2018-G2-AO-M-THA-LBN-01  Davis Cup G2 R3: THA vs LBN    Hard   \n",
      "2437   2018-M-DC-2018-G2-AM-M-URU-MEX-01  Davis Cup G2 R3: URU vs MEX    Clay   \n",
      "2886      2018-M-DC-2018-WG-M-FRA-CRO-01   Davis Cup WG F: FRA vs CRO    Clay   \n",
      "\n",
      "      draw_size tourney_level  tourney_date  match_num  winner_id  \\\n",
      "266           4             D      20180202          1     105589   \n",
      "270           4             D      20180202          1     111797   \n",
      "273           4             D      20180202          1     104907   \n",
      "276           4             D      20180202          1     123755   \n",
      "279           4             D      20180202          1     105497   \n",
      "...         ...           ...           ...        ...        ...   \n",
      "2425          4             D      20180914          1     105332   \n",
      "2429          4             D      20180915          1     105657   \n",
      "2433          4             D      20180915          1     200273   \n",
      "2437          4             D      20180915          1     104655   \n",
      "2886          4             D      20181123          1     106432   \n",
      "\n",
      "      winner_seed winner_entry  ... l_1stWon l_2ndWon  l_SvGms l_bpSaved  \\\n",
      "266           NaN          NaN  ...     46.0     18.0     15.0       5.0   \n",
      "270           NaN          NaN  ...     22.0      7.0      8.0       2.0   \n",
      "273           NaN          NaN  ...     37.0     17.0     14.0       5.0   \n",
      "276           NaN          NaN  ...     14.0     10.0      8.0       1.0   \n",
      "279           NaN          NaN  ...     52.0     15.0     15.0      11.0   \n",
      "...           ...          ...  ...      ...      ...      ...       ...   \n",
      "2425          NaN          NaN  ...     30.0     15.0     12.0       5.0   \n",
      "2429          NaN          NaN  ...     26.0      9.0      9.0       4.0   \n",
      "2433          NaN          NaN  ...     37.0     19.0     15.0       1.0   \n",
      "2437          NaN          NaN  ...     29.0     12.0     10.0       3.0   \n",
      "2886          NaN          NaN  ...     43.0     18.0     15.0       9.0   \n",
      "\n",
      "      l_bpFaced  winner_rank  winner_rank_points loser_rank loser_rank_points  \\\n",
      "266         8.0         98.0               545.0      190.0             281.0   \n",
      "270         5.0         95.0               557.0      597.0              48.0   \n",
      "273         9.0        308.0               158.0      253.0             206.0   \n",
      "276         5.0        292.0               168.0        NaN               NaN   \n",
      "279        14.0        284.0               173.0      365.0             118.0   \n",
      "...         ...          ...                 ...        ...               ...   \n",
      "2425       12.0         54.0               955.0       21.0            1750.0   \n",
      "2429        7.0         81.0               700.0      187.0             297.0   \n",
      "2433        3.0        643.0                40.0      453.0              82.0   \n",
      "2437        7.0         68.0               805.0      762.0              27.0   \n",
      "2886       13.0         12.0              2480.0       40.0            1050.0   \n",
      "\n",
      "        id  \n",
      "266    266  \n",
      "270    270  \n",
      "273    273  \n",
      "276    276  \n",
      "279    279  \n",
      "...    ...  \n",
      "2425  2425  \n",
      "2429  2429  \n",
      "2433  2433  \n",
      "2437  2437  \n",
      "2886  2886  \n",
      "\n",
      "[67 rows x 50 columns]\n",
      "(67, 50)\n"
     ]
    }
   ],
   "source": [
    "data_target = data[data['match_num'] == target_match_num]\n",
    "print(data_target)\n",
    "print(data_target.shape)"
   ]
  },
  {
   "cell_type": "code",
   "execution_count": null,
   "metadata": {},
   "outputs": [],
   "source": []
  }
 ],
 "metadata": {
  "kernelspec": {
   "display_name": "Python 3",
   "language": "python",
   "name": "python3"
  },
  "language_info": {
   "codemirror_mode": {
    "name": "ipython",
    "version": 3
   },
   "file_extension": ".py",
   "mimetype": "text/x-python",
   "name": "python",
   "nbconvert_exporter": "python",
   "pygments_lexer": "ipython3",
   "version": "3.8.5"
  }
 },
 "nbformat": 4,
 "nbformat_minor": 4
}
